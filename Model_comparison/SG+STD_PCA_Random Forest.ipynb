{
 "cells": [
  {
   "cell_type": "markdown",
   "id": "fc66be28",
   "metadata": {},
   "source": [
    "# 1. 导入模块和库"
   ]
  },
  {
   "cell_type": "code",
   "execution_count": 1,
   "id": "be5dca00",
   "metadata": {},
   "outputs": [
    {
     "name": "stderr",
     "output_type": "stream",
     "text": [
      "E:\\Anaconda\\envs\\DL\\lib\\site-packages\\tqdm\\auto.py:21: TqdmWarning: IProgress not found. Please update jupyter and ipywidgets. See https://ipywidgets.readthedocs.io/en/stable/user_install.html\n",
      "  from .autonotebook import tqdm as notebook_tqdm\n"
     ]
    }
   ],
   "source": [
    "import time\n",
    "import optuna\n",
    "import numpy as np\n",
    "import pandas as pd\n",
    "import matplotlib.pyplot as plt\n",
    "\n",
    "from scipy.signal import savgol_filter\n",
    "from sklearn.preprocessing import StandardScaler\n",
    "from sklearn.preprocessing import LabelEncoder\n",
    "from sklearn.decomposition import PCA\n",
    "from sklearn.model_selection import train_test_split\n",
    "from sklearn.ensemble import RandomForestClassifier as RFC\n",
    "from sklearn.model_selection import cross_val_score\n",
    "from sklearn.model_selection import KFold\n",
    "from sklearn.metrics import accuracy_score, cohen_kappa_score, confusion_matrix"
   ]
  },
  {
   "cell_type": "markdown",
   "id": "f65b73cf",
   "metadata": {},
   "source": [
    "# 2. 导入数据"
   ]
  },
  {
   "cell_type": "code",
   "execution_count": 2,
   "id": "d28364c8",
   "metadata": {
    "scrolled": true
   },
   "outputs": [],
   "source": [
    "data = pd.read_csv(r\"F:\\Code_Data\\2_Rocks_Spectrum_Reflectance_essay_30_origin_modify_2.csv\",encoding='utf-8') #encoding='GBK',防止中文乱码"
   ]
  },
  {
   "cell_type": "code",
   "execution_count": 3,
   "id": "276cd309",
   "metadata": {
    "scrolled": false
   },
   "outputs": [
    {
     "data": {
      "text/html": [
       "<div>\n",
       "<style scoped>\n",
       "    .dataframe tbody tr th:only-of-type {\n",
       "        vertical-align: middle;\n",
       "    }\n",
       "\n",
       "    .dataframe tbody tr th {\n",
       "        vertical-align: top;\n",
       "    }\n",
       "\n",
       "    .dataframe thead th {\n",
       "        text-align: right;\n",
       "    }\n",
       "</style>\n",
       "<table border=\"1\" class=\"dataframe\">\n",
       "  <thead>\n",
       "    <tr style=\"text-align: right;\">\n",
       "      <th></th>\n",
       "      <th>Wavelength</th>\n",
       "      <th>350</th>\n",
       "      <th>351</th>\n",
       "      <th>352</th>\n",
       "      <th>353</th>\n",
       "      <th>354</th>\n",
       "      <th>355</th>\n",
       "      <th>356</th>\n",
       "      <th>357</th>\n",
       "      <th>358</th>\n",
       "      <th>...</th>\n",
       "      <th>2492</th>\n",
       "      <th>2493</th>\n",
       "      <th>2494</th>\n",
       "      <th>2495</th>\n",
       "      <th>2496</th>\n",
       "      <th>2497</th>\n",
       "      <th>2498</th>\n",
       "      <th>2499</th>\n",
       "      <th>2500</th>\n",
       "      <th>label</th>\n",
       "    </tr>\n",
       "  </thead>\n",
       "  <tbody>\n",
       "    <tr>\n",
       "      <th>0</th>\n",
       "      <td>spectrum16307.asd</td>\n",
       "      <td>0.204522</td>\n",
       "      <td>0.199451</td>\n",
       "      <td>0.203168</td>\n",
       "      <td>0.204193</td>\n",
       "      <td>0.207148</td>\n",
       "      <td>0.211029</td>\n",
       "      <td>0.209031</td>\n",
       "      <td>0.211301</td>\n",
       "      <td>0.212234</td>\n",
       "      <td>...</td>\n",
       "      <td>0.153147</td>\n",
       "      <td>0.152505</td>\n",
       "      <td>0.151796</td>\n",
       "      <td>0.153219</td>\n",
       "      <td>0.152015</td>\n",
       "      <td>0.148442</td>\n",
       "      <td>0.146025</td>\n",
       "      <td>0.146183</td>\n",
       "      <td>0.150323</td>\n",
       "      <td>01_辉绿岩</td>\n",
       "    </tr>\n",
       "    <tr>\n",
       "      <th>1</th>\n",
       "      <td>spectrum16308.asd</td>\n",
       "      <td>0.194000</td>\n",
       "      <td>0.190182</td>\n",
       "      <td>0.187659</td>\n",
       "      <td>0.192645</td>\n",
       "      <td>0.195336</td>\n",
       "      <td>0.195043</td>\n",
       "      <td>0.199864</td>\n",
       "      <td>0.199332</td>\n",
       "      <td>0.196149</td>\n",
       "      <td>...</td>\n",
       "      <td>0.148415</td>\n",
       "      <td>0.150101</td>\n",
       "      <td>0.151252</td>\n",
       "      <td>0.152308</td>\n",
       "      <td>0.151914</td>\n",
       "      <td>0.149478</td>\n",
       "      <td>0.147266</td>\n",
       "      <td>0.147974</td>\n",
       "      <td>0.148874</td>\n",
       "      <td>01_辉绿岩</td>\n",
       "    </tr>\n",
       "    <tr>\n",
       "      <th>2</th>\n",
       "      <td>spectrum16309.asd</td>\n",
       "      <td>0.188737</td>\n",
       "      <td>0.188014</td>\n",
       "      <td>0.194839</td>\n",
       "      <td>0.195826</td>\n",
       "      <td>0.193223</td>\n",
       "      <td>0.191428</td>\n",
       "      <td>0.194870</td>\n",
       "      <td>0.200086</td>\n",
       "      <td>0.201505</td>\n",
       "      <td>...</td>\n",
       "      <td>0.152087</td>\n",
       "      <td>0.150865</td>\n",
       "      <td>0.149892</td>\n",
       "      <td>0.146863</td>\n",
       "      <td>0.145949</td>\n",
       "      <td>0.146377</td>\n",
       "      <td>0.145230</td>\n",
       "      <td>0.145935</td>\n",
       "      <td>0.145221</td>\n",
       "      <td>01_辉绿岩</td>\n",
       "    </tr>\n",
       "    <tr>\n",
       "      <th>3</th>\n",
       "      <td>spectrum16310.asd</td>\n",
       "      <td>0.186729</td>\n",
       "      <td>0.188622</td>\n",
       "      <td>0.192174</td>\n",
       "      <td>0.198071</td>\n",
       "      <td>0.197598</td>\n",
       "      <td>0.192575</td>\n",
       "      <td>0.194385</td>\n",
       "      <td>0.199621</td>\n",
       "      <td>0.202134</td>\n",
       "      <td>...</td>\n",
       "      <td>0.144318</td>\n",
       "      <td>0.147365</td>\n",
       "      <td>0.149190</td>\n",
       "      <td>0.154470</td>\n",
       "      <td>0.155516</td>\n",
       "      <td>0.150827</td>\n",
       "      <td>0.152752</td>\n",
       "      <td>0.153995</td>\n",
       "      <td>0.152274</td>\n",
       "      <td>01_辉绿岩</td>\n",
       "    </tr>\n",
       "    <tr>\n",
       "      <th>4</th>\n",
       "      <td>spectrum16311.asd</td>\n",
       "      <td>0.202369</td>\n",
       "      <td>0.202873</td>\n",
       "      <td>0.201777</td>\n",
       "      <td>0.200011</td>\n",
       "      <td>0.200382</td>\n",
       "      <td>0.201807</td>\n",
       "      <td>0.200001</td>\n",
       "      <td>0.201517</td>\n",
       "      <td>0.202995</td>\n",
       "      <td>...</td>\n",
       "      <td>0.142018</td>\n",
       "      <td>0.145246</td>\n",
       "      <td>0.145941</td>\n",
       "      <td>0.146944</td>\n",
       "      <td>0.147167</td>\n",
       "      <td>0.144547</td>\n",
       "      <td>0.143343</td>\n",
       "      <td>0.143553</td>\n",
       "      <td>0.144721</td>\n",
       "      <td>01_辉绿岩</td>\n",
       "    </tr>\n",
       "  </tbody>\n",
       "</table>\n",
       "<p>5 rows × 2153 columns</p>\n",
       "</div>"
      ],
      "text/plain": [
       "          Wavelength       350       351       352       353       354  \\\n",
       "0  spectrum16307.asd  0.204522  0.199451  0.203168  0.204193  0.207148   \n",
       "1  spectrum16308.asd  0.194000  0.190182  0.187659  0.192645  0.195336   \n",
       "2  spectrum16309.asd  0.188737  0.188014  0.194839  0.195826  0.193223   \n",
       "3  spectrum16310.asd  0.186729  0.188622  0.192174  0.198071  0.197598   \n",
       "4  spectrum16311.asd  0.202369  0.202873  0.201777  0.200011  0.200382   \n",
       "\n",
       "        355       356       357       358  ...      2492      2493      2494  \\\n",
       "0  0.211029  0.209031  0.211301  0.212234  ...  0.153147  0.152505  0.151796   \n",
       "1  0.195043  0.199864  0.199332  0.196149  ...  0.148415  0.150101  0.151252   \n",
       "2  0.191428  0.194870  0.200086  0.201505  ...  0.152087  0.150865  0.149892   \n",
       "3  0.192575  0.194385  0.199621  0.202134  ...  0.144318  0.147365  0.149190   \n",
       "4  0.201807  0.200001  0.201517  0.202995  ...  0.142018  0.145246  0.145941   \n",
       "\n",
       "       2495      2496      2497      2498      2499      2500   label  \n",
       "0  0.153219  0.152015  0.148442  0.146025  0.146183  0.150323  01_辉绿岩  \n",
       "1  0.152308  0.151914  0.149478  0.147266  0.147974  0.148874  01_辉绿岩  \n",
       "2  0.146863  0.145949  0.146377  0.145230  0.145935  0.145221  01_辉绿岩  \n",
       "3  0.154470  0.155516  0.150827  0.152752  0.153995  0.152274  01_辉绿岩  \n",
       "4  0.146944  0.147167  0.144547  0.143343  0.143553  0.144721  01_辉绿岩  \n",
       "\n",
       "[5 rows x 2153 columns]"
      ]
     },
     "execution_count": 3,
     "metadata": {},
     "output_type": "execute_result"
    }
   ],
   "source": [
    "data.head()"
   ]
  },
  {
   "cell_type": "code",
   "execution_count": 4,
   "id": "2ea077ff",
   "metadata": {},
   "outputs": [],
   "source": [
    "X = data.iloc[:,1:-1]\n",
    "y = data.iloc[:,-1]"
   ]
  },
  {
   "cell_type": "code",
   "execution_count": 5,
   "id": "8bdf80a7",
   "metadata": {},
   "outputs": [
    {
     "data": {
      "text/plain": [
       "((11828, 2151), (11828,))"
      ]
     },
     "execution_count": 5,
     "metadata": {},
     "output_type": "execute_result"
    }
   ],
   "source": [
    "X.shape, y.shape"
   ]
  },
  {
   "cell_type": "code",
   "execution_count": 6,
   "id": "d6b3bb76",
   "metadata": {
    "scrolled": false
   },
   "outputs": [
    {
     "data": {
      "text/html": [
       "<div>\n",
       "<style scoped>\n",
       "    .dataframe tbody tr th:only-of-type {\n",
       "        vertical-align: middle;\n",
       "    }\n",
       "\n",
       "    .dataframe tbody tr th {\n",
       "        vertical-align: top;\n",
       "    }\n",
       "\n",
       "    .dataframe thead th {\n",
       "        text-align: right;\n",
       "    }\n",
       "</style>\n",
       "<table border=\"1\" class=\"dataframe\">\n",
       "  <thead>\n",
       "    <tr style=\"text-align: right;\">\n",
       "      <th></th>\n",
       "      <th>350</th>\n",
       "      <th>351</th>\n",
       "      <th>352</th>\n",
       "      <th>353</th>\n",
       "      <th>354</th>\n",
       "      <th>355</th>\n",
       "      <th>356</th>\n",
       "      <th>357</th>\n",
       "      <th>358</th>\n",
       "      <th>359</th>\n",
       "      <th>...</th>\n",
       "      <th>2491</th>\n",
       "      <th>2492</th>\n",
       "      <th>2493</th>\n",
       "      <th>2494</th>\n",
       "      <th>2495</th>\n",
       "      <th>2496</th>\n",
       "      <th>2497</th>\n",
       "      <th>2498</th>\n",
       "      <th>2499</th>\n",
       "      <th>2500</th>\n",
       "    </tr>\n",
       "  </thead>\n",
       "  <tbody>\n",
       "    <tr>\n",
       "      <th>0</th>\n",
       "      <td>0.204522</td>\n",
       "      <td>0.199451</td>\n",
       "      <td>0.203168</td>\n",
       "      <td>0.204193</td>\n",
       "      <td>0.207148</td>\n",
       "      <td>0.211029</td>\n",
       "      <td>0.209031</td>\n",
       "      <td>0.211301</td>\n",
       "      <td>0.212234</td>\n",
       "      <td>0.209025</td>\n",
       "      <td>...</td>\n",
       "      <td>0.154455</td>\n",
       "      <td>0.153147</td>\n",
       "      <td>0.152505</td>\n",
       "      <td>0.151796</td>\n",
       "      <td>0.153219</td>\n",
       "      <td>0.152015</td>\n",
       "      <td>0.148442</td>\n",
       "      <td>0.146025</td>\n",
       "      <td>0.146183</td>\n",
       "      <td>0.150323</td>\n",
       "    </tr>\n",
       "    <tr>\n",
       "      <th>1</th>\n",
       "      <td>0.194000</td>\n",
       "      <td>0.190182</td>\n",
       "      <td>0.187659</td>\n",
       "      <td>0.192645</td>\n",
       "      <td>0.195336</td>\n",
       "      <td>0.195043</td>\n",
       "      <td>0.199864</td>\n",
       "      <td>0.199332</td>\n",
       "      <td>0.196149</td>\n",
       "      <td>0.194168</td>\n",
       "      <td>...</td>\n",
       "      <td>0.148189</td>\n",
       "      <td>0.148415</td>\n",
       "      <td>0.150101</td>\n",
       "      <td>0.151252</td>\n",
       "      <td>0.152308</td>\n",
       "      <td>0.151914</td>\n",
       "      <td>0.149478</td>\n",
       "      <td>0.147266</td>\n",
       "      <td>0.147974</td>\n",
       "      <td>0.148874</td>\n",
       "    </tr>\n",
       "    <tr>\n",
       "      <th>2</th>\n",
       "      <td>0.188737</td>\n",
       "      <td>0.188014</td>\n",
       "      <td>0.194839</td>\n",
       "      <td>0.195826</td>\n",
       "      <td>0.193223</td>\n",
       "      <td>0.191428</td>\n",
       "      <td>0.194870</td>\n",
       "      <td>0.200086</td>\n",
       "      <td>0.201505</td>\n",
       "      <td>0.197780</td>\n",
       "      <td>...</td>\n",
       "      <td>0.151407</td>\n",
       "      <td>0.152087</td>\n",
       "      <td>0.150865</td>\n",
       "      <td>0.149892</td>\n",
       "      <td>0.146863</td>\n",
       "      <td>0.145949</td>\n",
       "      <td>0.146377</td>\n",
       "      <td>0.145230</td>\n",
       "      <td>0.145935</td>\n",
       "      <td>0.145221</td>\n",
       "    </tr>\n",
       "    <tr>\n",
       "      <th>3</th>\n",
       "      <td>0.186729</td>\n",
       "      <td>0.188622</td>\n",
       "      <td>0.192174</td>\n",
       "      <td>0.198071</td>\n",
       "      <td>0.197598</td>\n",
       "      <td>0.192575</td>\n",
       "      <td>0.194385</td>\n",
       "      <td>0.199621</td>\n",
       "      <td>0.202134</td>\n",
       "      <td>0.199318</td>\n",
       "      <td>...</td>\n",
       "      <td>0.144722</td>\n",
       "      <td>0.144318</td>\n",
       "      <td>0.147365</td>\n",
       "      <td>0.149190</td>\n",
       "      <td>0.154470</td>\n",
       "      <td>0.155516</td>\n",
       "      <td>0.150827</td>\n",
       "      <td>0.152752</td>\n",
       "      <td>0.153995</td>\n",
       "      <td>0.152274</td>\n",
       "    </tr>\n",
       "    <tr>\n",
       "      <th>4</th>\n",
       "      <td>0.202369</td>\n",
       "      <td>0.202873</td>\n",
       "      <td>0.201777</td>\n",
       "      <td>0.200011</td>\n",
       "      <td>0.200382</td>\n",
       "      <td>0.201807</td>\n",
       "      <td>0.200001</td>\n",
       "      <td>0.201517</td>\n",
       "      <td>0.202995</td>\n",
       "      <td>0.202905</td>\n",
       "      <td>...</td>\n",
       "      <td>0.140991</td>\n",
       "      <td>0.142018</td>\n",
       "      <td>0.145246</td>\n",
       "      <td>0.145941</td>\n",
       "      <td>0.146944</td>\n",
       "      <td>0.147167</td>\n",
       "      <td>0.144547</td>\n",
       "      <td>0.143343</td>\n",
       "      <td>0.143553</td>\n",
       "      <td>0.144721</td>\n",
       "    </tr>\n",
       "  </tbody>\n",
       "</table>\n",
       "<p>5 rows × 2151 columns</p>\n",
       "</div>"
      ],
      "text/plain": [
       "        350       351       352       353       354       355       356  \\\n",
       "0  0.204522  0.199451  0.203168  0.204193  0.207148  0.211029  0.209031   \n",
       "1  0.194000  0.190182  0.187659  0.192645  0.195336  0.195043  0.199864   \n",
       "2  0.188737  0.188014  0.194839  0.195826  0.193223  0.191428  0.194870   \n",
       "3  0.186729  0.188622  0.192174  0.198071  0.197598  0.192575  0.194385   \n",
       "4  0.202369  0.202873  0.201777  0.200011  0.200382  0.201807  0.200001   \n",
       "\n",
       "        357       358       359  ...      2491      2492      2493      2494  \\\n",
       "0  0.211301  0.212234  0.209025  ...  0.154455  0.153147  0.152505  0.151796   \n",
       "1  0.199332  0.196149  0.194168  ...  0.148189  0.148415  0.150101  0.151252   \n",
       "2  0.200086  0.201505  0.197780  ...  0.151407  0.152087  0.150865  0.149892   \n",
       "3  0.199621  0.202134  0.199318  ...  0.144722  0.144318  0.147365  0.149190   \n",
       "4  0.201517  0.202995  0.202905  ...  0.140991  0.142018  0.145246  0.145941   \n",
       "\n",
       "       2495      2496      2497      2498      2499      2500  \n",
       "0  0.153219  0.152015  0.148442  0.146025  0.146183  0.150323  \n",
       "1  0.152308  0.151914  0.149478  0.147266  0.147974  0.148874  \n",
       "2  0.146863  0.145949  0.146377  0.145230  0.145935  0.145221  \n",
       "3  0.154470  0.155516  0.150827  0.152752  0.153995  0.152274  \n",
       "4  0.146944  0.147167  0.144547  0.143343  0.143553  0.144721  \n",
       "\n",
       "[5 rows x 2151 columns]"
      ]
     },
     "execution_count": 6,
     "metadata": {},
     "output_type": "execute_result"
    }
   ],
   "source": [
    "X.head()"
   ]
  },
  {
   "cell_type": "markdown",
   "id": "aa5018c7",
   "metadata": {},
   "source": [
    "# 3. 数据预处理"
   ]
  },
  {
   "cell_type": "code",
   "execution_count": 8,
   "id": "42a65add",
   "metadata": {},
   "outputs": [],
   "source": [
    "# SG（Savitzky-Golay）平滑处理\n",
    "# 输入信号 y，窗口大小 window_length，多项式阶数 polyorder\n",
    "X_SG = savgol_filter(X, 5, 2)\n",
    "X_SG_std = StandardScaler().fit_transform(X_SG) \n",
    "Label = LabelEncoder().fit_transform(y)"
   ]
  },
  {
   "cell_type": "code",
   "execution_count": 9,
   "id": "23437420",
   "metadata": {},
   "outputs": [
    {
     "data": {
      "text/plain": [
       "[(0, '01_辉绿岩'),\n",
       " (1, '02_斜长岩'),\n",
       " (2, '03_正长岩'),\n",
       " (3, '05_辉石闪长岩'),\n",
       " (4, '07_花岗斑岩'),\n",
       " (5, '09_橄榄岩'),\n",
       " (6, '10_闪长玢岩'),\n",
       " (7, '11_粗粒花岗岩'),\n",
       " (8, '12_斑状花岗岩'),\n",
       " (9, '13_斜长花岗岩'),\n",
       " (10, '17_角砾凝灰岩'),\n",
       " (11, '26_紫色页岩'),\n",
       " (12, '28_炭质页岩'),\n",
       " (13, '31_泥质灰岩'),\n",
       " (14, '33_泥晶石灰岩'),\n",
       " (15, '37_石英砾岩'),\n",
       " (16, '38_复成份砾岩'),\n",
       " (17, '41_石英砂岩'),\n",
       " (18, '42_细砂岩'),\n",
       " (19, '43_高岭石粘土岩'),\n",
       " (20, '44_蒙脱石粘土岩'),\n",
       " (21, '45_伊利石粘土岩'),\n",
       " (22, '49_石英岩②'),\n",
       " (23, '51_云英岩'),\n",
       " (24, '55_粗晶大理岩'),\n",
       " (25, '56_雪白大理岩'),\n",
       " (26, '58_花岗片麻岩'),\n",
       " (27, '59_绿泥石片岩'),\n",
       " (28, '60_含榴白云母片岩'),\n",
       " (29, '63_云母石英片岩'),\n",
       " (30, '64_十字石片岩'),\n",
       " (31, '66_蛇纹岩'),\n",
       " (32, '67_石榴子石矽卡岩')]"
      ]
     },
     "execution_count": 9,
     "metadata": {},
     "output_type": "execute_result"
    }
   ],
   "source": [
    "[*zip(np.unique(Label),LabelEncoder().fit(y).classes_)]"
   ]
  },
  {
   "cell_type": "code",
   "execution_count": 10,
   "id": "1dbe6b5b",
   "metadata": {},
   "outputs": [],
   "source": [
    "#让特征和标签等于我们运行出来的结果\n",
    "data.iloc[:,1:-1] = X_SG_std\n",
    "data.iloc[:, -1] = Label\n",
    "X = data.iloc[:,1:-1]\n",
    "y = data.iloc[:,-1]"
   ]
  },
  {
   "cell_type": "markdown",
   "id": "bab463d7",
   "metadata": {},
   "source": [
    "# 4. PCA 降维"
   ]
  },
  {
   "cell_type": "markdown",
   "id": "29deece7",
   "metadata": {},
   "source": [
    "#### （1）画累计方差贡献率曲线，找最佳降维后维度的范围"
   ]
  },
  {
   "cell_type": "code",
   "execution_count": 17,
   "id": "11492748",
   "metadata": {},
   "outputs": [
    {
     "data": {
      "image/png": "[encoded data removed]",
      "text/plain": [
       "<Figure size 2000x500 with 1 Axes>"
      ]
     },
     "metadata": {},
     "output_type": "display_data"
    }
   ],
   "source": [
    "pca_line = PCA().fit(X) #n_components默认取值min(X.shape)=2151\n",
    "plt.figure(figsize=[20,5])\n",
    "plt.plot(np.cumsum(pca_line.explained_variance_ratio_))\n",
    "plt.xlabel(\"number of components after demension reduction\")\n",
    "plt.ylabel(\"cumulative explained variance ratio\")\n",
    "plt.show()"
   ]
  },
  {
   "cell_type": "markdown",
   "id": "2a8c3d66",
   "metadata": {},
   "source": [
    "#### （2）降维后维度的学习曲线，继续缩小最佳维度的范围"
   ]
  },
  {
   "cell_type": "code",
   "execution_count": 18,
   "id": "b1f85f01",
   "metadata": {},
   "outputs": [
    {
     "data": {
      "image/png": "[encoded data removed]",
      "text/plain": [
       "<Figure size 2000x500 with 1 Axes>"
      ]
     },
     "metadata": {},
     "output_type": "display_data"
    }
   ],
   "source": [
    "score = []\n",
    "for i in range(1,51,10):\n",
    "    X_dr = PCA(i).fit_transform(X)\n",
    "    once = cross_val_score(RFC(n_estimators=10,random_state=0),X_dr,y,cv=5).mean()\n",
    "    score.append(once)\n",
    "plt.figure(figsize=[20,5])\n",
    "plt.plot(range(1,51,10),score)\n",
    "plt.show()"
   ]
  },
  {
   "cell_type": "markdown",
   "id": "d7427820",
   "metadata": {},
   "source": [
    "#### （3）细化学习曲线，找出降维后的最佳维度"
   ]
  },
  {
   "cell_type": "code",
   "execution_count": 19,
   "id": "60ca0b02",
   "metadata": {
    "scrolled": true
   },
   "outputs": [
    {
     "data": {
      "image/png": "[encoded data removed]",
      "text/plain": [
       "<Figure size 3000x500 with 1 Axes>"
      ]
     },
     "metadata": {},
     "output_type": "display_data"
    }
   ],
   "source": [
    "score = []\n",
    "for i in range(5,30):\n",
    "    X_dr = PCA(i).fit_transform(X)\n",
    "    once = cross_val_score(RFC(n_estimators=10,random_state=0),X_dr,y,cv=5).mean()\n",
    "    score.append(once)\n",
    "plt.figure(figsize=[30,5])\n",
    "plt.plot(range(5,30),score)\n",
    "plt.show()"
   ]
  },
  {
   "cell_type": "code",
   "execution_count": 20,
   "id": "ca84f91c",
   "metadata": {
    "scrolled": true
   },
   "outputs": [
    {
     "name": "stdout",
     "output_type": "stream",
     "text": [
      "0.9250072646494829 26\n"
     ]
    }
   ],
   "source": [
    "print(max(score),range(5,30)[score.index(max(score))])"
   ]
  },
  {
   "cell_type": "markdown",
   "id": "7d2a8520",
   "metadata": {},
   "source": [
    "#### （4）导入找出的最佳维度进行降维，利用交叉验证查看模型效果"
   ]
  },
  {
   "cell_type": "code",
   "execution_count": 11,
   "id": "2cd13e8b",
   "metadata": {},
   "outputs": [],
   "source": [
    "X_dr = PCA(26).fit_transform(X)"
   ]
  },
  {
   "cell_type": "code",
   "execution_count": 12,
   "id": "ea291d7b",
   "metadata": {},
   "outputs": [
    {
     "data": {
      "text/plain": [
       "0.9637301160378083"
      ]
     },
     "execution_count": 12,
     "metadata": {},
     "output_type": "execute_result"
    }
   ],
   "source": [
    "cv = KFold(n_splits=5,shuffle=True,random_state=0)\n",
    "\n",
    "rfc = RFC(n_estimators=100,random_state=0)\n",
    "\n",
    "score_original = cross_val_score(rfc,X_dr,y\n",
    "                        ,scoring='accuracy'\n",
    "                        ,cv=cv #交叉验证模式\n",
    "                        ,verbose=False #是否打印进程\n",
    "                        ,n_jobs=-1 #线程数\n",
    "                        ,error_score='raise' #如果在某个折叠中出现错误，会引发一个异常\n",
    "                       ).mean()\n",
    "score_original"
   ]
  },
  {
   "cell_type": "markdown",
   "id": "50af697f",
   "metadata": {},
   "source": [
    "# 5. 建模，训练，查看结果"
   ]
  },
  {
   "cell_type": "code",
   "execution_count": 26,
   "id": "f2eda7d5",
   "metadata": {},
   "outputs": [],
   "source": [
    "X_train, X_test, Y_train, Y_test = train_test_split(X_dr, y, test_size=0.3, random_state=0)"
   ]
  },
  {
   "cell_type": "code",
   "execution_count": 27,
   "id": "d2715201",
   "metadata": {
    "scrolled": false
   },
   "outputs": [
    {
     "name": "stdout",
     "output_type": "stream",
     "text": [
      "Random Forest:0.9644970414201184\n"
     ]
    }
   ],
   "source": [
    "rfc = RFC(n_estimators=100,random_state=0)\n",
    "rfc = rfc.fit(X_train, Y_train)\n",
    "score_r = rfc.score(X_test, Y_test)\n",
    "print(\"Random Forest:{}\".format(score_r))"
   ]
  },
  {
   "cell_type": "code",
   "execution_count": 28,
   "id": "462e8803",
   "metadata": {},
   "outputs": [],
   "source": [
    "# 保存混淆矩阵\n",
    "pred = rfc.predict(X_test)\n",
    "cm = confusion_matrix(Y_test, pred)\n",
    "output_folder = 'F:/Jupyter_Notebook_file/01_Spectrum Recognition/模型评价指标'\n",
    "csv_filename = 'cm_test.csv'\n",
    "np.savetxt(f'{output_folder}/{csv_filename}', cm, delimiter=',', fmt='%d')"
   ]
  },
  {
   "cell_type": "code",
   "execution_count": 98,
   "id": "e942b755",
   "metadata": {},
   "outputs": [
    {
     "data": {
      "text/plain": [
       "array([ 6, 24, 13, ..., 20, 14, 32])"
      ]
     },
     "execution_count": 98,
     "metadata": {},
     "output_type": "execute_result"
    }
   ],
   "source": [
    "rfc.predict(X_test) #predict返回每个测试样本的分类/回归结果"
   ]
  },
  {
   "cell_type": "code",
   "execution_count": 139,
   "id": "27cf903a",
   "metadata": {},
   "outputs": [
    {
     "data": {
      "text/plain": [
       "(3549,)"
      ]
     },
     "execution_count": 139,
     "metadata": {},
     "output_type": "execute_result"
    }
   ],
   "source": [
    "rfc.predict(X_test).shape #3330/10998=0.4，符合测试集划分的比例"
   ]
  },
  {
   "cell_type": "code",
   "execution_count": 100,
   "id": "c47fd8b5",
   "metadata": {
    "scrolled": true
   },
   "outputs": [
    {
     "data": {
      "text/plain": [
       "array([[0. , 0. , 0. , ..., 0. , 0. , 0. ],\n",
       "       [0. , 0. , 0. , ..., 0. , 0. , 0. ],\n",
       "       [0. , 0.1, 0. , ..., 0. , 0. , 0. ],\n",
       "       ...,\n",
       "       [0. , 0. , 0. , ..., 0. , 0. , 0. ],\n",
       "       [0. , 0. , 0. , ..., 0. , 0. , 0. ],\n",
       "       [0. , 0. , 0. , ..., 0. , 0. , 1. ]])"
      ]
     },
     "execution_count": 100,
     "metadata": {},
     "output_type": "execute_result"
    }
   ],
   "source": [
    "rfc.predict_proba(X_test) #这个接口返回每个测试样本对应的被分到每一类标签的概率，标签有几个分类就返回几个概率"
   ]
  },
  {
   "cell_type": "code",
   "execution_count": 101,
   "id": "3797e6f7",
   "metadata": {
    "scrolled": true
   },
   "outputs": [
    {
     "data": {
      "text/plain": [
       "(0.9993960623263679, 0.9935193012116089)"
      ]
     },
     "execution_count": 101,
     "metadata": {},
     "output_type": "execute_result"
    }
   ],
   "source": [
    "rfc.score(X_train,Y_train), rfc.score(X_test,Y_test)"
   ]
  },
  {
   "cell_type": "markdown",
   "id": "5faa66b6",
   "metadata": {},
   "source": [
    "# 6. 手动调参（Manual Hyperparameter Tuning）学习曲线+网格搜索"
   ]
  },
  {
   "cell_type": "markdown",
   "id": "855700df",
   "metadata": {},
   "source": [
    "先利用学习曲线找出最佳的n_estimators值，然后基于模型的泛化误差理论，利用网格搜索寻找使得泛化误差最低的参数设置"
   ]
  },
  {
   "cell_type": "markdown",
   "id": "44d3acac",
   "metadata": {},
   "source": [
    "#### （1）调整 n_estimators "
   ]
  },
  {
   "cell_type": "markdown",
   "id": "78698a58",
   "metadata": {},
   "source": [
    "n_estimators的学习曲线"
   ]
  },
  {
   "cell_type": "code",
   "execution_count": 31,
   "id": "8dadee7d",
   "metadata": {
    "scrolled": false
   },
   "outputs": [
    {
     "name": "stdout",
     "output_type": "stream",
     "text": [
      "0.9878766505617957 191\n"
     ]
    },
    {
     "data": {
      "image/png": "[encoded data removed]",
      "text/plain": [
       "<Figure size 2000x500 with 1 Axes>"
      ]
     },
     "metadata": {},
     "output_type": "display_data"
    }
   ],
   "source": [
    "scorel = []\n",
    "for i in range(0,200,10):\n",
    "    rfc = RFC(n_estimators=i+1\n",
    "              ,n_jobs=-1\n",
    "              ,random_state=0)\n",
    "    score = cross_val_score(rfc, X_dr, y, cv=5).mean()\n",
    "    scorel.append(score)\n",
    "print(max(scorel),(scorel.index(max(scorel))*10)+1)\n",
    "plt.figure(figsize=[20,5])\n",
    "plt.plot(range(1,201,10),scorel)\n",
    "plt.show()"
   ]
  },
  {
   "cell_type": "markdown",
   "id": "2397cbc1",
   "metadata": {},
   "source": [
    "在确定好的范围内，进一步细化学习曲线"
   ]
  },
  {
   "cell_type": "code",
   "execution_count": null,
   "id": "482f7efb",
   "metadata": {},
   "outputs": [],
   "source": [
    "scorel = []\n",
    "for i in range(185,195):\n",
    "    rfc = RFC(n_estimators=i\n",
    "              ,n_jobs=-1\n",
    "              ,random_state=0)\n",
    "    score = cross_val_score(rfc, X_dr, y, cv=5).mean()\n",
    "    scorel.append(score)\n",
    "print(max(scorel),([*range(185,195)][scorel.index(max(scorel))]))\n",
    "plt.figure(figsize=[10,5])\n",
    "plt.plot(range(185,195),scorel)\n",
    "plt.show()"
   ]
  },
  {
   "cell_type": "markdown",
   "id": "6e7a4b68",
   "metadata": {},
   "source": [
    "#### （2）调整max_depth"
   ]
  },
  {
   "cell_type": "code",
   "execution_count": 54,
   "id": "1bc3ca86",
   "metadata": {},
   "outputs": [
    {
     "data": {
      "text/html": [
       "<style>#sk-container-id-2 {color: black;background-color: white;}#sk-container-id-2 pre{padding: 0;}#sk-container-id-2 div.sk-toggleable {background-color: white;}#sk-container-id-2 label.sk-toggleable__label {cursor: pointer;display: block;width: 100%;margin-bottom: 0;padding: 0.3em;box-sizing: border-box;text-align: center;}#sk-container-id-2 label.sk-toggleable__label-arrow:before {content: \"▸\";float: left;margin-right: 0.25em;color: #696969;}#sk-container-id-2 label.sk-toggleable__label-arrow:hover:before {color: black;}#sk-container-id-2 div.sk-estimator:hover label.sk-toggleable__label-arrow:before {color: black;}#sk-container-id-2 div.sk-toggleable__content {max-height: 0;max-width: 0;overflow: hidden;text-align: left;background-color: #f0f8ff;}#sk-container-id-2 div.sk-toggleable__content pre {margin: 0.2em;color: black;border-radius: 0.25em;background-color: #f0f8ff;}#sk-container-id-2 input.sk-toggleable__control:checked~div.sk-toggleable__content {max-height: 200px;max-width: 100%;overflow: auto;}#sk-container-id-2 input.sk-toggleable__control:checked~label.sk-toggleable__label-arrow:before {content: \"▾\";}#sk-container-id-2 div.sk-estimator input.sk-toggleable__control:checked~label.sk-toggleable__label {background-color: #d4ebff;}#sk-container-id-2 div.sk-label input.sk-toggleable__control:checked~label.sk-toggleable__label {background-color: #d4ebff;}#sk-container-id-2 input.sk-hidden--visually {border: 0;clip: rect(1px 1px 1px 1px);clip: rect(1px, 1px, 1px, 1px);height: 1px;margin: -1px;overflow: hidden;padding: 0;position: absolute;width: 1px;}#sk-container-id-2 div.sk-estimator {font-family: monospace;background-color: #f0f8ff;border: 1px dotted black;border-radius: 0.25em;box-sizing: border-box;margin-bottom: 0.5em;}#sk-container-id-2 div.sk-estimator:hover {background-color: #d4ebff;}#sk-container-id-2 div.sk-parallel-item::after {content: \"\";width: 100%;border-bottom: 1px solid gray;flex-grow: 1;}#sk-container-id-2 div.sk-label:hover label.sk-toggleable__label {background-color: #d4ebff;}#sk-container-id-2 div.sk-serial::before {content: \"\";position: absolute;border-left: 1px solid gray;box-sizing: border-box;top: 0;bottom: 0;left: 50%;z-index: 0;}#sk-container-id-2 div.sk-serial {display: flex;flex-direction: column;align-items: center;background-color: white;padding-right: 0.2em;padding-left: 0.2em;position: relative;}#sk-container-id-2 div.sk-item {position: relative;z-index: 1;}#sk-container-id-2 div.sk-parallel {display: flex;align-items: stretch;justify-content: center;background-color: white;position: relative;}#sk-container-id-2 div.sk-item::before, #sk-container-id-2 div.sk-parallel-item::before {content: \"\";position: absolute;border-left: 1px solid gray;box-sizing: border-box;top: 0;bottom: 0;left: 50%;z-index: -1;}#sk-container-id-2 div.sk-parallel-item {display: flex;flex-direction: column;z-index: 1;position: relative;background-color: white;}#sk-container-id-2 div.sk-parallel-item:first-child::after {align-self: flex-end;width: 50%;}#sk-container-id-2 div.sk-parallel-item:last-child::after {align-self: flex-start;width: 50%;}#sk-container-id-2 div.sk-parallel-item:only-child::after {width: 0;}#sk-container-id-2 div.sk-dashed-wrapped {border: 1px dashed gray;margin: 0 0.4em 0.5em 0.4em;box-sizing: border-box;padding-bottom: 0.4em;background-color: white;}#sk-container-id-2 div.sk-label label {font-family: monospace;font-weight: bold;display: inline-block;line-height: 1.2em;}#sk-container-id-2 div.sk-label-container {text-align: center;}#sk-container-id-2 div.sk-container {/* jupyter's `normalize.less` sets `[hidden] { display: none; }` but bootstrap.min.css set `[hidden] { display: none !important; }` so we also need the `!important` here to be able to override the default hidden behavior on the sphinx rendered scikit-learn.org. See: https://github.com/scikit-learn/scikit-learn/issues/21755 */display: inline-block !important;position: relative;}#sk-container-id-2 div.sk-text-repr-fallback {display: none;}</style><div id=\"sk-container-id-2\" class=\"sk-top-container\"><div class=\"sk-text-repr-fallback\"><pre>GridSearchCV(cv=5,\n",
       "             estimator=RandomForestClassifier(n_estimators=194, random_state=0),\n",
       "             param_grid={&#x27;max_depth&#x27;: array([30, 31, 32, 33, 34, 35, 36, 37, 38, 39, 40, 41, 42, 43, 44, 45, 46,\n",
       "       47, 48, 49])})</pre><b>In a Jupyter environment, please rerun this cell to show the HTML representation or trust the notebook. <br />On GitHub, the HTML representation is unable to render, please try loading this page with nbviewer.org.</b></div><div class=\"sk-container\" hidden><div class=\"sk-item sk-dashed-wrapped\"><div class=\"sk-label-container\"><div class=\"sk-label sk-toggleable\"><input class=\"sk-toggleable__control sk-hidden--visually\" id=\"sk-estimator-id-4\" type=\"checkbox\" ><label for=\"sk-estimator-id-4\" class=\"sk-toggleable__label sk-toggleable__label-arrow\">GridSearchCV</label><div class=\"sk-toggleable__content\"><pre>GridSearchCV(cv=5,\n",
       "             estimator=RandomForestClassifier(n_estimators=194, random_state=0),\n",
       "             param_grid={&#x27;max_depth&#x27;: array([30, 31, 32, 33, 34, 35, 36, 37, 38, 39, 40, 41, 42, 43, 44, 45, 46,\n",
       "       47, 48, 49])})</pre></div></div></div><div class=\"sk-parallel\"><div class=\"sk-parallel-item\"><div class=\"sk-item\"><div class=\"sk-label-container\"><div class=\"sk-label sk-toggleable\"><input class=\"sk-toggleable__control sk-hidden--visually\" id=\"sk-estimator-id-5\" type=\"checkbox\" ><label for=\"sk-estimator-id-5\" class=\"sk-toggleable__label sk-toggleable__label-arrow\">estimator: RandomForestClassifier</label><div class=\"sk-toggleable__content\"><pre>RandomForestClassifier(n_estimators=194, random_state=0)</pre></div></div></div><div class=\"sk-serial\"><div class=\"sk-item\"><div class=\"sk-estimator sk-toggleable\"><input class=\"sk-toggleable__control sk-hidden--visually\" id=\"sk-estimator-id-6\" type=\"checkbox\" ><label for=\"sk-estimator-id-6\" class=\"sk-toggleable__label sk-toggleable__label-arrow\">RandomForestClassifier</label><div class=\"sk-toggleable__content\"><pre>RandomForestClassifier(n_estimators=194, random_state=0)</pre></div></div></div></div></div></div></div></div></div></div>"
      ],
      "text/plain": [
       "GridSearchCV(cv=5,\n",
       "             estimator=RandomForestClassifier(n_estimators=194, random_state=0),\n",
       "             param_grid={'max_depth': array([30, 31, 32, 33, 34, 35, 36, 37, 38, 39, 40, 41, 42, 43, 44, 45, 46,\n",
       "       47, 48, 49])})"
      ]
     },
     "execution_count": 54,
     "metadata": {},
     "output_type": "execute_result"
    }
   ],
   "source": [
    "param_grid = {'max_depth':np.arange(30,50,1)}\n",
    "rfc = RFC(n_estimators=194\n",
    "          ,random_state=0\n",
    "         )\n",
    "GS = GridSearchCV(rfc,param_grid,cv=5)\n",
    "GS.fit(X_dr,y)"
   ]
  },
  {
   "cell_type": "code",
   "execution_count": 55,
   "id": "bd96ca19",
   "metadata": {},
   "outputs": [
    {
     "data": {
      "text/plain": [
       "{'max_depth': 30}"
      ]
     },
     "execution_count": 55,
     "metadata": {},
     "output_type": "execute_result"
    }
   ],
   "source": [
    "GS.best_params_"
   ]
  },
  {
   "cell_type": "code",
   "execution_count": 57,
   "id": "70a7be2c",
   "metadata": {
    "scrolled": true
   },
   "outputs": [
    {
     "data": {
      "text/plain": [
       "0.9880498107349558"
      ]
     },
     "execution_count": 57,
     "metadata": {},
     "output_type": "execute_result"
    }
   ],
   "source": [
    "GS.best_score_"
   ]
  },
  {
   "cell_type": "code",
   "execution_count": 61,
   "id": "e095263c",
   "metadata": {},
   "outputs": [],
   "source": [
    "#max_depth返回最小值，准确率无变化，不需要调整\n",
    "#因为max_depth，min_samples_leaf和min_samples_split是剪枝参数，是减小复杂度的参数，进一步调整可能会导致模型泛化误差增大\n",
    "#我们已经非常接近模型的上限，模型很可能没有办法再进步了\n",
    "#此时我们的模型泛化误差处于最低点的左侧\n",
    "#那我们这就来调整一下max_features，看看模型如何变化"
   ]
  },
  {
   "cell_type": "markdown",
   "id": "217ad52a",
   "metadata": {},
   "source": [
    "#### （3）调整min_samples_leaf"
   ]
  },
  {
   "cell_type": "code",
   "execution_count": null,
   "id": "480fdee4",
   "metadata": {},
   "outputs": [],
   "source": [
    "param_grid={'min_samples_leaf':np.arange(1, 1+50, 1)}\n",
    "rfc = RFC(n_estimators=194\n",
    "          ,random_state=0\n",
    "         )\n",
    "GS = GridSearchCV(rfc,param_grid,cv=5)\n",
    "GS.fit(X_dr,y)"
   ]
  },
  {
   "cell_type": "code",
   "execution_count": null,
   "id": "b6a70382",
   "metadata": {},
   "outputs": [],
   "source": [
    "GS.best_params_"
   ]
  },
  {
   "cell_type": "code",
   "execution_count": null,
   "id": "338a3e03",
   "metadata": {},
   "outputs": [],
   "source": [
    "GS.best_score_"
   ]
  },
  {
   "cell_type": "markdown",
   "id": "542ac684",
   "metadata": {},
   "source": [
    "#### （4）调整min_samples_split"
   ]
  },
  {
   "cell_type": "code",
   "execution_count": null,
   "id": "6c4b2008",
   "metadata": {},
   "outputs": [],
   "source": [
    "param_grid={'min_samples_split':np.arange(2, 2+20, 1)}\n",
    "rfc = RFC(n_estimators=194\n",
    "                            ,random_state=0\n",
    "                            )\n",
    "GS = GridSearchCV(rfc,param_grid,cv=5)\n",
    "GS.fit(X_dr,y)"
   ]
  },
  {
   "cell_type": "code",
   "execution_count": null,
   "id": "703d104e",
   "metadata": {},
   "outputs": [],
   "source": [
    "GS.best_params_"
   ]
  },
  {
   "cell_type": "code",
   "execution_count": null,
   "id": "6a3a3490",
   "metadata": {},
   "outputs": [],
   "source": [
    "GS.best_score_"
   ]
  },
  {
   "cell_type": "markdown",
   "id": "90376685",
   "metadata": {},
   "source": [
    "#### （5）调整max_features"
   ]
  },
  {
   "cell_type": "code",
   "execution_count": 63,
   "id": "2a933709",
   "metadata": {},
   "outputs": [
    {
     "data": {
      "text/html": [
       "<style>#sk-container-id-4 {color: black;background-color: white;}#sk-container-id-4 pre{padding: 0;}#sk-container-id-4 div.sk-toggleable {background-color: white;}#sk-container-id-4 label.sk-toggleable__label {cursor: pointer;display: block;width: 100%;margin-bottom: 0;padding: 0.3em;box-sizing: border-box;text-align: center;}#sk-container-id-4 label.sk-toggleable__label-arrow:before {content: \"▸\";float: left;margin-right: 0.25em;color: #696969;}#sk-container-id-4 label.sk-toggleable__label-arrow:hover:before {color: black;}#sk-container-id-4 div.sk-estimator:hover label.sk-toggleable__label-arrow:before {color: black;}#sk-container-id-4 div.sk-toggleable__content {max-height: 0;max-width: 0;overflow: hidden;text-align: left;background-color: #f0f8ff;}#sk-container-id-4 div.sk-toggleable__content pre {margin: 0.2em;color: black;border-radius: 0.25em;background-color: #f0f8ff;}#sk-container-id-4 input.sk-toggleable__control:checked~div.sk-toggleable__content {max-height: 200px;max-width: 100%;overflow: auto;}#sk-container-id-4 input.sk-toggleable__control:checked~label.sk-toggleable__label-arrow:before {content: \"▾\";}#sk-container-id-4 div.sk-estimator input.sk-toggleable__control:checked~label.sk-toggleable__label {background-color: #d4ebff;}#sk-container-id-4 div.sk-label input.sk-toggleable__control:checked~label.sk-toggleable__label {background-color: #d4ebff;}#sk-container-id-4 input.sk-hidden--visually {border: 0;clip: rect(1px 1px 1px 1px);clip: rect(1px, 1px, 1px, 1px);height: 1px;margin: -1px;overflow: hidden;padding: 0;position: absolute;width: 1px;}#sk-container-id-4 div.sk-estimator {font-family: monospace;background-color: #f0f8ff;border: 1px dotted black;border-radius: 0.25em;box-sizing: border-box;margin-bottom: 0.5em;}#sk-container-id-4 div.sk-estimator:hover {background-color: #d4ebff;}#sk-container-id-4 div.sk-parallel-item::after {content: \"\";width: 100%;border-bottom: 1px solid gray;flex-grow: 1;}#sk-container-id-4 div.sk-label:hover label.sk-toggleable__label {background-color: #d4ebff;}#sk-container-id-4 div.sk-serial::before {content: \"\";position: absolute;border-left: 1px solid gray;box-sizing: border-box;top: 0;bottom: 0;left: 50%;z-index: 0;}#sk-container-id-4 div.sk-serial {display: flex;flex-direction: column;align-items: center;background-color: white;padding-right: 0.2em;padding-left: 0.2em;position: relative;}#sk-container-id-4 div.sk-item {position: relative;z-index: 1;}#sk-container-id-4 div.sk-parallel {display: flex;align-items: stretch;justify-content: center;background-color: white;position: relative;}#sk-container-id-4 div.sk-item::before, #sk-container-id-4 div.sk-parallel-item::before {content: \"\";position: absolute;border-left: 1px solid gray;box-sizing: border-box;top: 0;bottom: 0;left: 50%;z-index: -1;}#sk-container-id-4 div.sk-parallel-item {display: flex;flex-direction: column;z-index: 1;position: relative;background-color: white;}#sk-container-id-4 div.sk-parallel-item:first-child::after {align-self: flex-end;width: 50%;}#sk-container-id-4 div.sk-parallel-item:last-child::after {align-self: flex-start;width: 50%;}#sk-container-id-4 div.sk-parallel-item:only-child::after {width: 0;}#sk-container-id-4 div.sk-dashed-wrapped {border: 1px dashed gray;margin: 0 0.4em 0.5em 0.4em;box-sizing: border-box;padding-bottom: 0.4em;background-color: white;}#sk-container-id-4 div.sk-label label {font-family: monospace;font-weight: bold;display: inline-block;line-height: 1.2em;}#sk-container-id-4 div.sk-label-container {text-align: center;}#sk-container-id-4 div.sk-container {/* jupyter's `normalize.less` sets `[hidden] { display: none; }` but bootstrap.min.css set `[hidden] { display: none !important; }` so we also need the `!important` here to be able to override the default hidden behavior on the sphinx rendered scikit-learn.org. See: https://github.com/scikit-learn/scikit-learn/issues/21755 */display: inline-block !important;position: relative;}#sk-container-id-4 div.sk-text-repr-fallback {display: none;}</style><div id=\"sk-container-id-4\" class=\"sk-top-container\"><div class=\"sk-text-repr-fallback\"><pre>GridSearchCV(cv=5,\n",
       "             estimator=RandomForestClassifier(n_estimators=194, random_state=0),\n",
       "             param_grid={&#x27;max_features&#x27;: array([ 5,  6,  7,  8,  9, 10, 11, 12, 13, 14, 15, 16, 17, 18, 19, 20, 21,\n",
       "       22, 23, 24, 25, 26, 27, 28, 29])})</pre><b>In a Jupyter environment, please rerun this cell to show the HTML representation or trust the notebook. <br />On GitHub, the HTML representation is unable to render, please try loading this page with nbviewer.org.</b></div><div class=\"sk-container\" hidden><div class=\"sk-item sk-dashed-wrapped\"><div class=\"sk-label-container\"><div class=\"sk-label sk-toggleable\"><input class=\"sk-toggleable__control sk-hidden--visually\" id=\"sk-estimator-id-10\" type=\"checkbox\" ><label for=\"sk-estimator-id-10\" class=\"sk-toggleable__label sk-toggleable__label-arrow\">GridSearchCV</label><div class=\"sk-toggleable__content\"><pre>GridSearchCV(cv=5,\n",
       "             estimator=RandomForestClassifier(n_estimators=194, random_state=0),\n",
       "             param_grid={&#x27;max_features&#x27;: array([ 5,  6,  7,  8,  9, 10, 11, 12, 13, 14, 15, 16, 17, 18, 19, 20, 21,\n",
       "       22, 23, 24, 25, 26, 27, 28, 29])})</pre></div></div></div><div class=\"sk-parallel\"><div class=\"sk-parallel-item\"><div class=\"sk-item\"><div class=\"sk-label-container\"><div class=\"sk-label sk-toggleable\"><input class=\"sk-toggleable__control sk-hidden--visually\" id=\"sk-estimator-id-11\" type=\"checkbox\" ><label for=\"sk-estimator-id-11\" class=\"sk-toggleable__label sk-toggleable__label-arrow\">estimator: RandomForestClassifier</label><div class=\"sk-toggleable__content\"><pre>RandomForestClassifier(n_estimators=194, random_state=0)</pre></div></div></div><div class=\"sk-serial\"><div class=\"sk-item\"><div class=\"sk-estimator sk-toggleable\"><input class=\"sk-toggleable__control sk-hidden--visually\" id=\"sk-estimator-id-12\" type=\"checkbox\" ><label for=\"sk-estimator-id-12\" class=\"sk-toggleable__label sk-toggleable__label-arrow\">RandomForestClassifier</label><div class=\"sk-toggleable__content\"><pre>RandomForestClassifier(n_estimators=194, random_state=0)</pre></div></div></div></div></div></div></div></div></div></div>"
      ],
      "text/plain": [
       "GridSearchCV(cv=5,\n",
       "             estimator=RandomForestClassifier(n_estimators=194, random_state=0),\n",
       "             param_grid={'max_features': array([ 5,  6,  7,  8,  9, 10, 11, 12, 13, 14, 15, 16, 17, 18, 19, 20, 21,\n",
       "       22, 23, 24, 25, 26, 27, 28, 29])})"
      ]
     },
     "execution_count": 63,
     "metadata": {},
     "output_type": "execute_result"
    }
   ],
   "source": [
    "param_grid = {'max_features':np.arange(5,30,1)} #取最小（sqrt(n_features)）到最大特征数\n",
    "rfc = RFC(n_estimators=194\n",
    "          ,random_state=0\n",
    "         )\n",
    "GS = GridSearchCV(rfc,param_grid,cv=5)\n",
    "GS.fit(X_dr,y)"
   ]
  },
  {
   "cell_type": "code",
   "execution_count": 64,
   "id": "cb1b125b",
   "metadata": {},
   "outputs": [
    {
     "data": {
      "text/plain": [
       "{'max_features': 5}"
      ]
     },
     "execution_count": 64,
     "metadata": {},
     "output_type": "execute_result"
    }
   ],
   "source": [
    "GS.best_params_"
   ]
  },
  {
   "cell_type": "code",
   "execution_count": 65,
   "id": "51ac69e2",
   "metadata": {},
   "outputs": [
    {
     "data": {
      "text/plain": [
       "0.9880498107349558"
      ]
     },
     "execution_count": 65,
     "metadata": {},
     "output_type": "execute_result"
    }
   ],
   "source": [
    "GS.best_score_"
   ]
  },
  {
   "cell_type": "markdown",
   "id": "52e2621b",
   "metadata": {},
   "source": [
    "#### （6）调整criterion"
   ]
  },
  {
   "cell_type": "code",
   "execution_count": 66,
   "id": "88a2b3e7",
   "metadata": {},
   "outputs": [
    {
     "data": {
      "text/html": [
       "<style>#sk-container-id-5 {color: black;background-color: white;}#sk-container-id-5 pre{padding: 0;}#sk-container-id-5 div.sk-toggleable {background-color: white;}#sk-container-id-5 label.sk-toggleable__label {cursor: pointer;display: block;width: 100%;margin-bottom: 0;padding: 0.3em;box-sizing: border-box;text-align: center;}#sk-container-id-5 label.sk-toggleable__label-arrow:before {content: \"▸\";float: left;margin-right: 0.25em;color: #696969;}#sk-container-id-5 label.sk-toggleable__label-arrow:hover:before {color: black;}#sk-container-id-5 div.sk-estimator:hover label.sk-toggleable__label-arrow:before {color: black;}#sk-container-id-5 div.sk-toggleable__content {max-height: 0;max-width: 0;overflow: hidden;text-align: left;background-color: #f0f8ff;}#sk-container-id-5 div.sk-toggleable__content pre {margin: 0.2em;color: black;border-radius: 0.25em;background-color: #f0f8ff;}#sk-container-id-5 input.sk-toggleable__control:checked~div.sk-toggleable__content {max-height: 200px;max-width: 100%;overflow: auto;}#sk-container-id-5 input.sk-toggleable__control:checked~label.sk-toggleable__label-arrow:before {content: \"▾\";}#sk-container-id-5 div.sk-estimator input.sk-toggleable__control:checked~label.sk-toggleable__label {background-color: #d4ebff;}#sk-container-id-5 div.sk-label input.sk-toggleable__control:checked~label.sk-toggleable__label {background-color: #d4ebff;}#sk-container-id-5 input.sk-hidden--visually {border: 0;clip: rect(1px 1px 1px 1px);clip: rect(1px, 1px, 1px, 1px);height: 1px;margin: -1px;overflow: hidden;padding: 0;position: absolute;width: 1px;}#sk-container-id-5 div.sk-estimator {font-family: monospace;background-color: #f0f8ff;border: 1px dotted black;border-radius: 0.25em;box-sizing: border-box;margin-bottom: 0.5em;}#sk-container-id-5 div.sk-estimator:hover {background-color: #d4ebff;}#sk-container-id-5 div.sk-parallel-item::after {content: \"\";width: 100%;border-bottom: 1px solid gray;flex-grow: 1;}#sk-container-id-5 div.sk-label:hover label.sk-toggleable__label {background-color: #d4ebff;}#sk-container-id-5 div.sk-serial::before {content: \"\";position: absolute;border-left: 1px solid gray;box-sizing: border-box;top: 0;bottom: 0;left: 50%;z-index: 0;}#sk-container-id-5 div.sk-serial {display: flex;flex-direction: column;align-items: center;background-color: white;padding-right: 0.2em;padding-left: 0.2em;position: relative;}#sk-container-id-5 div.sk-item {position: relative;z-index: 1;}#sk-container-id-5 div.sk-parallel {display: flex;align-items: stretch;justify-content: center;background-color: white;position: relative;}#sk-container-id-5 div.sk-item::before, #sk-container-id-5 div.sk-parallel-item::before {content: \"\";position: absolute;border-left: 1px solid gray;box-sizing: border-box;top: 0;bottom: 0;left: 50%;z-index: -1;}#sk-container-id-5 div.sk-parallel-item {display: flex;flex-direction: column;z-index: 1;position: relative;background-color: white;}#sk-container-id-5 div.sk-parallel-item:first-child::after {align-self: flex-end;width: 50%;}#sk-container-id-5 div.sk-parallel-item:last-child::after {align-self: flex-start;width: 50%;}#sk-container-id-5 div.sk-parallel-item:only-child::after {width: 0;}#sk-container-id-5 div.sk-dashed-wrapped {border: 1px dashed gray;margin: 0 0.4em 0.5em 0.4em;box-sizing: border-box;padding-bottom: 0.4em;background-color: white;}#sk-container-id-5 div.sk-label label {font-family: monospace;font-weight: bold;display: inline-block;line-height: 1.2em;}#sk-container-id-5 div.sk-label-container {text-align: center;}#sk-container-id-5 div.sk-container {/* jupyter's `normalize.less` sets `[hidden] { display: none; }` but bootstrap.min.css set `[hidden] { display: none !important; }` so we also need the `!important` here to be able to override the default hidden behavior on the sphinx rendered scikit-learn.org. See: https://github.com/scikit-learn/scikit-learn/issues/21755 */display: inline-block !important;position: relative;}#sk-container-id-5 div.sk-text-repr-fallback {display: none;}</style><div id=\"sk-container-id-5\" class=\"sk-top-container\"><div class=\"sk-text-repr-fallback\"><pre>GridSearchCV(cv=5,\n",
       "             estimator=RandomForestClassifier(n_estimators=194, random_state=0),\n",
       "             param_grid={&#x27;criterion&#x27;: [&#x27;gini&#x27;, &#x27;entropy&#x27;]})</pre><b>In a Jupyter environment, please rerun this cell to show the HTML representation or trust the notebook. <br />On GitHub, the HTML representation is unable to render, please try loading this page with nbviewer.org.</b></div><div class=\"sk-container\" hidden><div class=\"sk-item sk-dashed-wrapped\"><div class=\"sk-label-container\"><div class=\"sk-label sk-toggleable\"><input class=\"sk-toggleable__control sk-hidden--visually\" id=\"sk-estimator-id-13\" type=\"checkbox\" ><label for=\"sk-estimator-id-13\" class=\"sk-toggleable__label sk-toggleable__label-arrow\">GridSearchCV</label><div class=\"sk-toggleable__content\"><pre>GridSearchCV(cv=5,\n",
       "             estimator=RandomForestClassifier(n_estimators=194, random_state=0),\n",
       "             param_grid={&#x27;criterion&#x27;: [&#x27;gini&#x27;, &#x27;entropy&#x27;]})</pre></div></div></div><div class=\"sk-parallel\"><div class=\"sk-parallel-item\"><div class=\"sk-item\"><div class=\"sk-label-container\"><div class=\"sk-label sk-toggleable\"><input class=\"sk-toggleable__control sk-hidden--visually\" id=\"sk-estimator-id-14\" type=\"checkbox\" ><label for=\"sk-estimator-id-14\" class=\"sk-toggleable__label sk-toggleable__label-arrow\">estimator: RandomForestClassifier</label><div class=\"sk-toggleable__content\"><pre>RandomForestClassifier(n_estimators=194, random_state=0)</pre></div></div></div><div class=\"sk-serial\"><div class=\"sk-item\"><div class=\"sk-estimator sk-toggleable\"><input class=\"sk-toggleable__control sk-hidden--visually\" id=\"sk-estimator-id-15\" type=\"checkbox\" ><label for=\"sk-estimator-id-15\" class=\"sk-toggleable__label sk-toggleable__label-arrow\">RandomForestClassifier</label><div class=\"sk-toggleable__content\"><pre>RandomForestClassifier(n_estimators=194, random_state=0)</pre></div></div></div></div></div></div></div></div></div></div>"
      ],
      "text/plain": [
       "GridSearchCV(cv=5,\n",
       "             estimator=RandomForestClassifier(n_estimators=194, random_state=0),\n",
       "             param_grid={'criterion': ['gini', 'entropy']})"
      ]
     },
     "execution_count": 66,
     "metadata": {},
     "output_type": "execute_result"
    }
   ],
   "source": [
    "param_grid = {'criterion':['gini', 'entropy']}\n",
    "rfc = RFC(n_estimators=194\n",
    "          ,random_state=0\n",
    "         )\n",
    "GS = GridSearchCV(rfc,param_grid,cv=5)\n",
    "GS.fit(X_dr,y)"
   ]
  },
  {
   "cell_type": "code",
   "execution_count": 67,
   "id": "87cccadb",
   "metadata": {},
   "outputs": [
    {
     "data": {
      "text/plain": [
       "{'criterion': 'entropy'}"
      ]
     },
     "execution_count": 67,
     "metadata": {},
     "output_type": "execute_result"
    }
   ],
   "source": [
    "GS.best_params_"
   ]
  },
  {
   "cell_type": "code",
   "execution_count": 68,
   "id": "c4b0d755",
   "metadata": {},
   "outputs": [
    {
     "data": {
      "text/plain": [
       "0.9892623444117596"
      ]
     },
     "execution_count": 68,
     "metadata": {},
     "output_type": "execute_result"
    }
   ],
   "source": [
    "GS.best_score_"
   ]
  },
  {
   "cell_type": "markdown",
   "id": "f1b73cc5",
   "metadata": {},
   "source": [
    "#### （7）调整完毕，总结出模型的最佳参数"
   ]
  },
  {
   "cell_type": "code",
   "execution_count": 32,
   "id": "44d5a2c0",
   "metadata": {},
   "outputs": [
    {
     "data": {
      "text/plain": [
       "0.9983546408838743"
      ]
     },
     "execution_count": 32,
     "metadata": {},
     "output_type": "execute_result"
    }
   ],
   "source": [
    "cv = KFold(n_splits=5,shuffle=True,random_state=0)\n",
    "\n",
    "rfc = RFC(n_estimators=100\n",
    "          ,criterion='entropy'\n",
    "          ,random_state=0\n",
    "         )\n",
    "\n",
    "score_MHT = cross_val_score(rfc,X_dr,y\n",
    "                        ,scoring='accuracy'\n",
    "                        ,cv=cv #交叉验证模式\n",
    "                        ,verbose=False #是否打印进程\n",
    "                        ,n_jobs=-1 #线程数\n",
    "                        ,error_score='raise' #如果在某个折叠中出现错误，会引发一个异常\n",
    "                       ).mean()\n",
    "score_MHT"
   ]
  },
  {
   "cell_type": "markdown",
   "id": "2589fd5d",
   "metadata": {},
   "source": [
    "# 7. Optuna——随机网格搜索，调参"
   ]
  },
  {
   "cell_type": "markdown",
   "id": "97e688cc",
   "metadata": {},
   "source": [
    "#### （1）构建目标函数及定义参数空间"
   ]
  },
  {
   "cell_type": "code",
   "execution_count": 23,
   "id": "a3d7d277",
   "metadata": {},
   "outputs": [],
   "source": [
    "def optuna_objective(trial):\n",
    "\n",
    "    #定义参数空间\n",
    "    n_estimators = trial.suggest_int(\"n_estimators\",50,150,1) #整数型，(参数名称，下界，上界，步长)\n",
    "    max_depth = trial.suggest_int(\"max_depth\",30,50,1)\n",
    "    max_features = trial.suggest_int(\"max_features\",5,30,1)\n",
    "    min_samples_leaf = trial.suggest_int(\"min_samples_leaf\",1,51,1)\n",
    "    min_samples_split = trial.suggest_int(\"min_samples_split\",2,22,1)\n",
    "\n",
    "    #定义评估器\n",
    "    #需要优化的参数由上述参数空间决定\n",
    "    #不需要优化的参数则直接填写具体值\n",
    "    rfc = RFC(n_estimators = n_estimators\n",
    "              ,max_depth = max_depth\n",
    "              ,max_features = max_features\n",
    "              ,min_samples_leaf = min_samples_leaf\n",
    "              ,min_samples_split = min_samples_split\n",
    "              ,random_state=0\n",
    "              ,verbose=False\n",
    "              ,n_jobs=-1\n",
    "             )\n",
    "\n",
    "    #交叉验证过程，输出准确率(accuracy)\n",
    "    cv = KFold(n_splits=5,shuffle=True,random_state=0)\n",
    "    score = cross_val_score(rfc,X_dr,y\n",
    "                            ,scoring='accuracy'\n",
    "                            ,cv=cv #交叉验证模式\n",
    "                            ,verbose=False #是否打印进程\n",
    "                            ,n_jobs=-1 #线程数\n",
    "                            ,error_score='raise' #如果在某个折叠中出现错误，会引发一个异常\n",
    "                           )\n",
    "    #最终输出平均准确率\n",
    "    return np.mean(score)"
   ]
  },
  {
   "cell_type": "markdown",
   "id": "20d27313",
   "metadata": {},
   "source": [
    "#### （2）定义优化目标函数的具体流程"
   ]
  },
  {
   "cell_type": "code",
   "execution_count": 24,
   "id": "57f91aa9",
   "metadata": {},
   "outputs": [],
   "source": [
    "def optimizer_optuna(n_trials, algo):\n",
    "\n",
    "    #定义使用随机网格搜索\n",
    "    sampler = optuna.samplers.RandomSampler(seed=0)\n",
    "\n",
    "    #实际优化过程，首先实例化优化器\n",
    "    study = optuna.create_study(sampler = sampler #要使用的具体算法\n",
    "                                ,direction=\"maximize\" #优化的方向，可以填写minimize或maximize\n",
    "                               )\n",
    "    #开始优化，n_trials为允许的最大迭代次数\n",
    "    #由于参数空间已经在目标函数中定义好，因此不需要输入参数空间\n",
    "    study.optimize(optuna_objective #目标函数\n",
    "                   ,n_trials=n_trials #最大迭代次数（包括最初的观测值的）\n",
    "                   ,show_progress_bar=True #要不要展示进度条呀？\n",
    "                  )\n",
    "\n",
    "    #可直接从优化好的对象study中调用优化的结果\n",
    "    #打印最佳参数与最佳损失值\n",
    "    print(\"\\n\",\"\\n\",\"best params: \", study.best_trial.params,\n",
    "          \"\\n\",\"\\n\",\"best score: \", study.best_trial.values,\n",
    "          \"\\n\")\n",
    "\n",
    "    return study.best_trial.params, study.best_trial.values"
   ]
  },
  {
   "cell_type": "markdown",
   "id": "e1f1ea76",
   "metadata": {},
   "source": [
    "#### （3）执行优化操作"
   ]
  },
  {
   "cell_type": "code",
   "execution_count": 25,
   "id": "a7742144",
   "metadata": {
    "scrolled": false
   },
   "outputs": [
    {
     "name": "stderr",
     "output_type": "stream",
     "text": [
      "[I 2023-08-29 21:34:26,764] A new study created in memory with name: no-name-c317eb00-81c5-4ba2-9471-a05264785807\n",
      "Best trial: 0. Best value: 0.940142:   3%|█▌                                            | 1/30 [01:26<42:02, 87.00s/it]"
     ]
    },
    {
     "name": "stdout",
     "output_type": "stream",
     "text": [
      "[I 2023-08-29 21:35:53,975] Trial 0 finished with value: 0.9401420761706987 and parameters: {'n_estimators': 105, 'max_depth': 45, 'max_features': 20, 'min_samples_leaf': 28, 'min_samples_split': 10}. Best is trial 0 with value: 0.9401420761706987.\n"
     ]
    },
    {
     "name": "stderr",
     "output_type": "stream",
     "text": [
      "Best trial: 0. Best value: 0.940142:   7%|███                                           | 2/30 [03:15<46:24, 99.44s/it]"
     ]
    },
    {
     "name": "stdout",
     "output_type": "stream",
     "text": [
      "[I 2023-08-29 21:37:42,132] Trial 1 finished with value: 0.9147781020410717 and parameters: {'n_estimators': 115, 'max_depth': 39, 'max_features': 28, 'min_samples_leaf': 50, 'min_samples_split': 10}. Best is trial 0 with value: 0.9401420761706987.\n"
     ]
    },
    {
     "name": "stderr",
     "output_type": "stream",
     "text": [
      "Best trial: 0. Best value: 0.940142:  10%|████▌                                         | 3/30 [04:45<42:54, 95.37s/it]"
     ]
    },
    {
     "name": "stdout",
     "output_type": "stream",
     "text": [
      "[I 2023-08-29 21:39:12,645] Trial 2 finished with value: 0.9303346027854078 and parameters: {'n_estimators': 129, 'max_depth': 41, 'max_features': 19, 'min_samples_leaf': 48, 'min_samples_split': 3}. Best is trial 0 with value: 0.9401420761706987.\n"
     ]
    },
    {
     "name": "stderr",
     "output_type": "stream",
     "text": [
      "Best trial: 0. Best value: 0.940142:  13%|██████▏                                       | 4/30 [05:43<34:51, 80.46s/it]"
     ]
    },
    {
     "name": "stdout",
     "output_type": "stream",
     "text": [
      "[I 2023-08-29 21:40:10,244] Trial 3 finished with value: 0.9193435902201555 and parameters: {'n_estimators': 58, 'max_depth': 30, 'max_features': 26, 'min_samples_leaf': 40, 'min_samples_split': 20}. Best is trial 0 with value: 0.9401420761706987.\n"
     ]
    },
    {
     "name": "stderr",
     "output_type": "stream",
     "text": [
      "Best trial: 0. Best value: 0.940142:  17%|███████▋                                      | 5/30 [07:10<34:31, 82.86s/it]"
     ]
    },
    {
     "name": "stdout",
     "output_type": "stream",
     "text": [
      "[I 2023-08-29 21:41:37,374] Trial 4 finished with value: 0.937605256997028 and parameters: {'n_estimators': 148, 'max_depth': 46, 'max_features': 16, 'min_samples_leaf': 40, 'min_samples_split': 4}. Best is trial 0 with value: 0.9401420761706987.\n"
     ]
    },
    {
     "name": "stderr",
     "output_type": "stream",
     "text": [
      "Best trial: 0. Best value: 0.940142:  20%|█████████▏                                    | 6/30 [09:05<37:29, 93.74s/it]"
     ]
    },
    {
     "name": "stdout",
     "output_type": "stream",
     "text": [
      "[I 2023-08-29 21:43:32,224] Trial 5 finished with value: 0.929320053828104 and parameters: {'n_estimators': 114, 'max_depth': 33, 'max_features': 29, 'min_samples_leaf': 27, 'min_samples_split': 10}. Best is trial 0 with value: 0.9401420761706987.\n"
     ]
    },
    {
     "name": "stderr",
     "output_type": "stream",
     "text": [
      "Best trial: 6. Best value: 0.945891:  23%|██████████▋                                   | 7/30 [09:51<29:59, 78.22s/it]"
     ]
    },
    {
     "name": "stdout",
     "output_type": "stream",
     "text": [
      "[I 2023-08-29 21:44:18,488] Trial 6 finished with value: 0.945891103529744 and parameters: {'n_estimators': 76, 'max_depth': 46, 'max_features': 16, 'min_samples_leaf': 29, 'min_samples_split': 2}. Best is trial 6 with value: 0.945891103529744.\n"
     ]
    },
    {
     "name": "stderr",
     "output_type": "stream",
     "text": [
      "Best trial: 6. Best value: 0.945891:  27%|████████████▎                                 | 8/30 [11:16<29:28, 80.39s/it]"
     ]
    },
    {
     "name": "stdout",
     "output_type": "stream",
     "text": [
      "[I 2023-08-29 21:45:43,533] Trial 7 finished with value: 0.9252618222564555 and parameters: {'n_estimators': 112, 'max_depth': 42, 'max_features': 21, 'min_samples_leaf': 49, 'min_samples_split': 16}. Best is trial 6 with value: 0.945891103529744.\n"
     ]
    },
    {
     "name": "stderr",
     "output_type": "stream",
     "text": [
      "Best trial: 8. Best value: 0.955614:  30%|█████████████▊                                | 9/30 [12:52<29:51, 85.32s/it]"
     ]
    },
    {
     "name": "stdout",
     "output_type": "stream",
     "text": [
      "[I 2023-08-29 21:47:19,703] Trial 8 finished with value: 0.9556136171520787 and parameters: {'n_estimators': 86, 'max_depth': 39, 'max_features': 23, 'min_samples_leaf': 4, 'min_samples_split': 16}. Best is trial 8 with value: 0.9556136171520787.\n"
     ]
    },
    {
     "name": "stderr",
     "output_type": "stream",
     "text": [
      "Best trial: 9. Best value: 0.957643:  33%|███████████████                              | 10/30 [13:31<23:39, 70.99s/it]"
     ]
    },
    {
     "name": "stdout",
     "output_type": "stream",
     "text": [
      "[I 2023-08-29 21:47:58,601] Trial 9 finished with value: 0.9576429295212838 and parameters: {'n_estimators': 117, 'max_depth': 34, 'max_features': 8, 'min_samples_leaf': 17, 'min_samples_split': 9}. Best is trial 9 with value: 0.9576429295212838.\n"
     ]
    },
    {
     "name": "stderr",
     "output_type": "stream",
     "text": [
      "Best trial: 9. Best value: 0.957643:  37%|████████████████▌                            | 11/30 [15:39<28:01, 88.48s/it]"
     ]
    },
    {
     "name": "stdout",
     "output_type": "stream",
     "text": [
      "[I 2023-08-29 21:50:06,747] Trial 10 finished with value: 0.9548526607560597 and parameters: {'n_estimators': 107, 'max_depth': 39, 'max_features': 30, 'min_samples_leaf': 6, 'min_samples_split': 6}. Best is trial 9 with value: 0.9576429295212838.\n"
     ]
    },
    {
     "name": "stderr",
     "output_type": "stream",
     "text": [
      "Best trial: 9. Best value: 0.957643:  40%|██████████████████                           | 12/30 [16:08<21:05, 70.30s/it]"
     ]
    },
    {
     "name": "stdout",
     "output_type": "stream",
     "text": [
      "[I 2023-08-29 21:50:35,454] Trial 11 finished with value: 0.9535000956110078 and parameters: {'n_estimators': 66, 'max_depth': 43, 'max_features': 11, 'min_samples_leaf': 24, 'min_samples_split': 7}. Best is trial 9 with value: 0.9576429295212838.\n"
     ]
    },
    {
     "name": "stderr",
     "output_type": "stream",
     "text": [
      "Best trial: 9. Best value: 0.957643:  43%|███████████████████▌                         | 13/30 [17:15<19:37, 69.28s/it]"
     ]
    },
    {
     "name": "stdout",
     "output_type": "stream",
     "text": [
      "[I 2023-08-29 21:51:42,380] Trial 12 finished with value: 0.9546836705334021 and parameters: {'n_estimators': 66, 'max_depth': 32, 'max_features': 22, 'min_samples_leaf': 8, 'min_samples_split': 6}. Best is trial 9 with value: 0.9576429295212838.\n"
     ]
    },
    {
     "name": "stderr",
     "output_type": "stream",
     "text": [
      "Best trial: 9. Best value: 0.957643:  47%|█████████████████████                        | 14/30 [17:36<14:36, 54.81s/it]"
     ]
    },
    {
     "name": "stdout",
     "output_type": "stream",
     "text": [
      "[I 2023-08-29 21:52:03,748] Trial 13 finished with value: 0.9519783257887016 and parameters: {'n_estimators': 87, 'max_depth': 47, 'max_features': 7, 'min_samples_leaf': 43, 'min_samples_split': 4}. Best is trial 9 with value: 0.9576429295212838.\n"
     ]
    },
    {
     "name": "stderr",
     "output_type": "stream",
     "text": [
      "Best trial: 9. Best value: 0.957643:  50%|██████████████████████▌                      | 15/30 [20:14<21:29, 85.94s/it]"
     ]
    },
    {
     "name": "stdout",
     "output_type": "stream",
     "text": [
      "[I 2023-08-29 21:54:41,853] Trial 14 finished with value: 0.9266992041947318 and parameters: {'n_estimators': 148, 'max_depth': 39, 'max_features': 30, 'min_samples_leaf': 31, 'min_samples_split': 17}. Best is trial 9 with value: 0.9576429295212838.\n"
     ]
    },
    {
     "name": "stderr",
     "output_type": "stream",
     "text": [
      "Best trial: 9. Best value: 0.957643:  53%|████████████████████████                     | 16/30 [20:34<15:21, 65.84s/it]"
     ]
    },
    {
     "name": "stdout",
     "output_type": "stream",
     "text": [
      "[I 2023-08-29 21:55:01,006] Trial 15 finished with value: 0.9569665397214593 and parameters: {'n_estimators': 53, 'max_depth': 35, 'max_features': 8, 'min_samples_leaf': 16, 'min_samples_split': 4}. Best is trial 9 with value: 0.9576429295212838.\n"
     ]
    },
    {
     "name": "stderr",
     "output_type": "stream",
     "text": [
      "Best trial: 9. Best value: 0.957643:  57%|█████████████████████████▌                   | 17/30 [20:53<11:13, 51.77s/it]"
     ]
    },
    {
     "name": "stdout",
     "output_type": "stream",
     "text": [
      "[I 2023-08-29 21:55:20,066] Trial 16 finished with value: 0.9554448413840184 and parameters: {'n_estimators': 82, 'max_depth': 38, 'max_features': 6, 'min_samples_leaf': 36, 'min_samples_split': 13}. Best is trial 9 with value: 0.9576429295212838.\n"
     ]
    },
    {
     "name": "stderr",
     "output_type": "stream",
     "text": [
      "Best trial: 9. Best value: 0.957643:  60%|███████████████████████████                  | 18/30 [21:13<08:29, 42.47s/it]"
     ]
    },
    {
     "name": "stdout",
     "output_type": "stream",
     "text": [
      "[I 2023-08-29 21:55:40,895] Trial 17 finished with value: 0.9562901141792018 and parameters: {'n_estimators': 76, 'max_depth': 40, 'max_features': 7, 'min_samples_leaf': 30, 'min_samples_split': 21}. Best is trial 9 with value: 0.9576429295212838.\n"
     ]
    },
    {
     "name": "stderr",
     "output_type": "stream",
     "text": [
      "Best trial: 9. Best value: 0.957643:  63%|████████████████████████████▌                | 19/30 [21:37<06:43, 36.71s/it]"
     ]
    },
    {
     "name": "stdout",
     "output_type": "stream",
     "text": [
      "[I 2023-08-29 21:56:04,183] Trial 18 finished with value: 0.953246503049723 and parameters: {'n_estimators': 82, 'max_depth': 44, 'max_features': 8, 'min_samples_leaf': 37, 'min_samples_split': 8}. Best is trial 9 with value: 0.9576429295212838.\n"
     ]
    },
    {
     "name": "stderr",
     "output_type": "stream",
     "text": [
      "Best trial: 9. Best value: 0.957643:  67%|██████████████████████████████               | 20/30 [21:48<04:51, 29.15s/it]"
     ]
    },
    {
     "name": "stdout",
     "output_type": "stream",
     "text": [
      "[I 2023-08-29 21:56:15,711] Trial 19 finished with value: 0.9553601675605254 and parameters: {'n_estimators': 68, 'max_depth': 42, 'max_features': 5, 'min_samples_leaf': 43, 'min_samples_split': 2}. Best is trial 9 with value: 0.9576429295212838.\n"
     ]
    },
    {
     "name": "stderr",
     "output_type": "stream",
     "text": [
      "Best trial: 9. Best value: 0.957643:  70%|███████████████████████████████▍             | 21/30 [23:31<07:42, 51.37s/it]"
     ]
    },
    {
     "name": "stdout",
     "output_type": "stream",
     "text": [
      "[I 2023-08-29 21:57:58,894] Trial 20 finished with value: 0.9180753414742682 and parameters: {'n_estimators': 118, 'max_depth': 35, 'max_features': 24, 'min_samples_leaf': 50, 'min_samples_split': 7}. Best is trial 9 with value: 0.9576429295212838.\n"
     ]
    },
    {
     "name": "stderr",
     "output_type": "stream",
     "text": [
      "Best trial: 9. Best value: 0.957643:  73%|█████████████████████████████████            | 22/30 [25:01<08:23, 62.96s/it]"
     ]
    },
    {
     "name": "stdout",
     "output_type": "stream",
     "text": [
      "[I 2023-08-29 21:59:28,888] Trial 21 finished with value: 0.9534998811564106 and parameters: {'n_estimators': 108, 'max_depth': 42, 'max_features': 19, 'min_samples_leaf': 12, 'min_samples_split': 22}. Best is trial 9 with value: 0.9576429295212838.\n"
     ]
    },
    {
     "name": "stderr",
     "output_type": "stream",
     "text": [
      "Best trial: 9. Best value: 0.957643:  77%|██████████████████████████████████▌          | 23/30 [26:30<08:14, 70.68s/it]"
     ]
    },
    {
     "name": "stdout",
     "output_type": "stream",
     "text": [
      "[I 2023-08-29 22:00:57,577] Trial 22 finished with value: 0.9465672788749713 and parameters: {'n_estimators': 95, 'max_depth': 47, 'max_features': 23, 'min_samples_leaf': 16, 'min_samples_split': 19}. Best is trial 9 with value: 0.9576429295212838.\n"
     ]
    },
    {
     "name": "stderr",
     "output_type": "stream",
     "text": [
      "Best trial: 9. Best value: 0.957643:  80%|████████████████████████████████████         | 24/30 [27:35<06:54, 69.06s/it]"
     ]
    },
    {
     "name": "stdout",
     "output_type": "stream",
     "text": [
      "[I 2023-08-29 22:02:02,840] Trial 23 finished with value: 0.9280520910216795 and parameters: {'n_estimators': 90, 'max_depth': 48, 'max_features': 20, 'min_samples_leaf': 45, 'min_samples_split': 16}. Best is trial 9 with value: 0.9576429295212838.\n"
     ]
    },
    {
     "name": "stderr",
     "output_type": "stream",
     "text": [
      "Best trial: 9. Best value: 0.957643:  83%|█████████████████████████████████████▌       | 25/30 [29:39<07:06, 85.37s/it]"
     ]
    },
    {
     "name": "stdout",
     "output_type": "stream",
     "text": [
      "[I 2023-08-29 22:04:06,275] Trial 24 finished with value: 0.923655378610656 and parameters: {'n_estimators': 123, 'max_depth': 40, 'max_features': 29, 'min_samples_leaf': 33, 'min_samples_split': 10}. Best is trial 9 with value: 0.9576429295212838.\n"
     ]
    },
    {
     "name": "stderr",
     "output_type": "stream",
     "text": [
      "Best trial: 9. Best value: 0.957643:  87%|███████████████████████████████████████      | 26/30 [30:28<04:58, 74.67s/it]"
     ]
    },
    {
     "name": "stdout",
     "output_type": "stream",
     "text": [
      "[I 2023-08-29 22:04:55,973] Trial 25 finished with value: 0.9506256176739182 and parameters: {'n_estimators': 111, 'max_depth': 30, 'max_features': 12, 'min_samples_leaf': 34, 'min_samples_split': 8}. Best is trial 9 with value: 0.9576429295212838.\n"
     ]
    },
    {
     "name": "stderr",
     "output_type": "stream",
     "text": [
      "Best trial: 26. Best value: 0.957728:  90%|███████████████████████████████████████▌    | 27/30 [31:04<03:08, 62.78s/it]"
     ]
    },
    {
     "name": "stdout",
     "output_type": "stream",
     "text": [
      "[I 2023-08-29 22:05:31,022] Trial 26 finished with value: 0.9577275318599112 and parameters: {'n_estimators': 112, 'max_depth': 39, 'max_features': 8, 'min_samples_leaf': 16, 'min_samples_split': 13}. Best is trial 26 with value: 0.9577275318599112.\n"
     ]
    },
    {
     "name": "stderr",
     "output_type": "stream",
     "text": [
      "Best trial: 26. Best value: 0.957728:  93%|█████████████████████████████████████████   | 28/30 [32:31<02:20, 70.13s/it]"
     ]
    },
    {
     "name": "stdout",
     "output_type": "stream",
     "text": [
      "[I 2023-08-29 22:06:58,304] Trial 27 finished with value: 0.9321942458257307 and parameters: {'n_estimators': 109, 'max_depth': 42, 'max_features': 21, 'min_samples_leaf': 34, 'min_samples_split': 11}. Best is trial 26 with value: 0.9577275318599112.\n"
     ]
    },
    {
     "name": "stderr",
     "output_type": "stream",
     "text": [
      "Best trial: 26. Best value: 0.957728:  97%|██████████████████████████████████████████▌ | 29/30 [33:51<01:13, 73.24s/it]"
     ]
    },
    {
     "name": "stdout",
     "output_type": "stream",
     "text": [
      "[I 2023-08-29 22:08:18,806] Trial 28 finished with value: 0.9348155601107301 and parameters: {'n_estimators': 140, 'max_depth': 37, 'max_features': 16, 'min_samples_leaf': 46, 'min_samples_split': 18}. Best is trial 26 with value: 0.9577275318599112.\n"
     ]
    },
    {
     "name": "stderr",
     "output_type": "stream",
     "text": [
      "Best trial: 26. Best value: 0.957728: 100%|████████████████████████████████████████████| 30/30 [35:50<00:00, 71.68s/it]"
     ]
    },
    {
     "name": "stdout",
     "output_type": "stream",
     "text": [
      "[I 2023-08-29 22:10:17,424] Trial 29 finished with value: 0.9214571117612262 and parameters: {'n_estimators': 121, 'max_depth': 32, 'max_features': 28, 'min_samples_leaf': 37, 'min_samples_split': 22}. Best is trial 26 with value: 0.9577275318599112.\n",
      "\n",
      " \n",
      " best params:  {'n_estimators': 112, 'max_depth': 39, 'max_features': 8, 'min_samples_leaf': 16, 'min_samples_split': 13} \n",
      " \n",
      " best score:  [0.9577275318599112] \n",
      "\n",
      "\n",
      " \n",
      " best params:  {'n_estimators': 112, 'max_depth': 39, 'max_features': 8, 'min_samples_leaf': 16, 'min_samples_split': 13} \n",
      " \n",
      " best score:  [0.9577275318599112] \n",
      "\n",
      "Optimization completed in 35.84446833133698 minutes.\n"
     ]
    },
    {
     "name": "stderr",
     "output_type": "stream",
     "text": [
      "\n"
     ]
    }
   ],
   "source": [
    "def optimized_optuna_search_and_report(n_trials, algo):\n",
    "    start_time = time.time()\n",
    "\n",
    "    # 进行随机网格搜索优化\n",
    "    best_params, best_score = optimizer_optuna(n_trials, algo)\n",
    "\n",
    "    # 打印最佳参数和分数\n",
    "    print(\"\\n\",\"\\n\",\"best params: \", best_params,\n",
    "          \"\\n\",\"\\n\",\"best score: \", best_score,\n",
    "          \"\\n\")\n",
    "\n",
    "    end_time = time.time()\n",
    "    time_random = (end_time - start_time) / 60  # 转换为分钟\n",
    "    print(f\"Optimization completed in {time_random} minutes.\")\n",
    "\n",
    "    return best_params, best_score, time_random\n",
    "\n",
    "# 执行优化\n",
    "best_params, best_score, time_random = optimized_optuna_search_and_report(30, \"Random\")"
   ]
  },
  {
   "cell_type": "markdown",
   "id": "4bf1f582",
   "metadata": {},
   "source": [
    "# 8. Optuna——贝叶斯优化，调参"
   ]
  },
  {
   "cell_type": "markdown",
   "id": "b21b7754",
   "metadata": {},
   "source": [
    "#### （1）构建目标函数及定义参数空间"
   ]
  },
  {
   "cell_type": "markdown",
   "id": "d3d8e458",
   "metadata": {},
   "source": [
    "在Optuna中，不需要将参数或参数空间输入目标函数，而是需要直接在目标函数中定义参数空间。Optuna优化器会生成一个指代备选参数的变量trial，该变量无法被用户获取或打开，但该变量在优化器中生存，并被输入目标函数。在目标函数中，可以通过变量trail所携带的方法来构造参数空间"
   ]
  },
  {
   "cell_type": "code",
   "execution_count": 13,
   "id": "8bb84348",
   "metadata": {},
   "outputs": [],
   "source": [
    "def optuna_objective(trial):\n",
    "\n",
    "    #定义参数空间\n",
    "    n_estimators = trial.suggest_int(\"n_estimators\",50,150,1) #整数型，(参数名称，下界，上界，步长)\n",
    "    max_depth = trial.suggest_int(\"max_depth\",25,50,1)\n",
    "    max_features = trial.suggest_int(\"max_features\",5,30,1)\n",
    "    min_samples_leaf = trial.suggest_int(\"min_samples_leaf\",1,51,1)\n",
    "    min_samples_split = trial.suggest_int(\"min_samples_split\",2,22,1)\n",
    "\n",
    "    #定义评估器\n",
    "    #需要优化的参数由上述参数空间决定\n",
    "    #不需要优化的参数则直接填写具体值\n",
    "    rfc = RFC(n_estimators = n_estimators\n",
    "              ,max_depth = max_depth\n",
    "              ,max_features = max_features\n",
    "              ,min_samples_leaf = min_samples_leaf\n",
    "              ,min_samples_split = min_samples_split\n",
    "              ,random_state=0\n",
    "              ,verbose=False\n",
    "              ,n_jobs=-1\n",
    "             )\n",
    "\n",
    "    #交叉验证过程，输出准确率(accuracy)\n",
    "    cv = KFold(n_splits=5,shuffle=True,random_state=0)\n",
    "    score = cross_val_score(rfc,X_dr,y\n",
    "                            ,scoring='accuracy'\n",
    "                            ,cv=cv #交叉验证模式\n",
    "                            ,verbose=False #是否打印进程\n",
    "                            ,n_jobs=-1 #线程数\n",
    "                            ,error_score='raise' #如果在某个折叠中出现错误，会引发一个异常\n",
    "                           )\n",
    "    #最终输出平均准确率\n",
    "    return np.mean(score)"
   ]
  },
  {
   "cell_type": "markdown",
   "id": "7080dae1",
   "metadata": {},
   "source": [
    "#### （2）定义优化目标函数的具体流程"
   ]
  },
  {
   "cell_type": "markdown",
   "id": "9da978fd",
   "metadata": {},
   "source": [
    "在Optuna的模块sampler可以定义备选的算法，包括我TPE优化、随机网格搜索以及其他各类更加高级的贝叶斯过程，对于Optuna.sampler中调出的类，可以直接输入参数来设置初始观测值的数量、以及每次计算采集函数时所考虑的观测值量。"
   ]
  },
  {
   "cell_type": "code",
   "execution_count": 14,
   "id": "b93cfd62",
   "metadata": {},
   "outputs": [],
   "source": [
    "def optimizer_optuna(n_trials, algo):\n",
    "\n",
    "    #定义使用TPE或者GP\n",
    "    if algo == \"TPE\":\n",
    "        algo = optuna.samplers.TPESampler(n_startup_trials = 15, n_ei_candidates = 12)\n",
    "    elif algo == \"GP\":\n",
    "        from optuna.integration import SkoptSampler\n",
    "        import skopt\n",
    "        algo = SkoptSampler(skopt_kwargs={'base_estimator':'GP', #选择高斯过程\n",
    "                                          'n_initial_points':30, #初始观测点10个\n",
    "                                          'acq_func':'EI'} #选择的采集函数为EI，期望增量\n",
    "                           )\n",
    "\n",
    "    #实际优化过程，首先实例化优化器\n",
    "    study = optuna.create_study(sampler = algo #要使用的具体算法\n",
    "                                ,direction=\"maximize\" #优化的方向，可以填写minimize或maximize\n",
    "                               )\n",
    "    #开始优化，n_trials为允许的最大迭代次数\n",
    "    #由于参数空间已经在目标函数中定义好，因此不需要输入参数空间\n",
    "    study.optimize(optuna_objective #目标函数\n",
    "                   ,n_trials=n_trials #最大迭代次数（包括最初的观测值的）\n",
    "                   ,show_progress_bar=True #要不要展示进度条呀？\n",
    "                  )\n",
    "\n",
    "    #可直接从优化好的对象study中调用优化的结果\n",
    "    #打印最佳参数与最佳损失值\n",
    "    print(\"\\n\",\"\\n\",\"best params: \", study.best_trial.params,\n",
    "          \"\\n\",\"\\n\",\"best score: \", study.best_trial.values,\n",
    "          \"\\n\")\n",
    "\n",
    "    return study.best_trial.params, study.best_trial.values"
   ]
  },
  {
   "cell_type": "markdown",
   "id": "8d2daac5",
   "metadata": {},
   "source": [
    "#### （3）执行优化操作"
   ]
  },
  {
   "cell_type": "code",
   "execution_count": 15,
   "id": "bce02ec1",
   "metadata": {
    "scrolled": false
   },
   "outputs": [
    {
     "name": "stderr",
     "output_type": "stream",
     "text": [
      "[I 2023-08-30 10:40:42,656] A new study created in memory with name: no-name-fcc59fb6-7f88-46cb-9ca6-eaee1869e58f\n",
      "Best trial: 0. Best value: 0.950795:   3%|█▍                                         | 1/30 [02:40<1:17:32, 160.45s/it]"
     ]
    },
    {
     "name": "stdout",
     "output_type": "stream",
     "text": [
      "[I 2023-08-30 10:43:23,100] Trial 0 finished with value: 0.9507946078965757 and parameters: {'n_estimators': 136, 'max_depth': 42, 'max_features': 28, 'min_samples_leaf': 7, 'min_samples_split': 22}. Best is trial 0 with value: 0.9507946078965757.\n"
     ]
    },
    {
     "name": "stderr",
     "output_type": "stream",
     "text": [
      "Best trial: 1. Best value: 0.955276:   7%|███                                           | 2/30 [03:14<40:03, 85.84s/it]"
     ]
    },
    {
     "name": "stdout",
     "output_type": "stream",
     "text": [
      "[I 2023-08-30 10:43:56,725] Trial 1 finished with value: 0.9552757081916295 and parameters: {'n_estimators': 106, 'max_depth': 30, 'max_features': 8, 'min_samples_leaf': 32, 'min_samples_split': 10}. Best is trial 1 with value: 0.9552757081916295.\n"
     ]
    },
    {
     "name": "stderr",
     "output_type": "stream",
     "text": [
      "Best trial: 1. Best value: 0.955276:  10%|████▌                                        | 3/30 [05:22<47:28, 105.49s/it]"
     ]
    },
    {
     "name": "stdout",
     "output_type": "stream",
     "text": [
      "[I 2023-08-30 10:46:05,588] Trial 2 finished with value: 0.9237399809492832 and parameters: {'n_estimators': 116, 'max_depth': 40, 'max_features': 30, 'min_samples_leaf': 33, 'min_samples_split': 10}. Best is trial 1 with value: 0.9552757081916295.\n"
     ]
    },
    {
     "name": "stderr",
     "output_type": "stream",
     "text": [
      "Best trial: 1. Best value: 0.955276:  13%|██████▏                                       | 4/30 [06:53<43:13, 99.76s/it]"
     ]
    },
    {
     "name": "stdout",
     "output_type": "stream",
     "text": [
      "[I 2023-08-30 10:47:36,579] Trial 3 finished with value: 0.9275444769899153 and parameters: {'n_estimators': 130, 'max_depth': 30, 'max_features': 18, 'min_samples_leaf': 51, 'min_samples_split': 10}. Best is trial 1 with value: 0.9552757081916295.\n"
     ]
    },
    {
     "name": "stderr",
     "output_type": "stream",
     "text": [
      "Best trial: 1. Best value: 0.955276:  17%|███████▋                                      | 5/30 [08:15<38:47, 93.08s/it]"
     ]
    },
    {
     "name": "stdout",
     "output_type": "stream",
     "text": [
      "[I 2023-08-30 10:48:57,810] Trial 4 finished with value: 0.9151162969409838 and parameters: {'n_estimators': 78, 'max_depth': 28, 'max_features': 30, 'min_samples_leaf': 49, 'min_samples_split': 10}. Best is trial 1 with value: 0.9552757081916295.\n"
     ]
    },
    {
     "name": "stderr",
     "output_type": "stream",
     "text": [
      "Best trial: 1. Best value: 0.955276:  20%|█████████▏                                    | 6/30 [09:24<34:00, 85.02s/it]"
     ]
    },
    {
     "name": "stdout",
     "output_type": "stream",
     "text": [
      "[I 2023-08-30 10:50:07,178] Trial 5 finished with value: 0.9401418617161015 and parameters: {'n_estimators': 60, 'max_depth': 39, 'max_features': 30, 'min_samples_leaf': 18, 'min_samples_split': 15}. Best is trial 1 with value: 0.9552757081916295.\n"
     ]
    },
    {
     "name": "stderr",
     "output_type": "stream",
     "text": [
      "Best trial: 1. Best value: 0.955276:  23%|██████████▋                                   | 7/30 [10:57<33:35, 87.64s/it]"
     ]
    },
    {
     "name": "stdout",
     "output_type": "stream",
     "text": [
      "[I 2023-08-30 10:51:40,222] Trial 6 finished with value: 0.9533311053883503 and parameters: {'n_estimators': 146, 'max_depth': 46, 'max_features': 14, 'min_samples_leaf': 19, 'min_samples_split': 3}. Best is trial 1 with value: 0.9552757081916295.\n"
     ]
    },
    {
     "name": "stderr",
     "output_type": "stream",
     "text": [
      "Best trial: 7. Best value: 0.958488:  27%|████████████▎                                 | 8/30 [12:21<31:41, 86.42s/it]"
     ]
    },
    {
     "name": "stdout",
     "output_type": "stream",
     "text": [
      "[I 2023-08-30 10:53:04,039] Trial 7 finished with value: 0.9584883452861985 and parameters: {'n_estimators': 100, 'max_depth': 47, 'max_features': 17, 'min_samples_leaf': 5, 'min_samples_split': 13}. Best is trial 7 with value: 0.9584883452861985.\n"
     ]
    },
    {
     "name": "stderr",
     "output_type": "stream",
     "text": [
      "Best trial: 7. Best value: 0.958488:  30%|█████████████▊                                | 9/30 [13:07<25:51, 73.90s/it]"
     ]
    },
    {
     "name": "stdout",
     "output_type": "stream",
     "text": [
      "[I 2023-08-30 10:53:50,402] Trial 8 finished with value: 0.9410718440772108 and parameters: {'n_estimators': 91, 'max_depth': 48, 'max_features': 14, 'min_samples_leaf': 41, 'min_samples_split': 13}. Best is trial 7 with value: 0.9584883452861985.\n"
     ]
    },
    {
     "name": "stderr",
     "output_type": "stream",
     "text": [
      "Best trial: 7. Best value: 0.958488:  33%|███████████████                              | 10/30 [15:07<29:18, 87.91s/it]"
     ]
    },
    {
     "name": "stdout",
     "output_type": "stream",
     "text": [
      "[I 2023-08-30 10:55:49,699] Trial 9 finished with value: 0.9356610831029435 and parameters: {'n_estimators': 110, 'max_depth': 37, 'max_features': 27, 'min_samples_leaf': 22, 'min_samples_split': 7}. Best is trial 7 with value: 0.9584883452861985.\n"
     ]
    },
    {
     "name": "stderr",
     "output_type": "stream",
     "text": [
      "Best trial: 7. Best value: 0.958488:  37%|████████████████▌                            | 11/30 [15:44<22:55, 72.38s/it]"
     ]
    },
    {
     "name": "stdout",
     "output_type": "stream",
     "text": [
      "[I 2023-08-30 10:56:26,858] Trial 10 finished with value: 0.9489347861440883 and parameters: {'n_estimators': 61, 'max_depth': 40, 'max_features': 15, 'min_samples_leaf': 23, 'min_samples_split': 8}. Best is trial 7 with value: 0.9584883452861985.\n"
     ]
    },
    {
     "name": "stderr",
     "output_type": "stream",
     "text": [
      "Best trial: 7. Best value: 0.958488:  40%|██████████████████                           | 12/30 [16:52<21:17, 70.99s/it]"
     ]
    },
    {
     "name": "stdout",
     "output_type": "stream",
     "text": [
      "[I 2023-08-30 10:57:34,676] Trial 11 finished with value: 0.9213728668469277 and parameters: {'n_estimators': 69, 'max_depth': 50, 'max_features': 25, 'min_samples_leaf': 43, 'min_samples_split': 2}. Best is trial 7 with value: 0.9584883452861985.\n"
     ]
    },
    {
     "name": "stderr",
     "output_type": "stream",
     "text": [
      "Best trial: 12. Best value: 0.958742:  43%|███████████████████                         | 13/30 [18:55<24:36, 86.86s/it]"
     ]
    },
    {
     "name": "stdout",
     "output_type": "stream",
     "text": [
      "[I 2023-08-30 10:59:38,042] Trial 12 finished with value: 0.9587418306201847 and parameters: {'n_estimators': 116, 'max_depth': 28, 'max_features': 22, 'min_samples_leaf': 3, 'min_samples_split': 5}. Best is trial 12 with value: 0.9587418306201847.\n"
     ]
    },
    {
     "name": "stderr",
     "output_type": "stream",
     "text": [
      "Best trial: 12. Best value: 0.958742:  47%|████████████████████▌                       | 14/30 [19:25<18:36, 69.80s/it]"
     ]
    },
    {
     "name": "stdout",
     "output_type": "stream",
     "text": [
      "[I 2023-08-30 11:00:08,431] Trial 13 finished with value: 0.9507947151238744 and parameters: {'n_estimators': 79, 'max_depth': 48, 'max_features': 10, 'min_samples_leaf': 32, 'min_samples_split': 10}. Best is trial 12 with value: 0.9587418306201847.\n"
     ]
    },
    {
     "name": "stderr",
     "output_type": "stream",
     "text": [
      "Best trial: 12. Best value: 0.958742:  50%|██████████████████████                      | 15/30 [19:49<13:57, 55.83s/it]"
     ]
    },
    {
     "name": "stdout",
     "output_type": "stream",
     "text": [
      "[I 2023-08-30 11:00:31,892] Trial 14 finished with value: 0.9475823282263354 and parameters: {'n_estimators': 70, 'max_depth': 34, 'max_features': 9, 'min_samples_leaf': 45, 'min_samples_split': 5}. Best is trial 12 with value: 0.9587418306201847.\n"
     ]
    },
    {
     "name": "stderr",
     "output_type": "stream",
     "text": [
      "Best trial: 12. Best value: 0.958742:  53%|███████████████████████▍                    | 16/30 [20:37<12:31, 53.70s/it]"
     ]
    },
    {
     "name": "stdout",
     "output_type": "stream",
     "text": [
      "[I 2023-08-30 11:01:20,651] Trial 15 finished with value: 0.9445383239300948 and parameters: {'n_estimators': 80, 'max_depth': 42, 'max_features': 14, 'min_samples_leaf': 34, 'min_samples_split': 19}. Best is trial 12 with value: 0.9587418306201847.\n"
     ]
    },
    {
     "name": "stderr",
     "output_type": "stream",
     "text": [
      "Best trial: 12. Best value: 0.958742:  57%|████████████████████████▉                   | 17/30 [22:06<13:52, 64.06s/it]"
     ]
    },
    {
     "name": "stdout",
     "output_type": "stream",
     "text": [
      "[I 2023-08-30 11:02:48,806] Trial 16 finished with value: 0.9491036691394473 and parameters: {'n_estimators': 80, 'max_depth': 33, 'max_features': 30, 'min_samples_leaf': 10, 'min_samples_split': 18}. Best is trial 12 with value: 0.9587418306201847.\n"
     ]
    },
    {
     "name": "stderr",
     "output_type": "stream",
     "text": [
      "Best trial: 12. Best value: 0.958742:  60%|██████████████████████████▍                 | 18/30 [22:55<11:56, 59.67s/it]"
     ]
    },
    {
     "name": "stdout",
     "output_type": "stream",
     "text": [
      "[I 2023-08-30 11:03:38,264] Trial 17 finished with value: 0.9574739035561933 and parameters: {'n_estimators': 91, 'max_depth': 46, 'max_features': 13, 'min_samples_leaf': 11, 'min_samples_split': 9}. Best is trial 12 with value: 0.9587418306201847.\n"
     ]
    },
    {
     "name": "stderr",
     "output_type": "stream",
     "text": [
      "Best trial: 18. Best value: 0.961701:  63%|███████████████████████████▊                | 19/30 [23:40<10:08, 55.31s/it]"
     ]
    },
    {
     "name": "stdout",
     "output_type": "stream",
     "text": [
      "[I 2023-08-30 11:04:23,399] Trial 18 finished with value: 0.9617010896080664 and parameters: {'n_estimators': 121, 'max_depth': 34, 'max_features': 8, 'min_samples_leaf': 4, 'min_samples_split': 5}. Best is trial 18 with value: 0.9617010896080664.\n"
     ]
    },
    {
     "name": "stderr",
     "output_type": "stream",
     "text": [
      "Best trial: 18. Best value: 0.961701:  67%|█████████████████████████████▎              | 20/30 [25:18<11:20, 68.10s/it]"
     ]
    },
    {
     "name": "stdout",
     "output_type": "stream",
     "text": [
      "[I 2023-08-30 11:06:01,315] Trial 19 finished with value: 0.9338853275525907 and parameters: {'n_estimators': 130, 'max_depth': 40, 'max_features': 19, 'min_samples_leaf': 38, 'min_samples_split': 7}. Best is trial 18 with value: 0.9617010896080664.\n"
     ]
    },
    {
     "name": "stderr",
     "output_type": "stream",
     "text": [
      "Best trial: 20. Best value: 0.962546:  70%|██████████████████████████████▊             | 21/30 [25:43<08:16, 55.13s/it]"
     ]
    },
    {
     "name": "stdout",
     "output_type": "stream",
     "text": [
      "[I 2023-08-30 11:06:26,217] Trial 20 finished with value: 0.9625464696305484 and parameters: {'n_estimators': 112, 'max_depth': 25, 'max_features': 5, 'min_samples_leaf': 3, 'min_samples_split': 3}. Best is trial 20 with value: 0.9625464696305484.\n"
     ]
    },
    {
     "name": "stderr",
     "output_type": "stream",
     "text": [
      "Best trial: 20. Best value: 0.962546:  73%|████████████████████████████████▎           | 22/30 [27:50<10:12, 76.53s/it]"
     ]
    },
    {
     "name": "stdout",
     "output_type": "stream",
     "text": [
      "[I 2023-08-30 11:08:32,661] Trial 21 finished with value: 0.9585726974277959 and parameters: {'n_estimators': 122, 'max_depth': 25, 'max_features': 22, 'min_samples_leaf': 3, 'min_samples_split': 4}. Best is trial 20 with value: 0.9625464696305484.\n"
     ]
    },
    {
     "name": "stderr",
     "output_type": "stream",
     "text": [
      "Best trial: 22. Best value: 0.963054:  77%|█████████████████████████████████▋          | 23/30 [28:23<07:25, 63.71s/it]"
     ]
    },
    {
     "name": "stdout",
     "output_type": "stream",
     "text": [
      "[I 2023-08-30 11:09:06,455] Trial 22 finished with value: 0.9630536904955509 and parameters: {'n_estimators': 113, 'max_depth': 25, 'max_features': 6, 'min_samples_leaf': 1, 'min_samples_split': 5}. Best is trial 22 with value: 0.9630536904955509.\n"
     ]
    },
    {
     "name": "stderr",
     "output_type": "stream",
     "text": [
      "Best trial: 22. Best value: 0.963054:  80%|███████████████████████████████████▏        | 24/30 [28:50<05:15, 52.51s/it]"
     ]
    },
    {
     "name": "stdout",
     "output_type": "stream",
     "text": [
      "[I 2023-08-30 11:09:32,858] Trial 23 finished with value: 0.9604329838319104 and parameters: {'n_estimators': 122, 'max_depth': 27, 'max_features': 5, 'min_samples_leaf': 13, 'min_samples_split': 6}. Best is trial 22 with value: 0.9630536904955509.\n"
     ]
    },
    {
     "name": "stderr",
     "output_type": "stream",
     "text": [
      "Best trial: 22. Best value: 0.963054:  83%|████████████████████████████████████▋       | 25/30 [29:31<04:05, 49.16s/it]"
     ]
    },
    {
     "name": "stdout",
     "output_type": "stream",
     "text": [
      "[I 2023-08-30 11:10:14,188] Trial 24 finished with value: 0.9617009466383347 and parameters: {'n_estimators': 103, 'max_depth': 25, 'max_features': 8, 'min_samples_leaf': 1, 'min_samples_split': 3}. Best is trial 22 with value: 0.9630536904955509.\n"
     ]
    },
    {
     "name": "stderr",
     "output_type": "stream",
     "text": [
      "Best trial: 22. Best value: 0.963054:  87%|██████████████████████████████████████▏     | 26/30 [29:59<02:51, 42.89s/it]"
     ]
    },
    {
     "name": "stdout",
     "output_type": "stream",
     "text": [
      "[I 2023-08-30 11:10:42,449] Trial 25 finished with value: 0.960940204696913 and parameters: {'n_estimators': 113, 'max_depth': 33, 'max_features': 6, 'min_samples_leaf': 7, 'min_samples_split': 2}. Best is trial 22 with value: 0.9630536904955509.\n"
     ]
    },
    {
     "name": "stderr",
     "output_type": "stream",
     "text": [
      "Best trial: 22. Best value: 0.963054:  90%|███████████████████████████████████████▌    | 27/30 [30:41<02:07, 42.66s/it]"
     ]
    },
    {
     "name": "stdout",
     "output_type": "stream",
     "text": [
      "[I 2023-08-30 11:11:24,580] Trial 26 finished with value: 0.9573048061062372 and parameters: {'n_estimators': 95, 'max_depth': 32, 'max_features': 11, 'min_samples_leaf': 15, 'min_samples_split': 5}. Best is trial 22 with value: 0.9630536904955509.\n"
     ]
    },
    {
     "name": "stderr",
     "output_type": "stream",
     "text": [
      "Best trial: 27. Best value: 0.963392:  93%|█████████████████████████████████████████   | 28/30 [31:21<01:23, 41.85s/it]"
     ]
    },
    {
     "name": "stdout",
     "output_type": "stream",
     "text": [
      "[I 2023-08-30 11:12:04,535] Trial 27 finished with value: 0.9633919926227618 and parameters: {'n_estimators': 140, 'max_depth': 35, 'max_features': 6, 'min_samples_leaf': 1, 'min_samples_split': 7}. Best is trial 27 with value: 0.9633919926227618.\n"
     ]
    },
    {
     "name": "stderr",
     "output_type": "stream",
     "text": [
      "Best trial: 28. Best value: 0.963476:  97%|██████████████████████████████████████████▌ | 29/30 [31:54<00:39, 39.18s/it]"
     ]
    },
    {
     "name": "stdout",
     "output_type": "stream",
     "text": [
      "[I 2023-08-30 11:12:37,488] Trial 28 finished with value: 0.9634764877340907 and parameters: {'n_estimators': 144, 'max_depth': 36, 'max_features': 5, 'min_samples_leaf': 1, 'min_samples_split': 7}. Best is trial 28 with value: 0.9634764877340907.\n"
     ]
    },
    {
     "name": "stderr",
     "output_type": "stream",
     "text": [
      "Best trial: 28. Best value: 0.963476: 100%|████████████████████████████████████████████| 30/30 [32:36<00:00, 65.21s/it]"
     ]
    },
    {
     "name": "stdout",
     "output_type": "stream",
     "text": [
      "[I 2023-08-30 11:13:19,075] Trial 29 finished with value: 0.9595874250972642 and parameters: {'n_estimators': 144, 'max_depth': 36, 'max_features': 7, 'min_samples_leaf': 11, 'min_samples_split': 12}. Best is trial 28 with value: 0.9634764877340907.\n",
      "\n",
      " \n",
      " best params:  {'n_estimators': 144, 'max_depth': 36, 'max_features': 5, 'min_samples_leaf': 1, 'min_samples_split': 7} \n",
      " \n",
      " best score:  [0.9634764877340907] \n",
      "\n",
      "\n",
      " \n",
      " best params:  {'n_estimators': 144, 'max_depth': 36, 'max_features': 5, 'min_samples_leaf': 1, 'min_samples_split': 7} \n",
      " \n",
      " best score:  [0.9634764877340907] \n",
      "\n",
      "Optimization completed in 32.607114692529045 minutes.\n"
     ]
    },
    {
     "name": "stderr",
     "output_type": "stream",
     "text": [
      "\n"
     ]
    }
   ],
   "source": [
    "def optimized_optuna_search_and_report(n_trials, algo):\n",
    "    start_time = time.time()\n",
    "\n",
    "    # 进行贝叶斯优化\n",
    "    best_params, best_score = optimizer_optuna(n_trials, algo)\n",
    "\n",
    "    # 打印最佳参数和分数\n",
    "    print(\"\\n\",\"\\n\",\"best params: \", best_params,\n",
    "          \"\\n\",\"\\n\",\"best score: \", best_score,\n",
    "          \"\\n\")\n",
    "\n",
    "    end_time = time.time()\n",
    "    time_bayes = (end_time - start_time) / 60  # 转换为分钟\n",
    "    print(f\"Optimization completed in {time_bayes} minutes.\")\n",
    "\n",
    "    return best_params, best_score, time_bayes\n",
    "\n",
    "# 执行优化\n",
    "best_params, best_score, time_bayes = optimized_optuna_search_and_report(30, \"TPE\")"
   ]
  },
  {
   "cell_type": "markdown",
   "id": "86881b39",
   "metadata": {},
   "source": [
    "# 9. 最佳参数效果"
   ]
  },
  {
   "cell_type": "code",
   "execution_count": 16,
   "id": "109a6bd1",
   "metadata": {},
   "outputs": [],
   "source": [
    "X_train, X_test, Y_train, Y_test = train_test_split(X_dr, y, test_size=0.3, random_state=0)"
   ]
  },
  {
   "cell_type": "code",
   "execution_count": 17,
   "id": "0ede6b89",
   "metadata": {},
   "outputs": [],
   "source": [
    "# 随机网格搜索最佳参数\n",
    "rfc_1 = RFC(n_estimators=112\n",
    "            ,max_depth=39\n",
    "            ,max_features=8\n",
    "            ,min_samples_leaf=16\n",
    "            ,min_samples_split=13\n",
    "            ,random_state=0\n",
    "           )\n",
    "rfc_1 = rfc_1.fit(X_train, Y_train)\n",
    "pred_1 = rfc_1.predict(X_test)\n",
    "\n",
    "# 随机网格搜索评价指标\n",
    "accuracy_score_1 = rfc_1.score(X_test, Y_test)\n",
    "kappa_score_1 = cohen_kappa_score(Y_test, pred_1)\n",
    "cm_1 = confusion_matrix(Y_test, pred_1)"
   ]
  },
  {
   "cell_type": "code",
   "execution_count": 18,
   "id": "85839ad7",
   "metadata": {},
   "outputs": [],
   "source": [
    "# 贝叶斯优化最佳参数\n",
    "rfc_2 = RFC(n_estimators=144\n",
    "            ,max_depth=36\n",
    "            ,max_features=5\n",
    "            ,min_samples_leaf=1\n",
    "            ,min_samples_split=7\n",
    "            ,random_state=0\n",
    "           )\n",
    "rfc_2 = rfc_2.fit(X_train, Y_train)\n",
    "pred_2 = rfc_2.predict(X_test)\n",
    "\n",
    "# 贝叶斯优化评价指标\n",
    "accuracy_score_2 = rfc_2.score(X_test, Y_test)\n",
    "kappa_score_2 = cohen_kappa_score(Y_test, pred_2)\n",
    "cm_2 = confusion_matrix(Y_test, pred_2)"
   ]
  },
  {
   "cell_type": "code",
   "execution_count": 20,
   "id": "2b2db34c",
   "metadata": {},
   "outputs": [],
   "source": [
    "time_random = 35.84446833133698"
   ]
  },
  {
   "cell_type": "code",
   "execution_count": 21,
   "id": "6ad9db6f",
   "metadata": {
    "scrolled": false
   },
   "outputs": [
    {
     "name": "stdout",
     "output_type": "stream",
     "text": [
      "\n",
      " Accuracy_random:0.9586 \n",
      " Kappa_random:0.9572 \n",
      " optimize_time_random:35.84\n",
      "\n",
      "\n",
      " Accuracy_bayes:0.9637 \n",
      " Kappa_bayes:0.9625 \n",
      " optimize_time_bayes:32.61\n"
     ]
    }
   ],
   "source": [
    "# 打印，查看结果\n",
    "\n",
    "accuracy_random = \"{:.4f}\".format(accuracy_score_1)\n",
    "kappa_random = \"{:.4f}\".format(kappa_score_1)\n",
    "opt_time_random = \"{:.2f}\".format(time_random)\n",
    "\n",
    "accuracy_bayes = \"{:.4f}\".format(accuracy_score_2)\n",
    "kappa_bayes = \"{:.4f}\".format(kappa_score_2)\n",
    "opt_time_bayes = \"{:.2f}\".format(time_bayes)\n",
    "\n",
    "print(\"\\n\",\"Accuracy_random:{}\".format(accuracy_random)\n",
    "    ,\"\\n\",\"Kappa_random:{}\".format(kappa_random)\n",
    "    ,\"\\n\",\"optimize_time_random:{}\".format(opt_time_random))\n",
    "print()\n",
    "print(\"\\n\",\"Accuracy_bayes:{}\".format(accuracy_bayes)\n",
    "    ,\"\\n\",\"Kappa_bayes:{}\".format(kappa_bayes)\n",
    "    ,\"\\n\",\"optimize_time_bayes:{}\".format(opt_time_bayes))"
   ]
  },
  {
   "cell_type": "code",
   "execution_count": 22,
   "id": "bdd3a7c0",
   "metadata": {},
   "outputs": [],
   "source": [
    "# 保存 Accuracy，Kappa系数，优化时间\n",
    "data = {\n",
    "    'Random': [accuracy_random, kappa_random, opt_time_random],\n",
    "    'Bayes': [accuracy_bayes, kappa_bayes, opt_time_bayes]\n",
    "}\n",
    "\n",
    "index = ['Accuracy', 'Kappa', 'Opt_time']\n",
    "columns = ['Random', 'Bayes']\n",
    "\n",
    "df = pd.DataFrame(data, index=index, columns=columns)\n",
    "output_folder = 'F:/Jupyter_Notebook_file/01_Spectrum Recognition/模型评价指标'\n",
    "csv_filename = 'SG+STD_PCA_Random_Forest.txt'\n",
    "df.to_csv(f'{output_folder}/{csv_filename}', sep='\\t', index=True)"
   ]
  },
  {
   "cell_type": "code",
   "execution_count": 23,
   "id": "d25f8508",
   "metadata": {},
   "outputs": [],
   "source": [
    "# 保存混淆矩阵\n",
    "output_folder = 'F:/Jupyter_Notebook_file/01_Spectrum Recognition/模型评价指标'\n",
    "\n",
    "csv_filename_1 = 'cm_SG+STD_PCA_Random_Forest_Random.csv'\n",
    "np.savetxt(f'{output_folder}/{csv_filename_1}', cm_1, delimiter=',', fmt='%d')\n",
    "\n",
    "csv_filename_2 = 'cm_SG+STD_PCA_Random_Forest_Bayes.csv'\n",
    "np.savetxt(f'{output_folder}/{csv_filename_2}', cm_2, delimiter=',', fmt='%d')"
   ]
  },
  {
   "cell_type": "code",
   "execution_count": null,
   "id": "2469263b",
   "metadata": {},
   "outputs": [],
   "source": []
  }
 ],
 "metadata": {
  "kernelspec": {
   "display_name": "DL",
   "language": "python",
   "name": "dl"
  },
  "language_info": {
   "codemirror_mode": {
    "name": "ipython",
    "version": 3
   },
   "file_extension": ".py",
   "mimetype": "text/x-python",
   "name": "python",
   "nbconvert_exporter": "python",
   "pygments_lexer": "ipython3",
   "version": "3.9.17"
  }
 },
 "nbformat": 4,
 "nbformat_minor": 5
}
