{
 "cells": [
  {
   "cell_type": "markdown",
   "id": "100c2732",
   "metadata": {
    "tags": []
   },
   "source": [
    "# 1. 导入库"
   ]
  },
  {
   "cell_type": "code",
   "execution_count": 1,
   "id": "2e39b92f",
   "metadata": {},
   "outputs": [
    {
     "name": "stderr",
     "output_type": "stream",
     "text": [
      "E:\\Anaconda\\envs\\DL\\lib\\site-packages\\tqdm\\auto.py:21: TqdmWarning: IProgress not found. Please update jupyter and ipywidgets. See https://ipywidgets.readthedocs.io/en/stable/user_install.html\n",
      "  from .autonotebook import tqdm as notebook_tqdm\n"
     ]
    }
   ],
   "source": [
    "import time\n",
    "import optuna\n",
    "import numpy as np\n",
    "import pandas as pd\n",
    "import matplotlib.pyplot as plt\n",
    "%matplotlib inline\n",
    "from matplotlib_inline import backend_inline\n",
    "backend_inline.set_matplotlib_formats('svg') # 展示高清图，在 Jupyter Notebook 中设置 matplotlib 图形的输出格式为 SVG 格式\n",
    "\n",
    "import torch\n",
    "import torch.nn as nn\n",
    "from scipy.signal import savgol_filter\n",
    "from sklearn.preprocessing import MinMaxScaler\n",
    "from sklearn.preprocessing import LabelEncoder\n",
    "from sklearn.decomposition import PCA\n",
    "from sklearn.model_selection import train_test_split as TTS\n",
    "from torch.utils.data import DataLoader\n",
    "from torch.utils.data import TensorDataset\n",
    "from torch.utils.data import random_split\n",
    "from sklearn.model_selection import KFold\n",
    "from sklearn.metrics import accuracy_score, cohen_kappa_score, confusion_matrix\n",
    "\n",
    "import random\n",
    "seed = 0\n",
    "random.seed(seed)\n",
    "np.random.seed(seed)\n",
    "torch.manual_seed(seed)\n",
    "torch.backends.cudnn.deterministic = True\n",
    "torch.backends.cudnn.benchmark = False"
   ]
  },
  {
   "cell_type": "markdown",
   "id": "56787a90",
   "metadata": {
    "tags": []
   },
   "source": [
    "# 2. 读取数据+预处理+PCA降维+划分数据集"
   ]
  },
  {
   "cell_type": "code",
   "execution_count": 2,
   "id": "53897b57-8250-402c-9fd9-d83b0a17085e",
   "metadata": {},
   "outputs": [
    {
     "data": {
      "text/plain": [
       "(8279, 3549)"
      ]
     },
     "execution_count": 2,
     "metadata": {},
     "output_type": "execute_result"
    }
   ],
   "source": [
    "# 导入数据\n",
    "device = torch.device(\"cuda\" if torch.cuda.is_available() else \"cpu\")\n",
    "\n",
    "data = pd.read_csv(r\"F:\\Code_Data\\2_Rocks_Spectrum_Reflectance_essay_30_origin.csv\",encoding='utf-8') #encoding='GBK',防止中文乱码\n",
    "\n",
    "X = data.iloc[:,1:-1]\n",
    "y = data.iloc[:,-1]\n",
    "X_SG = savgol_filter(X, 5, 2)\n",
    "X_SG_mms = MinMaxScaler().fit_transform(X_SG)\n",
    "Label = LabelEncoder().fit_transform(y)\n",
    "data.iloc[:,1:-1] = X_SG_mms\n",
    "data.iloc[:, -1] = Label\n",
    "X = data.iloc[:,1:-1]\n",
    "y = data.iloc[:,-1]\n",
    "\n",
    "X_dr = PCA(29).fit_transform(X)\n",
    "\n",
    "# 转换为 torch 中的张量格式\n",
    "X_tensor = torch.tensor(X_dr, dtype=torch.float32)\n",
    "y_tensor = torch.tensor(y, dtype=torch.long)\n",
    "\n",
    "# 将数据移动到GPU\n",
    "X_tensor = X_tensor.to(device)\n",
    "y_tensor = y_tensor.to(device)\n",
    "\n",
    "Xtrain, Xtest, Ytrain, Ytest = TTS(X_dr,y,test_size=0.3,random_state=0)\n",
    "\n",
    "# 转换为 torch 中的张量格式\n",
    "X_train_tensor = torch.tensor(Xtrain, dtype=torch.float32)\n",
    "X_test_tensor = torch.tensor(Xtest, dtype=torch.float32)\n",
    "y_train_tensor = torch.tensor(Ytrain, dtype=torch.long)\n",
    "y_test_array = Ytest.values\n",
    "y_test_tensor = torch.tensor(y_test_array, dtype=torch.long)\n",
    "\n",
    "# 将数据移动到GPU\n",
    "X_train_tensor = X_train_tensor.to(device)\n",
    "X_test_tensor = X_test_tensor.to(device)\n",
    "y_train_tensor = y_train_tensor.to(device)\n",
    "y_test_tensor = y_test_tensor.to(device)\n",
    "\n",
    "# 创建训练集和测试集的 TensorDataset\n",
    "train_dataset = TensorDataset(X_train_tensor, y_train_tensor)\n",
    "test_dataset = TensorDataset(X_test_tensor, y_test_tensor)\n",
    "\n",
    "# 创建 DataLoader 对象\n",
    "# train_dataloader = DataLoader(train_dataset, batch_size=128, shuffle=True)\n",
    "# test_dataloader = DataLoader(test_dataset, batch_size=64, shuffle=False)\n",
    "train_dataloader = DataLoader(train_dataset, batch_size=64, shuffle=True)\n",
    "test_dataloader = DataLoader(test_dataset, batch_size=64, shuffle=False)\n",
    "\n",
    "train_size = len(train_dataset)\n",
    "test_size = len(test_dataset)\n",
    "\n",
    "train_size, test_size"
   ]
  },
  {
   "cell_type": "markdown",
   "id": "74616af5-b167-4a25-b340-265dbee02221",
   "metadata": {
    "tags": []
   },
   "source": [
    "# 3. 搭建神经网络"
   ]
  },
  {
   "cell_type": "code",
   "execution_count": 3,
   "id": "ecbe64f2",
   "metadata": {},
   "outputs": [],
   "source": [
    "# 搭建网络\n",
    "class DNN(nn.Module):\n",
    "    def __init__(self, input_size, num_classes, hidden_layer_sizes, dropout_prob):\n",
    "        ''' 搭建神经网络各层 '''\n",
    "        super(DNN, self).__init__()\n",
    "\n",
    "        self.hidden_layer_sizes = hidden_layer_sizes  # 调整隐藏层尺寸\n",
    "        self.dropout_prob = dropout_prob  # 调整 dropout 概率\n",
    "\n",
    "        layers = []\n",
    "        prev_layer_size = input_size\n",
    "\n",
    "        for layer_size in self.hidden_layer_sizes:\n",
    "            layers.append(nn.Linear(prev_layer_size, layer_size))\n",
    "            layers.append(nn.ReLU())\n",
    "            layers.append(nn.Dropout(self.dropout_prob))\n",
    "            prev_layer_size = layer_size\n",
    "\n",
    "        layers.append(nn.Linear(prev_layer_size, num_classes))\n",
    "\n",
    "        self.net = nn.Sequential(*layers)\n",
    "        \n",
    "    def forward(self, x):\n",
    "        ''' 前向传播 '''\n",
    "        y = self.net(x) # x 即输入数据\n",
    "        return y # y 即输出数据"
   ]
  },
  {
   "cell_type": "code",
   "execution_count": 4,
   "id": "83965607",
   "metadata": {},
   "outputs": [],
   "source": [
    "# 已知超参数\n",
    "num_classes = 33\n",
    "input_size = X_tensor.shape[1]"
   ]
  },
  {
   "cell_type": "markdown",
   "id": "01d54b92-39d0-44fe-a023-506eec124f12",
   "metadata": {},
   "source": [
    "# 4. 遗传算法"
   ]
  },
  {
   "cell_type": "code",
   "execution_count": 5,
   "id": "38a956b9",
   "metadata": {
    "scrolled": true
   },
   "outputs": [
    {
     "name": "stderr",
     "output_type": "stream",
     "text": [
      "[I 2023-10-12 16:26:19,463] A new study created in RDB with name: ANN_GAO\n"
     ]
    },
    {
     "name": "stdout",
     "output_type": "stream",
     "text": [
      "Deleted existing study: ANN_GAO\n"
     ]
    },
    {
     "name": "stderr",
     "output_type": "stream",
     "text": [
      "Best trial: 0. Best value: 0.996337:   1%|▍                                         | 1/100 [02:01<3:19:53, 121.15s/it]"
     ]
    },
    {
     "name": "stdout",
     "output_type": "stream",
     "text": [
      "[I 2023-10-12 16:28:20,618] Trial 0 finished with value: 0.9963369965553284 and parameters: {'hidden_layer_size_0': 45, 'hidden_layer_size_1': 39, 'hidden_layer_size_2': 163, 'learning_rate': 0.003972476890738837, 'dropout_prob': 0.39, 'optimizer': 'RMSprop'}. Best is trial 0 with value: 0.9963369965553284.\n"
     ]
    },
    {
     "name": "stderr",
     "output_type": "stream",
     "text": [
      "Best trial: 0. Best value: 0.996337:   2%|▊                                         | 2/100 [03:38<2:54:43, 106.97s/it]"
     ]
    },
    {
     "name": "stdout",
     "output_type": "stream",
     "text": [
      "[I 2023-10-12 16:29:57,674] Trial 1 finished with value: 0.9814032316207886 and parameters: {'hidden_layer_size_0': 78, 'hidden_layer_size_1': 75, 'hidden_layer_size_2': 136, 'learning_rate': 8.776666666437606e-05, 'dropout_prob': 0.31, 'optimizer': 'Adam'}. Best is trial 0 with value: 0.9963369965553284.\n"
     ]
    },
    {
     "name": "stderr",
     "output_type": "stream",
     "text": [
      "Best trial: 0. Best value: 0.996337:   3%|█▎                                         | 3/100 [04:41<2:20:47, 87.08s/it]"
     ]
    },
    {
     "name": "stdout",
     "output_type": "stream",
     "text": [
      "[I 2023-10-12 16:31:01,086] Trial 2 finished with value: 0.8160045146942139 and parameters: {'hidden_layer_size_0': 229, 'hidden_layer_size_1': 125, 'hidden_layer_size_2': 52, 'learning_rate': 0.0031043552550324904, 'dropout_prob': 0.29000000000000004, 'optimizer': 'SGD'}. Best is trial 0 with value: 0.9963369965553284.\n"
     ]
    },
    {
     "name": "stderr",
     "output_type": "stream",
     "text": [
      "Best trial: 0. Best value: 0.996337:   4%|█▋                                         | 4/100 [05:59<2:13:26, 83.40s/it]"
     ]
    },
    {
     "name": "stdout",
     "output_type": "stream",
     "text": [
      "[I 2023-10-12 16:32:18,841] Trial 3 finished with value: 0.7903634905815125 and parameters: {'hidden_layer_size_0': 50, 'hidden_layer_size_1': 155, 'hidden_layer_size_2': 92, 'learning_rate': 1.774137463048431e-05, 'dropout_prob': 0.4, 'optimizer': 'RMSprop'}. Best is trial 0 with value: 0.9963369965553284.\n"
     ]
    },
    {
     "name": "stderr",
     "output_type": "stream",
     "text": [
      "Best trial: 0. Best value: 0.996337:   5%|██▏                                        | 5/100 [07:34<2:18:42, 87.61s/it]"
     ]
    },
    {
     "name": "stdout",
     "output_type": "stream",
     "text": [
      "[I 2023-10-12 16:33:53,918] Trial 4 finished with value: 0.9780219793319702 and parameters: {'hidden_layer_size_0': 114, 'hidden_layer_size_1': 131, 'hidden_layer_size_2': 199, 'learning_rate': 4.0790639634709044e-05, 'dropout_prob': 0.2, 'optimizer': 'Adam'}. Best is trial 0 with value: 0.9963369965553284.\n"
     ]
    },
    {
     "name": "stderr",
     "output_type": "stream",
     "text": [
      "Best trial: 0. Best value: 0.996337:   6%|██▌                                        | 6/100 [08:38<2:04:55, 79.74s/it]"
     ]
    },
    {
     "name": "stdout",
     "output_type": "stream",
     "text": [
      "[I 2023-10-12 16:34:58,371] Trial 5 finished with value: 0.022541562095284462 and parameters: {'hidden_layer_size_0': 57, 'hidden_layer_size_1': 161, 'hidden_layer_size_2': 219, 'learning_rate': 1.8812744392595296e-05, 'dropout_prob': 0.25, 'optimizer': 'SGD'}. Best is trial 0 with value: 0.9963369965553284.\n"
     ]
    },
    {
     "name": "stderr",
     "output_type": "stream",
     "text": [
      "Best trial: 0. Best value: 0.996337:   7%|███                                        | 7/100 [09:46<1:57:27, 75.78s/it]"
     ]
    },
    {
     "name": "stdout",
     "output_type": "stream",
     "text": [
      "[I 2023-10-12 16:36:05,982] Trial 6 finished with value: 0.9335024356842041 and parameters: {'hidden_layer_size_0': 37, 'hidden_layer_size_1': 114, 'hidden_layer_size_2': 120, 'learning_rate': 0.015051852179164051, 'dropout_prob': 0.37, 'optimizer': 'SGD'}. Best is trial 0 with value: 0.9963369965553284.\n"
     ]
    },
    {
     "name": "stderr",
     "output_type": "stream",
     "text": [
      "Best trial: 0. Best value: 0.996337:   8%|███▍                                       | 8/100 [10:49<1:50:05, 71.80s/it]"
     ]
    },
    {
     "name": "stdout",
     "output_type": "stream",
     "text": [
      "[I 2023-10-12 16:37:09,276] Trial 7 finished with value: 0.09354747831821442 and parameters: {'hidden_layer_size_0': 139, 'hidden_layer_size_1': 112, 'hidden_layer_size_2': 114, 'learning_rate': 0.00010133489516089706, 'dropout_prob': 0.45000000000000007, 'optimizer': 'SGD'}. Best is trial 0 with value: 0.9963369965553284.\n"
     ]
    },
    {
     "name": "stderr",
     "output_type": "stream",
     "text": [
      "Best trial: 0. Best value: 0.996337:   9%|███▊                                       | 9/100 [12:08<1:52:23, 74.10s/it]"
     ]
    },
    {
     "name": "stdout",
     "output_type": "stream",
     "text": [
      "[I 2023-10-12 16:38:28,440] Trial 8 finished with value: 0.983375608921051 and parameters: {'hidden_layer_size_0': 129, 'hidden_layer_size_1': 52, 'hidden_layer_size_2': 90, 'learning_rate': 0.00012344500364869825, 'dropout_prob': 0.4, 'optimizer': 'RMSprop'}. Best is trial 0 with value: 0.9963369965553284.\n"
     ]
    },
    {
     "name": "stderr",
     "output_type": "stream",
     "text": [
      "Best trial: 9. Best value: 0.997746:  10%|████▏                                     | 10/100 [13:27<1:53:23, 75.60s/it]"
     ]
    },
    {
     "name": "stdout",
     "output_type": "stream",
     "text": [
      "[I 2023-10-12 16:39:47,389] Trial 9 finished with value: 0.9977458715438843 and parameters: {'hidden_layer_size_0': 235, 'hidden_layer_size_1': 32, 'hidden_layer_size_2': 59, 'learning_rate': 0.005848867779365203, 'dropout_prob': 0.16, 'optimizer': 'RMSprop'}. Best is trial 9 with value: 0.9977458715438843.\n"
     ]
    },
    {
     "name": "stderr",
     "output_type": "stream",
     "text": [
      "Best trial: 9. Best value: 0.997746:  11%|████▌                                     | 11/100 [15:02<2:00:52, 81.49s/it]"
     ]
    },
    {
     "name": "stdout",
     "output_type": "stream",
     "text": [
      "[I 2023-10-12 16:41:22,231] Trial 10 finished with value: 0.9912651777267456 and parameters: {'hidden_layer_size_0': 223, 'hidden_layer_size_1': 159, 'hidden_layer_size_2': 220, 'learning_rate': 5.476412119419478e-05, 'dropout_prob': 0.26, 'optimizer': 'Adam'}. Best is trial 9 with value: 0.9977458715438843.\n"
     ]
    },
    {
     "name": "stderr",
     "output_type": "stream",
     "text": [
      "Best trial: 9. Best value: 0.997746:  12%|█████                                     | 12/100 [16:17<1:56:27, 79.40s/it]"
     ]
    },
    {
     "name": "stdout",
     "output_type": "stream",
     "text": [
      "[I 2023-10-12 16:42:36,873] Trial 11 finished with value: 0.9839391708374023 and parameters: {'hidden_layer_size_0': 183, 'hidden_layer_size_1': 138, 'hidden_layer_size_2': 166, 'learning_rate': 3.912769545718891e-05, 'dropout_prob': 0.16, 'optimizer': 'RMSprop'}. Best is trial 9 with value: 0.9977458715438843.\n"
     ]
    },
    {
     "name": "stderr",
     "output_type": "stream",
     "text": [
      "Best trial: 9. Best value: 0.997746:  13%|█████▍                                    | 13/100 [17:36<1:55:09, 79.41s/it]"
     ]
    },
    {
     "name": "stdout",
     "output_type": "stream",
     "text": [
      "[I 2023-10-12 16:43:56,310] Trial 12 finished with value: 0.9484362006187439 and parameters: {'hidden_layer_size_0': 26, 'hidden_layer_size_1': 95, 'hidden_layer_size_2': 56, 'learning_rate': 0.007139975715283112, 'dropout_prob': 0.45000000000000007, 'optimizer': 'RMSprop'}. Best is trial 9 with value: 0.9977458715438843.\n"
     ]
    },
    {
     "name": "stderr",
     "output_type": "stream",
     "text": [
      "Best trial: 9. Best value: 0.997746:  14%|█████▉                                    | 14/100 [18:59<1:55:25, 80.53s/it]"
     ]
    },
    {
     "name": "stdout",
     "output_type": "stream",
     "text": [
      "[I 2023-10-12 16:45:19,419] Trial 13 finished with value: 0.03324880450963974 and parameters: {'hidden_layer_size_0': 207, 'hidden_layer_size_1': 226, 'hidden_layer_size_2': 112, 'learning_rate': 0.06548117298586287, 'dropout_prob': 0.29000000000000004, 'optimizer': 'RMSprop'}. Best is trial 9 with value: 0.9977458715438843.\n"
     ]
    },
    {
     "name": "stderr",
     "output_type": "stream",
     "text": [
      "Best trial: 9. Best value: 0.997746:  15%|██████▎                                   | 15/100 [20:00<1:45:34, 74.52s/it]"
     ]
    },
    {
     "name": "stdout",
     "output_type": "stream",
     "text": [
      "[I 2023-10-12 16:46:20,009] Trial 14 finished with value: 0.9864751100540161 and parameters: {'hidden_layer_size_0': 201, 'hidden_layer_size_1': 160, 'hidden_layer_size_2': 103, 'learning_rate': 0.03938618077396071, 'dropout_prob': 0.4, 'optimizer': 'SGD'}. Best is trial 9 with value: 0.9977458715438843.\n"
     ]
    },
    {
     "name": "stderr",
     "output_type": "stream",
     "text": [
      "Best trial: 9. Best value: 0.997746:  16%|██████▋                                   | 16/100 [21:30<1:50:57, 79.26s/it]"
     ]
    },
    {
     "name": "stdout",
     "output_type": "stream",
     "text": [
      "[I 2023-10-12 16:47:50,274] Trial 15 finished with value: 0.06846999377012253 and parameters: {'hidden_layer_size_0': 172, 'hidden_layer_size_1': 163, 'hidden_layer_size_2': 205, 'learning_rate': 0.05699052401755388, 'dropout_prob': 0.23, 'optimizer': 'Adam'}. Best is trial 9 with value: 0.9977458715438843.\n"
     ]
    },
    {
     "name": "stderr",
     "output_type": "stream",
     "text": [
      "Best trial: 9. Best value: 0.997746:  17%|███████▏                                  | 17/100 [22:33<1:42:39, 74.21s/it]"
     ]
    },
    {
     "name": "stdout",
     "output_type": "stream",
     "text": [
      "[I 2023-10-12 16:48:52,755] Trial 16 finished with value: 0.07438715547323227 and parameters: {'hidden_layer_size_0': 65, 'hidden_layer_size_1': 52, 'hidden_layer_size_2': 249, 'learning_rate': 2.041423543938437e-05, 'dropout_prob': 0.16, 'optimizer': 'SGD'}. Best is trial 9 with value: 0.9977458715438843.\n"
     ]
    },
    {
     "name": "stderr",
     "output_type": "stream",
     "text": [
      "Best trial: 17. Best value: 0.998873:  18%|███████▍                                 | 18/100 [24:09<1:50:16, 80.69s/it]"
     ]
    },
    {
     "name": "stdout",
     "output_type": "stream",
     "text": [
      "[I 2023-10-12 16:50:28,515] Trial 17 finished with value: 0.9988729357719421 and parameters: {'hidden_layer_size_0': 215, 'hidden_layer_size_1': 19, 'hidden_layer_size_2': 37, 'learning_rate': 0.0017701626933109766, 'dropout_prob': 0.31, 'optimizer': 'Adam'}. Best is trial 17 with value: 0.9988729357719421.\n"
     ]
    },
    {
     "name": "stderr",
     "output_type": "stream",
     "text": [
      "Best trial: 17. Best value: 0.998873:  19%|███████▊                                 | 19/100 [25:12<1:41:58, 75.53s/it]"
     ]
    },
    {
     "name": "stdout",
     "output_type": "stream",
     "text": [
      "[I 2023-10-12 16:51:32,029] Trial 18 finished with value: 0.7886728644371033 and parameters: {'hidden_layer_size_0': 111, 'hidden_layer_size_1': 62, 'hidden_layer_size_2': 174, 'learning_rate': 0.002717909562249232, 'dropout_prob': 0.33999999999999997, 'optimizer': 'SGD'}. Best is trial 17 with value: 0.9988729357719421.\n"
     ]
    },
    {
     "name": "stderr",
     "output_type": "stream",
     "text": [
      "Best trial: 17. Best value: 0.998873:  20%|████████▏                                | 20/100 [26:44<1:47:22, 80.54s/it]"
     ]
    },
    {
     "name": "stdout",
     "output_type": "stream",
     "text": [
      "[I 2023-10-12 16:53:04,235] Trial 19 finished with value: 0.997464120388031 and parameters: {'hidden_layer_size_0': 46, 'hidden_layer_size_1': 188, 'hidden_layer_size_2': 237, 'learning_rate': 0.004821718878916255, 'dropout_prob': 0.37, 'optimizer': 'Adam'}. Best is trial 17 with value: 0.9988729357719421.\n"
     ]
    },
    {
     "name": "stderr",
     "output_type": "stream",
     "text": [
      "Best trial: 17. Best value: 0.998873:  21%|████████▌                                | 21/100 [27:59<1:43:33, 78.66s/it]"
     ]
    },
    {
     "name": "stdout",
     "output_type": "stream",
     "text": [
      "[I 2023-10-12 16:54:18,507] Trial 20 finished with value: 0.9921104907989502 and parameters: {'hidden_layer_size_0': 184, 'hidden_layer_size_1': 213, 'hidden_layer_size_2': 51, 'learning_rate': 0.00013066443182608423, 'dropout_prob': 0.41000000000000003, 'optimizer': 'RMSprop'}. Best is trial 17 with value: 0.9988729357719421.\n"
     ]
    },
    {
     "name": "stderr",
     "output_type": "stream",
     "text": [
      "Best trial: 17. Best value: 0.998873:  22%|█████████                                | 22/100 [29:00<1:35:23, 73.38s/it]"
     ]
    },
    {
     "name": "stdout",
     "output_type": "stream",
     "text": [
      "[I 2023-10-12 16:55:19,567] Trial 21 finished with value: 0.9799944162368774 and parameters: {'hidden_layer_size_0': 81, 'hidden_layer_size_1': 156, 'hidden_layer_size_2': 140, 'learning_rate': 0.023339291100524642, 'dropout_prob': 0.24000000000000002, 'optimizer': 'SGD'}. Best is trial 17 with value: 0.9988729357719421.\n"
     ]
    },
    {
     "name": "stderr",
     "output_type": "stream",
     "text": [
      "Best trial: 17. Best value: 0.998873:  23%|█████████▍                               | 23/100 [30:29<1:40:27, 78.28s/it]"
     ]
    },
    {
     "name": "stdout",
     "output_type": "stream",
     "text": [
      "[I 2023-10-12 16:56:49,273] Trial 22 finished with value: 0.0577627532184124 and parameters: {'hidden_layer_size_0': 256, 'hidden_layer_size_1': 206, 'hidden_layer_size_2': 238, 'learning_rate': 0.03175231122728444, 'dropout_prob': 0.47, 'optimizer': 'Adam'}. Best is trial 17 with value: 0.9988729357719421.\n"
     ]
    },
    {
     "name": "stderr",
     "output_type": "stream",
     "text": [
      "Best trial: 17. Best value: 0.998873:  24%|█████████▊                               | 24/100 [32:00<1:43:53, 82.02s/it]"
     ]
    },
    {
     "name": "stdout",
     "output_type": "stream",
     "text": [
      "[I 2023-10-12 16:58:20,032] Trial 23 finished with value: 0.9729501605033875 and parameters: {'hidden_layer_size_0': 55, 'hidden_layer_size_1': 120, 'hidden_layer_size_2': 114, 'learning_rate': 0.017437350418017573, 'dropout_prob': 0.33999999999999997, 'optimizer': 'Adam'}. Best is trial 17 with value: 0.9988729357719421.\n"
     ]
    },
    {
     "name": "stderr",
     "output_type": "stream",
     "text": [
      "Best trial: 17. Best value: 0.998873:  25%|██████████▎                              | 25/100 [33:31<1:45:47, 84.64s/it]"
     ]
    },
    {
     "name": "stdout",
     "output_type": "stream",
     "text": [
      "[I 2023-10-12 16:59:50,775] Trial 24 finished with value: 0.07016061246395111 and parameters: {'hidden_layer_size_0': 63, 'hidden_layer_size_1': 81, 'hidden_layer_size_2': 108, 'learning_rate': 0.0980215566454211, 'dropout_prob': 0.22, 'optimizer': 'Adam'}. Best is trial 17 with value: 0.9988729357719421.\n"
     ]
    },
    {
     "name": "stderr",
     "output_type": "stream",
     "text": [
      "Best trial: 17. Best value: 0.998873:  26%|██████████▋                              | 26/100 [34:31<1:35:26, 77.38s/it]"
     ]
    },
    {
     "name": "stdout",
     "output_type": "stream",
     "text": [
      "[I 2023-10-12 17:00:51,241] Trial 25 finished with value: 0.5018315315246582 and parameters: {'hidden_layer_size_0': 151, 'hidden_layer_size_1': 237, 'hidden_layer_size_2': 215, 'learning_rate': 0.0010915261376570663, 'dropout_prob': 0.4, 'optimizer': 'SGD'}. Best is trial 17 with value: 0.9988729357719421.\n"
     ]
    },
    {
     "name": "stderr",
     "output_type": "stream",
     "text": [
      "Best trial: 17. Best value: 0.998873:  27%|███████████                              | 27/100 [35:32<1:27:58, 72.31s/it]"
     ]
    },
    {
     "name": "stdout",
     "output_type": "stream",
     "text": [
      "[I 2023-10-12 17:01:51,704] Trial 26 finished with value: 0.7988165616989136 and parameters: {'hidden_layer_size_0': 28, 'hidden_layer_size_1': 16, 'hidden_layer_size_2': 19, 'learning_rate': 0.005959535152751422, 'dropout_prob': 0.17, 'optimizer': 'SGD'}. Best is trial 17 with value: 0.9988729357719421.\n"
     ]
    },
    {
     "name": "stderr",
     "output_type": "stream",
     "text": [
      "Best trial: 17. Best value: 0.998873:  28%|███████████▍                             | 28/100 [37:08<1:35:14, 79.36s/it]"
     ]
    },
    {
     "name": "stdout",
     "output_type": "stream",
     "text": [
      "[I 2023-10-12 17:03:27,527] Trial 27 finished with value: 0.994646430015564 and parameters: {'hidden_layer_size_0': 223, 'hidden_layer_size_1': 25, 'hidden_layer_size_2': 102, 'learning_rate': 0.00013897491294656358, 'dropout_prob': 0.11, 'optimizer': 'Adam'}. Best is trial 17 with value: 0.9988729357719421.\n"
     ]
    },
    {
     "name": "stderr",
     "output_type": "stream",
     "text": [
      "Best trial: 17. Best value: 0.998873:  29%|███████████▉                             | 29/100 [38:46<1:40:31, 84.96s/it]"
     ]
    },
    {
     "name": "stdout",
     "output_type": "stream",
     "text": [
      "[I 2023-10-12 17:05:05,534] Trial 28 finished with value: 0.34150466322898865 and parameters: {'hidden_layer_size_0': 95, 'hidden_layer_size_1': 97, 'hidden_layer_size_2': 58, 'learning_rate': 0.027847706322231876, 'dropout_prob': 0.42000000000000004, 'optimizer': 'Adam'}. Best is trial 17 with value: 0.9988729357719421.\n"
     ]
    },
    {
     "name": "stderr",
     "output_type": "stream",
     "text": [
      "Best trial: 17. Best value: 0.998873:  30%|████████████▎                            | 30/100 [39:47<1:30:57, 77.96s/it]"
     ]
    },
    {
     "name": "stdout",
     "output_type": "stream",
     "text": [
      "[I 2023-10-12 17:06:07,168] Trial 29 finished with value: 0.07523246109485626 and parameters: {'hidden_layer_size_0': 240, 'hidden_layer_size_1': 201, 'hidden_layer_size_2': 79, 'learning_rate': 2.620897792879901e-05, 'dropout_prob': 0.21000000000000002, 'optimizer': 'SGD'}. Best is trial 17 with value: 0.9988729357719421.\n"
     ]
    },
    {
     "name": "stderr",
     "output_type": "stream",
     "text": [
      "Best trial: 17. Best value: 0.998873:  31%|████████████▋                            | 31/100 [41:22<1:35:35, 83.13s/it]"
     ]
    },
    {
     "name": "stdout",
     "output_type": "stream",
     "text": [
      "[I 2023-10-12 17:07:42,341] Trial 30 finished with value: 0.9850662350654602 and parameters: {'hidden_layer_size_0': 226, 'hidden_layer_size_1': 64, 'hidden_layer_size_2': 102, 'learning_rate': 7.985753505258856e-05, 'dropout_prob': 0.32, 'optimizer': 'Adam'}. Best is trial 17 with value: 0.9988729357719421.\n"
     ]
    },
    {
     "name": "stderr",
     "output_type": "stream",
     "text": [
      "Best trial: 17. Best value: 0.998873:  32%|█████████████                            | 32/100 [42:41<1:32:49, 81.90s/it]"
     ]
    },
    {
     "name": "stdout",
     "output_type": "stream",
     "text": [
      "[I 2023-10-12 17:09:01,402] Trial 31 finished with value: 0.7032967209815979 and parameters: {'hidden_layer_size_0': 189, 'hidden_layer_size_1': 214, 'hidden_layer_size_2': 42, 'learning_rate': 0.017289971218198846, 'dropout_prob': 0.36, 'optimizer': 'RMSprop'}. Best is trial 17 with value: 0.9988729357719421.\n"
     ]
    },
    {
     "name": "stderr",
     "output_type": "stream",
     "text": [
      "Best trial: 17. Best value: 0.998873:  33%|█████████████▌                           | 33/100 [44:23<1:38:12, 87.95s/it]"
     ]
    },
    {
     "name": "stdout",
     "output_type": "stream",
     "text": [
      "[I 2023-10-12 17:10:43,453] Trial 32 finished with value: 0.03155818581581116 and parameters: {'hidden_layer_size_0': 252, 'hidden_layer_size_1': 23, 'hidden_layer_size_2': 180, 'learning_rate': 0.07064889665465347, 'dropout_prob': 0.29000000000000004, 'optimizer': 'Adam'}. Best is trial 17 with value: 0.9988729357719421.\n"
     ]
    },
    {
     "name": "stderr",
     "output_type": "stream",
     "text": [
      "Best trial: 17. Best value: 0.998873:  34%|█████████████▉                           | 34/100 [45:32<1:30:13, 82.03s/it]"
     ]
    },
    {
     "name": "stdout",
     "output_type": "stream",
     "text": [
      "[I 2023-10-12 17:11:51,662] Trial 33 finished with value: 0.6610313057899475 and parameters: {'hidden_layer_size_0': 222, 'hidden_layer_size_1': 77, 'hidden_layer_size_2': 110, 'learning_rate': 0.0011517927486087763, 'dropout_prob': 0.16, 'optimizer': 'SGD'}. Best is trial 17 with value: 0.9988729357719421.\n"
     ]
    },
    {
     "name": "stderr",
     "output_type": "stream",
     "text": [
      "Best trial: 17. Best value: 0.998873:  35%|██████████████▎                          | 35/100 [47:05<1:32:26, 85.33s/it]"
     ]
    },
    {
     "name": "stdout",
     "output_type": "stream",
     "text": [
      "[I 2023-10-12 17:13:24,688] Trial 34 finished with value: 0.03240349516272545 and parameters: {'hidden_layer_size_0': 213, 'hidden_layer_size_1': 156, 'hidden_layer_size_2': 210, 'learning_rate': 0.07081796657826162, 'dropout_prob': 0.29000000000000004, 'optimizer': 'Adam'}. Best is trial 17 with value: 0.9988729357719421.\n"
     ]
    },
    {
     "name": "stderr",
     "output_type": "stream",
     "text": [
      "Best trial: 17. Best value: 0.998873:  36%|██████████████▊                          | 36/100 [48:42<1:34:52, 88.94s/it]"
     ]
    },
    {
     "name": "stdout",
     "output_type": "stream",
     "text": [
      "[I 2023-10-12 17:15:02,044] Trial 35 finished with value: 0.997464120388031 and parameters: {'hidden_layer_size_0': 47, 'hidden_layer_size_1': 89, 'hidden_layer_size_2': 219, 'learning_rate': 0.0007525248314121656, 'dropout_prob': 0.15000000000000002, 'optimizer': 'Adam'}. Best is trial 17 with value: 0.9988729357719421.\n"
     ]
    },
    {
     "name": "stderr",
     "output_type": "stream",
     "text": [
      "Best trial: 17. Best value: 0.998873:  37%|███████████████▏                         | 37/100 [49:49<1:26:29, 82.37s/it]"
     ]
    },
    {
     "name": "stdout",
     "output_type": "stream",
     "text": [
      "[I 2023-10-12 17:16:09,111] Trial 36 finished with value: 0.048746127635240555 and parameters: {'hidden_layer_size_0': 90, 'hidden_layer_size_1': 167, 'hidden_layer_size_2': 85, 'learning_rate': 4.307761213643183e-05, 'dropout_prob': 0.36, 'optimizer': 'SGD'}. Best is trial 17 with value: 0.9988729357719421.\n"
     ]
    },
    {
     "name": "stderr",
     "output_type": "stream",
     "text": [
      "Best trial: 17. Best value: 0.998873:  38%|███████████████▌                         | 38/100 [51:13<1:25:39, 82.89s/it]"
     ]
    },
    {
     "name": "stdout",
     "output_type": "stream",
     "text": [
      "[I 2023-10-12 17:17:33,190] Trial 37 finished with value: 0.9985911846160889 and parameters: {'hidden_layer_size_0': 132, 'hidden_layer_size_1': 206, 'hidden_layer_size_2': 189, 'learning_rate': 0.000354080301051135, 'dropout_prob': 0.17, 'optimizer': 'RMSprop'}. Best is trial 17 with value: 0.9988729357719421.\n"
     ]
    },
    {
     "name": "stderr",
     "output_type": "stream",
     "text": [
      "Best trial: 17. Best value: 0.998873:  39%|███████████████▉                         | 39/100 [52:36<1:24:10, 82.79s/it]"
     ]
    },
    {
     "name": "stdout",
     "output_type": "stream",
     "text": [
      "[I 2023-10-12 17:18:55,756] Trial 38 finished with value: 0.9822485446929932 and parameters: {'hidden_layer_size_0': 213, 'hidden_layer_size_1': 219, 'hidden_layer_size_2': 119, 'learning_rate': 0.001752111646796476, 'dropout_prob': 0.30000000000000004, 'optimizer': 'RMSprop'}. Best is trial 17 with value: 0.9988729357719421.\n"
     ]
    },
    {
     "name": "stderr",
     "output_type": "stream",
     "text": [
      "Best trial: 17. Best value: 0.998873:  40%|████████████████▍                        | 40/100 [54:11<1:26:33, 86.56s/it]"
     ]
    },
    {
     "name": "stdout",
     "output_type": "stream",
     "text": [
      "[I 2023-10-12 17:20:31,108] Trial 39 finished with value: 0.9983094334602356 and parameters: {'hidden_layer_size_0': 200, 'hidden_layer_size_1': 64, 'hidden_layer_size_2': 226, 'learning_rate': 0.00036532379243252403, 'dropout_prob': 0.17, 'optimizer': 'Adam'}. Best is trial 17 with value: 0.9988729357719421.\n"
     ]
    },
    {
     "name": "stderr",
     "output_type": "stream",
     "text": [
      "Best trial: 17. Best value: 0.998873:  41%|████████████████▊                        | 41/100 [55:49<1:28:25, 89.93s/it]"
     ]
    },
    {
     "name": "stdout",
     "output_type": "stream",
     "text": [
      "[I 2023-10-12 17:22:08,892] Trial 40 finished with value: 0.997464120388031 and parameters: {'hidden_layer_size_0': 231, 'hidden_layer_size_1': 43, 'hidden_layer_size_2': 163, 'learning_rate': 0.0003035321051295514, 'dropout_prob': 0.36, 'optimizer': 'Adam'}. Best is trial 17 with value: 0.9988729357719421.\n"
     ]
    },
    {
     "name": "stderr",
     "output_type": "stream",
     "text": [
      "Best trial: 17. Best value: 0.998873:  42%|█████████████████▏                       | 42/100 [57:14<1:25:23, 88.33s/it]"
     ]
    },
    {
     "name": "stdout",
     "output_type": "stream",
     "text": [
      "[I 2023-10-12 17:23:33,510] Trial 41 finished with value: 0.9954917430877686 and parameters: {'hidden_layer_size_0': 163, 'hidden_layer_size_1': 171, 'hidden_layer_size_2': 22, 'learning_rate': 0.0001385212850652039, 'dropout_prob': 0.18, 'optimizer': 'RMSprop'}. Best is trial 17 with value: 0.9988729357719421.\n"
     ]
    },
    {
     "name": "stderr",
     "output_type": "stream",
     "text": [
      "Best trial: 17. Best value: 0.998873:  43%|█████████████████▋                       | 43/100 [58:21<1:18:02, 82.15s/it]"
     ]
    },
    {
     "name": "stdout",
     "output_type": "stream",
     "text": [
      "[I 2023-10-12 17:24:41,226] Trial 42 finished with value: 0.9098337888717651 and parameters: {'hidden_layer_size_0': 236, 'hidden_layer_size_1': 155, 'hidden_layer_size_2': 212, 'learning_rate': 0.00422632223200261, 'dropout_prob': 0.11, 'optimizer': 'SGD'}. Best is trial 17 with value: 0.9988729357719421.\n"
     ]
    },
    {
     "name": "stderr",
     "output_type": "stream",
     "text": [
      "Best trial: 17. Best value: 0.998873:  44%|█████████████████▏                     | 44/100 [1:00:01<1:21:36, 87.43s/it]"
     ]
    },
    {
     "name": "stdout",
     "output_type": "stream",
     "text": [
      "[I 2023-10-12 17:26:20,994] Trial 43 finished with value: 0.9988729357719421 and parameters: {'hidden_layer_size_0': 120, 'hidden_layer_size_1': 102, 'hidden_layer_size_2': 73, 'learning_rate': 0.0033477261861618005, 'dropout_prob': 0.19, 'optimizer': 'Adam'}. Best is trial 17 with value: 0.9988729357719421.\n"
     ]
    },
    {
     "name": "stderr",
     "output_type": "stream",
     "text": [
      "Best trial: 17. Best value: 0.998873:  45%|█████████████████▌                     | 45/100 [1:01:02<1:12:44, 79.35s/it]"
     ]
    },
    {
     "name": "stdout",
     "output_type": "stream",
     "text": [
      "[I 2023-10-12 17:27:21,483] Trial 44 finished with value: 0.9329388737678528 and parameters: {'hidden_layer_size_0': 197, 'hidden_layer_size_1': 139, 'hidden_layer_size_2': 168, 'learning_rate': 0.0090273883653158, 'dropout_prob': 0.43000000000000005, 'optimizer': 'SGD'}. Best is trial 17 with value: 0.9988729357719421.\n"
     ]
    },
    {
     "name": "stderr",
     "output_type": "stream",
     "text": [
      "Best trial: 17. Best value: 0.998873:  46%|█████████████████▉                     | 46/100 [1:02:16<1:10:09, 77.95s/it]"
     ]
    },
    {
     "name": "stdout",
     "output_type": "stream",
     "text": [
      "[I 2023-10-12 17:28:36,168] Trial 45 finished with value: 0.9923922419548035 and parameters: {'hidden_layer_size_0': 255, 'hidden_layer_size_1': 159, 'hidden_layer_size_2': 236, 'learning_rate': 7.851388079348028e-05, 'dropout_prob': 0.39, 'optimizer': 'RMSprop'}. Best is trial 17 with value: 0.9988729357719421.\n"
     ]
    },
    {
     "name": "stderr",
     "output_type": "stream",
     "text": [
      "Best trial: 17. Best value: 0.998873:  47%|██████████████████▎                    | 47/100 [1:03:16<1:04:06, 72.58s/it]"
     ]
    },
    {
     "name": "stdout",
     "output_type": "stream",
     "text": [
      "[I 2023-10-12 17:29:36,198] Trial 46 finished with value: 0.07917723804712296 and parameters: {'hidden_layer_size_0': 215, 'hidden_layer_size_1': 30, 'hidden_layer_size_2': 246, 'learning_rate': 6.153316062160088e-05, 'dropout_prob': 0.15000000000000002, 'optimizer': 'SGD'}. Best is trial 17 with value: 0.9988729357719421.\n"
     ]
    },
    {
     "name": "stderr",
     "output_type": "stream",
     "text": [
      "Best trial: 17. Best value: 0.998873:  48%|██████████████████▋                    | 48/100 [1:04:46<1:07:27, 77.84s/it]"
     ]
    },
    {
     "name": "stdout",
     "output_type": "stream",
     "text": [
      "[I 2023-10-12 17:31:06,334] Trial 47 finished with value: 0.997464120388031 and parameters: {'hidden_layer_size_0': 153, 'hidden_layer_size_1': 101, 'hidden_layer_size_2': 198, 'learning_rate': 0.00873422488002814, 'dropout_prob': 0.22, 'optimizer': 'Adam'}. Best is trial 17 with value: 0.9988729357719421.\n"
     ]
    },
    {
     "name": "stderr",
     "output_type": "stream",
     "text": [
      "Best trial: 17. Best value: 0.998873:  49%|███████████████████                    | 49/100 [1:06:17<1:09:22, 81.61s/it]"
     ]
    },
    {
     "name": "stdout",
     "output_type": "stream",
     "text": [
      "[I 2023-10-12 17:32:36,729] Trial 48 finished with value: 0.15412792563438416 and parameters: {'hidden_layer_size_0': 181, 'hidden_layer_size_1': 176, 'hidden_layer_size_2': 143, 'learning_rate': 0.03578568737698931, 'dropout_prob': 0.26, 'optimizer': 'Adam'}. Best is trial 17 with value: 0.9988729357719421.\n"
     ]
    },
    {
     "name": "stderr",
     "output_type": "stream",
     "text": [
      "Best trial: 17. Best value: 0.998873:  50%|███████████████████▌                   | 50/100 [1:07:32<1:06:27, 79.75s/it]"
     ]
    },
    {
     "name": "stdout",
     "output_type": "stream",
     "text": [
      "[I 2023-10-12 17:33:52,135] Trial 49 finished with value: 0.9988729357719421 and parameters: {'hidden_layer_size_0': 118, 'hidden_layer_size_1': 191, 'hidden_layer_size_2': 171, 'learning_rate': 0.004110662773757221, 'dropout_prob': 0.14, 'optimizer': 'RMSprop'}. Best is trial 17 with value: 0.9988729357719421.\n"
     ]
    },
    {
     "name": "stderr",
     "output_type": "stream",
     "text": [
      "Best trial: 17. Best value: 0.998873:  51%|███████████████████▉                   | 51/100 [1:08:33<1:00:36, 74.20s/it]"
     ]
    },
    {
     "name": "stdout",
     "output_type": "stream",
     "text": [
      "[I 2023-10-12 17:34:53,408] Trial 50 finished with value: 0.4497041404247284 and parameters: {'hidden_layer_size_0': 245, 'hidden_layer_size_1': 80, 'hidden_layer_size_2': 56, 'learning_rate': 0.001180140998478797, 'dropout_prob': 0.38, 'optimizer': 'SGD'}. Best is trial 17 with value: 0.9988729357719421.\n"
     ]
    },
    {
     "name": "stderr",
     "output_type": "stream",
     "text": [
      "Best trial: 17. Best value: 0.998873:  52%|████████████████████▎                  | 52/100 [1:10:04<1:03:19, 79.15s/it]"
     ]
    },
    {
     "name": "stdout",
     "output_type": "stream",
     "text": [
      "[I 2023-10-12 17:36:24,095] Trial 51 finished with value: 0.9980276226997375 and parameters: {'hidden_layer_size_0': 101, 'hidden_layer_size_1': 182, 'hidden_layer_size_2': 16, 'learning_rate': 0.0007359382469677258, 'dropout_prob': 0.41000000000000003, 'optimizer': 'Adam'}. Best is trial 17 with value: 0.9988729357719421.\n"
     ]
    },
    {
     "name": "stderr",
     "output_type": "stream",
     "text": [
      "Best trial: 17. Best value: 0.998873:  53%|████████████████████▋                  | 53/100 [1:11:19<1:01:01, 77.90s/it]"
     ]
    },
    {
     "name": "stdout",
     "output_type": "stream",
     "text": [
      "[I 2023-10-12 17:37:39,083] Trial 52 finished with value: 0.2099182903766632 and parameters: {'hidden_layer_size_0': 121, 'hidden_layer_size_1': 83, 'hidden_layer_size_2': 151, 'learning_rate': 0.04397844372726967, 'dropout_prob': 0.11, 'optimizer': 'RMSprop'}. Best is trial 17 with value: 0.9988729357719421.\n"
     ]
    },
    {
     "name": "stderr",
     "output_type": "stream",
     "text": [
      "Best trial: 17. Best value: 0.998873:  54%|█████████████████████                  | 54/100 [1:12:52<1:03:15, 82.52s/it]"
     ]
    },
    {
     "name": "stdout",
     "output_type": "stream",
     "text": [
      "[I 2023-10-12 17:39:12,383] Trial 53 finished with value: 0.9988729357719421 and parameters: {'hidden_layer_size_0': 110, 'hidden_layer_size_1': 50, 'hidden_layer_size_2': 182, 'learning_rate': 0.001414540212079738, 'dropout_prob': 0.43000000000000005, 'optimizer': 'Adam'}. Best is trial 17 with value: 0.9988729357719421.\n"
     ]
    },
    {
     "name": "stderr",
     "output_type": "stream",
     "text": [
      "Best trial: 17. Best value: 0.998873:  55%|██████████████████████▌                  | 55/100 [1:14:06<59:54, 79.87s/it]"
     ]
    },
    {
     "name": "stdout",
     "output_type": "stream",
     "text": [
      "[I 2023-10-12 17:40:26,052] Trial 54 finished with value: 0.997464120388031 and parameters: {'hidden_layer_size_0': 96, 'hidden_layer_size_1': 243, 'hidden_layer_size_2': 114, 'learning_rate': 0.00022280468218424714, 'dropout_prob': 0.25, 'optimizer': 'RMSprop'}. Best is trial 17 with value: 0.9988729357719421.\n"
     ]
    },
    {
     "name": "stderr",
     "output_type": "stream",
     "text": [
      "Best trial: 17. Best value: 0.998873:  56%|█████████████████████▊                 | 56/100 [1:15:41<1:01:48, 84.28s/it]"
     ]
    },
    {
     "name": "stdout",
     "output_type": "stream",
     "text": [
      "[I 2023-10-12 17:42:00,630] Trial 55 finished with value: 0.8858833909034729 and parameters: {'hidden_layer_size_0': 102, 'hidden_layer_size_1': 134, 'hidden_layer_size_2': 113, 'learning_rate': 2.4940906256706352e-05, 'dropout_prob': 0.37, 'optimizer': 'Adam'}. Best is trial 17 with value: 0.9988729357719421.\n"
     ]
    },
    {
     "name": "stderr",
     "output_type": "stream",
     "text": [
      "Best trial: 17. Best value: 0.998873:  57%|███████████████████████▎                 | 57/100 [1:16:43<55:41, 77.71s/it]"
     ]
    },
    {
     "name": "stdout",
     "output_type": "stream",
     "text": [
      "[I 2023-10-12 17:43:03,013] Trial 56 finished with value: 0.03522118926048279 and parameters: {'hidden_layer_size_0': 69, 'hidden_layer_size_1': 75, 'hidden_layer_size_2': 167, 'learning_rate': 0.00011062436789534933, 'dropout_prob': 0.41000000000000003, 'optimizer': 'SGD'}. Best is trial 17 with value: 0.9988729357719421.\n"
     ]
    },
    {
     "name": "stderr",
     "output_type": "stream",
     "text": [
      "Best trial: 17. Best value: 0.998873:  58%|███████████████████████▊                 | 58/100 [1:18:14<57:05, 81.56s/it]"
     ]
    },
    {
     "name": "stdout",
     "output_type": "stream",
     "text": [
      "[I 2023-10-12 17:44:33,557] Trial 57 finished with value: 0.067906454205513 and parameters: {'hidden_layer_size_0': 58, 'hidden_layer_size_1': 109, 'hidden_layer_size_2': 190, 'learning_rate': 0.07397254388660289, 'dropout_prob': 0.32, 'optimizer': 'Adam'}. Best is trial 17 with value: 0.9988729357719421.\n"
     ]
    },
    {
     "name": "stderr",
     "output_type": "stream",
     "text": [
      "Best trial: 17. Best value: 0.998873:  59%|████████████████████████▏                | 59/100 [1:19:14<51:18, 75.08s/it]"
     ]
    },
    {
     "name": "stdout",
     "output_type": "stream",
     "text": [
      "[I 2023-10-12 17:45:33,527] Trial 58 finished with value: 0.9754860997200012 and parameters: {'hidden_layer_size_0': 98, 'hidden_layer_size_1': 76, 'hidden_layer_size_2': 21, 'learning_rate': 0.032634772397087446, 'dropout_prob': 0.14, 'optimizer': 'SGD'}. Best is trial 17 with value: 0.9988729357719421.\n"
     ]
    },
    {
     "name": "stderr",
     "output_type": "stream",
     "text": [
      "Best trial: 17. Best value: 0.998873:  60%|████████████████████████▌                | 60/100 [1:20:28<49:55, 74.89s/it]"
     ]
    },
    {
     "name": "stdout",
     "output_type": "stream",
     "text": [
      "[I 2023-10-12 17:46:47,957] Trial 59 finished with value: 0.5426880717277527 and parameters: {'hidden_layer_size_0': 48, 'hidden_layer_size_1': 51, 'hidden_layer_size_2': 20, 'learning_rate': 1.85547104597427e-05, 'dropout_prob': 0.29000000000000004, 'optimizer': 'RMSprop'}. Best is trial 17 with value: 0.9988729357719421.\n"
     ]
    },
    {
     "name": "stderr",
     "output_type": "stream",
     "text": [
      "Best trial: 17. Best value: 0.998873:  61%|█████████████████████████                | 61/100 [1:22:00<51:56, 79.92s/it]"
     ]
    },
    {
     "name": "stdout",
     "output_type": "stream",
     "text": [
      "[I 2023-10-12 17:48:19,629] Trial 60 finished with value: 0.9642152786254883 and parameters: {'hidden_layer_size_0': 219, 'hidden_layer_size_1': 71, 'hidden_layer_size_2': 61, 'learning_rate': 0.01224196510627522, 'dropout_prob': 0.5, 'optimizer': 'Adam'}. Best is trial 17 with value: 0.9988729357719421.\n"
     ]
    },
    {
     "name": "stderr",
     "output_type": "stream",
     "text": [
      "Best trial: 17. Best value: 0.998873:  62%|█████████████████████████▍               | 62/100 [1:23:13<49:26, 78.07s/it]"
     ]
    },
    {
     "name": "stdout",
     "output_type": "stream",
     "text": [
      "[I 2023-10-12 17:49:33,383] Trial 61 finished with value: 0.9044801592826843 and parameters: {'hidden_layer_size_0': 111, 'hidden_layer_size_1': 166, 'hidden_layer_size_2': 217, 'learning_rate': 1.865495803323495e-05, 'dropout_prob': 0.26, 'optimizer': 'RMSprop'}. Best is trial 17 with value: 0.9988729357719421.\n"
     ]
    },
    {
     "name": "stderr",
     "output_type": "stream",
     "text": [
      "Best trial: 17. Best value: 0.998873:  63%|█████████████████████████▊               | 63/100 [1:24:13<44:43, 72.53s/it]"
     ]
    },
    {
     "name": "stdout",
     "output_type": "stream",
     "text": [
      "[I 2023-10-12 17:50:32,984] Trial 62 finished with value: 0.044519584625959396 and parameters: {'hidden_layer_size_0': 127, 'hidden_layer_size_1': 98, 'hidden_layer_size_2': 21, 'learning_rate': 1.6338301062779363e-05, 'dropout_prob': 0.1, 'optimizer': 'SGD'}. Best is trial 17 with value: 0.9988729357719421.\n"
     ]
    },
    {
     "name": "stderr",
     "output_type": "stream",
     "text": [
      "Best trial: 17. Best value: 0.998873:  64%|██████████████████████████▏              | 64/100 [1:25:41<46:18, 77.18s/it]"
     ]
    },
    {
     "name": "stdout",
     "output_type": "stream",
     "text": [
      "[I 2023-10-12 17:52:01,010] Trial 63 finished with value: 0.035784728825092316 and parameters: {'hidden_layer_size_0': 212, 'hidden_layer_size_1': 225, 'hidden_layer_size_2': 96, 'learning_rate': 0.09106409678059253, 'dropout_prob': 0.38, 'optimizer': 'Adam'}. Best is trial 17 with value: 0.9988729357719421.\n"
     ]
    },
    {
     "name": "stderr",
     "output_type": "stream",
     "text": [
      "Best trial: 17. Best value: 0.998873:  65%|██████████████████████████▋              | 65/100 [1:27:11<47:15, 81.01s/it]"
     ]
    },
    {
     "name": "stdout",
     "output_type": "stream",
     "text": [
      "[I 2023-10-12 17:53:30,973] Trial 64 finished with value: 0.9985911846160889 and parameters: {'hidden_layer_size_0': 245, 'hidden_layer_size_1': 181, 'hidden_layer_size_2': 234, 'learning_rate': 0.0005261022472274249, 'dropout_prob': 0.47, 'optimizer': 'Adam'}. Best is trial 17 with value: 0.9988729357719421.\n"
     ]
    },
    {
     "name": "stderr",
     "output_type": "stream",
     "text": [
      "Best trial: 17. Best value: 0.998873:  66%|███████████████████████████              | 66/100 [1:28:24<44:34, 78.65s/it]"
     ]
    },
    {
     "name": "stdout",
     "output_type": "stream",
     "text": [
      "[I 2023-10-12 17:54:44,110] Trial 65 finished with value: 0.9912651777267456 and parameters: {'hidden_layer_size_0': 90, 'hidden_layer_size_1': 206, 'hidden_layer_size_2': 92, 'learning_rate': 0.000130347315501302, 'dropout_prob': 0.33999999999999997, 'optimizer': 'RMSprop'}. Best is trial 17 with value: 0.9988729357719421.\n"
     ]
    },
    {
     "name": "stderr",
     "output_type": "stream",
     "text": [
      "Best trial: 17. Best value: 0.998873:  67%|███████████████████████████▍             | 67/100 [1:29:24<40:08, 72.99s/it]"
     ]
    },
    {
     "name": "stdout",
     "output_type": "stream",
     "text": [
      "[I 2023-10-12 17:55:43,903] Trial 66 finished with value: 0.06931529939174652 and parameters: {'hidden_layer_size_0': 252, 'hidden_layer_size_1': 57, 'hidden_layer_size_2': 142, 'learning_rate': 3.944724002136338e-05, 'dropout_prob': 0.48, 'optimizer': 'SGD'}. Best is trial 17 with value: 0.9988729357719421.\n"
     ]
    },
    {
     "name": "stderr",
     "output_type": "stream",
     "text": [
      "Best trial: 67. Best value: 0.999155:  68%|███████████████████████████▉             | 68/100 [1:30:38<39:04, 73.26s/it]"
     ]
    },
    {
     "name": "stdout",
     "output_type": "stream",
     "text": [
      "[I 2023-10-12 17:56:57,784] Trial 67 finished with value: 0.9991547465324402 and parameters: {'hidden_layer_size_0': 205, 'hidden_layer_size_1': 217, 'hidden_layer_size_2': 70, 'learning_rate': 0.000463015512030927, 'dropout_prob': 0.44000000000000006, 'optimizer': 'RMSprop'}. Best is trial 67 with value: 0.9991547465324402.\n"
     ]
    },
    {
     "name": "stderr",
     "output_type": "stream",
     "text": [
      "Best trial: 67. Best value: 0.999155:  69%|████████████████████████████▎            | 69/100 [1:31:39<35:57, 69.58s/it]"
     ]
    },
    {
     "name": "stdout",
     "output_type": "stream",
     "text": [
      "[I 2023-10-12 17:57:58,787] Trial 68 finished with value: 0.06846999377012253 and parameters: {'hidden_layer_size_0': 184, 'hidden_layer_size_1': 103, 'hidden_layer_size_2': 165, 'learning_rate': 7.87815147967988e-05, 'dropout_prob': 0.39, 'optimizer': 'SGD'}. Best is trial 67 with value: 0.9991547465324402.\n"
     ]
    },
    {
     "name": "stderr",
     "output_type": "stream",
     "text": [
      "Best trial: 67. Best value: 0.999155:  70%|████████████████████████████▋            | 70/100 [1:33:09<37:50, 75.70s/it]"
     ]
    },
    {
     "name": "stdout",
     "output_type": "stream",
     "text": [
      "[I 2023-10-12 17:59:28,745] Trial 69 finished with value: 0.997464120388031 and parameters: {'hidden_layer_size_0': 37, 'hidden_layer_size_1': 99, 'hidden_layer_size_2': 222, 'learning_rate': 0.001685772366070862, 'dropout_prob': 0.44000000000000006, 'optimizer': 'Adam'}. Best is trial 67 with value: 0.9991547465324402.\n"
     ]
    },
    {
     "name": "stderr",
     "output_type": "stream",
     "text": [
      "Best trial: 67. Best value: 0.999155:  71%|█████████████████████████████            | 71/100 [1:34:21<36:07, 74.75s/it]"
     ]
    },
    {
     "name": "stdout",
     "output_type": "stream",
     "text": [
      "[I 2023-10-12 18:00:41,298] Trial 70 finished with value: 0.9391378164291382 and parameters: {'hidden_layer_size_0': 220, 'hidden_layer_size_1': 79, 'hidden_layer_size_2': 152, 'learning_rate': 0.010627437984777097, 'dropout_prob': 0.43000000000000005, 'optimizer': 'RMSprop'}. Best is trial 67 with value: 0.9991547465324402.\n"
     ]
    },
    {
     "name": "stderr",
     "output_type": "stream",
     "text": [
      "Best trial: 67. Best value: 0.999155:  72%|█████████████████████████████▌           | 72/100 [1:35:22<32:56, 70.58s/it]"
     ]
    },
    {
     "name": "stdout",
     "output_type": "stream",
     "text": [
      "[I 2023-10-12 18:01:42,130] Trial 71 finished with value: 0.8763031959533691 and parameters: {'hidden_layer_size_0': 66, 'hidden_layer_size_1': 107, 'hidden_layer_size_2': 206, 'learning_rate': 0.006588215050701983, 'dropout_prob': 0.39, 'optimizer': 'SGD'}. Best is trial 67 with value: 0.9991547465324402.\n"
     ]
    },
    {
     "name": "stderr",
     "output_type": "stream",
     "text": [
      "Best trial: 67. Best value: 0.999155:  73%|█████████████████████████████▉           | 73/100 [1:36:23<30:28, 67.74s/it]"
     ]
    },
    {
     "name": "stdout",
     "output_type": "stream",
     "text": [
      "[I 2023-10-12 18:02:43,234] Trial 72 finished with value: 0.03691180795431137 and parameters: {'hidden_layer_size_0': 70, 'hidden_layer_size_1': 200, 'hidden_layer_size_2': 137, 'learning_rate': 1.7808059129660728e-05, 'dropout_prob': 0.29000000000000004, 'optimizer': 'SGD'}. Best is trial 67 with value: 0.9991547465324402.\n"
     ]
    },
    {
     "name": "stderr",
     "output_type": "stream",
     "text": [
      "Best trial: 67. Best value: 0.999155:  74%|██████████████████████████████▎          | 74/100 [1:37:38<30:16, 69.88s/it]"
     ]
    },
    {
     "name": "stdout",
     "output_type": "stream",
     "text": [
      "[I 2023-10-12 18:03:58,121] Trial 73 finished with value: 0.9980276226997375 and parameters: {'hidden_layer_size_0': 77, 'hidden_layer_size_1': 158, 'hidden_layer_size_2': 222, 'learning_rate': 0.00021933177537210495, 'dropout_prob': 0.29000000000000004, 'optimizer': 'RMSprop'}. Best is trial 67 with value: 0.9991547465324402.\n"
     ]
    },
    {
     "name": "stderr",
     "output_type": "stream",
     "text": [
      "Best trial: 67. Best value: 0.999155:  75%|██████████████████████████████▊          | 75/100 [1:38:51<29:29, 70.78s/it]"
     ]
    },
    {
     "name": "stdout",
     "output_type": "stream",
     "text": [
      "[I 2023-10-12 18:05:10,990] Trial 74 finished with value: 0.9912651777267456 and parameters: {'hidden_layer_size_0': 256, 'hidden_layer_size_1': 195, 'hidden_layer_size_2': 99, 'learning_rate': 8.074810157999553e-05, 'dropout_prob': 0.38, 'optimizer': 'RMSprop'}. Best is trial 67 with value: 0.9991547465324402.\n"
     ]
    },
    {
     "name": "stderr",
     "output_type": "stream",
     "text": [
      "Best trial: 67. Best value: 0.999155:  76%|███████████████████████████████▏         | 76/100 [1:40:22<30:42, 76.78s/it]"
     ]
    },
    {
     "name": "stdout",
     "output_type": "stream",
     "text": [
      "[I 2023-10-12 18:06:41,780] Trial 75 finished with value: 0.06593406945466995 and parameters: {'hidden_layer_size_0': 106, 'hidden_layer_size_1': 117, 'hidden_layer_size_2': 40, 'learning_rate': 0.07918706966797817, 'dropout_prob': 0.26, 'optimizer': 'Adam'}. Best is trial 67 with value: 0.9991547465324402.\n"
     ]
    },
    {
     "name": "stderr",
     "output_type": "stream",
     "text": [
      "Best trial: 67. Best value: 0.999155:  77%|███████████████████████████████▌         | 77/100 [1:41:23<27:37, 72.08s/it]"
     ]
    },
    {
     "name": "stdout",
     "output_type": "stream",
     "text": [
      "[I 2023-10-12 18:07:42,882] Trial 76 finished with value: 0.11355311423540115 and parameters: {'hidden_layer_size_0': 133, 'hidden_layer_size_1': 62, 'hidden_layer_size_2': 145, 'learning_rate': 0.00032483049912867634, 'dropout_prob': 0.33999999999999997, 'optimizer': 'SGD'}. Best is trial 67 with value: 0.9991547465324402.\n"
     ]
    },
    {
     "name": "stderr",
     "output_type": "stream",
     "text": [
      "Best trial: 67. Best value: 0.999155:  78%|███████████████████████████████▉         | 78/100 [1:42:51<28:09, 76.80s/it]"
     ]
    },
    {
     "name": "stdout",
     "output_type": "stream",
     "text": [
      "[I 2023-10-12 18:09:10,712] Trial 77 finished with value: 0.02902226150035858 and parameters: {'hidden_layer_size_0': 235, 'hidden_layer_size_1': 123, 'hidden_layer_size_2': 199, 'learning_rate': 0.051396563883167636, 'dropout_prob': 0.41000000000000003, 'optimizer': 'Adam'}. Best is trial 67 with value: 0.9991547465324402.\n"
     ]
    },
    {
     "name": "stderr",
     "output_type": "stream",
     "text": [
      "Best trial: 67. Best value: 0.999155:  79%|████████████████████████████████▍        | 79/100 [1:44:22<28:22, 81.08s/it]"
     ]
    },
    {
     "name": "stdout",
     "output_type": "stream",
     "text": [
      "[I 2023-10-12 18:10:41,789] Trial 78 finished with value: 0.09551987051963806 and parameters: {'hidden_layer_size_0': 227, 'hidden_layer_size_1': 184, 'hidden_layer_size_2': 209, 'learning_rate': 0.026429826654262335, 'dropout_prob': 0.44000000000000006, 'optimizer': 'Adam'}. Best is trial 67 with value: 0.9991547465324402.\n"
     ]
    },
    {
     "name": "stderr",
     "output_type": "stream",
     "text": [
      "Best trial: 67. Best value: 0.999155:  80%|████████████████████████████████▊        | 80/100 [1:45:36<26:22, 79.13s/it]"
     ]
    },
    {
     "name": "stdout",
     "output_type": "stream",
     "text": [
      "[I 2023-10-12 18:11:56,365] Trial 79 finished with value: 0.37728938460350037 and parameters: {'hidden_layer_size_0': 63, 'hidden_layer_size_1': 100, 'hidden_layer_size_2': 220, 'learning_rate': 0.025887916157988064, 'dropout_prob': 0.47, 'optimizer': 'RMSprop'}. Best is trial 67 with value: 0.9991547465324402.\n"
     ]
    },
    {
     "name": "stderr",
     "output_type": "stream",
     "text": [
      "Best trial: 67. Best value: 0.999155:  81%|█████████████████████████████████▏       | 81/100 [1:46:37<23:20, 73.72s/it]"
     ]
    },
    {
     "name": "stdout",
     "output_type": "stream",
     "text": [
      "[I 2023-10-12 18:12:57,452] Trial 80 finished with value: 0.9887292385101318 and parameters: {'hidden_layer_size_0': 184, 'hidden_layer_size_1': 44, 'hidden_layer_size_2': 160, 'learning_rate': 0.06032328250742436, 'dropout_prob': 0.26, 'optimizer': 'SGD'}. Best is trial 67 with value: 0.9991547465324402.\n"
     ]
    },
    {
     "name": "stderr",
     "output_type": "stream",
     "text": [
      "Best trial: 67. Best value: 0.999155:  82%|█████████████████████████████████▌       | 82/100 [1:47:52<22:11, 73.98s/it]"
     ]
    },
    {
     "name": "stdout",
     "output_type": "stream",
     "text": [
      "[I 2023-10-12 18:14:12,048] Trial 81 finished with value: 0.9960552453994751 and parameters: {'hidden_layer_size_0': 219, 'hidden_layer_size_1': 108, 'hidden_layer_size_2': 71, 'learning_rate': 0.0077527718838987444, 'dropout_prob': 0.28, 'optimizer': 'RMSprop'}. Best is trial 67 with value: 0.9991547465324402.\n"
     ]
    },
    {
     "name": "stderr",
     "output_type": "stream",
     "text": [
      "Best trial: 67. Best value: 0.999155:  83%|██████████████████████████████████       | 83/100 [1:48:52<19:44, 69.69s/it]"
     ]
    },
    {
     "name": "stdout",
     "output_type": "stream",
     "text": [
      "[I 2023-10-12 18:15:11,710] Trial 82 finished with value: 0.9337841868400574 and parameters: {'hidden_layer_size_0': 198, 'hidden_layer_size_1': 146, 'hidden_layer_size_2': 154, 'learning_rate': 0.010515899792220878, 'dropout_prob': 0.48, 'optimizer': 'SGD'}. Best is trial 67 with value: 0.9991547465324402.\n"
     ]
    },
    {
     "name": "stderr",
     "output_type": "stream",
     "text": [
      "Best trial: 67. Best value: 0.999155:  84%|██████████████████████████████████▍      | 84/100 [1:49:51<17:47, 66.69s/it]"
     ]
    },
    {
     "name": "stdout",
     "output_type": "stream",
     "text": [
      "[I 2023-10-12 18:16:11,406] Trial 83 finished with value: 0.9382925033569336 and parameters: {'hidden_layer_size_0': 139, 'hidden_layer_size_1': 138, 'hidden_layer_size_2': 223, 'learning_rate': 0.007641558314595296, 'dropout_prob': 0.24000000000000002, 'optimizer': 'SGD'}. Best is trial 67 with value: 0.9991547465324402.\n"
     ]
    },
    {
     "name": "stderr",
     "output_type": "stream",
     "text": [
      "Best trial: 67. Best value: 0.999155:  85%|██████████████████████████████████▊      | 85/100 [1:51:04<17:07, 68.50s/it]"
     ]
    },
    {
     "name": "stdout",
     "output_type": "stream",
     "text": [
      "[I 2023-10-12 18:17:24,145] Trial 84 finished with value: 0.9918287396430969 and parameters: {'hidden_layer_size_0': 89, 'hidden_layer_size_1': 230, 'hidden_layer_size_2': 87, 'learning_rate': 7.729866845060364e-05, 'dropout_prob': 0.12000000000000001, 'optimizer': 'RMSprop'}. Best is trial 67 with value: 0.9991547465324402.\n"
     ]
    },
    {
     "name": "stderr",
     "output_type": "stream",
     "text": [
      "Best trial: 67. Best value: 0.999155:  86%|███████████████████████████████████▎     | 86/100 [1:52:04<15:21, 65.79s/it]"
     ]
    },
    {
     "name": "stdout",
     "output_type": "stream",
     "text": [
      "[I 2023-10-12 18:18:23,599] Trial 85 finished with value: 0.8309383392333984 and parameters: {'hidden_layer_size_0': 233, 'hidden_layer_size_1': 68, 'hidden_layer_size_2': 163, 'learning_rate': 0.0026592916615366933, 'dropout_prob': 0.32, 'optimizer': 'SGD'}. Best is trial 67 with value: 0.9991547465324402.\n"
     ]
    },
    {
     "name": "stderr",
     "output_type": "stream",
     "text": [
      "Best trial: 67. Best value: 0.999155:  87%|███████████████████████████████████▋     | 87/100 [1:53:32<15:42, 72.47s/it]"
     ]
    },
    {
     "name": "stdout",
     "output_type": "stream",
     "text": [
      "[I 2023-10-12 18:19:51,668] Trial 86 finished with value: 0.994646430015564 and parameters: {'hidden_layer_size_0': 146, 'hidden_layer_size_1': 216, 'hidden_layer_size_2': 18, 'learning_rate': 0.008767163809723689, 'dropout_prob': 0.36, 'optimizer': 'Adam'}. Best is trial 67 with value: 0.9991547465324402.\n"
     ]
    },
    {
     "name": "stderr",
     "output_type": "stream",
     "text": [
      "Best trial: 67. Best value: 0.999155:  88%|████████████████████████████████████     | 88/100 [1:54:44<14:30, 72.53s/it]"
     ]
    },
    {
     "name": "stdout",
     "output_type": "stream",
     "text": [
      "[I 2023-10-12 18:21:04,324] Trial 87 finished with value: 0.9988729357719421 and parameters: {'hidden_layer_size_0': 139, 'hidden_layer_size_1': 154, 'hidden_layer_size_2': 178, 'learning_rate': 0.0015526738917346194, 'dropout_prob': 0.21000000000000002, 'optimizer': 'RMSprop'}. Best is trial 67 with value: 0.9991547465324402.\n"
     ]
    },
    {
     "name": "stderr",
     "output_type": "stream",
     "text": [
      "Best trial: 67. Best value: 0.999155:  89%|████████████████████████████████████▍    | 89/100 [1:56:13<14:10, 77.35s/it]"
     ]
    },
    {
     "name": "stdout",
     "output_type": "stream",
     "text": [
      "[I 2023-10-12 18:22:32,940] Trial 88 finished with value: 0.9954917430877686 and parameters: {'hidden_layer_size_0': 151, 'hidden_layer_size_1': 246, 'hidden_layer_size_2': 127, 'learning_rate': 0.010881049272328597, 'dropout_prob': 0.33, 'optimizer': 'Adam'}. Best is trial 67 with value: 0.9991547465324402.\n"
     ]
    },
    {
     "name": "stderr",
     "output_type": "stream",
     "text": [
      "Best trial: 67. Best value: 0.999155:  90%|████████████████████████████████████▉    | 90/100 [1:57:27<12:43, 76.37s/it]"
     ]
    },
    {
     "name": "stdout",
     "output_type": "stream",
     "text": [
      "[I 2023-10-12 18:23:47,008] Trial 89 finished with value: 0.910960853099823 and parameters: {'hidden_layer_size_0': 100, 'hidden_layer_size_1': 56, 'hidden_layer_size_2': 126, 'learning_rate': 2.9132699950638904e-05, 'dropout_prob': 0.2, 'optimizer': 'RMSprop'}. Best is trial 67 with value: 0.9991547465324402.\n"
     ]
    },
    {
     "name": "stderr",
     "output_type": "stream",
     "text": [
      "Best trial: 67. Best value: 0.999155:  91%|█████████████████████████████████████▎   | 91/100 [1:58:28<10:45, 71.71s/it]"
     ]
    },
    {
     "name": "stdout",
     "output_type": "stream",
     "text": [
      "[I 2023-10-12 18:24:47,853] Trial 90 finished with value: 0.10059171915054321 and parameters: {'hidden_layer_size_0': 29, 'hidden_layer_size_1': 67, 'hidden_layer_size_2': 198, 'learning_rate': 0.0001319417602392373, 'dropout_prob': 0.23, 'optimizer': 'SGD'}. Best is trial 67 with value: 0.9991547465324402.\n"
     ]
    },
    {
     "name": "stderr",
     "output_type": "stream",
     "text": [
      "Best trial: 67. Best value: 0.999155:  92%|█████████████████████████████████████▋   | 92/100 [1:59:44<09:43, 72.90s/it]"
     ]
    },
    {
     "name": "stdout",
     "output_type": "stream",
     "text": [
      "[I 2023-10-12 18:26:03,527] Trial 91 finished with value: 0.9985911846160889 and parameters: {'hidden_layer_size_0': 169, 'hidden_layer_size_1': 139, 'hidden_layer_size_2': 22, 'learning_rate': 0.007723534822300949, 'dropout_prob': 0.2, 'optimizer': 'RMSprop'}. Best is trial 67 with value: 0.9991547465324402.\n"
     ]
    },
    {
     "name": "stderr",
     "output_type": "stream",
     "text": [
      "Best trial: 67. Best value: 0.999155:  93%|██████████████████████████████████████▏  | 93/100 [2:00:56<08:29, 72.80s/it]"
     ]
    },
    {
     "name": "stdout",
     "output_type": "stream",
     "text": [
      "[I 2023-10-12 18:27:16,082] Trial 92 finished with value: 0.8667230606079102 and parameters: {'hidden_layer_size_0': 150, 'hidden_layer_size_1': 173, 'hidden_layer_size_2': 121, 'learning_rate': 1.3917899097747041e-05, 'dropout_prob': 0.32, 'optimizer': 'RMSprop'}. Best is trial 67 with value: 0.9991547465324402.\n"
     ]
    },
    {
     "name": "stderr",
     "output_type": "stream",
     "text": [
      "Best trial: 67. Best value: 0.999155:  94%|██████████████████████████████████████▌  | 94/100 [2:01:58<06:56, 69.44s/it]"
     ]
    },
    {
     "name": "stdout",
     "output_type": "stream",
     "text": [
      "[I 2023-10-12 18:28:17,677] Trial 93 finished with value: 0.1053818017244339 and parameters: {'hidden_layer_size_0': 106, 'hidden_layer_size_1': 16, 'hidden_layer_size_2': 228, 'learning_rate': 0.00011771995189460016, 'dropout_prob': 0.12000000000000001, 'optimizer': 'SGD'}. Best is trial 67 with value: 0.9991547465324402.\n"
     ]
    },
    {
     "name": "stderr",
     "output_type": "stream",
     "text": [
      "Best trial: 67. Best value: 0.999155:  95%|██████████████████████████████████████▉  | 95/100 [2:02:58<05:33, 66.67s/it]"
     ]
    },
    {
     "name": "stdout",
     "output_type": "stream",
     "text": [
      "[I 2023-10-12 18:29:17,888] Trial 94 finished with value: 0.2865596115589142 and parameters: {'hidden_layer_size_0': 166, 'hidden_layer_size_1': 163, 'hidden_layer_size_2': 218, 'learning_rate': 0.0005832630387980749, 'dropout_prob': 0.25, 'optimizer': 'SGD'}. Best is trial 67 with value: 0.9991547465324402.\n"
     ]
    },
    {
     "name": "stderr",
     "output_type": "stream",
     "text": [
      "Best trial: 67. Best value: 0.999155:  96%|███████████████████████████████████████▎ | 96/100 [2:04:28<04:55, 73.81s/it]"
     ]
    },
    {
     "name": "stdout",
     "output_type": "stream",
     "text": [
      "[I 2023-10-12 18:30:48,353] Trial 95 finished with value: 0.8382643461227417 and parameters: {'hidden_layer_size_0': 197, 'hidden_layer_size_1': 55, 'hidden_layer_size_2': 116, 'learning_rate': 0.025988062497881013, 'dropout_prob': 0.11, 'optimizer': 'Adam'}. Best is trial 67 with value: 0.9991547465324402.\n"
     ]
    },
    {
     "name": "stderr",
     "output_type": "stream",
     "text": [
      "Best trial: 67. Best value: 0.999155:  97%|███████████████████████████████████████▊ | 97/100 [2:05:42<03:40, 73.64s/it]"
     ]
    },
    {
     "name": "stdout",
     "output_type": "stream",
     "text": [
      "[I 2023-10-12 18:32:01,604] Trial 96 finished with value: 0.4497041404247284 and parameters: {'hidden_layer_size_0': 87, 'hidden_layer_size_1': 186, 'hidden_layer_size_2': 137, 'learning_rate': 0.03511802745873663, 'dropout_prob': 0.25, 'optimizer': 'RMSprop'}. Best is trial 67 with value: 0.9991547465324402.\n"
     ]
    },
    {
     "name": "stderr",
     "output_type": "stream",
     "text": [
      "Best trial: 67. Best value: 0.999155:  98%|████████████████████████████████████████▏| 98/100 [2:06:57<02:28, 74.06s/it]"
     ]
    },
    {
     "name": "stdout",
     "output_type": "stream",
     "text": [
      "[I 2023-10-12 18:33:16,643] Trial 97 finished with value: 0.8238940834999084 and parameters: {'hidden_layer_size_0': 209, 'hidden_layer_size_1': 69, 'hidden_layer_size_2': 65, 'learning_rate': 1.6674753187983143e-05, 'dropout_prob': 0.29000000000000004, 'optimizer': 'RMSprop'}. Best is trial 67 with value: 0.9991547465324402.\n"
     ]
    },
    {
     "name": "stderr",
     "output_type": "stream",
     "text": [
      "Best trial: 67. Best value: 0.999155:  99%|████████████████████████████████████████▌| 99/100 [2:08:11<01:14, 74.17s/it]"
     ]
    },
    {
     "name": "stdout",
     "output_type": "stream",
     "text": [
      "[I 2023-10-12 18:34:31,068] Trial 98 finished with value: 0.9802761673927307 and parameters: {'hidden_layer_size_0': 245, 'hidden_layer_size_1': 211, 'hidden_layer_size_2': 199, 'learning_rate': 2.486903746211653e-05, 'dropout_prob': 0.11, 'optimizer': 'RMSprop'}. Best is trial 67 with value: 0.9991547465324402.\n"
     ]
    },
    {
     "name": "stderr",
     "output_type": "stream",
     "text": [
      "Best trial: 67. Best value: 0.999155: 100%|████████████████████████████████████████| 100/100 [2:09:10<00:00, 77.50s/it]"
     ]
    },
    {
     "name": "stdout",
     "output_type": "stream",
     "text": [
      "[I 2023-10-12 18:35:29,874] Trial 99 finished with value: 0.15666384994983673 and parameters: {'hidden_layer_size_0': 207, 'hidden_layer_size_1': 107, 'hidden_layer_size_2': 200, 'learning_rate': 0.00038939571915668137, 'dropout_prob': 0.49, 'optimizer': 'SGD'}. Best is trial 67 with value: 0.9991547465324402.\n",
      "\n",
      " \n",
      " best params:  {'hidden_layer_size_0': 205, 'hidden_layer_size_1': 217, 'hidden_layer_size_2': 70, 'learning_rate': 0.000463015512030927, 'dropout_prob': 0.44000000000000006, 'optimizer': 'RMSprop'} \n",
      " \n",
      " best score:  [0.9991547465324402] \n",
      "\n",
      "\n",
      " \n",
      " best params:  {'hidden_layer_size_0': 205, 'hidden_layer_size_1': 217, 'hidden_layer_size_2': 70, 'learning_rate': 0.000463015512030927, 'dropout_prob': 0.44000000000000006, 'optimizer': 'RMSprop'} \n",
      " \n",
      " best score:  [0.9991547465324402] \n",
      "\n",
      "Optimization completed in 129.2408654808998 minutes.\n"
     ]
    },
    {
     "name": "stderr",
     "output_type": "stream",
     "text": [
      "\n"
     ]
    }
   ],
   "source": [
    "# (1)定义优化的目标函数\n",
    "def optuna_objective(trial):\n",
    "    \n",
    "    # 定义超参数空间\n",
    "    # 层数固定\n",
    "    hidden_layer_sizes = [trial.suggest_int(f\"hidden_layer_size_{i}\", 16, 256) for i in range(3)]\n",
    "    # 层数3-5层\n",
    "    # hidden_layer_sizes = [trial.suggest_int(f\"hidden_layer_size_{i}\", 16, 256) for i in range(trial.suggest_int(\"num_hidden_layers\", 3, 5))]\n",
    "    learning_rate = trial.suggest_float(\"learning_rate\", 1e-5, 1e-1, log=True)\n",
    "    dropout_prob = trial.suggest_float(\"dropout_prob\", 0.1, 0.5, step=0.01)\n",
    "    \n",
    "    # 根据超参数定义 DNN 模型\n",
    "    model = DNN(input_size, num_classes, hidden_layer_sizes, dropout_prob)\n",
    "    model.to(device)\n",
    "    \n",
    "    # 定义优化器和损失函数\n",
    "    optimizer_name = trial.suggest_categorical(\"optimizer\", [\"Adam\", \"SGD\", \"RMSprop\"])\n",
    "    if optimizer_name == \"Adam\":\n",
    "        optimizer = torch.optim.Adam(model.parameters(), lr=learning_rate)\n",
    "    elif optimizer_name == \"SGD\":\n",
    "        optimizer = torch.optim.SGD(model.parameters(), lr=learning_rate)\n",
    "    elif optimizer_name == \"RMSprop\":\n",
    "        optimizer = torch.optim.RMSprop(model.parameters(), lr=learning_rate)\n",
    "    #optimizer = torch.optim.Adam(model.parameters(), lr=learning_rate)\n",
    "    loss_fn = nn.CrossEntropyLoss()\n",
    "    EPOCHS = 200\n",
    "    \n",
    "    # 训练模型\n",
    "    model.train()\n",
    "    for epoch in range(EPOCHS):\n",
    "        for (x, y) in train_dataloader: # 获取小批次的 x 与 y\n",
    "            x, y = x.to(device), y.to(device)  # 将数据移动到GPU\n",
    "            output = model(x) # 一次前向传播（小批量）\n",
    "            loss = loss_fn(output, y) # 计算损失函数\n",
    "            optimizer.zero_grad() # 清理上一轮滞留的梯度\n",
    "            loss.backward() # 一次反向传播\n",
    "            optimizer.step() # 优化内部参数\n",
    "    \n",
    "    # 验证模型\n",
    "    correct = 0\n",
    "    total = 0\n",
    "    all_preds = []\n",
    "    all_labels = []\n",
    "    model.eval()\n",
    "    with torch.no_grad():\n",
    "        for (x, y) in test_dataloader: # 获取小批次的 x 与 y\n",
    "            x, y = x.to(device), y.to(device)  # 将数据移动到GPU\n",
    "            Pred = model(x) # 一次前向传播（小批量）\n",
    "            _, Pred_classes = torch.max(Pred, dim=1)  # 找到最大概率对应的类别索引\n",
    "            correct += torch.sum(Pred_classes == y)  # 计算正确的个数\n",
    "            all_preds.extend(Pred_classes.cpu().numpy())  # 将预测转换为NumPy数组并存储\n",
    "            all_labels.extend(y.cpu().numpy())  # 将真实标签转换为NumPy数组并存储\n",
    "            total += y.size(0)\n",
    "    accuracy = correct/total\n",
    "    \n",
    "    # 报告准确率给 Optuna\n",
    "    trial.report(accuracy, epoch)\n",
    "    \n",
    "    return accuracy\n",
    "\n",
    "#（2）定义优化目标函数的具体流程\n",
    "def optimizer_optuna(n_trials, algo):\n",
    "\n",
    "    # 检查是否已经存在study，存在则删除，不存在则略过    \n",
    "    try:\n",
    "        storage = \"sqlite:///ANN_GAO\"  # Specify the storage URL here.\n",
    "        study_name = \"ANN_GAO\"\n",
    "       \n",
    "        # 获取 study 的 ID\n",
    "        storage = optuna.storages.get_storage(storage)\n",
    "        study_id = storage.get_study_id_from_name(study_name)\n",
    "       \n",
    "        # 删除已存在的 study\n",
    "        storage.delete_study(study_id)\n",
    "        print(f\"Deleted existing study: {study_name}\")\n",
    "    except KeyError as e:\n",
    "        print(f\"Study '{study_name}' does not exist.\")\n",
    "        \n",
    "    #定义使用遗传算法搜索\n",
    "    if algo == \"GAO\":\n",
    "        algo = optuna.samplers.NSGAIISampler(population_size=50  # int，种群大小，即每代中包含的个体数量。默认 50\n",
    "                                           ,mutation_prob=1.0 # float，变异概率，指定了在交叉之后每个个体发生变异的概率。默认 1.0。\n",
    "                                           ,crossover_prob=1.0  # float，交叉概率，指定了在每次交叉操作中，一个个体与另一个个体产生子代的概率。默认 1.0\n",
    "                                           #,crossover_operator  # str，交叉操作符的类型。可选 \"sbx\"（模拟二进制交叉）和 \"ux\"（单点均匀交叉）。默认\"sbx\"\n",
    "                                           #,mutation_operator  # str，变异操作符的类型。可选 \"polynomial\"（多项式变异）和 \"random\"（随机变异）。默认\"polynomial\"\n",
    "                                           #,eta= # float，多项式变异操作的参数，用于控制变异的强度。较高的值表示更强的变异。默认20.0。\n",
    "                                           #,crossover_eta= # float，模拟二进制交叉操作的参数，用于控制交叉的强度。较低的值表示更强的交叉。默认20.0。\n",
    "                                           #,max_generations=  # int，最大的迭代代数。默认值为 None，表示没有最大代数限制。\n",
    "                                           )\n",
    "\n",
    "    #实际优化过程，首先实例化优化器\n",
    "    study = optuna.create_study(sampler = algo #要使用的具体算法\n",
    "                                ,direction=\"maximize\" #优化的方向，可以填写minimize或maximize\n",
    "                                ,storage=\"sqlite:///ANN_GAO\" # Specify the storage URL here.\n",
    "                                ,study_name=\"ANN_GAO\"\n",
    "                               )\n",
    "    #开始优化，n_trials为允许的最大迭代次数\n",
    "    #由于参数空间已经在目标函数中定义好，因此不需要输入参数空间\n",
    "    study.optimize(optuna_objective #目标函数\n",
    "                   ,n_trials=n_trials #最大迭代次数（包括最初的观测值的）\n",
    "                   ,show_progress_bar=True #要不要展示进度条呀？\n",
    "                  )\n",
    "\n",
    "    #可直接从优化好的对象study中调用优化的结果\n",
    "    #打印最佳参数与最佳损失值\n",
    "    print(\"\\n\",\"\\n\",\"best params: \", study.best_trial.params,\n",
    "          \"\\n\",\"\\n\",\"best score: \", study.best_trial.values,\n",
    "          \"\\n\")\n",
    "\n",
    "    return study.best_trial.params, study.best_trial.values\n",
    "\n",
    "# (3)执行优化操作\n",
    "def optimized_optuna_search_and_report(n_trials, algo):\n",
    "    start_time = time.time()\n",
    "\n",
    "    # 进行随机网格搜索优化\n",
    "    best_params, best_score = optimizer_optuna(n_trials, algo)\n",
    "    \n",
    "    # 打印最佳参数和分数\n",
    "    print(\"\\n\",\"\\n\",\"best params: \", best_params,\n",
    "          \"\\n\",\"\\n\",\"best score: \", best_score,\n",
    "          \"\\n\")\n",
    "\n",
    "    end_time = time.time()\n",
    "    time_ga= (end_time - start_time) / 60  # 转换为分钟\n",
    "    print(f\"Optimization completed in {time_ga} minutes.\")\n",
    "    \n",
    "    return best_params, best_score, time_ga\n",
    "\n",
    "# 执行优化\n",
    "best_params, best_score, time_ga = optimized_optuna_search_and_report(100, \"GAO\")"
   ]
  },
  {
   "cell_type": "markdown",
   "id": "2bca6717",
   "metadata": {},
   "source": [
    "# 5. Optuna——贝叶斯优化，调参"
   ]
  },
  {
   "cell_type": "code",
   "execution_count": 7,
   "id": "7d20ce92",
   "metadata": {},
   "outputs": [
    {
     "name": "stderr",
     "output_type": "stream",
     "text": [
      "[I 2023-10-12 19:27:28,606] A new study created in RDB with name: ANN_BO\n"
     ]
    },
    {
     "name": "stdout",
     "output_type": "stream",
     "text": [
      "Deleted existing study: ANN_BO\n"
     ]
    },
    {
     "name": "stderr",
     "output_type": "stream",
     "text": [
      "Best trial: 0. Best value: 0.0459284:   1%|▍                                         | 1/100 [01:18<2:09:14, 78.33s/it]"
     ]
    },
    {
     "name": "stdout",
     "output_type": "stream",
     "text": [
      "[I 2023-10-12 19:28:46,915] Trial 0 finished with value: 0.045928433537483215 and parameters: {'hidden_layer_size_0': 228, 'hidden_layer_size_1': 129, 'hidden_layer_size_2': 85, 'hidden_layer_size_3': 227, 'hidden_layer_size_4': 26, 'learning_rate': 2.3843846655684094e-05, 'dropout_prob': 0.31, 'optimizer': 'SGD'}. Best is trial 0 with value: 0.045928433537483215.\n"
     ]
    },
    {
     "name": "stderr",
     "output_type": "stream",
     "text": [
      "Best trial: 1. Best value: 0.166244:   2%|▊                                         | 2/100 [03:20<2:49:52, 104.01s/it]"
     ]
    },
    {
     "name": "stdout",
     "output_type": "stream",
     "text": [
      "[I 2023-10-12 19:30:48,901] Trial 1 finished with value: 0.1662440150976181 and parameters: {'hidden_layer_size_0': 196, 'hidden_layer_size_1': 243, 'hidden_layer_size_2': 75, 'hidden_layer_size_3': 155, 'hidden_layer_size_4': 55, 'learning_rate': 0.011613461035719608, 'dropout_prob': 0.44000000000000006, 'optimizer': 'Adam'}. Best is trial 1 with value: 0.1662440150976181.\n"
     ]
    },
    {
     "name": "stderr",
     "output_type": "stream",
     "text": [
      "Best trial: 2. Best value: 0.892082:   3%|█▎                                         | 3/100 [04:38<2:28:56, 92.12s/it]"
     ]
    },
    {
     "name": "stdout",
     "output_type": "stream",
     "text": [
      "[I 2023-10-12 19:32:06,886] Trial 2 finished with value: 0.8920822739601135 and parameters: {'hidden_layer_size_0': 30, 'hidden_layer_size_1': 247, 'hidden_layer_size_2': 49, 'hidden_layer_size_3': 18, 'hidden_layer_size_4': 128, 'learning_rate': 0.09902947244050729, 'dropout_prob': 0.21000000000000002, 'optimizer': 'SGD'}. Best is trial 2 with value: 0.8920822739601135.\n"
     ]
    },
    {
     "name": "stderr",
     "output_type": "stream",
     "text": [
      "Best trial: 2. Best value: 0.892082:   4%|█▋                                         | 4/100 [06:13<2:29:18, 93.31s/it]"
     ]
    },
    {
     "name": "stdout",
     "output_type": "stream",
     "text": [
      "[I 2023-10-12 19:33:42,024] Trial 3 finished with value: 0.03155818581581116 and parameters: {'hidden_layer_size_0': 57, 'hidden_layer_size_1': 69, 'hidden_layer_size_2': 151, 'hidden_layer_size_3': 210, 'hidden_layer_size_4': 17, 'learning_rate': 0.01644054248169902, 'dropout_prob': 0.14, 'optimizer': 'RMSprop'}. Best is trial 2 with value: 0.8920822739601135.\n"
     ]
    },
    {
     "name": "stderr",
     "output_type": "stream",
     "text": [
      "Best trial: 2. Best value: 0.892082:   5%|██▏                                        | 5/100 [07:31<2:18:51, 87.70s/it]"
     ]
    },
    {
     "name": "stdout",
     "output_type": "stream",
     "text": [
      "[I 2023-10-12 19:34:59,780] Trial 4 finished with value: 0.027613412588834763 and parameters: {'hidden_layer_size_0': 48, 'hidden_layer_size_1': 172, 'hidden_layer_size_2': 191, 'hidden_layer_size_3': 173, 'hidden_layer_size_4': 196, 'learning_rate': 6.070304542627742e-05, 'dropout_prob': 0.33, 'optimizer': 'SGD'}. Best is trial 2 with value: 0.8920822739601135.\n"
     ]
    },
    {
     "name": "stderr",
     "output_type": "stream",
     "text": [
      "Best trial: 2. Best value: 0.892082:   6%|██▌                                        | 6/100 [08:47<2:11:08, 83.71s/it]"
     ]
    },
    {
     "name": "stdout",
     "output_type": "stream",
     "text": [
      "[I 2023-10-12 19:36:15,738] Trial 5 finished with value: 0.06424345076084137 and parameters: {'hidden_layer_size_0': 141, 'hidden_layer_size_1': 158, 'hidden_layer_size_2': 97, 'hidden_layer_size_3': 55, 'hidden_layer_size_4': 144, 'learning_rate': 8.0780777292789e-05, 'dropout_prob': 0.43000000000000005, 'optimizer': 'SGD'}. Best is trial 2 with value: 0.8920822739601135.\n"
     ]
    },
    {
     "name": "stderr",
     "output_type": "stream",
     "text": [
      "Best trial: 2. Best value: 0.892082:   7%|███                                        | 7/100 [10:49<2:29:31, 96.46s/it]"
     ]
    },
    {
     "name": "stdout",
     "output_type": "stream",
     "text": [
      "[I 2023-10-12 19:38:18,466] Trial 6 finished with value: 0.8703860640525818 and parameters: {'hidden_layer_size_0': 174, 'hidden_layer_size_1': 16, 'hidden_layer_size_2': 162, 'hidden_layer_size_3': 112, 'hidden_layer_size_4': 114, 'learning_rate': 0.001176972848030958, 'dropout_prob': 0.4, 'optimizer': 'Adam'}. Best is trial 2 with value: 0.8920822739601135.\n"
     ]
    },
    {
     "name": "stderr",
     "output_type": "stream",
     "text": [
      "Best trial: 7. Best value: 0.997464:   8%|███▎                                      | 8/100 [12:51<2:40:20, 104.57s/it]"
     ]
    },
    {
     "name": "stdout",
     "output_type": "stream",
     "text": [
      "[I 2023-10-12 19:40:20,381] Trial 7 finished with value: 0.997464120388031 and parameters: {'hidden_layer_size_0': 130, 'hidden_layer_size_1': 79, 'hidden_layer_size_2': 86, 'hidden_layer_size_3': 144, 'hidden_layer_size_4': 75, 'learning_rate': 0.0011458224055269368, 'dropout_prob': 0.38, 'optimizer': 'Adam'}. Best is trial 7 with value: 0.997464120388031.\n"
     ]
    },
    {
     "name": "stderr",
     "output_type": "stream",
     "text": [
      "Best trial: 7. Best value: 0.997464:   9%|███▊                                       | 9/100 [14:07<2:24:45, 95.45s/it]"
     ]
    },
    {
     "name": "stdout",
     "output_type": "stream",
     "text": [
      "[I 2023-10-12 19:41:35,777] Trial 8 finished with value: 0.6770921349525452 and parameters: {'hidden_layer_size_0': 55, 'hidden_layer_size_1': 108, 'hidden_layer_size_2': 176, 'hidden_layer_size_3': 34, 'hidden_layer_size_4': 190, 'learning_rate': 0.0050933945850662275, 'dropout_prob': 0.29000000000000004, 'optimizer': 'SGD'}. Best is trial 7 with value: 0.997464120388031.\n"
     ]
    },
    {
     "name": "stderr",
     "output_type": "stream",
     "text": [
      "Best trial: 7. Best value: 0.997464:  10%|████▏                                     | 10/100 [15:23<2:14:13, 89.48s/it]"
     ]
    },
    {
     "name": "stdout",
     "output_type": "stream",
     "text": [
      "[I 2023-10-12 19:42:51,905] Trial 9 finished with value: 0.16117216646671295 and parameters: {'hidden_layer_size_0': 26, 'hidden_layer_size_1': 244, 'hidden_layer_size_2': 210, 'hidden_layer_size_3': 213, 'hidden_layer_size_4': 167, 'learning_rate': 0.0005532407880568339, 'dropout_prob': 0.14, 'optimizer': 'SGD'}. Best is trial 7 with value: 0.997464120388031.\n"
     ]
    },
    {
     "name": "stderr",
     "output_type": "stream",
     "text": [
      "Best trial: 7. Best value: 0.997464:  11%|████▌                                     | 11/100 [17:01<2:16:32, 92.05s/it]"
     ]
    },
    {
     "name": "stdout",
     "output_type": "stream",
     "text": [
      "[I 2023-10-12 19:44:29,775] Trial 10 finished with value: 0.9509721398353577 and parameters: {'hidden_layer_size_0': 146, 'hidden_layer_size_1': 185, 'hidden_layer_size_2': 38, 'hidden_layer_size_3': 235, 'hidden_layer_size_4': 132, 'learning_rate': 9.879144326092949e-05, 'dropout_prob': 0.45999999999999996, 'optimizer': 'RMSprop'}. Best is trial 7 with value: 0.997464120388031.\n"
     ]
    },
    {
     "name": "stderr",
     "output_type": "stream",
     "text": [
      "Best trial: 7. Best value: 0.997464:  12%|█████                                     | 12/100 [18:39<2:17:35, 93.81s/it]"
     ]
    },
    {
     "name": "stdout",
     "output_type": "stream",
     "text": [
      "[I 2023-10-12 19:46:07,603] Trial 11 finished with value: 0.9258946180343628 and parameters: {'hidden_layer_size_0': 39, 'hidden_layer_size_1': 32, 'hidden_layer_size_2': 225, 'hidden_layer_size_3': 44, 'hidden_layer_size_4': 145, 'learning_rate': 8.009621189718928e-05, 'dropout_prob': 0.27, 'optimizer': 'RMSprop'}. Best is trial 7 with value: 0.997464120388031.\n"
     ]
    },
    {
     "name": "stderr",
     "output_type": "stream",
     "text": [
      "Best trial: 7. Best value: 0.997464:  13%|█████▍                                    | 13/100 [19:54<2:07:52, 88.19s/it]"
     ]
    },
    {
     "name": "stdout",
     "output_type": "stream",
     "text": [
      "[I 2023-10-12 19:47:22,850] Trial 12 finished with value: 0.2341504693031311 and parameters: {'hidden_layer_size_0': 213, 'hidden_layer_size_1': 93, 'hidden_layer_size_2': 253, 'hidden_layer_size_3': 16, 'hidden_layer_size_4': 137, 'learning_rate': 0.0009567363458801491, 'dropout_prob': 0.25, 'optimizer': 'SGD'}. Best is trial 7 with value: 0.997464120388031.\n"
     ]
    },
    {
     "name": "stderr",
     "output_type": "stream",
     "text": [
      "Best trial: 7. Best value: 0.997464:  14%|█████▉                                    | 14/100 [21:33<2:11:22, 91.66s/it]"
     ]
    },
    {
     "name": "stdout",
     "output_type": "stream",
     "text": [
      "[I 2023-10-12 19:49:02,529] Trial 13 finished with value: 0.03550295904278755 and parameters: {'hidden_layer_size_0': 189, 'hidden_layer_size_1': 253, 'hidden_layer_size_2': 123, 'hidden_layer_size_3': 178, 'hidden_layer_size_4': 111, 'learning_rate': 0.031068543693498773, 'dropout_prob': 0.11, 'optimizer': 'RMSprop'}. Best is trial 7 with value: 0.997464120388031.\n"
     ]
    },
    {
     "name": "stderr",
     "output_type": "stream",
     "text": [
      "Best trial: 7. Best value: 0.997464:  15%|██████▏                                  | 15/100 [23:42<2:25:43, 102.86s/it]"
     ]
    },
    {
     "name": "stdout",
     "output_type": "stream",
     "text": [
      "[I 2023-10-12 19:51:11,366] Trial 14 finished with value: 0.9456185102462769 and parameters: {'hidden_layer_size_0': 185, 'hidden_layer_size_1': 235, 'hidden_layer_size_2': 19, 'hidden_layer_size_3': 256, 'hidden_layer_size_4': 219, 'learning_rate': 0.0010530846521836508, 'dropout_prob': 0.48, 'optimizer': 'Adam'}. Best is trial 7 with value: 0.997464120388031.\n"
     ]
    },
    {
     "name": "stderr",
     "output_type": "stream",
     "text": [
      "Best trial: 7. Best value: 0.997464:  16%|██████▌                                  | 16/100 [25:31<2:26:41, 104.78s/it]"
     ]
    },
    {
     "name": "stdout",
     "output_type": "stream",
     "text": [
      "[I 2023-10-12 19:53:00,576] Trial 15 finished with value: 0.9895745515823364 and parameters: {'hidden_layer_size_0': 96, 'hidden_layer_size_1': 192, 'hidden_layer_size_2': 20, 'hidden_layer_size_3': 112, 'hidden_layer_size_4': 79, 'learning_rate': 0.0003433019129409248, 'dropout_prob': 0.37, 'optimizer': 'RMSprop'}. Best is trial 7 with value: 0.997464120388031.\n"
     ]
    },
    {
     "name": "stderr",
     "output_type": "stream",
     "text": [
      "Best trial: 7. Best value: 0.997464:  17%|██████▉                                  | 17/100 [27:35<2:32:41, 110.38s/it]"
     ]
    },
    {
     "name": "stdout",
     "output_type": "stream",
     "text": [
      "[I 2023-10-12 19:55:03,998] Trial 16 finished with value: 0.997182309627533 and parameters: {'hidden_layer_size_0': 90, 'hidden_layer_size_1': 206, 'hidden_layer_size_2': 101, 'hidden_layer_size_3': 109, 'hidden_layer_size_4': 76, 'learning_rate': 0.0003054339270740304, 'dropout_prob': 0.35, 'optimizer': 'Adam'}. Best is trial 7 with value: 0.997464120388031.\n"
     ]
    },
    {
     "name": "stderr",
     "output_type": "stream",
     "text": [
      "Best trial: 17. Best value: 0.997746:  18%|███████▏                                | 18/100 [29:38<2:35:56, 114.11s/it]"
     ]
    },
    {
     "name": "stdout",
     "output_type": "stream",
     "text": [
      "[I 2023-10-12 19:57:06,783] Trial 17 finished with value: 0.9977458715438843 and parameters: {'hidden_layer_size_0': 107, 'hidden_layer_size_1': 76, 'hidden_layer_size_2': 121, 'hidden_layer_size_3': 78, 'hidden_layer_size_4': 85, 'learning_rate': 0.0027736036969908187, 'dropout_prob': 0.33999999999999997, 'optimizer': 'Adam'}. Best is trial 17 with value: 0.9977458715438843.\n"
     ]
    },
    {
     "name": "stderr",
     "output_type": "stream",
     "text": [
      "Best trial: 17. Best value: 0.997746:  19%|███████▌                                | 19/100 [31:40<2:37:10, 116.43s/it]"
     ]
    },
    {
     "name": "stdout",
     "output_type": "stream",
     "text": [
      "[I 2023-10-12 19:59:08,620] Trial 18 finished with value: 0.997464120388031 and parameters: {'hidden_layer_size_0': 101, 'hidden_layer_size_1': 78, 'hidden_layer_size_2': 113, 'hidden_layer_size_3': 87, 'hidden_layer_size_4': 76, 'learning_rate': 0.0022699926706249963, 'dropout_prob': 0.38, 'optimizer': 'Adam'}. Best is trial 17 with value: 0.9977458715438843.\n"
     ]
    },
    {
     "name": "stderr",
     "output_type": "stream",
     "text": [
      "Best trial: 17. Best value: 0.997746:  20%|████████                                | 20/100 [33:42<2:37:45, 118.31s/it]"
     ]
    },
    {
     "name": "stdout",
     "output_type": "stream",
     "text": [
      "[I 2023-10-12 20:01:11,328] Trial 19 finished with value: 0.9557622075080872 and parameters: {'hidden_layer_size_0': 111, 'hidden_layer_size_1': 46, 'hidden_layer_size_2': 142, 'hidden_layer_size_3': 72, 'hidden_layer_size_4': 54, 'learning_rate': 0.003660590659959893, 'dropout_prob': 0.4, 'optimizer': 'Adam'}. Best is trial 17 with value: 0.9977458715438843.\n"
     ]
    },
    {
     "name": "stderr",
     "output_type": "stream",
     "text": [
      "Best trial: 17. Best value: 0.997746:  21%|████████▍                               | 21/100 [35:51<2:39:52, 121.43s/it]"
     ]
    },
    {
     "name": "stdout",
     "output_type": "stream",
     "text": [
      "[I 2023-10-12 20:03:20,011] Trial 20 finished with value: 0.7227388024330139 and parameters: {'hidden_layer_size_0': 159, 'hidden_layer_size_1': 113, 'hidden_layer_size_2': 71, 'hidden_layer_size_3': 87, 'hidden_layer_size_4': 100, 'learning_rate': 1.0418194588954712e-05, 'dropout_prob': 0.22, 'optimizer': 'Adam'}. Best is trial 17 with value: 0.9977458715438843.\n"
     ]
    },
    {
     "name": "stderr",
     "output_type": "stream",
     "text": [
      "Best trial: 17. Best value: 0.997746:  22%|████████▊                               | 22/100 [38:06<2:42:59, 125.38s/it]"
     ]
    },
    {
     "name": "stdout",
     "output_type": "stream",
     "text": [
      "[I 2023-10-12 20:05:34,604] Trial 21 finished with value: 0.997182309627533 and parameters: {'hidden_layer_size_0': 119, 'hidden_layer_size_1': 71, 'hidden_layer_size_2': 127, 'hidden_layer_size_3': 146, 'hidden_layer_size_4': 66, 'learning_rate': 0.0022415710890397837, 'dropout_prob': 0.37, 'optimizer': 'Adam'}. Best is trial 17 with value: 0.9977458715438843.\n"
     ]
    },
    {
     "name": "stderr",
     "output_type": "stream",
     "text": [
      "Best trial: 17. Best value: 0.997746:  23%|█████████▏                              | 23/100 [40:18<2:43:48, 127.64s/it]"
     ]
    },
    {
     "name": "stdout",
     "output_type": "stream",
     "text": [
      "[I 2023-10-12 20:07:47,515] Trial 22 finished with value: 0.9935193061828613 and parameters: {'hidden_layer_size_0': 73, 'hidden_layer_size_1': 64, 'hidden_layer_size_2': 106, 'hidden_layer_size_3': 96, 'hidden_layer_size_4': 90, 'learning_rate': 0.0034844116235804032, 'dropout_prob': 0.4, 'optimizer': 'Adam'}. Best is trial 17 with value: 0.9977458715438843.\n"
     ]
    },
    {
     "name": "stderr",
     "output_type": "stream",
     "text": [
      "Best trial: 17. Best value: 0.997746:  24%|█████████▌                              | 24/100 [42:33<2:44:15, 129.68s/it]"
     ]
    },
    {
     "name": "stdout",
     "output_type": "stream",
     "text": [
      "[I 2023-10-12 20:10:01,949] Trial 23 finished with value: 0.9484362006187439 and parameters: {'hidden_layer_size_0': 109, 'hidden_layer_size_1': 93, 'hidden_layer_size_2': 56, 'hidden_layer_size_3': 135, 'hidden_layer_size_4': 40, 'learning_rate': 0.0017955722198121967, 'dropout_prob': 0.5, 'optimizer': 'Adam'}. Best is trial 17 with value: 0.9977458715438843.\n"
     ]
    },
    {
     "name": "stderr",
     "output_type": "stream",
     "text": [
      "Best trial: 17. Best value: 0.997746:  25%|██████████                              | 25/100 [44:39<2:40:39, 128.52s/it]"
     ]
    },
    {
     "name": "stdout",
     "output_type": "stream",
     "text": [
      "[I 2023-10-12 20:12:07,784] Trial 24 finished with value: 0.8918005228042603 and parameters: {'hidden_layer_size_0': 128, 'hidden_layer_size_1': 83, 'hidden_layer_size_2': 118, 'hidden_layer_size_3': 130, 'hidden_layer_size_4': 89, 'learning_rate': 0.008854131836122997, 'dropout_prob': 0.32, 'optimizer': 'Adam'}. Best is trial 17 with value: 0.9977458715438843.\n"
     ]
    },
    {
     "name": "stderr",
     "output_type": "stream",
     "text": [
      "Best trial: 17. Best value: 0.997746:  26%|██████████▍                             | 26/100 [46:41<2:36:12, 126.66s/it]"
     ]
    },
    {
     "name": "stdout",
     "output_type": "stream",
     "text": [
      "[I 2023-10-12 20:14:10,095] Trial 25 finished with value: 0.9949281811714172 and parameters: {'hidden_layer_size_0': 255, 'hidden_layer_size_1': 47, 'hidden_layer_size_2': 144, 'hidden_layer_size_3': 70, 'hidden_layer_size_4': 39, 'learning_rate': 0.0022609522790074973, 'dropout_prob': 0.36, 'optimizer': 'Adam'}. Best is trial 17 with value: 0.9977458715438843.\n"
     ]
    },
    {
     "name": "stderr",
     "output_type": "stream",
     "text": [
      "Best trial: 17. Best value: 0.997746:  27%|██████████▊                             | 27/100 [48:43<2:32:16, 125.16s/it]"
     ]
    },
    {
     "name": "stdout",
     "output_type": "stream",
     "text": [
      "[I 2023-10-12 20:16:11,754] Trial 26 finished with value: 0.9619611501693726 and parameters: {'hidden_layer_size_0': 79, 'hidden_layer_size_1': 134, 'hidden_layer_size_2': 82, 'hidden_layer_size_3': 73, 'hidden_layer_size_4': 64, 'learning_rate': 0.005070938170144038, 'dropout_prob': 0.4, 'optimizer': 'Adam'}. Best is trial 17 with value: 0.9977458715438843.\n"
     ]
    },
    {
     "name": "stderr",
     "output_type": "stream",
     "text": [
      "Best trial: 27. Best value: 0.998309:  28%|███████████▏                            | 28/100 [50:48<2:30:11, 125.16s/it]"
     ]
    },
    {
     "name": "stdout",
     "output_type": "stream",
     "text": [
      "[I 2023-10-12 20:18:16,921] Trial 27 finished with value: 0.9983094334602356 and parameters: {'hidden_layer_size_0': 137, 'hidden_layer_size_1': 106, 'hidden_layer_size_2': 113, 'hidden_layer_size_3': 91, 'hidden_layer_size_4': 108, 'learning_rate': 0.0006257776169213656, 'dropout_prob': 0.43000000000000005, 'optimizer': 'Adam'}. Best is trial 27 with value: 0.9983094334602356.\n"
     ]
    },
    {
     "name": "stderr",
     "output_type": "stream",
     "text": [
      "Best trial: 27. Best value: 0.998309:  29%|███████████▌                            | 29/100 [53:07<2:33:11, 129.46s/it]"
     ]
    },
    {
     "name": "stdout",
     "output_type": "stream",
     "text": [
      "[I 2023-10-12 20:20:36,420] Trial 28 finished with value: 0.9980276226997375 and parameters: {'hidden_layer_size_0': 166, 'hidden_layer_size_1': 119, 'hidden_layer_size_2': 58, 'hidden_layer_size_3': 169, 'hidden_layer_size_4': 250, 'learning_rate': 0.00043928793245705006, 'dropout_prob': 0.44000000000000006, 'optimizer': 'Adam'}. Best is trial 27 with value: 0.9983094334602356.\n"
     ]
    },
    {
     "name": "stderr",
     "output_type": "stream",
     "text": [
      "Best trial: 27. Best value: 0.998309:  30%|████████████                            | 30/100 [55:29<2:35:24, 133.21s/it]"
     ]
    },
    {
     "name": "stdout",
     "output_type": "stream",
     "text": [
      "[I 2023-10-12 20:22:58,361] Trial 29 finished with value: 0.9966188073158264 and parameters: {'hidden_layer_size_0': 167, 'hidden_layer_size_1': 116, 'hidden_layer_size_2': 63, 'hidden_layer_size_3': 116, 'hidden_layer_size_4': 227, 'learning_rate': 0.0002861757774271259, 'dropout_prob': 0.43000000000000005, 'optimizer': 'Adam'}. Best is trial 27 with value: 0.9983094334602356.\n"
     ]
    },
    {
     "name": "stderr",
     "output_type": "stream",
     "text": [
      "Best trial: 27. Best value: 0.998309:  31%|████████████▍                           | 31/100 [57:56<2:37:48, 137.23s/it]"
     ]
    },
    {
     "name": "stdout",
     "output_type": "stream",
     "text": [
      "[I 2023-10-12 20:25:24,967] Trial 30 finished with value: 0.9926739931106567 and parameters: {'hidden_layer_size_0': 158, 'hidden_layer_size_1': 120, 'hidden_layer_size_2': 35, 'hidden_layer_size_3': 182, 'hidden_layer_size_4': 237, 'learning_rate': 0.0002030913320593597, 'dropout_prob': 0.45999999999999996, 'optimizer': 'Adam'}. Best is trial 27 with value: 0.9983094334602356.\n"
     ]
    },
    {
     "name": "stderr",
     "output_type": "stream",
     "text": [
      "Best trial: 31. Best value: 0.998591:  32%|████████████▏                         | 32/100 [1:00:09<2:34:15, 136.11s/it]"
     ]
    },
    {
     "name": "stdout",
     "output_type": "stream",
     "text": [
      "[I 2023-10-12 20:27:38,488] Trial 31 finished with value: 0.9985911846160889 and parameters: {'hidden_layer_size_0': 139, 'hidden_layer_size_1': 161, 'hidden_layer_size_2': 87, 'hidden_layer_size_3': 169, 'hidden_layer_size_4': 107, 'learning_rate': 0.0005496503596140045, 'dropout_prob': 0.43000000000000005, 'optimizer': 'Adam'}. Best is trial 31 with value: 0.9985911846160889.\n"
     ]
    },
    {
     "name": "stderr",
     "output_type": "stream",
     "text": [
      "Best trial: 31. Best value: 0.998591:  33%|████████████▌                         | 33/100 [1:02:18<2:29:26, 133.83s/it]"
     ]
    },
    {
     "name": "stdout",
     "output_type": "stream",
     "text": [
      "[I 2023-10-12 20:29:46,994] Trial 32 finished with value: 0.9983094334602356 and parameters: {'hidden_layer_size_0': 209, 'hidden_layer_size_1': 133, 'hidden_layer_size_2': 92, 'hidden_layer_size_3': 166, 'hidden_layer_size_4': 158, 'learning_rate': 0.0006774345647955813, 'dropout_prob': 0.45000000000000007, 'optimizer': 'Adam'}. Best is trial 31 with value: 0.9985911846160889.\n"
     ]
    },
    {
     "name": "stderr",
     "output_type": "stream",
     "text": [
      "Best trial: 31. Best value: 0.998591:  34%|████████████▉                         | 34/100 [1:04:21<2:23:47, 130.72s/it]"
     ]
    },
    {
     "name": "stdout",
     "output_type": "stream",
     "text": [
      "[I 2023-10-12 20:31:50,459] Trial 33 finished with value: 0.9977458715438843 and parameters: {'hidden_layer_size_0': 211, 'hidden_layer_size_1': 156, 'hidden_layer_size_2': 85, 'hidden_layer_size_3': 191, 'hidden_layer_size_4': 180, 'learning_rate': 0.0006245717986539021, 'dropout_prob': 0.45000000000000007, 'optimizer': 'Adam'}. Best is trial 31 with value: 0.9985911846160889.\n"
     ]
    },
    {
     "name": "stderr",
     "output_type": "stream",
     "text": [
      "Best trial: 31. Best value: 0.998591:  35%|█████████████▎                        | 35/100 [1:06:19<2:17:27, 126.89s/it]"
     ]
    },
    {
     "name": "stdout",
     "output_type": "stream",
     "text": [
      "[I 2023-10-12 20:33:48,393] Trial 34 finished with value: 0.9949281811714172 and parameters: {'hidden_layer_size_0': 215, 'hidden_layer_size_1': 146, 'hidden_layer_size_2': 44, 'hidden_layer_size_3': 158, 'hidden_layer_size_4': 159, 'learning_rate': 0.00017421516997384327, 'dropout_prob': 0.43000000000000005, 'optimizer': 'Adam'}. Best is trial 31 with value: 0.9985911846160889.\n"
     ]
    },
    {
     "name": "stderr",
     "output_type": "stream",
     "text": [
      "Best trial: 31. Best value: 0.998591:  36%|█████████████▋                        | 36/100 [1:08:21<2:13:49, 125.47s/it]"
     ]
    },
    {
     "name": "stdout",
     "output_type": "stream",
     "text": [
      "[I 2023-10-12 20:35:50,550] Trial 35 finished with value: 0.9983094334602356 and parameters: {'hidden_layer_size_0': 149, 'hidden_layer_size_1': 156, 'hidden_layer_size_2': 93, 'hidden_layer_size_3': 172, 'hidden_layer_size_4': 250, 'learning_rate': 0.0005893601760352358, 'dropout_prob': 0.5, 'optimizer': 'Adam'}. Best is trial 31 with value: 0.9985911846160889.\n"
     ]
    },
    {
     "name": "stderr",
     "output_type": "stream",
     "text": [
      "Best trial: 31. Best value: 0.998591:  37%|██████████████                        | 37/100 [1:10:24<2:10:51, 124.63s/it]"
     ]
    },
    {
     "name": "stdout",
     "output_type": "stream",
     "text": [
      "[I 2023-10-12 20:37:53,229] Trial 36 finished with value: 0.997182309627533 and parameters: {'hidden_layer_size_0': 148, 'hidden_layer_size_1': 167, 'hidden_layer_size_2': 89, 'hidden_layer_size_3': 207, 'hidden_layer_size_4': 206, 'learning_rate': 0.0006924834886613464, 'dropout_prob': 0.5, 'optimizer': 'Adam'}. Best is trial 31 with value: 0.9985911846160889.\n"
     ]
    },
    {
     "name": "stderr",
     "output_type": "stream",
     "text": [
      "Best trial: 31. Best value: 0.998591:  38%|██████████████▍                       | 38/100 [1:12:22<2:06:39, 122.58s/it]"
     ]
    },
    {
     "name": "stdout",
     "output_type": "stream",
     "text": [
      "[I 2023-10-12 20:39:51,011] Trial 37 finished with value: 0.9977458715438843 and parameters: {'hidden_layer_size_0': 179, 'hidden_layer_size_1': 146, 'hidden_layer_size_2': 74, 'hidden_layer_size_3': 187, 'hidden_layer_size_4': 126, 'learning_rate': 0.0009079746692915628, 'dropout_prob': 0.49, 'optimizer': 'Adam'}. Best is trial 31 with value: 0.9985911846160889.\n"
     ]
    },
    {
     "name": "stderr",
     "output_type": "stream",
     "text": [
      "Best trial: 31. Best value: 0.998591:  39%|██████████████▊                       | 39/100 [1:14:24<2:04:32, 122.50s/it]"
     ]
    },
    {
     "name": "stdout",
     "output_type": "stream",
     "text": [
      "[I 2023-10-12 20:41:53,325] Trial 38 finished with value: 0.9977458715438843 and parameters: {'hidden_layer_size_0': 255, 'hidden_layer_size_1': 183, 'hidden_layer_size_2': 163, 'hidden_layer_size_3': 160, 'hidden_layer_size_4': 170, 'learning_rate': 0.0005234407979063674, 'dropout_prob': 0.48, 'optimizer': 'Adam'}. Best is trial 31 with value: 0.9985911846160889.\n"
     ]
    },
    {
     "name": "stderr",
     "output_type": "stream",
     "text": [
      "Best trial: 31. Best value: 0.998591:  40%|███████████████▏                      | 40/100 [1:15:41<1:48:52, 108.88s/it]"
     ]
    },
    {
     "name": "stdout",
     "output_type": "stream",
     "text": [
      "[I 2023-10-12 20:43:10,434] Trial 39 finished with value: 0.18286842107772827 and parameters: {'hidden_layer_size_0': 132, 'hidden_layer_size_1': 207, 'hidden_layer_size_2': 109, 'hidden_layer_size_3': 202, 'hidden_layer_size_4': 155, 'learning_rate': 0.0014459866771359344, 'dropout_prob': 0.45999999999999996, 'optimizer': 'SGD'}. Best is trial 31 with value: 0.9985911846160889.\n"
     ]
    },
    {
     "name": "stderr",
     "output_type": "stream",
     "text": [
      "Best trial: 31. Best value: 0.998591:  41%|███████████████▌                      | 41/100 [1:17:20<1:43:54, 105.68s/it]"
     ]
    },
    {
     "name": "stdout",
     "output_type": "stream",
     "text": [
      "[I 2023-10-12 20:44:48,631] Trial 40 finished with value: 0.9985911846160889 and parameters: {'hidden_layer_size_0': 225, 'hidden_layer_size_1': 147, 'hidden_layer_size_2': 92, 'hidden_layer_size_3': 165, 'hidden_layer_size_4': 120, 'learning_rate': 0.0008070064561831055, 'dropout_prob': 0.42000000000000004, 'optimizer': 'RMSprop'}. Best is trial 31 with value: 0.9985911846160889.\n"
     ]
    },
    {
     "name": "stderr",
     "output_type": "stream",
     "text": [
      "Best trial: 31. Best value: 0.998591:  42%|███████████████▉                      | 42/100 [1:18:58<1:40:02, 103.49s/it]"
     ]
    },
    {
     "name": "stdout",
     "output_type": "stream",
     "text": [
      "[I 2023-10-12 20:46:27,024] Trial 41 finished with value: 0.9977458715438843 and parameters: {'hidden_layer_size_0': 232, 'hidden_layer_size_1': 144, 'hidden_layer_size_2': 91, 'hidden_layer_size_3': 147, 'hidden_layer_size_4': 110, 'learning_rate': 0.0007736521889036947, 'dropout_prob': 0.42000000000000004, 'optimizer': 'RMSprop'}. Best is trial 31 with value: 0.9985911846160889.\n"
     ]
    },
    {
     "name": "stderr",
     "output_type": "stream",
     "text": [
      "Best trial: 31. Best value: 0.998591:  43%|████████████████▎                     | 43/100 [1:20:36<1:36:39, 101.75s/it]"
     ]
    },
    {
     "name": "stdout",
     "output_type": "stream",
     "text": [
      "[I 2023-10-12 20:48:04,721] Trial 42 finished with value: 0.9985911846160889 and parameters: {'hidden_layer_size_0': 237, 'hidden_layer_size_1': 128, 'hidden_layer_size_2': 134, 'hidden_layer_size_3': 168, 'hidden_layer_size_4': 121, 'learning_rate': 0.00038663395668478114, 'dropout_prob': 0.42000000000000004, 'optimizer': 'RMSprop'}. Best is trial 31 with value: 0.9985911846160889.\n"
     ]
    },
    {
     "name": "stderr",
     "output_type": "stream",
     "text": [
      "Best trial: 43. Best value: 0.998873:  44%|████████████████▋                     | 44/100 [1:22:14<1:33:55, 100.63s/it]"
     ]
    },
    {
     "name": "stdout",
     "output_type": "stream",
     "text": [
      "[I 2023-10-12 20:49:42,745] Trial 43 finished with value: 0.9988729357719421 and parameters: {'hidden_layer_size_0': 238, 'hidden_layer_size_1': 130, 'hidden_layer_size_2': 130, 'hidden_layer_size_3': 123, 'hidden_layer_size_4': 126, 'learning_rate': 0.0015367879878067099, 'dropout_prob': 0.41000000000000003, 'optimizer': 'RMSprop'}. Best is trial 43 with value: 0.9988729357719421.\n"
     ]
    },
    {
     "name": "stderr",
     "output_type": "stream",
     "text": [
      "Best trial: 43. Best value: 0.998873:  45%|█████████████████▌                     | 45/100 [1:23:51<1:31:23, 99.71s/it]"
     ]
    },
    {
     "name": "stdout",
     "output_type": "stream",
     "text": [
      "[I 2023-10-12 20:51:20,295] Trial 44 finished with value: 0.9983094334602356 and parameters: {'hidden_layer_size_0': 226, 'hidden_layer_size_1': 105, 'hidden_layer_size_2': 153, 'hidden_layer_size_3': 127, 'hidden_layer_size_4': 124, 'learning_rate': 0.0012304238077607205, 'dropout_prob': 0.41000000000000003, 'optimizer': 'RMSprop'}. Best is trial 43 with value: 0.9988729357719421.\n"
     ]
    },
    {
     "name": "stderr",
     "output_type": "stream",
     "text": [
      "Best trial: 43. Best value: 0.998873:  46%|█████████████████▉                     | 46/100 [1:25:29<1:29:14, 99.17s/it]"
     ]
    },
    {
     "name": "stdout",
     "output_type": "stream",
     "text": [
      "[I 2023-10-12 20:52:58,193] Trial 45 finished with value: 0.997464120388031 and parameters: {'hidden_layer_size_0': 230, 'hidden_layer_size_1': 98, 'hidden_layer_size_2': 133, 'hidden_layer_size_3': 225, 'hidden_layer_size_4': 119, 'learning_rate': 0.00019356779455784322, 'dropout_prob': 0.41000000000000003, 'optimizer': 'RMSprop'}. Best is trial 43 with value: 0.9988729357719421.\n"
     ]
    },
    {
     "name": "stderr",
     "output_type": "stream",
     "text": [
      "Best trial: 43. Best value: 0.998873:  47%|█████████████████▊                    | 47/100 [1:27:13<1:28:58, 100.73s/it]"
     ]
    },
    {
     "name": "stdout",
     "output_type": "stream",
     "text": [
      "[I 2023-10-12 20:54:42,563] Trial 46 finished with value: 0.9980276226997375 and parameters: {'hidden_layer_size_0': 194, 'hidden_layer_size_1': 169, 'hidden_layer_size_2': 192, 'hidden_layer_size_3': 150, 'hidden_layer_size_4': 105, 'learning_rate': 0.0014975743028263957, 'dropout_prob': 0.29000000000000004, 'optimizer': 'RMSprop'}. Best is trial 43 with value: 0.9988729357719421.\n"
     ]
    },
    {
     "name": "stderr",
     "output_type": "stream",
     "text": [
      "Best trial: 43. Best value: 0.998873:  48%|██████████████████▏                   | 48/100 [1:29:01<1:29:02, 102.74s/it]"
     ]
    },
    {
     "name": "stdout",
     "output_type": "stream",
     "text": [
      "[I 2023-10-12 20:56:29,993] Trial 47 finished with value: 0.9977458715438843 and parameters: {'hidden_layer_size_0': 233, 'hidden_layer_size_1': 134, 'hidden_layer_size_2': 171, 'hidden_layer_size_3': 98, 'hidden_layer_size_4': 145, 'learning_rate': 0.00038547280592800195, 'dropout_prob': 0.47, 'optimizer': 'RMSprop'}. Best is trial 43 with value: 0.9988729357719421.\n"
     ]
    },
    {
     "name": "stderr",
     "output_type": "stream",
     "text": [
      "Best trial: 43. Best value: 0.998873:  49%|██████████████████▌                   | 49/100 [1:30:47<1:28:08, 103.69s/it]"
     ]
    },
    {
     "name": "stdout",
     "output_type": "stream",
     "text": [
      "[I 2023-10-12 20:58:15,910] Trial 48 finished with value: 0.9943646192550659 and parameters: {'hidden_layer_size_0': 241, 'hidden_layer_size_1': 161, 'hidden_layer_size_2': 146, 'hidden_layer_size_3': 197, 'hidden_layer_size_4': 100, 'learning_rate': 0.00013390304353809522, 'dropout_prob': 0.38, 'optimizer': 'RMSprop'}. Best is trial 43 with value: 0.9988729357719421.\n"
     ]
    },
    {
     "name": "stderr",
     "output_type": "stream",
     "text": [
      "Best trial: 43. Best value: 0.998873:  50%|███████████████████                   | 50/100 [1:32:36<1:27:45, 105.31s/it]"
     ]
    },
    {
     "name": "stdout",
     "output_type": "stream",
     "text": [
      "[I 2023-10-12 21:00:04,977] Trial 49 finished with value: 0.9980276226997375 and parameters: {'hidden_layer_size_0': 242, 'hidden_layer_size_1': 175, 'hidden_layer_size_2': 129, 'hidden_layer_size_3': 121, 'hidden_layer_size_4': 144, 'learning_rate': 0.00034258588221559595, 'dropout_prob': 0.39, 'optimizer': 'RMSprop'}. Best is trial 43 with value: 0.9988729357719421.\n"
     ]
    },
    {
     "name": "stderr",
     "output_type": "stream",
     "text": [
      "Best trial: 50. Best value: 0.999155:  51%|███████████████████▍                  | 51/100 [1:34:23<1:26:33, 105.98s/it]"
     ]
    },
    {
     "name": "stdout",
     "output_type": "stream",
     "text": [
      "[I 2023-10-12 21:01:52,546] Trial 50 finished with value: 0.9991547465324402 and parameters: {'hidden_layer_size_0': 202, 'hidden_layer_size_1': 126, 'hidden_layer_size_2': 110, 'hidden_layer_size_3': 138, 'hidden_layer_size_4': 137, 'learning_rate': 0.0011044095006051535, 'dropout_prob': 0.44000000000000006, 'optimizer': 'RMSprop'}. Best is trial 50 with value: 0.9991547465324402.\n"
     ]
    },
    {
     "name": "stderr",
     "output_type": "stream",
     "text": [
      "Best trial: 50. Best value: 0.999155:  52%|███████████████████▊                  | 52/100 [1:36:10<1:24:59, 106.25s/it]"
     ]
    },
    {
     "name": "stdout",
     "output_type": "stream",
     "text": [
      "[I 2023-10-12 21:03:39,411] Trial 51 finished with value: 0.997182309627533 and parameters: {'hidden_layer_size_0': 202, 'hidden_layer_size_1': 127, 'hidden_layer_size_2': 101, 'hidden_layer_size_3': 140, 'hidden_layer_size_4': 129, 'learning_rate': 0.0012403771147769887, 'dropout_prob': 0.42000000000000004, 'optimizer': 'RMSprop'}. Best is trial 50 with value: 0.9991547465324402.\n"
     ]
    },
    {
     "name": "stderr",
     "output_type": "stream",
     "text": [
      "Best trial: 50. Best value: 0.999155:  53%|████████████████████▏                 | 53/100 [1:37:57<1:23:20, 106.39s/it]"
     ]
    },
    {
     "name": "stdout",
     "output_type": "stream",
     "text": [
      "[I 2023-10-12 21:05:26,133] Trial 52 finished with value: 0.9985911846160889 and parameters: {'hidden_layer_size_0': 221, 'hidden_layer_size_1': 144, 'hidden_layer_size_2': 135, 'hidden_layer_size_3': 164, 'hidden_layer_size_4': 100, 'learning_rate': 0.00040743880823883137, 'dropout_prob': 0.44000000000000006, 'optimizer': 'RMSprop'}. Best is trial 50 with value: 0.9991547465324402.\n"
     ]
    },
    {
     "name": "stderr",
     "output_type": "stream",
     "text": [
      "Best trial: 50. Best value: 0.999155:  54%|████████████████████▌                 | 54/100 [1:39:42<1:21:12, 105.92s/it]"
     ]
    },
    {
     "name": "stdout",
     "output_type": "stream",
     "text": [
      "[I 2023-10-12 21:07:10,950] Trial 53 finished with value: 0.9983094334602356 and parameters: {'hidden_layer_size_0': 219, 'hidden_layer_size_1': 143, 'hidden_layer_size_2': 133, 'hidden_layer_size_3': 159, 'hidden_layer_size_4': 135, 'learning_rate': 0.0003785190114866406, 'dropout_prob': 0.44000000000000006, 'optimizer': 'RMSprop'}. Best is trial 50 with value: 0.9991547465324402.\n"
     ]
    },
    {
     "name": "stderr",
     "output_type": "stream",
     "text": [
      "Best trial: 50. Best value: 0.999155:  55%|████████████████████▉                 | 55/100 [1:41:20<1:17:47, 103.71s/it]"
     ]
    },
    {
     "name": "stdout",
     "output_type": "stream",
     "text": [
      "[I 2023-10-12 21:08:49,524] Trial 54 finished with value: 0.997182309627533 and parameters: {'hidden_layer_size_0': 246, 'hidden_layer_size_1': 123, 'hidden_layer_size_2': 121, 'hidden_layer_size_3': 180, 'hidden_layer_size_4': 97, 'learning_rate': 0.0002545126624157104, 'dropout_prob': 0.45000000000000007, 'optimizer': 'RMSprop'}. Best is trial 50 with value: 0.9991547465324402.\n"
     ]
    },
    {
     "name": "stderr",
     "output_type": "stream",
     "text": [
      "Best trial: 50. Best value: 0.999155:  56%|█████████████████████▎                | 56/100 [1:43:01<1:15:28, 102.92s/it]"
     ]
    },
    {
     "name": "stdout",
     "output_type": "stream",
     "text": [
      "[I 2023-10-12 21:10:30,588] Trial 55 finished with value: 0.9980276226997375 and parameters: {'hidden_layer_size_0': 202, 'hidden_layer_size_1': 153, 'hidden_layer_size_2': 152, 'hidden_layer_size_3': 153, 'hidden_layer_size_4': 139, 'learning_rate': 0.0004918667432762091, 'dropout_prob': 0.48, 'optimizer': 'RMSprop'}. Best is trial 50 with value: 0.9991547465324402.\n"
     ]
    },
    {
     "name": "stderr",
     "output_type": "stream",
     "text": [
      "Best trial: 50. Best value: 0.999155:  57%|█████████████████████▋                | 57/100 [1:44:43<1:13:32, 102.62s/it]"
     ]
    },
    {
     "name": "stdout",
     "output_type": "stream",
     "text": [
      "[I 2023-10-12 21:12:12,524] Trial 56 finished with value: 0.9983094334602356 and parameters: {'hidden_layer_size_0': 222, 'hidden_layer_size_1': 142, 'hidden_layer_size_2': 134, 'hidden_layer_size_3': 138, 'hidden_layer_size_4': 116, 'learning_rate': 0.0007849275281810052, 'dropout_prob': 0.41000000000000003, 'optimizer': 'RMSprop'}. Best is trial 50 with value: 0.9991547465324402.\n"
     ]
    },
    {
     "name": "stderr",
     "output_type": "stream",
     "text": [
      "Best trial: 50. Best value: 0.999155:  58%|██████████████████████                | 58/100 [1:46:30<1:12:43, 103.90s/it]"
     ]
    },
    {
     "name": "stdout",
     "output_type": "stream",
     "text": [
      "[I 2023-10-12 21:13:59,402] Trial 57 finished with value: 0.9980276226997375 and parameters: {'hidden_layer_size_0': 204, 'hidden_layer_size_1': 174, 'hidden_layer_size_2': 102, 'hidden_layer_size_3': 165, 'hidden_layer_size_4': 123, 'learning_rate': 0.001558493418063052, 'dropout_prob': 0.15000000000000002, 'optimizer': 'RMSprop'}. Best is trial 50 with value: 0.9991547465324402.\n"
     ]
    },
    {
     "name": "stderr",
     "output_type": "stream",
     "text": [
      "Best trial: 50. Best value: 0.999155:  59%|██████████████████████▍               | 59/100 [1:48:09<1:09:55, 102.34s/it]"
     ]
    },
    {
     "name": "stdout",
     "output_type": "stream",
     "text": [
      "[I 2023-10-12 21:15:38,092] Trial 58 finished with value: 0.9938011169433594 and parameters: {'hidden_layer_size_0': 247, 'hidden_layer_size_1': 197, 'hidden_layer_size_2': 116, 'hidden_layer_size_3': 175, 'hidden_layer_size_4': 95, 'learning_rate': 0.00012815690349148154, 'dropout_prob': 0.35, 'optimizer': 'RMSprop'}. Best is trial 50 with value: 0.9991547465324402.\n"
     ]
    },
    {
     "name": "stderr",
     "output_type": "stream",
     "text": [
      "Best trial: 50. Best value: 0.999155:  60%|██████████████████████▊               | 60/100 [1:49:46<1:07:14, 100.87s/it]"
     ]
    },
    {
     "name": "stdout",
     "output_type": "stream",
     "text": [
      "[I 2023-10-12 21:17:15,533] Trial 59 finished with value: 0.7213299870491028 and parameters: {'hidden_layer_size_0': 16, 'hidden_layer_size_1': 229, 'hidden_layer_size_2': 140, 'hidden_layer_size_3': 131, 'hidden_layer_size_4': 115, 'learning_rate': 0.0009368461683386157, 'dropout_prob': 0.42000000000000004, 'optimizer': 'RMSprop'}. Best is trial 50 with value: 0.9991547465324402.\n"
     ]
    },
    {
     "name": "stderr",
     "output_type": "stream",
     "text": [
      "Best trial: 50. Best value: 0.999155:  61%|███████████████████████▊               | 61/100 [1:51:06<1:01:20, 94.38s/it]"
     ]
    },
    {
     "name": "stdout",
     "output_type": "stream",
     "text": [
      "[I 2023-10-12 21:18:34,771] Trial 60 finished with value: 0.06311637163162231 and parameters: {'hidden_layer_size_0': 238, 'hidden_layer_size_1': 128, 'hidden_layer_size_2': 79, 'hidden_layer_size_3': 105, 'hidden_layer_size_4': 150, 'learning_rate': 0.00024249120281465367, 'dropout_prob': 0.38, 'optimizer': 'SGD'}. Best is trial 50 with value: 0.9991547465324402.\n"
     ]
    },
    {
     "name": "stderr",
     "output_type": "stream",
     "text": [
      "Best trial: 50. Best value: 0.999155:  62%|████████████████████████▏              | 62/100 [1:52:42<1:00:09, 95.00s/it]"
     ]
    },
    {
     "name": "stdout",
     "output_type": "stream",
     "text": [
      "[I 2023-10-12 21:20:11,214] Trial 61 finished with value: 0.9983094334602356 and parameters: {'hidden_layer_size_0': 223, 'hidden_layer_size_1': 111, 'hidden_layer_size_2': 110, 'hidden_layer_size_3': 123, 'hidden_layer_size_4': 105, 'learning_rate': 0.00047942072423449463, 'dropout_prob': 0.43000000000000005, 'optimizer': 'RMSprop'}. Best is trial 50 with value: 0.9991547465324402.\n"
     ]
    },
    {
     "name": "stderr",
     "output_type": "stream",
     "text": [
      "Best trial: 50. Best value: 0.999155:  63%|█████████████████████████▊               | 63/100 [1:54:19<58:52, 95.46s/it]"
     ]
    },
    {
     "name": "stdout",
     "output_type": "stream",
     "text": [
      "[I 2023-10-12 21:21:47,759] Trial 62 finished with value: 0.9977458715438843 and parameters: {'hidden_layer_size_0': 139, 'hidden_layer_size_1': 100, 'hidden_layer_size_2': 113, 'hidden_layer_size_3': 151, 'hidden_layer_size_4': 85, 'learning_rate': 0.0010776314478260578, 'dropout_prob': 0.45999999999999996, 'optimizer': 'RMSprop'}. Best is trial 50 with value: 0.9991547465324402.\n"
     ]
    },
    {
     "name": "stderr",
     "output_type": "stream",
     "text": [
      "Best trial: 50. Best value: 0.999155:  64%|██████████████████████████▏              | 64/100 [1:56:02<58:37, 97.70s/it]"
     ]
    },
    {
     "name": "stdout",
     "output_type": "stream",
     "text": [
      "[I 2023-10-12 21:23:30,673] Trial 63 finished with value: 0.9983094334602356 and parameters: {'hidden_layer_size_0': 121, 'hidden_layer_size_1': 138, 'hidden_layer_size_2': 69, 'hidden_layer_size_3': 141, 'hidden_layer_size_4': 135, 'learning_rate': 0.0008483792113726615, 'dropout_prob': 0.39, 'optimizer': 'RMSprop'}. Best is trial 50 with value: 0.9991547465324402.\n"
     ]
    },
    {
     "name": "stderr",
     "output_type": "stream",
     "text": [
      "Best trial: 50. Best value: 0.999155:  65%|██████████████████████████▋              | 65/100 [1:57:46<58:06, 99.61s/it]"
     ]
    },
    {
     "name": "stdout",
     "output_type": "stream",
     "text": [
      "[I 2023-10-12 21:25:14,733] Trial 64 finished with value: 0.9988729357719421 and parameters: {'hidden_layer_size_0': 248, 'hidden_layer_size_1': 150, 'hidden_layer_size_2': 97, 'hidden_layer_size_3': 53, 'hidden_layer_size_4': 113, 'learning_rate': 0.0004919112249212847, 'dropout_prob': 0.44000000000000006, 'optimizer': 'RMSprop'}. Best is trial 50 with value: 0.9991547465324402.\n"
     ]
    },
    {
     "name": "stderr",
     "output_type": "stream",
     "text": [
      "Best trial: 50. Best value: 0.999155:  66%|██████████████████████████▍             | 66/100 [1:59:30<57:10, 100.90s/it]"
     ]
    },
    {
     "name": "stdout",
     "output_type": "stream",
     "text": [
      "[I 2023-10-12 21:26:58,667] Trial 65 finished with value: 0.997182309627533 and parameters: {'hidden_layer_size_0': 249, 'hidden_layer_size_1': 164, 'hidden_layer_size_2': 97, 'hidden_layer_size_3': 189, 'hidden_layer_size_4': 128, 'learning_rate': 0.0018613216298395156, 'dropout_prob': 0.44000000000000006, 'optimizer': 'RMSprop'}. Best is trial 50 with value: 0.9991547465324402.\n"
     ]
    },
    {
     "name": "stderr",
     "output_type": "stream",
     "text": [
      "Best trial: 50. Best value: 0.999155:  67%|███████████████████████████▍             | 67/100 [2:01:05<54:37, 99.31s/it]"
     ]
    },
    {
     "name": "stdout",
     "output_type": "stream",
     "text": [
      "[I 2023-10-12 21:28:34,267] Trial 66 finished with value: 0.997464120388031 and parameters: {'hidden_layer_size_0': 238, 'hidden_layer_size_1': 124, 'hidden_layer_size_2': 123, 'hidden_layer_size_3': 35, 'hidden_layer_size_4': 120, 'learning_rate': 0.0003943743078115792, 'dropout_prob': 0.47, 'optimizer': 'RMSprop'}. Best is trial 50 with value: 0.9991547465324402.\n"
     ]
    },
    {
     "name": "stderr",
     "output_type": "stream",
     "text": [
      "Best trial: 50. Best value: 0.999155:  68%|███████████████████████████▏            | 68/100 [2:02:47<53:22, 100.06s/it]"
     ]
    },
    {
     "name": "stdout",
     "output_type": "stream",
     "text": [
      "[I 2023-10-12 21:30:16,078] Trial 67 finished with value: 0.997464120388031 and parameters: {'hidden_layer_size_0': 186, 'hidden_layer_size_1': 148, 'hidden_layer_size_2': 100, 'hidden_layer_size_3': 51, 'hidden_layer_size_4': 109, 'learning_rate': 0.00032300447774969115, 'dropout_prob': 0.39, 'optimizer': 'RMSprop'}. Best is trial 50 with value: 0.9991547465324402.\n"
     ]
    },
    {
     "name": "stderr",
     "output_type": "stream",
     "text": [
      "Best trial: 50. Best value: 0.999155:  69%|████████████████████████████▎            | 69/100 [2:04:09<48:54, 94.66s/it]"
     ]
    },
    {
     "name": "stdout",
     "output_type": "stream",
     "text": [
      "[I 2023-10-12 21:31:38,146] Trial 68 finished with value: 0.10115525871515274 and parameters: {'hidden_layer_size_0': 194, 'hidden_layer_size_1': 154, 'hidden_layer_size_2': 182, 'hidden_layer_size_3': 64, 'hidden_layer_size_4': 82, 'learning_rate': 0.00048381312865036275, 'dropout_prob': 0.36, 'optimizer': 'SGD'}. Best is trial 50 with value: 0.9991547465324402.\n"
     ]
    },
    {
     "name": "stderr",
     "output_type": "stream",
     "text": [
      "Best trial: 50. Best value: 0.999155:  70%|████████████████████████████▋            | 70/100 [2:05:53<48:39, 97.31s/it]"
     ]
    },
    {
     "name": "stdout",
     "output_type": "stream",
     "text": [
      "[I 2023-10-12 21:33:21,617] Trial 69 finished with value: 0.9977458715438843 and parameters: {'hidden_layer_size_0': 216, 'hidden_layer_size_1': 163, 'hidden_layer_size_2': 251, 'hidden_layer_size_3': 165, 'hidden_layer_size_4': 65, 'learning_rate': 0.0002484767949943378, 'dropout_prob': 0.41000000000000003, 'optimizer': 'RMSprop'}. Best is trial 50 with value: 0.9991547465324402.\n"
     ]
    },
    {
     "name": "stderr",
     "output_type": "stream",
     "text": [
      "Best trial: 50. Best value: 0.999155:  71%|████████████████████████████▍           | 71/100 [2:07:44<49:02, 101.45s/it]"
     ]
    },
    {
     "name": "stdout",
     "output_type": "stream",
     "text": [
      "[I 2023-10-12 21:35:12,750] Trial 70 finished with value: 0.997182309627533 and parameters: {'hidden_layer_size_0': 256, 'hidden_layer_size_1': 132, 'hidden_layer_size_2': 79, 'hidden_layer_size_3': 256, 'hidden_layer_size_4': 72, 'learning_rate': 0.001274170534711698, 'dropout_prob': 0.47, 'optimizer': 'RMSprop'}. Best is trial 50 with value: 0.9991547465324402.\n"
     ]
    },
    {
     "name": "stderr",
     "output_type": "stream",
     "text": [
      "Best trial: 50. Best value: 0.999155:  72%|████████████████████████████▊           | 72/100 [2:09:34<48:32, 104.02s/it]"
     ]
    },
    {
     "name": "stdout",
     "output_type": "stream",
     "text": [
      "[I 2023-10-12 21:37:02,754] Trial 71 finished with value: 0.9991547465324402 and parameters: {'hidden_layer_size_0': 234, 'hidden_layer_size_1': 89, 'hidden_layer_size_2': 160, 'hidden_layer_size_3': 176, 'hidden_layer_size_4': 109, 'learning_rate': 0.0005767080739647219, 'dropout_prob': 0.44000000000000006, 'optimizer': 'RMSprop'}. Best is trial 50 with value: 0.9991547465324402.\n"
     ]
    },
    {
     "name": "stderr",
     "output_type": "stream",
     "text": [
      "Best trial: 50. Best value: 0.999155:  73%|█████████████████████████████▏          | 73/100 [2:11:24<47:35, 105.77s/it]"
     ]
    },
    {
     "name": "stdout",
     "output_type": "stream",
     "text": [
      "[I 2023-10-12 21:38:52,599] Trial 72 finished with value: 0.9983094334602356 and parameters: {'hidden_layer_size_0': 237, 'hidden_layer_size_1': 57, 'hidden_layer_size_2': 156, 'hidden_layer_size_3': 183, 'hidden_layer_size_4': 89, 'learning_rate': 0.0007351558860013819, 'dropout_prob': 0.44000000000000006, 'optimizer': 'RMSprop'}. Best is trial 50 with value: 0.9991547465324402.\n"
     ]
    },
    {
     "name": "stderr",
     "output_type": "stream",
     "text": [
      "Best trial: 50. Best value: 0.999155:  74%|█████████████████████████████▌          | 74/100 [2:13:13<46:21, 106.97s/it]"
     ]
    },
    {
     "name": "stdout",
     "output_type": "stream",
     "text": [
      "[I 2023-10-12 21:40:42,370] Trial 73 finished with value: 0.9985911846160889 and parameters: {'hidden_layer_size_0': 227, 'hidden_layer_size_1': 85, 'hidden_layer_size_2': 159, 'hidden_layer_size_3': 158, 'hidden_layer_size_4': 100, 'learning_rate': 0.0009771164995821115, 'dropout_prob': 0.45000000000000007, 'optimizer': 'RMSprop'}. Best is trial 50 with value: 0.9991547465324402.\n"
     ]
    },
    {
     "name": "stderr",
     "output_type": "stream",
     "text": [
      "Best trial: 50. Best value: 0.999155:  75%|██████████████████████████████          | 75/100 [2:15:02<44:47, 107.51s/it]"
     ]
    },
    {
     "name": "stdout",
     "output_type": "stream",
     "text": [
      "[I 2023-10-12 21:42:31,141] Trial 74 finished with value: 0.9983094334602356 and parameters: {'hidden_layer_size_0': 230, 'hidden_layer_size_1': 186, 'hidden_layer_size_2': 128, 'hidden_layer_size_3': 169, 'hidden_layer_size_4': 115, 'learning_rate': 0.0005810924647712297, 'dropout_prob': 0.4, 'optimizer': 'RMSprop'}. Best is trial 50 with value: 0.9991547465324402.\n"
     ]
    },
    {
     "name": "stderr",
     "output_type": "stream",
     "text": [
      "Best trial: 50. Best value: 0.999155:  76%|██████████████████████████████▍         | 76/100 [2:16:50<43:05, 107.75s/it]"
     ]
    },
    {
     "name": "stdout",
     "output_type": "stream",
     "text": [
      "[I 2023-10-12 21:44:19,446] Trial 75 finished with value: 0.997464120388031 and parameters: {'hidden_layer_size_0': 215, 'hidden_layer_size_1': 90, 'hidden_layer_size_2': 147, 'hidden_layer_size_3': 216, 'hidden_layer_size_4': 94, 'learning_rate': 0.0004375506681825443, 'dropout_prob': 0.43000000000000005, 'optimizer': 'RMSprop'}. Best is trial 50 with value: 0.9991547465324402.\n"
     ]
    },
    {
     "name": "stderr",
     "output_type": "stream",
     "text": [
      "Best trial: 50. Best value: 0.999155:  77%|██████████████████████████████▊         | 77/100 [2:18:39<41:25, 108.05s/it]"
     ]
    },
    {
     "name": "stdout",
     "output_type": "stream",
     "text": [
      "[I 2023-10-12 21:46:08,204] Trial 76 finished with value: 0.9980276226997375 and parameters: {'hidden_layer_size_0': 209, 'hidden_layer_size_1': 151, 'hidden_layer_size_2': 106, 'hidden_layer_size_3': 193, 'hidden_layer_size_4': 137, 'learning_rate': 0.00031086182994200076, 'dropout_prob': 0.45999999999999996, 'optimizer': 'RMSprop'}. Best is trial 50 with value: 0.9991547465324402.\n"
     ]
    },
    {
     "name": "stderr",
     "output_type": "stream",
     "text": [
      "Best trial: 50. Best value: 0.999155:  78%|███████████████████████████████▏        | 78/100 [2:20:28<39:42, 108.29s/it]"
     ]
    },
    {
     "name": "stdout",
     "output_type": "stream",
     "text": [
      "[I 2023-10-12 21:47:57,038] Trial 77 finished with value: 0.9985911846160889 and parameters: {'hidden_layer_size_0': 223, 'hidden_layer_size_1': 140, 'hidden_layer_size_2': 179, 'hidden_layer_size_3': 176, 'hidden_layer_size_4': 121, 'learning_rate': 0.001877202311408581, 'dropout_prob': 0.42000000000000004, 'optimizer': 'RMSprop'}. Best is trial 50 with value: 0.9991547465324402.\n"
     ]
    },
    {
     "name": "stderr",
     "output_type": "stream",
     "text": [
      "Best trial: 50. Best value: 0.999155:  79%|███████████████████████████████▌        | 79/100 [2:22:08<37:05, 105.96s/it]"
     ]
    },
    {
     "name": "stdout",
     "output_type": "stream",
     "text": [
      "[I 2023-10-12 21:49:37,552] Trial 78 finished with value: 0.9966188073158264 and parameters: {'hidden_layer_size_0': 250, 'hidden_layer_size_1': 114, 'hidden_layer_size_2': 144, 'hidden_layer_size_3': 200, 'hidden_layer_size_4': 165, 'learning_rate': 0.0010279204886382782, 'dropout_prob': 0.24000000000000002, 'optimizer': 'RMSprop'}. Best is trial 50 with value: 0.9991547465324402.\n"
     ]
    },
    {
     "name": "stderr",
     "output_type": "stream",
     "text": [
      "Best trial: 50. Best value: 0.999155:  80%|████████████████████████████████▊        | 80/100 [2:23:25<32:21, 97.08s/it]"
     ]
    },
    {
     "name": "stdout",
     "output_type": "stream",
     "text": [
      "[I 2023-10-12 21:50:53,933] Trial 79 finished with value: 0.0850943922996521 and parameters: {'hidden_layer_size_0': 242, 'hidden_layer_size_1': 28, 'hidden_layer_size_2': 65, 'hidden_layer_size_3': 161, 'hidden_layer_size_4': 131, 'learning_rate': 0.0006127009735213112, 'dropout_prob': 0.49, 'optimizer': 'SGD'}. Best is trial 50 with value: 0.9991547465324402.\n"
     ]
    },
    {
     "name": "stderr",
     "output_type": "stream",
     "text": [
      "Best trial: 50. Best value: 0.999155:  81%|█████████████████████████████████▏       | 81/100 [2:25:05<31:03, 98.09s/it]"
     ]
    },
    {
     "name": "stdout",
     "output_type": "stream",
     "text": [
      "[I 2023-10-12 21:52:34,389] Trial 80 finished with value: 0.9985911846160889 and parameters: {'hidden_layer_size_0': 236, 'hidden_layer_size_1': 176, 'hidden_layer_size_2': 84, 'hidden_layer_size_3': 145, 'hidden_layer_size_4': 104, 'learning_rate': 0.0008211653687337576, 'dropout_prob': 0.37, 'optimizer': 'RMSprop'}. Best is trial 50 with value: 0.9991547465324402.\n"
     ]
    },
    {
     "name": "stderr",
     "output_type": "stream",
     "text": [
      "Best trial: 50. Best value: 0.999155:  82%|█████████████████████████████████▌       | 82/100 [2:26:48<29:48, 99.36s/it]"
     ]
    },
    {
     "name": "stdout",
     "output_type": "stream",
     "text": [
      "[I 2023-10-12 21:54:16,680] Trial 81 finished with value: 0.9963369965553284 and parameters: {'hidden_layer_size_0': 227, 'hidden_layer_size_1': 67, 'hidden_layer_size_2': 172, 'hidden_layer_size_3': 155, 'hidden_layer_size_4': 103, 'learning_rate': 0.0027365876836306737, 'dropout_prob': 0.48, 'optimizer': 'RMSprop'}. Best is trial 50 with value: 0.9991547465324402.\n"
     ]
    },
    {
     "name": "stderr",
     "output_type": "stream",
     "text": [
      "Best trial: 50. Best value: 0.999155:  83%|██████████████████████████████████       | 83/100 [2:28:26<28:05, 99.16s/it]"
     ]
    },
    {
     "name": "stdout",
     "output_type": "stream",
     "text": [
      "[I 2023-10-12 21:55:55,410] Trial 82 finished with value: 0.9960552453994751 and parameters: {'hidden_layer_size_0': 62, 'hidden_layer_size_1': 83, 'hidden_layer_size_2': 191, 'hidden_layer_size_3': 170, 'hidden_layer_size_4': 109, 'learning_rate': 0.001016881356937052, 'dropout_prob': 0.43000000000000005, 'optimizer': 'RMSprop'}. Best is trial 50 with value: 0.9991547465324402.\n"
     ]
    },
    {
     "name": "stderr",
     "output_type": "stream",
     "text": [
      "Best trial: 50. Best value: 0.999155:  84%|██████████████████████████████████▍      | 84/100 [2:30:07<26:35, 99.72s/it]"
     ]
    },
    {
     "name": "stdout",
     "output_type": "stream",
     "text": [
      "[I 2023-10-12 21:57:36,411] Trial 83 finished with value: 0.9977458715438843 and parameters: {'hidden_layer_size_0': 177, 'hidden_layer_size_1': 105, 'hidden_layer_size_2': 119, 'hidden_layer_size_3': 21, 'hidden_layer_size_4': 114, 'learning_rate': 0.000439413858099668, 'dropout_prob': 0.18, 'optimizer': 'RMSprop'}. Best is trial 50 with value: 0.9991547465324402.\n"
     ]
    },
    {
     "name": "stderr",
     "output_type": "stream",
     "text": [
      "Best trial: 50. Best value: 0.999155:  85%|██████████████████████████████████▊      | 85/100 [2:31:45<24:47, 99.20s/it]"
     ]
    },
    {
     "name": "stdout",
     "output_type": "stream",
     "text": [
      "[I 2023-10-12 21:59:14,394] Trial 84 finished with value: 0.9985911846160889 and parameters: {'hidden_layer_size_0': 230, 'hidden_layer_size_1': 120, 'hidden_layer_size_2': 205, 'hidden_layer_size_3': 179, 'hidden_layer_size_4': 98, 'learning_rate': 0.0006376450827088233, 'dropout_prob': 0.45000000000000007, 'optimizer': 'RMSprop'}. Best is trial 50 with value: 0.9991547465324402.\n"
     ]
    },
    {
     "name": "stderr",
     "output_type": "stream",
     "text": [
      "Best trial: 50. Best value: 0.999155:  86%|███████████████████████████████████▎     | 86/100 [2:33:23<23:03, 98.83s/it]"
     ]
    },
    {
     "name": "stdout",
     "output_type": "stream",
     "text": [
      "[I 2023-10-12 22:00:52,364] Trial 85 finished with value: 0.997182309627533 and parameters: {'hidden_layer_size_0': 218, 'hidden_layer_size_1': 75, 'hidden_layer_size_2': 167, 'hidden_layer_size_3': 133, 'hidden_layer_size_4': 150, 'learning_rate': 0.0014074853132079435, 'dropout_prob': 0.44000000000000006, 'optimizer': 'RMSprop'}. Best is trial 50 with value: 0.9991547465324402.\n"
     ]
    },
    {
     "name": "stderr",
     "output_type": "stream",
     "text": [
      "Best trial: 50. Best value: 0.999155:  87%|███████████████████████████████████▋     | 87/100 [2:35:03<21:29, 99.22s/it]"
     ]
    },
    {
     "name": "stdout",
     "output_type": "stream",
     "text": [
      "[I 2023-10-12 22:02:32,516] Trial 86 finished with value: 0.9980276226997375 and parameters: {'hidden_layer_size_0': 244, 'hidden_layer_size_1': 158, 'hidden_layer_size_2': 154, 'hidden_layer_size_3': 163, 'hidden_layer_size_4': 142, 'learning_rate': 0.0008071916831687856, 'dropout_prob': 0.45000000000000007, 'optimizer': 'RMSprop'}. Best is trial 50 with value: 0.9991547465324402.\n"
     ]
    },
    {
     "name": "stderr",
     "output_type": "stream",
     "text": [
      "Best trial: 50. Best value: 0.999155:  88%|████████████████████████████████████     | 88/100 [2:36:39<19:36, 98.08s/it]"
     ]
    },
    {
     "name": "stdout",
     "output_type": "stream",
     "text": [
      "[I 2023-10-12 22:04:07,920] Trial 87 finished with value: 0.9983094334602356 and parameters: {'hidden_layer_size_0': 207, 'hidden_layer_size_1': 61, 'hidden_layer_size_2': 141, 'hidden_layer_size_3': 149, 'hidden_layer_size_4': 124, 'learning_rate': 0.0009942171439146822, 'dropout_prob': 0.45999999999999996, 'optimizer': 'RMSprop'}. Best is trial 50 with value: 0.9991547465324402.\n"
     ]
    },
    {
     "name": "stderr",
     "output_type": "stream",
     "text": [
      "Best trial: 50. Best value: 0.999155:  89%|███████████████████████████████████▌    | 89/100 [2:38:23<18:20, 100.01s/it]"
     ]
    },
    {
     "name": "stdout",
     "output_type": "stream",
     "text": [
      "[I 2023-10-12 22:05:52,449] Trial 88 finished with value: 0.9977458715438843 and parameters: {'hidden_layer_size_0': 249, 'hidden_layer_size_1': 138, 'hidden_layer_size_2': 125, 'hidden_layer_size_3': 157, 'hidden_layer_size_4': 111, 'learning_rate': 0.00036299334896267553, 'dropout_prob': 0.42000000000000004, 'optimizer': 'RMSprop'}. Best is trial 50 with value: 0.9991547465324402.\n"
     ]
    },
    {
     "name": "stderr",
     "output_type": "stream",
     "text": [
      "Best trial: 50. Best value: 0.999155:  90%|████████████████████████████████████    | 90/100 [2:40:04<16:41, 100.15s/it]"
     ]
    },
    {
     "name": "stdout",
     "output_type": "stream",
     "text": [
      "[I 2023-10-12 22:07:32,934] Trial 89 finished with value: 0.9980276226997375 and parameters: {'hidden_layer_size_0': 225, 'hidden_layer_size_1': 92, 'hidden_layer_size_2': 157, 'hidden_layer_size_3': 115, 'hidden_layer_size_4': 87, 'learning_rate': 0.0005228384500764688, 'dropout_prob': 0.4, 'optimizer': 'RMSprop'}. Best is trial 50 with value: 0.9991547465324402.\n"
     ]
    },
    {
     "name": "stderr",
     "output_type": "stream",
     "text": [
      "Best trial: 50. Best value: 0.999155:  91%|█████████████████████████████████████▎   | 91/100 [2:41:22<14:01, 93.46s/it]"
     ]
    },
    {
     "name": "stdout",
     "output_type": "stream",
     "text": [
      "[I 2023-10-12 22:08:50,759] Trial 90 finished with value: 0.1896308809518814 and parameters: {'hidden_layer_size_0': 196, 'hidden_layer_size_1': 99, 'hidden_layer_size_2': 149, 'hidden_layer_size_3': 187, 'hidden_layer_size_4': 119, 'learning_rate': 0.0013449577183331418, 'dropout_prob': 0.44000000000000006, 'optimizer': 'SGD'}. Best is trial 50 with value: 0.9991547465324402.\n"
     ]
    },
    {
     "name": "stderr",
     "output_type": "stream",
     "text": [
      "Best trial: 50. Best value: 0.999155:  92%|█████████████████████████████████████▋   | 92/100 [2:43:02<12:43, 95.44s/it]"
     ]
    },
    {
     "name": "stdout",
     "output_type": "stream",
     "text": [
      "[I 2023-10-12 22:10:30,808] Trial 91 finished with value: 0.9977458715438843 and parameters: {'hidden_layer_size_0': 223, 'hidden_layer_size_1': 133, 'hidden_layer_size_2': 179, 'hidden_layer_size_3': 175, 'hidden_layer_size_4': 131, 'learning_rate': 0.001760573844644085, 'dropout_prob': 0.42000000000000004, 'optimizer': 'RMSprop'}. Best is trial 50 with value: 0.9991547465324402.\n"
     ]
    },
    {
     "name": "stderr",
     "output_type": "stream",
     "text": [
      "Best trial: 50. Best value: 0.999155:  93%|██████████████████████████████████████▏  | 93/100 [2:44:39<11:12, 96.07s/it]"
     ]
    },
    {
     "name": "stdout",
     "output_type": "stream",
     "text": [
      "[I 2023-10-12 22:12:08,370] Trial 92 finished with value: 0.9988729357719421 and parameters: {'hidden_layer_size_0': 219, 'hidden_layer_size_1': 150, 'hidden_layer_size_2': 188, 'hidden_layer_size_3': 183, 'hidden_layer_size_4': 93, 'learning_rate': 0.0017335903232470254, 'dropout_prob': 0.41000000000000003, 'optimizer': 'RMSprop'}. Best is trial 50 with value: 0.9991547465324402.\n"
     ]
    },
    {
     "name": "stderr",
     "output_type": "stream",
     "text": [
      "Best trial: 50. Best value: 0.999155:  94%|██████████████████████████████████████▌  | 94/100 [2:46:20<09:44, 97.44s/it]"
     ]
    },
    {
     "name": "stdout",
     "output_type": "stream",
     "text": [
      "[I 2023-10-12 22:13:49,014] Trial 93 finished with value: 0.9985911846160889 and parameters: {'hidden_layer_size_0': 215, 'hidden_layer_size_1': 130, 'hidden_layer_size_2': 165, 'hidden_layer_size_3': 183, 'hidden_layer_size_4': 96, 'learning_rate': 0.0006728350400909539, 'dropout_prob': 0.41000000000000003, 'optimizer': 'RMSprop'}. Best is trial 50 with value: 0.9991547465324402.\n"
     ]
    },
    {
     "name": "stderr",
     "output_type": "stream",
     "text": [
      "Best trial: 50. Best value: 0.999155:  95%|██████████████████████████████████████▉  | 95/100 [2:48:02<08:13, 98.74s/it]"
     ]
    },
    {
     "name": "stdout",
     "output_type": "stream",
     "text": [
      "[I 2023-10-12 22:15:30,780] Trial 94 finished with value: 0.9980276226997375 and parameters: {'hidden_layer_size_0': 234, 'hidden_layer_size_1': 147, 'hidden_layer_size_2': 139, 'hidden_layer_size_3': 170, 'hidden_layer_size_4': 79, 'learning_rate': 0.0008902638022241753, 'dropout_prob': 0.45000000000000007, 'optimizer': 'RMSprop'}. Best is trial 50 with value: 0.9991547465324402.\n"
     ]
    },
    {
     "name": "stderr",
     "output_type": "stream",
     "text": [
      "Best trial: 50. Best value: 0.999155:  96%|███████████████████████████████████████▎ | 96/100 [2:49:43<06:37, 99.45s/it]"
     ]
    },
    {
     "name": "stdout",
     "output_type": "stream",
     "text": [
      "[I 2023-10-12 22:17:11,871] Trial 95 finished with value: 0.9980276226997375 and parameters: {'hidden_layer_size_0': 232, 'hidden_layer_size_1': 162, 'hidden_layer_size_2': 225, 'hidden_layer_size_3': 194, 'hidden_layer_size_4': 92, 'learning_rate': 0.0011782166051306465, 'dropout_prob': 0.30000000000000004, 'optimizer': 'RMSprop'}. Best is trial 50 with value: 0.9991547465324402.\n"
     ]
    },
    {
     "name": "stderr",
     "output_type": "stream",
     "text": [
      "Best trial: 50. Best value: 0.999155:  97%|██████████████████████████████████████▊ | 97/100 [2:51:27<05:03, 101.01s/it]"
     ]
    },
    {
     "name": "stdout",
     "output_type": "stream",
     "text": [
      "[I 2023-10-12 22:18:56,523] Trial 96 finished with value: 0.9985911846160889 and parameters: {'hidden_layer_size_0': 242, 'hidden_layer_size_1': 169, 'hidden_layer_size_2': 106, 'hidden_layer_size_3': 154, 'hidden_layer_size_4': 106, 'learning_rate': 0.0023105841973176315, 'dropout_prob': 0.43000000000000005, 'optimizer': 'RMSprop'}. Best is trial 50 with value: 0.9991547465324402.\n"
     ]
    },
    {
     "name": "stderr",
     "output_type": "stream",
     "text": [
      "Best trial: 50. Best value: 0.999155:  98%|███████████████████████████████████████▏| 98/100 [2:53:17<03:27, 103.60s/it]"
     ]
    },
    {
     "name": "stdout",
     "output_type": "stream",
     "text": [
      "[I 2023-10-12 22:20:46,173] Trial 97 finished with value: 0.9977458715438843 and parameters: {'hidden_layer_size_0': 253, 'hidden_layer_size_1': 151, 'hidden_layer_size_2': 129, 'hidden_layer_size_3': 209, 'hidden_layer_size_4': 111, 'learning_rate': 0.0005292325745674642, 'dropout_prob': 0.47, 'optimizer': 'RMSprop'}. Best is trial 50 with value: 0.9991547465324402.\n"
     ]
    },
    {
     "name": "stderr",
     "output_type": "stream",
     "text": [
      "Best trial: 50. Best value: 0.999155:  99%|███████████████████████████████████████▌| 99/100 [2:55:06<01:45, 105.25s/it]"
     ]
    },
    {
     "name": "stdout",
     "output_type": "stream",
     "text": [
      "[I 2023-10-12 22:22:35,286] Trial 98 finished with value: 0.9985911846160889 and parameters: {'hidden_layer_size_0': 219, 'hidden_layer_size_1': 110, 'hidden_layer_size_2': 159, 'hidden_layer_size_3': 82, 'hidden_layer_size_4': 99, 'learning_rate': 0.0007353858950845457, 'dropout_prob': 0.33, 'optimizer': 'RMSprop'}. Best is trial 50 with value: 0.9991547465324402.\n"
     ]
    },
    {
     "name": "stderr",
     "output_type": "stream",
     "text": [
      "Best trial: 50. Best value: 0.999155: 100%|███████████████████████████████████████| 100/100 [2:56:52<00:00, 106.12s/it]\n"
     ]
    },
    {
     "name": "stdout",
     "output_type": "stream",
     "text": [
      "[I 2023-10-12 22:24:20,876] Trial 99 finished with value: 0.9977458715438843 and parameters: {'hidden_layer_size_0': 89, 'hidden_layer_size_1': 125, 'hidden_layer_size_2': 136, 'hidden_layer_size_3': 164, 'hidden_layer_size_4': 118, 'learning_rate': 0.0015329822927368762, 'dropout_prob': 0.4, 'optimizer': 'RMSprop'}. Best is trial 50 with value: 0.9991547465324402.\n",
      "\n",
      " \n",
      " best params:  {'hidden_layer_size_0': 202, 'hidden_layer_size_1': 126, 'hidden_layer_size_2': 110, 'hidden_layer_size_3': 138, 'hidden_layer_size_4': 137, 'learning_rate': 0.0011044095006051535, 'dropout_prob': 0.44000000000000006, 'optimizer': 'RMSprop'} \n",
      " \n",
      " best score:  [0.9991547465324402] \n",
      "\n",
      "\n",
      " \n",
      " best params:  {'hidden_layer_size_0': 202, 'hidden_layer_size_1': 126, 'hidden_layer_size_2': 110, 'hidden_layer_size_3': 138, 'hidden_layer_size_4': 137, 'learning_rate': 0.0011044095006051535, 'dropout_prob': 0.44000000000000006, 'optimizer': 'RMSprop'} \n",
      " \n",
      " best score:  [0.9991547465324402] \n",
      "\n",
      "Optimization completed in 176.89816296895344 minutes.\n"
     ]
    }
   ],
   "source": [
    "# (1)定义优化的目标函数\n",
    "def optuna_objective(trial):\n",
    "    \n",
    "    # 定义超参数空间\n",
    "    # 层数固定\n",
    "    hidden_layer_sizes = [trial.suggest_int(f\"hidden_layer_size_{i}\", 16, 256) for i in range(5)]\n",
    "    # 层数3-5层\n",
    "    # hidden_layer_sizes = [trial.suggest_int(f\"hidden_layer_size_{i}\", 16, 256) for i in range(trial.suggest_int(\"num_hidden_layers\", 3, 5))]\n",
    "    learning_rate = trial.suggest_float(\"learning_rate\", 1e-5, 1e-1, log=True)\n",
    "    dropout_prob = trial.suggest_float(\"dropout_prob\", 0.1, 0.5, step=0.01)\n",
    "    \n",
    "    # 根据超参数定义 DNN 模型\n",
    "    model = DNN(input_size, num_classes, hidden_layer_sizes, dropout_prob)\n",
    "    model.to(device)\n",
    "    \n",
    "    # 定义优化器和损失函数\n",
    "    optimizer_name = trial.suggest_categorical(\"optimizer\", [\"Adam\", \"SGD\", \"RMSprop\"])\n",
    "    if optimizer_name == \"Adam\":\n",
    "        optimizer = torch.optim.Adam(model.parameters(), lr=learning_rate)\n",
    "    elif optimizer_name == \"SGD\":\n",
    "        optimizer = torch.optim.SGD(model.parameters(), lr=learning_rate)\n",
    "    elif optimizer_name == \"RMSprop\":\n",
    "        optimizer = torch.optim.RMSprop(model.parameters(), lr=learning_rate)\n",
    "    #optimizer = torch.optim.Adam(model.parameters(), lr=learning_rate)\n",
    "    loss_fn = nn.CrossEntropyLoss()\n",
    "    EPOCHS = 200\n",
    "    \n",
    "    # 训练模型\n",
    "    model.train()\n",
    "    for epoch in range(EPOCHS):\n",
    "        for (x, y) in train_dataloader: # 获取小批次的 x 与 y\n",
    "            x, y = x.to(device), y.to(device)  # 将数据移动到GPU\n",
    "            output = model(x) # 一次前向传播（小批量）\n",
    "            loss = loss_fn(output, y) # 计算损失函数\n",
    "            optimizer.zero_grad() # 清理上一轮滞留的梯度\n",
    "            loss.backward() # 一次反向传播\n",
    "            optimizer.step() # 优化内部参数\n",
    "    \n",
    "    # 验证模型\n",
    "    correct = 0\n",
    "    total = 0\n",
    "    all_preds = []\n",
    "    all_labels = []\n",
    "    model.eval()\n",
    "    with torch.no_grad():\n",
    "        for (x, y) in test_dataloader: # 获取小批次的 x 与 y\n",
    "            x, y = x.to(device), y.to(device)  # 将数据移动到GPU\n",
    "            Pred = model(x) # 一次前向传播（小批量）\n",
    "            _, Pred_classes = torch.max(Pred, dim=1)  # 找到最大概率对应的类别索引\n",
    "            correct += torch.sum(Pred_classes == y)  # 计算正确的个数\n",
    "            all_preds.extend(Pred_classes.cpu().numpy())  # 将预测转换为NumPy数组并存储\n",
    "            all_labels.extend(y.cpu().numpy())  # 将真实标签转换为NumPy数组并存储\n",
    "            total += y.size(0)\n",
    "    accuracy = correct/total\n",
    "    \n",
    "    # 报告准确率给 Optuna\n",
    "    trial.report(accuracy, epoch)\n",
    "    \n",
    "    return accuracy\n",
    "\n",
    "# （2）定义优化目标函数的具体流程\n",
    "def optimizer_optuna(n_trials, algo):\n",
    "\n",
    "    # 检查是否已经存在study，存在则删除，不存在则略过    \n",
    "    try:\n",
    "        storage = \"sqlite:///ANN_BO\"  # Specify the storage URL here.\n",
    "        study_name = \"ANN_BO\"\n",
    "       \n",
    "        # 获取 study 的 ID\n",
    "        storage = optuna.storages.get_storage(storage)\n",
    "        study_id = storage.get_study_id_from_name(study_name)\n",
    "       \n",
    "        # 删除已存在的 study\n",
    "        storage.delete_study(study_id)\n",
    "        print(f\"Deleted existing study: {study_name}\")\n",
    "    except KeyError as e:\n",
    "        print(f\"Study '{study_name}' does not exist.\")\n",
    "\n",
    "    #定义使用TPE或者GP\n",
    "    if algo == \"TPE\":\n",
    "        algo = optuna.samplers.TPESampler(n_startup_trials = 15, n_ei_candidates = 12)\n",
    "    elif algo == \"GP\":\n",
    "        from optuna.integration import SkoptSampler\n",
    "        import skopt\n",
    "        algo = SkoptSampler(skopt_kwargs={'base_estimator':'GP', #选择高斯过程\n",
    "                                          'n_initial_points':30, #初始观测点10个\n",
    "                                          'acq_func':'EI'} #选择的采集函数为EI，期望增量\n",
    "                           )\n",
    "\n",
    "    #实际优化过程，首先实例化优化器\n",
    "    study = optuna.create_study(sampler = algo #要使用的具体算法\n",
    "                                ,direction=\"maximize\" #优化的方向，可以填写minimize或maximize\n",
    "                                ,storage=\"sqlite:///ANN_BO\" # Specify the storage URL here.\n",
    "                                ,study_name=\"ANN_BO\"\n",
    "                               )\n",
    "    #开始优化，n_trials为允许的最大迭代次数\n",
    "    #由于参数空间已经在目标函数中定义好，因此不需要输入参数空间\n",
    "    study.optimize(optuna_objective #目标函数\n",
    "                   ,n_trials=n_trials #最大迭代次数（包括最初的观测值的）\n",
    "                   ,show_progress_bar=True #展示进度条\n",
    "                  )\n",
    "\n",
    "    #可直接从优化好的对象study中调用优化的结果\n",
    "    #打印最佳参数与最佳损失值\n",
    "    print(\"\\n\",\"\\n\",\"best params: \", study.best_trial.params,\n",
    "          \"\\n\",\"\\n\",\"best score: \", study.best_trial.values,\n",
    "          \"\\n\")\n",
    "\n",
    "    return study.best_trial.params, study.best_trial.values\n",
    "\n",
    "# （3）执行优化操作\n",
    "def optimized_optuna_search_and_report(n_trials, algo):\n",
    "    start_time = time.time()\n",
    "    \n",
    "    # 进行贝叶斯优化\n",
    "    best_params, best_score = optimizer_optuna(n_trials, algo)\n",
    "\n",
    "    print(\"\\n\", \"\\n\", \"best params: \", best_params,\n",
    "          \"\\n\", \"\\n\", \"best score: \", best_score,\n",
    "          \"\\n\")\n",
    "\n",
    "    end_time = time.time()\n",
    "    time_bayes = (end_time - start_time) / 60  # 转换为分钟\n",
    "    print(f\"Optimization completed in {time_bayes} minutes.\")\n",
    "\n",
    "    return best_params, best_score, time_bayes\n",
    "\n",
    "# 执行优化\n",
    "best_params, best_score, time_bayes = optimized_optuna_search_and_report(100, \"TPE\")"
   ]
  },
  {
   "cell_type": "code",
   "execution_count": null,
   "id": "d9d36bf6-9c32-4a45-bb99-23f1a8227748",
   "metadata": {},
   "outputs": [],
   "source": []
  }
 ],
 "metadata": {
  "kernelspec": {
   "display_name": "Python 3 (ipykernel)",
   "language": "python",
   "name": "python3"
  },
  "language_info": {
   "codemirror_mode": {
    "name": "ipython",
    "version": 3
   },
   "file_extension": ".py",
   "mimetype": "text/x-python",
   "name": "python",
   "nbconvert_exporter": "python",
   "pygments_lexer": "ipython3",
   "version": "3.9.18"
  }
 },
 "nbformat": 4,
 "nbformat_minor": 5
}
