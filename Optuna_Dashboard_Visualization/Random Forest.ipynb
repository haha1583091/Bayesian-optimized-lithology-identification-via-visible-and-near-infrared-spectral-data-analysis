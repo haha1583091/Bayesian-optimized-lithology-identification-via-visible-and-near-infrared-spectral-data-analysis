{
 "cells": [
  {
   "cell_type": "markdown",
   "id": "fc66be28",
   "metadata": {
    "jp-MarkdownHeadingCollapsed": true
   },
   "source": [
    "# 1. 导入模块和库"
   ]
  },
  {
   "cell_type": "code",
   "execution_count": 3,
   "id": "be5dca00",
   "metadata": {},
   "outputs": [
    {
     "name": "stderr",
     "output_type": "stream",
     "text": [
      "E:\\Anaconda\\envs\\DL\\lib\\site-packages\\tqdm\\auto.py:21: TqdmWarning: IProgress not found. Please update jupyter and ipywidgets. See https://ipywidgets.readthedocs.io/en/stable/user_install.html\n",
      "  from .autonotebook import tqdm as notebook_tqdm\n"
     ]
    }
   ],
   "source": [
    "import time\n",
    "import csv\n",
    "import optuna\n",
    "import numpy as np\n",
    "import pandas as pd\n",
    "import matplotlib.pyplot as plt\n",
    "\n",
    "from scipy.signal import savgol_filter\n",
    "from sklearn.preprocessing import MinMaxScaler\n",
    "from sklearn.preprocessing import LabelEncoder\n",
    "from sklearn.decomposition import PCA\n",
    "from sklearn.model_selection import train_test_split\n",
    "from sklearn.ensemble import RandomForestClassifier as RFC\n",
    "from sklearn.model_selection import cross_val_score\n",
    "from sklearn.model_selection import KFold\n",
    "from sklearn.metrics import accuracy_score, cohen_kappa_score, confusion_matrix, classification_report"
   ]
  },
  {
   "cell_type": "markdown",
   "id": "f65b73cf",
   "metadata": {},
   "source": [
    "# 2. 导入数据+预处理+降维"
   ]
  },
  {
   "cell_type": "code",
   "execution_count": 4,
   "id": "d28364c8",
   "metadata": {
    "scrolled": true
   },
   "outputs": [],
   "source": [
    "data = pd.read_csv(r\"F:\\Code_Data\\2_Rocks_Spectrum_Reflectance_essay_30_origin_modify_2.csv\",encoding='utf-8') #encoding='GBK',防止中文乱码\n",
    "X = data.iloc[:,1:-1]\n",
    "y = data.iloc[:,-1]\n",
    "X_SG = savgol_filter(X, 5, 2)\n",
    "X_SG_mms = MinMaxScaler().fit_transform(X_SG)\n",
    "Label = LabelEncoder().fit_transform(y)\n",
    "data.iloc[:,1:-1] = X_SG_mms\n",
    "data.iloc[:, -1] = Label\n",
    "X = data.iloc[:,1:-1]\n",
    "y = data.iloc[:,-1]\n",
    "X.shape, y.shape\n",
    "\n",
    "X_dr = PCA(29).fit_transform(X)"
   ]
  },
  {
   "cell_type": "markdown",
   "id": "2589fd5d",
   "metadata": {},
   "source": [
    "# 3. 遗传算法调参"
   ]
  },
  {
   "cell_type": "code",
   "execution_count": 10,
   "id": "a3d7d277",
   "metadata": {
    "scrolled": true
   },
   "outputs": [
    {
     "name": "stderr",
     "output_type": "stream",
     "text": [
      "[I 2023-10-11 22:53:37,577] A new study created in RDB with name: random_GAO\n"
     ]
    },
    {
     "name": "stdout",
     "output_type": "stream",
     "text": [
      "Deleted existing study: random_GAO\n"
     ]
    },
    {
     "name": "stderr",
     "output_type": "stream",
     "text": [
      "Best trial: 0. Best value: 0.95722:   1%|▍                                             | 1/100 [00:15<26:04, 15.81s/it]"
     ]
    },
    {
     "name": "stdout",
     "output_type": "stream",
     "text": [
      "[I 2023-10-11 22:53:53,372] Trial 0 finished with value: 0.9572204182222072 and parameters: {'n_estimators': 46, 'max_depth': 43, 'max_features': 9, 'min_samples_leaf': 25, 'min_samples_split': 21}. Best is trial 0 with value: 0.9572204182222072.\n"
     ]
    },
    {
     "name": "stderr",
     "output_type": "stream",
     "text": [
      "Best trial: 0. Best value: 0.95722:   2%|▉                                             | 2/100 [00:21<15:43,  9.62s/it]"
     ]
    },
    {
     "name": "stdout",
     "output_type": "stream",
     "text": [
      "[I 2023-10-11 22:53:58,667] Trial 1 finished with value: 0.9223873800617985 and parameters: {'n_estimators': 6, 'max_depth': 37, 'max_features': 20, 'min_samples_leaf': 49, 'min_samples_split': 20}. Best is trial 0 with value: 0.9572204182222072.\n"
     ]
    },
    {
     "name": "stderr",
     "output_type": "stream",
     "text": [
      "Best trial: 0. Best value: 0.95722:   3%|█▍                                            | 3/100 [00:24<10:58,  6.79s/it]"
     ]
    },
    {
     "name": "stdout",
     "output_type": "stream",
     "text": [
      "[I 2023-10-11 22:54:02,086] Trial 2 finished with value: 0.8883999363784694 and parameters: {'n_estimators': 2, 'max_depth': 33, 'max_features': 29, 'min_samples_leaf': 51, 'min_samples_split': 12}. Best is trial 0 with value: 0.9572204182222072.\n"
     ]
    },
    {
     "name": "stderr",
     "output_type": "stream",
     "text": [
      "Best trial: 0. Best value: 0.95722:   4%|█▊                                            | 4/100 [01:00<29:19, 18.33s/it]"
     ]
    },
    {
     "name": "stdout",
     "output_type": "stream",
     "text": [
      "[I 2023-10-11 22:54:38,094] Trial 3 finished with value: 0.9469905407651382 and parameters: {'n_estimators': 31, 'max_depth': 47, 'max_features': 28, 'min_samples_leaf': 10, 'min_samples_split': 12}. Best is trial 0 with value: 0.9572204182222072.\n"
     ]
    },
    {
     "name": "stderr",
     "output_type": "stream",
     "text": [
      "Best trial: 0. Best value: 0.95722:   5%|██▎                                           | 5/100 [01:03<20:05, 12.69s/it]"
     ]
    },
    {
     "name": "stdout",
     "output_type": "stream",
     "text": [
      "[I 2023-10-11 22:54:40,788] Trial 4 finished with value: 0.9264461477699403 and parameters: {'n_estimators': 3, 'max_depth': 32, 'max_features': 14, 'min_samples_leaf': 22, 'min_samples_split': 4}. Best is trial 0 with value: 0.9572204182222072.\n"
     ]
    },
    {
     "name": "stderr",
     "output_type": "stream",
     "text": [
      "Best trial: 0. Best value: 0.95722:   6%|██▊                                           | 6/100 [01:46<36:01, 23.00s/it]"
     ]
    },
    {
     "name": "stdout",
     "output_type": "stream",
     "text": [
      "[I 2023-10-11 22:55:23,790] Trial 5 finished with value: 0.9443695839044676 and parameters: {'n_estimators': 102, 'max_depth': 46, 'max_features': 13, 'min_samples_leaf': 51, 'min_samples_split': 2}. Best is trial 0 with value: 0.9572204182222072.\n"
     ]
    },
    {
     "name": "stderr",
     "output_type": "stream",
     "text": [
      "Best trial: 6. Best value: 0.958573:   7%|███▏                                         | 7/100 [02:44<53:22, 34.43s/it]"
     ]
    },
    {
     "name": "stdout",
     "output_type": "stream",
     "text": [
      "[I 2023-10-11 22:56:21,762] Trial 6 finished with value: 0.9585730905945576 and parameters: {'n_estimators': 71, 'max_depth': 38, 'max_features': 19, 'min_samples_leaf': 5, 'min_samples_split': 11}. Best is trial 6 with value: 0.9585730905945576.\n"
     ]
    },
    {
     "name": "stderr",
     "output_type": "stream",
     "text": [
      "Best trial: 6. Best value: 0.958573:   8%|███▍                                       | 8/100 [03:55<1:11:01, 46.33s/it]"
     ]
    },
    {
     "name": "stdout",
     "output_type": "stream",
     "text": [
      "[I 2023-10-11 22:57:33,555] Trial 7 finished with value: 0.952739425154452 and parameters: {'n_estimators': 85, 'max_depth': 46, 'max_features': 21, 'min_samples_leaf': 10, 'min_samples_split': 22}. Best is trial 6 with value: 0.9585730905945576.\n"
     ]
    },
    {
     "name": "stderr",
     "output_type": "stream",
     "text": [
      "Best trial: 6. Best value: 0.958573:   9%|███▊                                       | 9/100 [04:22<1:00:41, 40.02s/it]"
     ]
    },
    {
     "name": "stdout",
     "output_type": "stream",
     "text": [
      "[I 2023-10-11 22:57:59,711] Trial 8 finished with value: 0.9307582220999038 and parameters: {'n_estimators': 24, 'max_depth': 43, 'max_features': 27, 'min_samples_leaf': 26, 'min_samples_split': 19}. Best is trial 6 with value: 0.9585730905945576.\n"
     ]
    },
    {
     "name": "stderr",
     "output_type": "stream",
     "text": [
      "Best trial: 6. Best value: 0.958573:  10%|████▏                                     | 10/100 [05:47<1:21:09, 54.11s/it]"
     ]
    },
    {
     "name": "stdout",
     "output_type": "stream",
     "text": [
      "[I 2023-10-11 22:59:25,366] Trial 9 finished with value: 0.9473286999226176 and parameters: {'n_estimators': 73, 'max_depth': 46, 'max_features': 28, 'min_samples_leaf': 10, 'min_samples_split': 4}. Best is trial 6 with value: 0.9585730905945576.\n"
     ]
    },
    {
     "name": "stderr",
     "output_type": "stream",
     "text": [
      "Best trial: 6. Best value: 0.958573:  11%|████▊                                       | 11/100 [05:53<58:15, 39.27s/it]"
     ]
    },
    {
     "name": "stdout",
     "output_type": "stream",
     "text": [
      "[I 2023-10-11 22:59:30,995] Trial 10 finished with value: 0.9417481623921695 and parameters: {'n_estimators': 10, 'max_depth': 38, 'max_features': 13, 'min_samples_leaf': 38, 'min_samples_split': 4}. Best is trial 6 with value: 0.9585730905945576.\n"
     ]
    },
    {
     "name": "stderr",
     "output_type": "stream",
     "text": [
      "Best trial: 11. Best value: 0.963139:  12%|████▉                                    | 12/100 [06:57<1:08:31, 46.72s/it]"
     ]
    },
    {
     "name": "stdout",
     "output_type": "stream",
     "text": [
      "[I 2023-10-11 23:00:34,765] Trial 11 finished with value: 0.9631386502585071 and parameters: {'n_estimators': 112, 'max_depth': 34, 'max_features': 13, 'min_samples_leaf': 2, 'min_samples_split': 7}. Best is trial 11 with value: 0.9631386502585071.\n"
     ]
    },
    {
     "name": "stderr",
     "output_type": "stream",
     "text": [
      "Best trial: 11. Best value: 0.963139:  13%|█████▎                                   | 13/100 [07:43<1:07:43, 46.70s/it]"
     ]
    },
    {
     "name": "stdout",
     "output_type": "stream",
     "text": [
      "[I 2023-10-11 23:01:21,417] Trial 12 finished with value: 0.9600101865933709 and parameters: {'n_estimators': 73, 'max_depth': 48, 'max_features': 15, 'min_samples_leaf': 6, 'min_samples_split': 11}. Best is trial 11 with value: 0.9631386502585071.\n"
     ]
    },
    {
     "name": "stderr",
     "output_type": "stream",
     "text": [
      "Best trial: 11. Best value: 0.963139:  14%|█████▋                                   | 14/100 [08:59<1:19:23, 55.39s/it]"
     ]
    },
    {
     "name": "stdout",
     "output_type": "stream",
     "text": [
      "[I 2023-10-11 23:02:36,875] Trial 13 finished with value: 0.9485123463298777 and parameters: {'n_estimators': 140, 'max_depth': 42, 'max_features': 15, 'min_samples_leaf': 31, 'min_samples_split': 3}. Best is trial 11 with value: 0.9631386502585071.\n"
     ]
    },
    {
     "name": "stderr",
     "output_type": "stream",
     "text": [
      "Best trial: 11. Best value: 0.963139:  15%|██████▏                                  | 15/100 [11:17<1:53:59, 80.47s/it]"
     ]
    },
    {
     "name": "stdout",
     "output_type": "stream",
     "text": [
      "[I 2023-10-11 23:04:55,466] Trial 14 finished with value: 0.9140183608877706 and parameters: {'n_estimators': 141, 'max_depth': 38, 'max_features': 29, 'min_samples_leaf': 50, 'min_samples_split': 14}. Best is trial 11 with value: 0.9631386502585071.\n"
     ]
    },
    {
     "name": "stderr",
     "output_type": "stream",
     "text": [
      "Best trial: 11. Best value: 0.963139:  16%|██████▌                                  | 16/100 [11:19<1:19:34, 56.84s/it]"
     ]
    },
    {
     "name": "stdout",
     "output_type": "stream",
     "text": [
      "[I 2023-10-11 23:04:57,434] Trial 15 finished with value: 0.9191749574218269 and parameters: {'n_estimators': 2, 'max_depth': 44, 'max_features': 12, 'min_samples_leaf': 13, 'min_samples_split': 3}. Best is trial 11 with value: 0.9631386502585071.\n"
     ]
    },
    {
     "name": "stderr",
     "output_type": "stream",
     "text": [
      "Best trial: 11. Best value: 0.963139:  17%|██████▉                                  | 17/100 [11:54<1:09:21, 50.14s/it]"
     ]
    },
    {
     "name": "stdout",
     "output_type": "stream",
     "text": [
      "[I 2023-10-11 23:05:32,006] Trial 16 finished with value: 0.9421713885399038 and parameters: {'n_estimators': 56, 'max_depth': 39, 'max_features': 17, 'min_samples_leaf': 36, 'min_samples_split': 5}. Best is trial 11 with value: 0.9631386502585071.\n"
     ]
    },
    {
     "name": "stderr",
     "output_type": "stream",
     "text": [
      "Best trial: 11. Best value: 0.963139:  18%|███████▋                                   | 18/100 [11:58<49:34, 36.28s/it]"
     ]
    },
    {
     "name": "stdout",
     "output_type": "stream",
     "text": [
      "[I 2023-10-11 23:05:35,995] Trial 17 finished with value: 0.9413251149565998 and parameters: {'n_estimators': 11, 'max_depth': 30, 'max_features': 9, 'min_samples_leaf': 48, 'min_samples_split': 12}. Best is trial 11 with value: 0.9631386502585071.\n"
     ]
    },
    {
     "name": "stderr",
     "output_type": "stream",
     "text": [
      "Best trial: 11. Best value: 0.963139:  19%|████████▏                                  | 19/100 [12:02<35:45, 26.49s/it]"
     ]
    },
    {
     "name": "stdout",
     "output_type": "stream",
     "text": [
      "[I 2023-10-11 23:05:39,705] Trial 18 finished with value: 0.9584887027105274 and parameters: {'n_estimators': 16, 'max_depth': 36, 'max_features': 5, 'min_samples_leaf': 19, 'min_samples_split': 20}. Best is trial 11 with value: 0.9631386502585071.\n"
     ]
    },
    {
     "name": "stderr",
     "output_type": "stream",
     "text": [
      "Best trial: 11. Best value: 0.963139:  20%|████████▏                                | 20/100 [14:18<1:19:24, 59.55s/it]"
     ]
    },
    {
     "name": "stdout",
     "output_type": "stream",
     "text": [
      "[I 2023-10-11 23:07:56,312] Trial 19 finished with value: 0.9559524196733499 and parameters: {'n_estimators': 142, 'max_depth': 32, 'max_features': 23, 'min_samples_leaf': 6, 'min_samples_split': 7}. Best is trial 11 with value: 0.9631386502585071.\n"
     ]
    },
    {
     "name": "stderr",
     "output_type": "stream",
     "text": [
      "Best trial: 11. Best value: 0.963139:  21%|█████████                                  | 21/100 [14:24<56:57, 43.26s/it]"
     ]
    },
    {
     "name": "stdout",
     "output_type": "stream",
     "text": [
      "[I 2023-10-11 23:08:01,576] Trial 20 finished with value: 0.9495264306355541 and parameters: {'n_estimators': 13, 'max_depth': 48, 'max_features': 9, 'min_samples_leaf': 31, 'min_samples_split': 4}. Best is trial 11 with value: 0.9631386502585071.\n"
     ]
    },
    {
     "name": "stderr",
     "output_type": "stream",
     "text": [
      "Best trial: 11. Best value: 0.963139:  22%|█████████                                | 22/100 [15:56<1:15:17, 57.92s/it]"
     ]
    },
    {
     "name": "stdout",
     "output_type": "stream",
     "text": [
      "[I 2023-10-11 23:09:33,686] Trial 21 finished with value: 0.915202150264762 and parameters: {'n_estimators': 93, 'max_depth': 38, 'max_features': 29, 'min_samples_leaf': 46, 'min_samples_split': 20}. Best is trial 11 with value: 0.9631386502585071.\n"
     ]
    },
    {
     "name": "stderr",
     "output_type": "stream",
     "text": [
      "Best trial: 11. Best value: 0.963139:  23%|█████████▍                               | 23/100 [16:39<1:08:36, 53.47s/it]"
     ]
    },
    {
     "name": "stdout",
     "output_type": "stream",
     "text": [
      "[I 2023-10-11 23:10:16,764] Trial 22 finished with value: 0.9518094070509097 and parameters: {'n_estimators': 126, 'max_depth': 41, 'max_features': 10, 'min_samples_leaf': 43, 'min_samples_split': 10}. Best is trial 11 with value: 0.9631386502585071.\n"
     ]
    },
    {
     "name": "stderr",
     "output_type": "stream",
     "text": [
      "Best trial: 11. Best value: 0.963139:  24%|█████████▊                               | 24/100 [17:48<1:13:44, 58.22s/it]"
     ]
    },
    {
     "name": "stdout",
     "output_type": "stream",
     "text": [
      "[I 2023-10-11 23:11:26,071] Trial 23 finished with value: 0.9238252981365683 and parameters: {'n_estimators': 72, 'max_depth': 49, 'max_features': 27, 'min_samples_leaf': 37, 'min_samples_split': 16}. Best is trial 11 with value: 0.9631386502585071.\n"
     ]
    },
    {
     "name": "stderr",
     "output_type": "stream",
     "text": [
      "Best trial: 11. Best value: 0.963139:  25%|██████████▊                                | 25/100 [17:52<52:30, 42.01s/it]"
     ]
    },
    {
     "name": "stdout",
     "output_type": "stream",
     "text": [
      "[I 2023-10-11 23:11:30,257] Trial 24 finished with value: 0.9169767977996959 and parameters: {'n_estimators': 4, 'max_depth': 40, 'max_features': 22, 'min_samples_leaf': 41, 'min_samples_split': 15}. Best is trial 11 with value: 0.9631386502585071.\n"
     ]
    },
    {
     "name": "stderr",
     "output_type": "stream",
     "text": [
      "Best trial: 11. Best value: 0.963139:  26%|██████████▋                              | 26/100 [19:43<1:17:21, 62.72s/it]"
     ]
    },
    {
     "name": "stdout",
     "output_type": "stream",
     "text": [
      "[I 2023-10-11 23:13:21,300] Trial 25 finished with value: 0.9502878874256335 and parameters: {'n_estimators': 111, 'max_depth': 36, 'max_features': 25, 'min_samples_leaf': 10, 'min_samples_split': 2}. Best is trial 11 with value: 0.9631386502585071.\n"
     ]
    },
    {
     "name": "stderr",
     "output_type": "stream",
     "text": [
      "Best trial: 11. Best value: 0.963139:  27%|███████████                              | 27/100 [20:58<1:20:38, 66.28s/it]"
     ]
    },
    {
     "name": "stdout",
     "output_type": "stream",
     "text": [
      "[I 2023-10-11 23:14:35,867] Trial 26 finished with value: 0.9497804878484664 and parameters: {'n_estimators': 150, 'max_depth': 33, 'max_features': 14, 'min_samples_leaf': 31, 'min_samples_split': 14}. Best is trial 11 with value: 0.9631386502585071.\n"
     ]
    },
    {
     "name": "stderr",
     "output_type": "stream",
     "text": [
      "Best trial: 11. Best value: 0.963139:  28%|███████████▍                             | 28/100 [21:39<1:10:39, 58.88s/it]"
     ]
    },
    {
     "name": "stdout",
     "output_type": "stream",
     "text": [
      "[I 2023-10-11 23:15:17,512] Trial 27 finished with value: 0.9484274937942201 and parameters: {'n_estimators': 116, 'max_depth': 42, 'max_features': 11, 'min_samples_leaf': 50, 'min_samples_split': 7}. Best is trial 11 with value: 0.9631386502585071.\n"
     ]
    },
    {
     "name": "stderr",
     "output_type": "stream",
     "text": [
      "Best trial: 11. Best value: 0.963139:  29%|███████████▉                             | 29/100 [23:23<1:25:28, 72.24s/it]"
     ]
    },
    {
     "name": "stdout",
     "output_type": "stream",
     "text": [
      "[I 2023-10-11 23:17:00,902] Trial 28 finished with value: 0.9338016545172181 and parameters: {'n_estimators': 125, 'max_depth': 35, 'max_features': 23, 'min_samples_leaf': 34, 'min_samples_split': 16}. Best is trial 11 with value: 0.9631386502585071.\n"
     ]
    },
    {
     "name": "stderr",
     "output_type": "stream",
     "text": [
      "Best trial: 11. Best value: 0.963139:  30%|████████████▎                            | 30/100 [24:19<1:18:32, 67.32s/it]"
     ]
    },
    {
     "name": "stdout",
     "output_type": "stream",
     "text": [
      "[I 2023-10-11 23:17:56,763] Trial 29 finished with value: 0.9471594595029298 and parameters: {'n_estimators': 115, 'max_depth': 46, 'max_features': 14, 'min_samples_leaf': 39, 'min_samples_split': 4}. Best is trial 11 with value: 0.9631386502585071.\n"
     ]
    },
    {
     "name": "stderr",
     "output_type": "stream",
     "text": [
      "Best trial: 11. Best value: 0.963139:  31%|████████████▋                            | 31/100 [24:57<1:07:32, 58.73s/it]"
     ]
    },
    {
     "name": "stdout",
     "output_type": "stream",
     "text": [
      "[I 2023-10-11 23:18:35,429] Trial 30 finished with value: 0.9502876729710362 and parameters: {'n_estimators': 52, 'max_depth': 50, 'max_features': 19, 'min_samples_leaf': 19, 'min_samples_split': 17}. Best is trial 11 with value: 0.9631386502585071.\n"
     ]
    },
    {
     "name": "stderr",
     "output_type": "stream",
     "text": [
      "Best trial: 11. Best value: 0.963139:  32%|█████████████▊                             | 32/100 [25:32<58:31, 51.64s/it]"
     ]
    },
    {
     "name": "stdout",
     "output_type": "stream",
     "text": [
      "[I 2023-10-11 23:19:10,527] Trial 31 finished with value: 0.94775128270656 and parameters: {'n_estimators': 80, 'max_depth': 43, 'max_features': 13, 'min_samples_leaf': 43, 'min_samples_split': 13}. Best is trial 11 with value: 0.9631386502585071.\n"
     ]
    },
    {
     "name": "stderr",
     "output_type": "stream",
     "text": [
      "Best trial: 11. Best value: 0.963139:  33%|██████████████▏                            | 33/100 [26:15<54:40, 48.96s/it]"
     ]
    },
    {
     "name": "stdout",
     "output_type": "stream",
     "text": [
      "[I 2023-10-11 23:19:53,224] Trial 32 finished with value: 0.9560365931027828 and parameters: {'n_estimators': 119, 'max_depth': 38, 'max_features': 10, 'min_samples_leaf': 29, 'min_samples_split': 5}. Best is trial 11 with value: 0.9631386502585071.\n"
     ]
    },
    {
     "name": "stderr",
     "output_type": "stream",
     "text": [
      "Best trial: 11. Best value: 0.963139:  34%|██████████████▌                            | 34/100 [26:59<52:07, 47.39s/it]"
     ]
    },
    {
     "name": "stdout",
     "output_type": "stream",
     "text": [
      "[I 2023-10-11 23:20:36,966] Trial 33 finished with value: 0.9239946815259874 and parameters: {'n_estimators': 41, 'max_depth': 44, 'max_features': 29, 'min_samples_leaf': 32, 'min_samples_split': 12}. Best is trial 11 with value: 0.9631386502585071.\n"
     ]
    },
    {
     "name": "stderr",
     "output_type": "stream",
     "text": [
      "Best trial: 11. Best value: 0.963139:  35%|███████████████                            | 35/100 [28:10<59:06, 54.56s/it]"
     ]
    },
    {
     "name": "stdout",
     "output_type": "stream",
     "text": [
      "[I 2023-10-11 23:21:48,249] Trial 34 finished with value: 0.9199367001513693 and parameters: {'n_estimators': 68, 'max_depth': 47, 'max_features': 29, 'min_samples_leaf': 38, 'min_samples_split': 13}. Best is trial 11 with value: 0.9631386502585071.\n"
     ]
    },
    {
     "name": "stderr",
     "output_type": "stream",
     "text": [
      "Best trial: 11. Best value: 0.963139:  36%|██████████████▊                          | 36/100 [29:56<1:14:38, 69.98s/it]"
     ]
    },
    {
     "name": "stdout",
     "output_type": "stream",
     "text": [
      "[I 2023-10-11 23:23:34,209] Trial 35 finished with value: 0.9495268952871815 and parameters: {'n_estimators': 146, 'max_depth': 44, 'max_features': 19, 'min_samples_leaf': 20, 'min_samples_split': 17}. Best is trial 11 with value: 0.9631386502585071.\n"
     ]
    },
    {
     "name": "stderr",
     "output_type": "stream",
     "text": [
      "Best trial: 11. Best value: 0.963139:  37%|███████████████▏                         | 37/100 [30:48<1:07:37, 64.41s/it]"
     ]
    },
    {
     "name": "stdout",
     "output_type": "stream",
     "text": [
      "[I 2023-10-11 23:24:25,610] Trial 36 finished with value: 0.9485125250420421 and parameters: {'n_estimators': 48, 'max_depth': 47, 'max_features': 26, 'min_samples_leaf': 10, 'min_samples_split': 9}. Best is trial 11 with value: 0.9631386502585071.\n"
     ]
    },
    {
     "name": "stderr",
     "output_type": "stream",
     "text": [
      "Best trial: 11. Best value: 0.963139:  38%|███████████████▌                         | 38/100 [31:42<1:03:36, 61.55s/it]"
     ]
    },
    {
     "name": "stdout",
     "output_type": "stream",
     "text": [
      "[I 2023-10-11 23:25:20,505] Trial 37 finished with value: 0.9471596024726615 and parameters: {'n_estimators': 72, 'max_depth': 36, 'max_features': 20, 'min_samples_leaf': 22, 'min_samples_split': 20}. Best is trial 11 with value: 0.9631386502585071.\n"
     ]
    },
    {
     "name": "stderr",
     "output_type": "stream",
     "text": [
      "Best trial: 11. Best value: 0.963139:  39%|████████████████▊                          | 39/100 [31:59<48:45, 47.96s/it]"
     ]
    },
    {
     "name": "stdout",
     "output_type": "stream",
     "text": [
      "[I 2023-10-11 23:25:36,753] Trial 38 finished with value: 0.9625466483427129 and parameters: {'n_estimators': 77, 'max_depth': 48, 'max_features': 5, 'min_samples_leaf': 5, 'min_samples_split': 16}. Best is trial 11 with value: 0.9631386502585071.\n"
     ]
    },
    {
     "name": "stderr",
     "output_type": "stream",
     "text": [
      "Best trial: 11. Best value: 0.963139:  40%|█████████████████▏                         | 40/100 [32:06<35:52, 35.88s/it]"
     ]
    },
    {
     "name": "stdout",
     "output_type": "stream",
     "text": [
      "[I 2023-10-11 23:25:44,440] Trial 39 finished with value: 0.9277988916271565 and parameters: {'n_estimators': 8, 'max_depth': 42, 'max_features': 23, 'min_samples_leaf': 30, 'min_samples_split': 5}. Best is trial 11 with value: 0.9631386502585071.\n"
     ]
    },
    {
     "name": "stderr",
     "output_type": "stream",
     "text": [
      "Best trial: 11. Best value: 0.963139:  41%|█████████████████▋                         | 41/100 [33:42<52:53, 53.80s/it]"
     ]
    },
    {
     "name": "stdout",
     "output_type": "stream",
     "text": [
      "[I 2023-10-11 23:27:20,041] Trial 40 finished with value: 0.9135955993916637 and parameters: {'n_estimators': 97, 'max_depth': 33, 'max_features': 30, 'min_samples_leaf': 51, 'min_samples_split': 2}. Best is trial 11 with value: 0.9631386502585071.\n"
     ]
    },
    {
     "name": "stderr",
     "output_type": "stream",
     "text": [
      "Best trial: 11. Best value: 0.963139:  42%|██████████████████                         | 42/100 [33:46<37:42, 39.01s/it]"
     ]
    },
    {
     "name": "stdout",
     "output_type": "stream",
     "text": [
      "[I 2023-10-11 23:27:24,565] Trial 41 finished with value: 0.9431857587850432 and parameters: {'n_estimators': 11, 'max_depth': 50, 'max_features': 10, 'min_samples_leaf': 50, 'min_samples_split': 8}. Best is trial 11 with value: 0.9631386502585071.\n"
     ]
    },
    {
     "name": "stderr",
     "output_type": "stream",
     "text": [
      "Best trial: 11. Best value: 0.963139:  43%|██████████████████▍                        | 43/100 [33:49<26:38, 28.05s/it]"
     ]
    },
    {
     "name": "stdout",
     "output_type": "stream",
     "text": [
      "[I 2023-10-11 23:27:27,020] Trial 42 finished with value: 0.9399728000085782 and parameters: {'n_estimators': 4, 'max_depth': 45, 'max_features': 10, 'min_samples_leaf': 26, 'min_samples_split': 16}. Best is trial 11 with value: 0.9631386502585071.\n"
     ]
    },
    {
     "name": "stderr",
     "output_type": "stream",
     "text": [
      "Best trial: 11. Best value: 0.963139:  44%|██████████████████▉                        | 44/100 [34:19<26:50, 28.76s/it]"
     ]
    },
    {
     "name": "stdout",
     "output_type": "stream",
     "text": [
      "[I 2023-10-11 23:27:57,461] Trial 43 finished with value: 0.9613630376778856 and parameters: {'n_estimators': 135, 'max_depth': 46, 'max_features': 6, 'min_samples_leaf': 13, 'min_samples_split': 14}. Best is trial 11 with value: 0.9631386502585071.\n"
     ]
    },
    {
     "name": "stderr",
     "output_type": "stream",
     "text": [
      "Best trial: 11. Best value: 0.963139:  45%|███████████████████▎                       | 45/100 [35:05<31:04, 33.90s/it]"
     ]
    },
    {
     "name": "stdout",
     "output_type": "stream",
     "text": [
      "[I 2023-10-11 23:28:43,346] Trial 44 finished with value: 0.9447078502892456 and parameters: {'n_estimators': 75, 'max_depth': 30, 'max_features': 17, 'min_samples_leaf': 33, 'min_samples_split': 6}. Best is trial 11 with value: 0.9631386502585071.\n"
     ]
    },
    {
     "name": "stderr",
     "output_type": "stream",
     "text": [
      "Best trial: 11. Best value: 0.963139:  46%|███████████████████▊                       | 46/100 [36:27<43:21, 48.17s/it]"
     ]
    },
    {
     "name": "stdout",
     "output_type": "stream",
     "text": [
      "[I 2023-10-11 23:30:04,808] Trial 45 finished with value: 0.9361690188166039 and parameters: {'n_estimators': 134, 'max_depth': 39, 'max_features': 18, 'min_samples_leaf': 46, 'min_samples_split': 7}. Best is trial 11 with value: 0.9631386502585071.\n"
     ]
    },
    {
     "name": "stderr",
     "output_type": "stream",
     "text": [
      "Best trial: 11. Best value: 0.963139:  47%|████████████████████▏                      | 47/100 [36:41<33:33, 37.98s/it]"
     ]
    },
    {
     "name": "stdout",
     "output_type": "stream",
     "text": [
      "[I 2023-10-11 23:30:19,028] Trial 46 finished with value: 0.9607711429893898 and parameters: {'n_estimators': 59, 'max_depth': 42, 'max_features': 6, 'min_samples_leaf': 11, 'min_samples_split': 15}. Best is trial 11 with value: 0.9631386502585071.\n"
     ]
    },
    {
     "name": "stderr",
     "output_type": "stream",
     "text": [
      "Best trial: 11. Best value: 0.963139:  48%|███████████████████▋                     | 48/100 [39:05<1:00:26, 69.74s/it]"
     ]
    },
    {
     "name": "stdout",
     "output_type": "stream",
     "text": [
      "[I 2023-10-11 23:32:42,849] Trial 47 finished with value: 0.9573896586418946 and parameters: {'n_estimators': 120, 'max_depth': 36, 'max_features': 27, 'min_samples_leaf': 2, 'min_samples_split': 10}. Best is trial 11 with value: 0.9631386502585071.\n"
     ]
    },
    {
     "name": "stderr",
     "output_type": "stream",
     "text": [
      "Best trial: 11. Best value: 0.963139:  49%|█████████████████████                      | 49/100 [40:17<59:53, 70.46s/it]"
     ]
    },
    {
     "name": "stdout",
     "output_type": "stream",
     "text": [
      "[I 2023-10-11 23:33:54,982] Trial 48 finished with value: 0.9514714980904605 and parameters: {'n_estimators': 130, 'max_depth': 46, 'max_features': 15, 'min_samples_leaf': 24, 'min_samples_split': 13}. Best is trial 11 with value: 0.9631386502585071.\n"
     ]
    },
    {
     "name": "stderr",
     "output_type": "stream",
     "text": [
      "Best trial: 11. Best value: 0.963139:  50%|█████████████████████▌                     | 50/100 [40:50<49:25, 59.32s/it]"
     ]
    },
    {
     "name": "stdout",
     "output_type": "stream",
     "text": [
      "[I 2023-10-11 23:34:28,311] Trial 49 finished with value: 0.9608556738431515 and parameters: {'n_estimators': 106, 'max_depth': 40, 'max_features': 8, 'min_samples_leaf': 11, 'min_samples_split': 22}. Best is trial 11 with value: 0.9631386502585071.\n"
     ]
    },
    {
     "name": "stderr",
     "output_type": "stream",
     "text": [
      "Best trial: 11. Best value: 0.963139:  51%|█████████████████████▉                     | 51/100 [40:54<34:45, 42.55s/it]"
     ]
    },
    {
     "name": "stdout",
     "output_type": "stream",
     "text": [
      "[I 2023-10-11 23:34:31,749] Trial 50 finished with value: 0.9231482649729518 and parameters: {'n_estimators': 4, 'max_depth': 38, 'max_features': 15, 'min_samples_leaf': 36, 'min_samples_split': 5}. Best is trial 11 with value: 0.9631386502585071.\n"
     ]
    },
    {
     "name": "stderr",
     "output_type": "stream",
     "text": [
      "Best trial: 51. Best value: 0.963646:  52%|██████████████████████▎                    | 52/100 [41:22<30:41, 38.37s/it]"
     ]
    },
    {
     "name": "stdout",
     "output_type": "stream",
     "text": [
      "[I 2023-10-11 23:35:00,372] Trial 51 finished with value: 0.9636458711235096 and parameters: {'n_estimators': 71, 'max_depth': 36, 'max_features': 9, 'min_samples_leaf': 1, 'min_samples_split': 9}. Best is trial 51 with value: 0.9636458711235096.\n"
     ]
    },
    {
     "name": "stderr",
     "output_type": "stream",
     "text": [
      "Best trial: 51. Best value: 0.963646:  53%|██████████████████████▊                    | 53/100 [42:36<38:19, 48.92s/it]"
     ]
    },
    {
     "name": "stdout",
     "output_type": "stream",
     "text": [
      "[I 2023-10-11 23:36:13,915] Trial 52 finished with value: 0.9486813008101022 and parameters: {'n_estimators': 108, 'max_depth': 41, 'max_features': 18, 'min_samples_leaf': 22, 'min_samples_split': 21}. Best is trial 51 with value: 0.9636458711235096.\n"
     ]
    },
    {
     "name": "stderr",
     "output_type": "stream",
     "text": [
      "Best trial: 51. Best value: 0.963646:  54%|███████████████████████▏                   | 54/100 [43:21<36:34, 47.70s/it]"
     ]
    },
    {
     "name": "stdout",
     "output_type": "stream",
     "text": [
      "[I 2023-10-11 23:36:58,746] Trial 53 finished with value: 0.9589113569793355 and parameters: {'n_estimators': 118, 'max_depth': 31, 'max_features': 10, 'min_samples_leaf': 16, 'min_samples_split': 8}. Best is trial 51 with value: 0.9636458711235096.\n"
     ]
    },
    {
     "name": "stderr",
     "output_type": "stream",
     "text": [
      "Best trial: 51. Best value: 0.963646:  55%|███████████████████████▋                   | 55/100 [45:13<50:13, 66.97s/it]"
     ]
    },
    {
     "name": "stdout",
     "output_type": "stream",
     "text": [
      "[I 2023-10-11 23:38:50,682] Trial 54 finished with value: 0.9604330910592092 and parameters: {'n_estimators': 95, 'max_depth': 48, 'max_features': 26, 'min_samples_leaf': 1, 'min_samples_split': 2}. Best is trial 51 with value: 0.9636458711235096.\n"
     ]
    },
    {
     "name": "stderr",
     "output_type": "stream",
     "text": [
      "Best trial: 51. Best value: 0.963646:  56%|████████████████████████                   | 56/100 [46:18<48:49, 66.59s/it]"
     ]
    },
    {
     "name": "stdout",
     "output_type": "stream",
     "text": [
      "[I 2023-10-11 23:39:56,374] Trial 55 finished with value: 0.9507102557549786 and parameters: {'n_estimators': 102, 'max_depth': 31, 'max_features': 17, 'min_samples_leaf': 21, 'min_samples_split': 15}. Best is trial 51 with value: 0.9636458711235096.\n"
     ]
    },
    {
     "name": "stderr",
     "output_type": "stream",
     "text": [
      "Best trial: 51. Best value: 0.963646:  57%|████████████████████████▌                  | 57/100 [48:00<55:16, 77.12s/it]"
     ]
    },
    {
     "name": "stdout",
     "output_type": "stream",
     "text": [
      "[I 2023-10-11 23:41:38,085] Trial 56 finished with value: 0.9157938662410935 and parameters: {'n_estimators': 103, 'max_depth': 43, 'max_features': 30, 'min_samples_leaf': 45, 'min_samples_split': 2}. Best is trial 51 with value: 0.9636458711235096.\n"
     ]
    },
    {
     "name": "stderr",
     "output_type": "stream",
     "text": [
      "Best trial: 51. Best value: 0.963646:  58%|████████████████████████▉                  | 58/100 [48:55<49:24, 70.59s/it]"
     ]
    },
    {
     "name": "stdout",
     "output_type": "stream",
     "text": [
      "[I 2023-10-11 23:42:33,436] Trial 57 finished with value: 0.9525703634469288 and parameters: {'n_estimators': 92, 'max_depth': 36, 'max_features': 16, 'min_samples_leaf': 21, 'min_samples_split': 8}. Best is trial 51 with value: 0.9636458711235096.\n"
     ]
    },
    {
     "name": "stderr",
     "output_type": "stream",
     "text": [
      "Best trial: 51. Best value: 0.963646:  59%|█████████████████████████▎                 | 59/100 [50:29<52:51, 77.36s/it]"
     ]
    },
    {
     "name": "stdout",
     "output_type": "stream",
     "text": [
      "[I 2023-10-11 23:44:06,584] Trial 58 finished with value: 0.9212044485031962 and parameters: {'n_estimators': 99, 'max_depth': 43, 'max_features': 27, 'min_samples_leaf': 41, 'min_samples_split': 17}. Best is trial 51 with value: 0.9636458711235096.\n"
     ]
    },
    {
     "name": "stderr",
     "output_type": "stream",
     "text": [
      "Best trial: 51. Best value: 0.963646:  60%|█████████████████████████▊                 | 60/100 [50:51<40:37, 60.95s/it]"
     ]
    },
    {
     "name": "stdout",
     "output_type": "stream",
     "text": [
      "[I 2023-10-11 23:44:29,246] Trial 59 finished with value: 0.9607711429893898 and parameters: {'n_estimators': 100, 'max_depth': 38, 'max_features': 6, 'min_samples_leaf': 14, 'min_samples_split': 19}. Best is trial 51 with value: 0.9636458711235096.\n"
     ]
    },
    {
     "name": "stderr",
     "output_type": "stream",
     "text": [
      "Best trial: 51. Best value: 0.963646:  61%|██████████████████████████▏                | 61/100 [52:21<45:16, 69.66s/it]"
     ]
    },
    {
     "name": "stdout",
     "output_type": "stream",
     "text": [
      "[I 2023-10-11 23:45:59,237] Trial 60 finished with value: 0.954346047512416 and parameters: {'n_estimators': 125, 'max_depth': 39, 'max_features': 18, 'min_samples_leaf': 11, 'min_samples_split': 14}. Best is trial 51 with value: 0.9636458711235096.\n"
     ]
    },
    {
     "name": "stderr",
     "output_type": "stream",
     "text": [
      "Best trial: 51. Best value: 0.963646:  62%|██████████████████████████▋                | 62/100 [52:46<35:32, 56.12s/it]"
     ]
    },
    {
     "name": "stdout",
     "output_type": "stream",
     "text": [
      "[I 2023-10-11 23:46:23,771] Trial 61 finished with value: 0.9532466460194545 and parameters: {'n_estimators': 90, 'max_depth': 49, 'max_features': 8, 'min_samples_leaf': 47, 'min_samples_split': 22}. Best is trial 51 with value: 0.9636458711235096.\n"
     ]
    },
    {
     "name": "stderr",
     "output_type": "stream",
     "text": [
      "Best trial: 51. Best value: 0.963646:  63%|███████████████████████████                | 63/100 [53:53<36:39, 59.43s/it]"
     ]
    },
    {
     "name": "stdout",
     "output_type": "stream",
     "text": [
      "[I 2023-10-11 23:47:30,927] Trial 62 finished with value: 0.925939069874669 and parameters: {'n_estimators': 80, 'max_depth': 43, 'max_features': 24, 'min_samples_leaf': 43, 'min_samples_split': 7}. Best is trial 51 with value: 0.9636458711235096.\n"
     ]
    },
    {
     "name": "stderr",
     "output_type": "stream",
     "text": [
      "Best trial: 51. Best value: 0.963646:  64%|███████████████████████████▌               | 64/100 [55:06<38:12, 63.67s/it]"
     ]
    },
    {
     "name": "stdout",
     "output_type": "stream",
     "text": [
      "[I 2023-10-11 23:48:44,499] Trial 63 finished with value: 0.9458912107570427 and parameters: {'n_estimators': 132, 'max_depth': 47, 'max_features': 16, 'min_samples_leaf': 37, 'min_samples_split': 20}. Best is trial 51 with value: 0.9636458711235096.\n"
     ]
    },
    {
     "name": "stderr",
     "output_type": "stream",
     "text": [
      "Best trial: 51. Best value: 0.963646:  65%|███████████████████████████▉               | 65/100 [56:24<39:33, 67.81s/it]"
     ]
    },
    {
     "name": "stdout",
     "output_type": "stream",
     "text": [
      "[I 2023-10-11 23:50:01,968] Trial 64 finished with value: 0.9606023314788968 and parameters: {'n_estimators': 107, 'max_depth': 32, 'max_features': 17, 'min_samples_leaf': 4, 'min_samples_split': 7}. Best is trial 51 with value: 0.9636458711235096.\n"
     ]
    },
    {
     "name": "stderr",
     "output_type": "stream",
     "text": [
      "Best trial: 51. Best value: 0.963646:  66%|████████████████████████████▍              | 66/100 [56:34<28:32, 50.38s/it]"
     ]
    },
    {
     "name": "stdout",
     "output_type": "stream",
     "text": [
      "[I 2023-10-11 23:50:11,660] Trial 65 finished with value: 0.9445389672938868 and parameters: {'n_estimators': 16, 'max_depth': 32, 'max_features': 15, 'min_samples_leaf': 29, 'min_samples_split': 16}. Best is trial 51 with value: 0.9636458711235096.\n"
     ]
    },
    {
     "name": "stderr",
     "output_type": "stream",
     "text": [
      "Best trial: 51. Best value: 0.963646:  67%|████████████████████████████▊              | 67/100 [57:40<30:21, 55.21s/it]"
     ]
    },
    {
     "name": "stdout",
     "output_type": "stream",
     "text": [
      "[I 2023-10-11 23:51:18,154] Trial 66 finished with value: 0.939466365477099 and parameters: {'n_estimators': 59, 'max_depth': 30, 'max_features': 30, 'min_samples_leaf': 17, 'min_samples_split': 18}. Best is trial 51 with value: 0.9636458711235096.\n"
     ]
    },
    {
     "name": "stderr",
     "output_type": "stream",
     "text": [
      "Best trial: 51. Best value: 0.963646:  68%|█████████████████████████████▏             | 68/100 [58:03<24:18, 45.58s/it]"
     ]
    },
    {
     "name": "stdout",
     "output_type": "stream",
     "text": [
      "[I 2023-10-11 23:51:41,270] Trial 67 finished with value: 0.9630537619804166 and parameters: {'n_estimators': 46, 'max_depth': 50, 'max_features': 11, 'min_samples_leaf': 2, 'min_samples_split': 6}. Best is trial 51 with value: 0.9636458711235096.\n"
     ]
    },
    {
     "name": "stderr",
     "output_type": "stream",
     "text": [
      "Best trial: 51. Best value: 0.963646:  69%|█████████████████████████████▋             | 69/100 [58:11<17:43, 34.31s/it]"
     ]
    },
    {
     "name": "stdout",
     "output_type": "stream",
     "text": [
      "[I 2023-10-11 23:51:49,263] Trial 68 finished with value: 0.9282212242140686 and parameters: {'n_estimators': 10, 'max_depth': 36, 'max_features': 20, 'min_samples_leaf': 43, 'min_samples_split': 15}. Best is trial 51 with value: 0.9636458711235096.\n"
     ]
    },
    {
     "name": "stderr",
     "output_type": "stream",
     "text": [
      "Best trial: 51. Best value: 0.963646:  70%|████████████████████████████▋            | 70/100 [1:00:14<30:21, 60.72s/it]"
     ]
    },
    {
     "name": "stdout",
     "output_type": "stream",
     "text": [
      "[I 2023-10-11 23:53:51,619] Trial 69 finished with value: 0.9259387481927732 and parameters: {'n_estimators': 149, 'max_depth': 33, 'max_features': 24, 'min_samples_leaf': 45, 'min_samples_split': 4}. Best is trial 51 with value: 0.9636458711235096.\n"
     ]
    },
    {
     "name": "stderr",
     "output_type": "stream",
     "text": [
      "Best trial: 51. Best value: 0.963646:  71%|█████████████████████████████            | 71/100 [1:00:45<25:01, 51.79s/it]"
     ]
    },
    {
     "name": "stdout",
     "output_type": "stream",
     "text": [
      "[I 2023-10-11 23:54:22,576] Trial 70 finished with value: 0.9584884882559301 and parameters: {'n_estimators': 92, 'max_depth': 43, 'max_features': 9, 'min_samples_leaf': 19, 'min_samples_split': 7}. Best is trial 51 with value: 0.9636458711235096.\n"
     ]
    },
    {
     "name": "stderr",
     "output_type": "stream",
     "text": [
      "Best trial: 51. Best value: 0.963646:  72%|█████████████████████████████▌           | 72/100 [1:01:31<23:25, 50.19s/it]"
     ]
    },
    {
     "name": "stdout",
     "output_type": "stream",
     "text": [
      "[I 2023-10-11 23:55:09,027] Trial 71 finished with value: 0.9481740084602338 and parameters: {'n_estimators': 65, 'max_depth': 35, 'max_features': 19, 'min_samples_leaf': 22, 'min_samples_split': 18}. Best is trial 51 with value: 0.9636458711235096.\n"
     ]
    },
    {
     "name": "stderr",
     "output_type": "stream",
     "text": [
      "Best trial: 51. Best value: 0.963646:  73%|█████████████████████████████▉           | 73/100 [1:01:34<16:12, 36.03s/it]"
     ]
    },
    {
     "name": "stdout",
     "output_type": "stream",
     "text": [
      "[I 2023-10-11 23:55:12,014] Trial 72 finished with value: 0.928051948051948 and parameters: {'n_estimators': 4, 'max_depth': 33, 'max_features': 14, 'min_samples_leaf': 34, 'min_samples_split': 11}. Best is trial 51 with value: 0.9636458711235096.\n"
     ]
    },
    {
     "name": "stderr",
     "output_type": "stream",
     "text": [
      "Best trial: 51. Best value: 0.963646:  74%|██████████████████████████████▎          | 74/100 [1:01:38<11:26, 26.42s/it]"
     ]
    },
    {
     "name": "stdout",
     "output_type": "stream",
     "text": [
      "[I 2023-10-11 23:55:16,003] Trial 73 finished with value: 0.9346459265242807 and parameters: {'n_estimators': 8, 'max_depth': 41, 'max_features': 12, 'min_samples_leaf': 47, 'min_samples_split': 4}. Best is trial 51 with value: 0.9636458711235096.\n"
     ]
    },
    {
     "name": "stderr",
     "output_type": "stream",
     "text": [
      "Best trial: 51. Best value: 0.963646:  75%|██████████████████████████████▊          | 75/100 [1:04:22<28:15, 67.80s/it]"
     ]
    },
    {
     "name": "stdout",
     "output_type": "stream",
     "text": [
      "[I 2023-10-11 23:58:00,370] Trial 74 finished with value: 0.9563752526543224 and parameters: {'n_estimators': 132, 'max_depth': 44, 'max_features': 29, 'min_samples_leaf': 3, 'min_samples_split': 9}. Best is trial 51 with value: 0.9636458711235096.\n"
     ]
    },
    {
     "name": "stderr",
     "output_type": "stream",
     "text": [
      "Best trial: 51. Best value: 0.963646:  76%|███████████████████████████████▏         | 76/100 [1:05:34<27:35, 68.98s/it]"
     ]
    },
    {
     "name": "stdout",
     "output_type": "stream",
     "text": [
      "[I 2023-10-11 23:59:12,086] Trial 75 finished with value: 0.9385360971765266 and parameters: {'n_estimators': 80, 'max_depth': 35, 'max_features': 24, 'min_samples_leaf': 26, 'min_samples_split': 20}. Best is trial 51 with value: 0.9636458711235096.\n"
     ]
    },
    {
     "name": "stderr",
     "output_type": "stream",
     "text": [
      "Best trial: 51. Best value: 0.963646:  77%|███████████████████████████████▌         | 77/100 [1:06:03<21:51, 57.04s/it]"
     ]
    },
    {
     "name": "stdout",
     "output_type": "stream",
     "text": [
      "[I 2023-10-11 23:59:41,282] Trial 76 finished with value: 0.9471598526696917 and parameters: {'n_estimators': 37, 'max_depth': 50, 'max_features': 20, 'min_samples_leaf': 19, 'min_samples_split': 21}. Best is trial 51 with value: 0.9636458711235096.\n"
     ]
    },
    {
     "name": "stderr",
     "output_type": "stream",
     "text": [
      "Best trial: 51. Best value: 0.963646:  78%|███████████████████████████████▉         | 78/100 [1:06:14<15:51, 43.26s/it]"
     ]
    },
    {
     "name": "stdout",
     "output_type": "stream",
     "text": [
      "[I 2023-10-11 23:59:52,385] Trial 77 finished with value: 0.9543456186032214 and parameters: {'n_estimators': 53, 'max_depth': 41, 'max_features': 6, 'min_samples_leaf': 50, 'min_samples_split': 9}. Best is trial 51 with value: 0.9636458711235096.\n"
     ]
    },
    {
     "name": "stderr",
     "output_type": "stream",
     "text": [
      "Best trial: 51. Best value: 0.963646:  79%|████████████████████████████████▍        | 79/100 [1:06:16<10:48, 30.89s/it]"
     ]
    },
    {
     "name": "stdout",
     "output_type": "stream",
     "text": [
      "[I 2023-10-11 23:59:54,401] Trial 78 finished with value: 0.9437777964432705 and parameters: {'n_estimators': 3, 'max_depth': 44, 'max_features': 8, 'min_samples_leaf': 7, 'min_samples_split': 21}. Best is trial 51 with value: 0.9636458711235096.\n"
     ]
    },
    {
     "name": "stderr",
     "output_type": "stream",
     "text": [
      "Best trial: 51. Best value: 0.963646:  80%|████████████████████████████████▊        | 80/100 [1:07:00<11:31, 34.60s/it]"
     ]
    },
    {
     "name": "stdout",
     "output_type": "stream",
     "text": [
      "[I 2023-10-12 00:00:37,663] Trial 79 finished with value: 0.9608556738431515 and parameters: {'n_estimators': 138, 'max_depth': 34, 'max_features': 8, 'min_samples_leaf': 11, 'min_samples_split': 14}. Best is trial 51 with value: 0.9636458711235096.\n"
     ]
    },
    {
     "name": "stderr",
     "output_type": "stream",
     "text": [
      "Best trial: 51. Best value: 0.963646:  81%|█████████████████████████████████▏       | 81/100 [1:08:16<14:54, 47.06s/it]"
     ]
    },
    {
     "name": "stdout",
     "output_type": "stream",
     "text": [
      "[I 2023-10-12 00:01:53,809] Trial 80 finished with value: 0.9584885954832287 and parameters: {'n_estimators': 116, 'max_depth': 32, 'max_features': 16, 'min_samples_leaf': 7, 'min_samples_split': 3}. Best is trial 51 with value: 0.9636458711235096.\n"
     ]
    },
    {
     "name": "stderr",
     "output_type": "stream",
     "text": [
      "Best trial: 51. Best value: 0.963646:  82%|█████████████████████████████████▌       | 82/100 [1:09:13<15:04, 50.24s/it]"
     ]
    },
    {
     "name": "stdout",
     "output_type": "stream",
     "text": [
      "[I 2023-10-12 00:02:51,453] Trial 81 finished with value: 0.9497804521060335 and parameters: {'n_estimators': 84, 'max_depth': 42, 'max_features': 18, 'min_samples_leaf': 20, 'min_samples_split': 2}. Best is trial 51 with value: 0.9636458711235096.\n"
     ]
    },
    {
     "name": "stderr",
     "output_type": "stream",
     "text": [
      "Best trial: 51. Best value: 0.963646:  83%|██████████████████████████████████       | 83/100 [1:09:19<10:25, 36.78s/it]"
     ]
    },
    {
     "name": "stdout",
     "output_type": "stream",
     "text": [
      "[I 2023-10-12 00:02:56,843] Trial 82 finished with value: 0.9439466079537636 and parameters: {'n_estimators': 13, 'max_depth': 32, 'max_features': 10, 'min_samples_leaf': 49, 'min_samples_split': 7}. Best is trial 51 with value: 0.9636458711235096.\n"
     ]
    },
    {
     "name": "stderr",
     "output_type": "stream",
     "text": [
      "Best trial: 51. Best value: 0.963646:  84%|██████████████████████████████████▍      | 84/100 [1:12:02<19:55, 74.71s/it]"
     ]
    },
    {
     "name": "stdout",
     "output_type": "stream",
     "text": [
      "[I 2023-10-12 00:05:40,034] Trial 83 finished with value: 0.9407346857078522 and parameters: {'n_estimators': 144, 'max_depth': 33, 'max_features': 30, 'min_samples_leaf': 16, 'min_samples_split': 12}. Best is trial 51 with value: 0.9636458711235096.\n"
     ]
    },
    {
     "name": "stderr",
     "output_type": "stream",
     "text": [
      "Best trial: 51. Best value: 0.963646:  85%|██████████████████████████████████▊      | 85/100 [1:12:20<14:26, 57.80s/it]"
     ]
    },
    {
     "name": "stdout",
     "output_type": "stream",
     "text": [
      "[I 2023-10-12 00:05:58,383] Trial 84 finished with value: 0.9600102580782366 and parameters: {'n_estimators': 50, 'max_depth': 36, 'max_features': 9, 'min_samples_leaf': 9, 'min_samples_split': 14}. Best is trial 51 with value: 0.9636458711235096.\n"
     ]
    },
    {
     "name": "stderr",
     "output_type": "stream",
     "text": [
      "Best trial: 51. Best value: 0.963646:  86%|███████████████████████████████████▎     | 86/100 [1:12:59<12:10, 52.15s/it]"
     ]
    },
    {
     "name": "stdout",
     "output_type": "stream",
     "text": [
      "[I 2023-10-12 00:06:37,351] Trial 85 finished with value: 0.9535848766617997 and parameters: {'n_estimators': 56, 'max_depth': 42, 'max_features': 17, 'min_samples_leaf': 15, 'min_samples_split': 19}. Best is trial 51 with value: 0.9636458711235096.\n"
     ]
    },
    {
     "name": "stderr",
     "output_type": "stream",
     "text": [
      "Best trial: 51. Best value: 0.963646:  87%|███████████████████████████████████▋     | 87/100 [1:14:36<14:11, 65.49s/it]"
     ]
    },
    {
     "name": "stdout",
     "output_type": "stream",
     "text": [
      "[I 2023-10-12 00:08:13,968] Trial 86 finished with value: 0.9260239581527596 and parameters: {'n_estimators': 106, 'max_depth': 37, 'max_features': 26, 'min_samples_leaf': 37, 'min_samples_split': 12}. Best is trial 51 with value: 0.9636458711235096.\n"
     ]
    },
    {
     "name": "stderr",
     "output_type": "stream",
     "text": [
      "Best trial: 51. Best value: 0.963646:  88%|████████████████████████████████████     | 88/100 [1:15:00<10:35, 52.99s/it]"
     ]
    },
    {
     "name": "stdout",
     "output_type": "stream",
     "text": [
      "[I 2023-10-12 00:08:37,789] Trial 87 finished with value: 0.9524856538810027 and parameters: {'n_estimators': 41, 'max_depth': 30, 'max_features': 15, 'min_samples_leaf': 21, 'min_samples_split': 21}. Best is trial 51 with value: 0.9636458711235096.\n"
     ]
    },
    {
     "name": "stderr",
     "output_type": "stream",
     "text": [
      "Best trial: 51. Best value: 0.963646:  89%|████████████████████████████████████▍    | 89/100 [1:16:15<10:56, 59.64s/it]"
     ]
    },
    {
     "name": "stdout",
     "output_type": "stream",
     "text": [
      "[I 2023-10-12 00:09:52,965] Trial 88 finished with value: 0.9540921332692353 and parameters: {'n_estimators': 133, 'max_depth': 30, 'max_features': 15, 'min_samples_leaf': 19, 'min_samples_split': 18}. Best is trial 51 with value: 0.9636458711235096.\n"
     ]
    },
    {
     "name": "stderr",
     "output_type": "stream",
     "text": [
      "Best trial: 51. Best value: 0.963646:  90%|████████████████████████████████████▉    | 90/100 [1:17:22<10:18, 61.87s/it]"
     ]
    },
    {
     "name": "stdout",
     "output_type": "stream",
     "text": [
      "[I 2023-10-12 00:11:00,033] Trial 89 finished with value: 0.929997194219019 and parameters: {'n_estimators': 99, 'max_depth': 39, 'max_features': 20, 'min_samples_leaf': 48, 'min_samples_split': 16}. Best is trial 51 with value: 0.9636458711235096.\n"
     ]
    },
    {
     "name": "stderr",
     "output_type": "stream",
     "text": [
      "Best trial: 51. Best value: 0.963646:  91%|█████████████████████████████████████▎   | 91/100 [1:18:28<09:29, 63.25s/it]"
     ]
    },
    {
     "name": "stdout",
     "output_type": "stream",
     "text": [
      "[I 2023-10-12 00:12:06,511] Trial 90 finished with value: 0.9591649852830532 and parameters: {'n_estimators': 139, 'max_depth': 47, 'max_features': 12, 'min_samples_leaf': 11, 'min_samples_split': 15}. Best is trial 51 with value: 0.9636458711235096.\n"
     ]
    },
    {
     "name": "stderr",
     "output_type": "stream",
     "text": [
      "Best trial: 51. Best value: 0.963646:  92%|█████████████████████████████████████▋   | 92/100 [1:18:44<06:30, 48.80s/it]"
     ]
    },
    {
     "name": "stdout",
     "output_type": "stream",
     "text": [
      "[I 2023-10-12 00:12:21,590] Trial 91 finished with value: 0.9595874965821298 and parameters: {'n_estimators': 69, 'max_depth': 33, 'max_features': 6, 'min_samples_leaf': 23, 'min_samples_split': 7}. Best is trial 51 with value: 0.9636458711235096.\n"
     ]
    },
    {
     "name": "stderr",
     "output_type": "stream",
     "text": [
      "Best trial: 51. Best value: 0.963646:  93%|██████████████████████████████████████▏  | 93/100 [1:19:06<04:47, 41.00s/it]"
     ]
    },
    {
     "name": "stdout",
     "output_type": "stream",
     "text": [
      "[I 2023-10-12 00:12:44,394] Trial 92 finished with value: 0.9514714266055947 and parameters: {'n_estimators': 48, 'max_depth': 50, 'max_features': 13, 'min_samples_leaf': 29, 'min_samples_split': 22}. Best is trial 51 with value: 0.9636458711235096.\n"
     ]
    },
    {
     "name": "stderr",
     "output_type": "stream",
     "text": [
      "Best trial: 51. Best value: 0.963646:  94%|██████████████████████████████████████▌  | 94/100 [1:20:18<05:00, 50.16s/it]"
     ]
    },
    {
     "name": "stdout",
     "output_type": "stream",
     "text": [
      "[I 2023-10-12 00:13:55,935] Trial 93 finished with value: 0.9511331602208166 and parameters: {'n_estimators': 85, 'max_depth': 35, 'max_features': 21, 'min_samples_leaf': 13, 'min_samples_split': 3}. Best is trial 51 with value: 0.9636458711235096.\n"
     ]
    },
    {
     "name": "stderr",
     "output_type": "stream",
     "text": [
      "Best trial: 51. Best value: 0.963646:  95%|██████████████████████████████████████▉  | 95/100 [1:21:48<05:11, 62.28s/it]"
     ]
    },
    {
     "name": "stdout",
     "output_type": "stream",
     "text": [
      "[I 2023-10-12 00:15:26,481] Trial 94 finished with value: 0.9494425788880173 and parameters: {'n_estimators': 91, 'max_depth': 30, 'max_features': 25, 'min_samples_leaf': 11, 'min_samples_split': 18}. Best is trial 51 with value: 0.9636458711235096.\n"
     ]
    },
    {
     "name": "stderr",
     "output_type": "stream",
     "text": [
      "Best trial: 51. Best value: 0.963646:  96%|███████████████████████████████████████▎ | 96/100 [1:22:36<03:51, 57.77s/it]"
     ]
    },
    {
     "name": "stdout",
     "output_type": "stream",
     "text": [
      "[I 2023-10-12 00:16:13,743] Trial 95 finished with value: 0.9309271050952624 and parameters: {'n_estimators': 65, 'max_depth': 34, 'max_features': 21, 'min_samples_leaf': 44, 'min_samples_split': 10}. Best is trial 51 with value: 0.9636458711235096.\n"
     ]
    },
    {
     "name": "stderr",
     "output_type": "stream",
     "text": [
      "Best trial: 51. Best value: 0.963646:  97%|███████████████████████████████████████▊ | 97/100 [1:23:33<02:52, 57.61s/it]"
     ]
    },
    {
     "name": "stdout",
     "output_type": "stream",
     "text": [
      "[I 2023-10-12 00:17:10,983] Trial 96 finished with value: 0.9584040288870342 and parameters: {'n_estimators': 110, 'max_depth': 46, 'max_features': 13, 'min_samples_leaf': 9, 'min_samples_split': 21}. Best is trial 51 with value: 0.9636458711235096.\n"
     ]
    },
    {
     "name": "stderr",
     "output_type": "stream",
     "text": [
      "Best trial: 51. Best value: 0.963646:  98%|████████████████████████████████████████▏| 98/100 [1:25:22<02:26, 73.02s/it]"
     ]
    },
    {
     "name": "stdout",
     "output_type": "stream",
     "text": [
      "[I 2023-10-12 00:18:59,959] Trial 97 finished with value: 0.9354080624205847 and parameters: {'n_estimators': 109, 'max_depth': 35, 'max_features': 27, 'min_samples_leaf': 25, 'min_samples_split': 3}. Best is trial 51 with value: 0.9636458711235096.\n"
     ]
    },
    {
     "name": "stderr",
     "output_type": "stream",
     "text": [
      "Best trial: 51. Best value: 0.963646:  99%|████████████████████████████████████████▌| 99/100 [1:26:10<01:05, 65.55s/it]"
     ]
    },
    {
     "name": "stdout",
     "output_type": "stream",
     "text": [
      "[I 2023-10-12 00:19:48,061] Trial 98 finished with value: 0.9500340446673186 and parameters: {'n_estimators': 126, 'max_depth': 30, 'max_features': 11, 'min_samples_leaf': 42, 'min_samples_split': 13}. Best is trial 51 with value: 0.9636458711235096.\n"
     ]
    },
    {
     "name": "stderr",
     "output_type": "stream",
     "text": [
      "Best trial: 51. Best value: 0.963646: 100%|████████████████████████████████████████| 100/100 [1:26:37<00:00, 51.97s/it]"
     ]
    },
    {
     "name": "stdout",
     "output_type": "stream",
     "text": [
      "[I 2023-10-12 00:20:14,736] Trial 99 finished with value: 0.9527392821847205 and parameters: {'n_estimators': 79, 'max_depth': 37, 'max_features': 10, 'min_samples_leaf': 40, 'min_samples_split': 13}. Best is trial 51 with value: 0.9636458711235096.\n",
      "\n",
      " \n",
      " best params:  {'n_estimators': 71, 'max_depth': 36, 'max_features': 9, 'min_samples_leaf': 1, 'min_samples_split': 9} \n",
      " \n",
      " best score:  [0.9636458711235096] \n",
      "\n",
      "\n",
      " \n",
      " best params:  {'n_estimators': 71, 'max_depth': 36, 'max_features': 9, 'min_samples_leaf': 1, 'min_samples_split': 9} \n",
      " \n",
      " best score:  [0.9636458711235096] \n",
      "\n",
      "Optimization completed in 86.62652257680892 minutes.\n"
     ]
    },
    {
     "name": "stderr",
     "output_type": "stream",
     "text": [
      "\n"
     ]
    }
   ],
   "source": [
    "# （1）构建目标函数及定义参数空间\n",
    "def optuna_objective(trial):\n",
    "\n",
    "    #定义参数空间\n",
    "    n_estimators = trial.suggest_int(\"n_estimators\",1,150,1) #整数型，(参数名称，下界，上界，步长)\n",
    "    max_depth = trial.suggest_int(\"max_depth\",30,50,1)\n",
    "    max_features = trial.suggest_int(\"max_features\",5,30,1)\n",
    "    min_samples_leaf = trial.suggest_int(\"min_samples_leaf\",1,51,1)\n",
    "    min_samples_split = trial.suggest_int(\"min_samples_split\",2,22,1)\n",
    "\n",
    "    #定义评估器\n",
    "    #需要优化的参数由上述参数空间决定\n",
    "    #不需要优化的参数则直接填写具体值\n",
    "    rfc = RFC(n_estimators = n_estimators\n",
    "              ,max_depth = max_depth\n",
    "              ,max_features = max_features\n",
    "              ,min_samples_leaf = min_samples_leaf\n",
    "              ,min_samples_split = min_samples_split\n",
    "              ,random_state=0\n",
    "              ,verbose=False\n",
    "              ,n_jobs=-1\n",
    "             )\n",
    "\n",
    "    #交叉验证过程，输出准确率(accuracy)\n",
    "    cv = KFold(n_splits=5,shuffle=True,random_state=0)\n",
    "    score = cross_val_score(rfc,X_dr,y\n",
    "                            ,scoring='accuracy'\n",
    "                            ,cv=cv #交叉验证模式\n",
    "                            ,verbose=False #是否打印进程\n",
    "                            ,n_jobs=-1 #线程数\n",
    "                            ,error_score='raise' #如果在某个折叠中出现错误，会引发一个异常\n",
    "                           )\n",
    "    #最终输出平均准确率\n",
    "    return np.mean(score)\n",
    "\n",
    "\n",
    "#（2）定义优化目标函数的具体流程\n",
    "def optimizer_optuna(n_trials, algo):\n",
    "\n",
    "    # 检查是否已经存在study，存在则删除，不存在则略过    \n",
    "    try:\n",
    "        storage = \"sqlite:///random_GAO\"  # Specify the storage URL here.\n",
    "        study_name = \"random_GAO\"\n",
    "       \n",
    "        # 获取 study 的 ID\n",
    "        storage = optuna.storages.get_storage(storage)\n",
    "        study_id = storage.get_study_id_from_name(study_name)\n",
    "       \n",
    "        # 删除已存在的 study\n",
    "        storage.delete_study(study_id)\n",
    "        print(f\"Deleted existing study: {study_name}\")\n",
    "    except KeyError as e:\n",
    "        print(f\"Study '{study_name}' does not exist.\")\n",
    "\n",
    "    #定义使用遗传算法搜索\n",
    "    sampler = optuna.samplers.NSGAIISampler(population_size=50  # int，种群大小，即每代中包含的个体数量。默认 50\n",
    "                                           ,mutation_prob=1.0 # float，变异概率，指定了在交叉之后每个个体发生变异的概率。默认 1.0。\n",
    "                                           ,crossover_prob=1.0  # float，交叉概率，指定了在每次交叉操作中，一个个体与另一个个体产生子代的概率。默认 1.0\n",
    "                                           )\n",
    "\n",
    "    #实际优化过程，首先实例化优化器\n",
    "    study = optuna.create_study(sampler = sampler #要使用的具体算法\n",
    "                                ,direction=\"maximize\" #优化的方向，可以填写minimize或maximize\n",
    "                                ,storage=\"sqlite:///random_GAO\" # Specify the storage URL here.\n",
    "                                ,study_name=\"random_GAO\"\n",
    "                               )\n",
    "    study.optimize(optuna_objective #目标函数\n",
    "                   ,n_trials=n_trials #最大迭代次数（包括最初的观测值的）\n",
    "                   ,show_progress_bar=True #要不要展示进度条呀？\n",
    "                  )\n",
    "\n",
    "    #可直接从优化好的对象study中调用优化的结果\n",
    "    #打印最佳参数与最佳损失值\n",
    "    print(\"\\n\",\"\\n\",\"best params: \", study.best_trial.params,\n",
    "          \"\\n\",\"\\n\",\"best score: \", study.best_trial.values,\n",
    "          \"\\n\")\n",
    "\n",
    "    return study.best_trial.params, study.best_trial.values\n",
    "\n",
    "#（3）执行优化操作\n",
    "def optimized_optuna_search_and_report(n_trials, algo):\n",
    "    start_time = time.time()\n",
    "    \n",
    "    best_params, best_score = optimizer_optuna(n_trials, algo)\n",
    "\n",
    "    # 打印最佳参数和分数\n",
    "    print(\"\\n\",\"\\n\",\"best params: \", best_params,\n",
    "          \"\\n\",\"\\n\",\"best score: \", best_score,\n",
    "          \"\\n\")\n",
    "\n",
    "    end_time = time.time()\n",
    "    time_random = (end_time - start_time) / 60  # 转换为分钟\n",
    "    print(f\"Optimization completed in {time_random} minutes.\")\n",
    "\n",
    "    return best_params, best_score, time_random\n",
    "\n",
    "# 执行优化\n",
    "best_params, best_score, time_random = optimized_optuna_search_and_report(100, optuna.samplers.NSGAIISampler())"
   ]
  },
  {
   "cell_type": "markdown",
   "id": "4bf1f582",
   "metadata": {},
   "source": [
    "# 4. 贝叶斯优化"
   ]
  },
  {
   "cell_type": "code",
   "execution_count": 6,
   "id": "8bb84348",
   "metadata": {
    "scrolled": true
   },
   "outputs": [
    {
     "name": "stderr",
     "output_type": "stream",
     "text": [
      "[I 2023-10-12 09:56:32,600] A new study created in RDB with name: random_BO\n"
     ]
    },
    {
     "name": "stdout",
     "output_type": "stream",
     "text": [
      "Deleted existing study: random_BO\n"
     ]
    },
    {
     "name": "stderr",
     "output_type": "stream",
     "text": [
      "Best trial: 0. Best value: 0.955191:   1%|▍                                            | 1/100 [00:10<18:00, 10.91s/it]"
     ]
    },
    {
     "name": "stdout",
     "output_type": "stream",
     "text": [
      "[I 2023-10-12 09:56:43,496] Trial 0 finished with value: 0.9551911415954351 and parameters: {'n_estimators': 37, 'max_depth': 35, 'max_features': 8, 'min_samples_leaf': 31, 'min_samples_split': 18}. Best is trial 0 with value: 0.9551911415954351.\n"
     ]
    },
    {
     "name": "stderr",
     "output_type": "stream",
     "text": [
      "Best trial: 1. Best value: 0.960602:   2%|▉                                            | 2/100 [00:43<38:42, 23.70s/it]"
     ]
    },
    {
     "name": "stdout",
     "output_type": "stream",
     "text": [
      "[I 2023-10-12 09:57:16,151] Trial 1 finished with value: 0.9606021527667323 and parameters: {'n_estimators': 123, 'max_depth': 41, 'max_features': 7, 'min_samples_leaf': 15, 'min_samples_split': 9}. Best is trial 1 with value: 0.9606021527667323.\n"
     ]
    },
    {
     "name": "stderr",
     "output_type": "stream",
     "text": [
      "Best trial: 1. Best value: 0.960602:   3%|█▎                                         | 3/100 [02:01<1:18:26, 48.52s/it]"
     ]
    },
    {
     "name": "stdout",
     "output_type": "stream",
     "text": [
      "[I 2023-10-12 09:58:34,204] Trial 2 finished with value: 0.9532470749286492 and parameters: {'n_estimators': 72, 'max_depth': 33, 'max_features': 25, 'min_samples_leaf': 3, 'min_samples_split': 21}. Best is trial 1 with value: 0.9606021527667323.\n"
     ]
    },
    {
     "name": "stderr",
     "output_type": "stream",
     "text": [
      "Best trial: 1. Best value: 0.960602:   4%|█▋                                         | 4/100 [02:51<1:18:12, 48.88s/it]"
     ]
    },
    {
     "name": "stdout",
     "output_type": "stream",
     "text": [
      "[I 2023-10-12 09:59:23,631] Trial 3 finished with value: 0.9434398517403885 and parameters: {'n_estimators': 71, 'max_depth': 34, 'max_features': 19, 'min_samples_leaf': 28, 'min_samples_split': 7}. Best is trial 1 with value: 0.9606021527667323.\n"
     ]
    },
    {
     "name": "stderr",
     "output_type": "stream",
     "text": [
      "Best trial: 1. Best value: 0.960602:   5%|██▏                                        | 5/100 [03:33<1:13:28, 46.41s/it]"
     ]
    },
    {
     "name": "stdout",
     "output_type": "stream",
     "text": [
      "[I 2023-10-12 10:00:05,668] Trial 4 finished with value: 0.954515180704805 and parameters: {'n_estimators': 43, 'max_depth': 30, 'max_features': 22, 'min_samples_leaf': 4, 'min_samples_split': 22}. Best is trial 1 with value: 0.9606021527667323.\n"
     ]
    },
    {
     "name": "stderr",
     "output_type": "stream",
     "text": [
      "Best trial: 1. Best value: 0.960602:   6%|██▌                                        | 6/100 [04:15<1:10:34, 45.05s/it]"
     ]
    },
    {
     "name": "stdout",
     "output_type": "stream",
     "text": [
      "[I 2023-10-12 10:00:48,062] Trial 5 finished with value: 0.9459759918078344 and parameters: {'n_estimators': 80, 'max_depth': 30, 'max_features': 15, 'min_samples_leaf': 35, 'min_samples_split': 4}. Best is trial 1 with value: 0.9606021527667323.\n"
     ]
    },
    {
     "name": "stderr",
     "output_type": "stream",
     "text": [
      "Best trial: 1. Best value: 0.960602:   7%|███▏                                         | 7/100 [04:21<50:00, 32.26s/it]"
     ]
    },
    {
     "name": "stdout",
     "output_type": "stream",
     "text": [
      "[I 2023-10-12 10:00:53,995] Trial 6 finished with value: 0.9582345382703166 and parameters: {'n_estimators': 12, 'max_depth': 35, 'max_features': 10, 'min_samples_leaf': 7, 'min_samples_split': 15}. Best is trial 1 with value: 0.9606021527667323.\n"
     ]
    },
    {
     "name": "stderr",
     "output_type": "stream",
     "text": [
      "Best trial: 1. Best value: 0.960602:   8%|███▌                                         | 8/100 [04:29<37:47, 24.65s/it]"
     ]
    },
    {
     "name": "stdout",
     "output_type": "stream",
     "text": [
      "[I 2023-10-12 10:01:02,345] Trial 7 finished with value: 0.9588265401861108 and parameters: {'n_estimators': 14, 'max_depth': 35, 'max_features': 13, 'min_samples_leaf': 7, 'min_samples_split': 5}. Best is trial 1 with value: 0.9606021527667323.\n"
     ]
    },
    {
     "name": "stderr",
     "output_type": "stream",
     "text": [
      "Best trial: 1. Best value: 0.960602:   9%|████                                         | 9/100 [05:35<56:57, 37.56s/it]"
     ]
    },
    {
     "name": "stdout",
     "output_type": "stream",
     "text": [
      "[I 2023-10-12 10:02:08,292] Trial 8 finished with value: 0.9443694051923032 and parameters: {'n_estimators': 138, 'max_depth': 44, 'max_features': 14, 'min_samples_leaf': 45, 'min_samples_split': 15}. Best is trial 1 with value: 0.9606021527667323.\n"
     ]
    },
    {
     "name": "stderr",
     "output_type": "stream",
     "text": [
      "Best trial: 1. Best value: 0.960602:  10%|████▏                                     | 10/100 [07:54<1:43:11, 68.80s/it]"
     ]
    },
    {
     "name": "stdout",
     "output_type": "stream",
     "text": [
      "[I 2023-10-12 10:04:27,044] Trial 9 finished with value: 0.9256856560255485 and parameters: {'n_estimators': 133, 'max_depth': 40, 'max_features': 29, 'min_samples_leaf': 33, 'min_samples_split': 15}. Best is trial 1 with value: 0.9606021527667323.\n"
     ]
    },
    {
     "name": "stderr",
     "output_type": "stream",
     "text": [
      "Best trial: 1. Best value: 0.960602:  11%|████▌                                     | 11/100 [09:07<1:43:59, 70.11s/it]"
     ]
    },
    {
     "name": "stdout",
     "output_type": "stream",
     "text": [
      "[I 2023-10-12 10:05:40,120] Trial 10 finished with value: 0.9543459045426845 and parameters: {'n_estimators': 116, 'max_depth': 40, 'max_features': 16, 'min_samples_leaf': 17, 'min_samples_split': 15}. Best is trial 1 with value: 0.9606021527667323.\n"
     ]
    },
    {
     "name": "stderr",
     "output_type": "stream",
     "text": [
      "Best trial: 1. Best value: 0.960602:  12%|█████                                     | 12/100 [10:47<1:56:15, 79.27s/it]"
     ]
    },
    {
     "name": "stdout",
     "output_type": "stream",
     "text": [
      "[I 2023-10-12 10:07:20,340] Trial 11 finished with value: 0.9302513229167969 and parameters: {'n_estimators': 97, 'max_depth': 46, 'max_features': 28, 'min_samples_leaf': 30, 'min_samples_split': 7}. Best is trial 1 with value: 0.9606021527667323.\n"
     ]
    },
    {
     "name": "stderr",
     "output_type": "stream",
     "text": [
      "Best trial: 1. Best value: 0.960602:  13%|█████▍                                    | 13/100 [10:50<1:21:14, 56.03s/it]"
     ]
    },
    {
     "name": "stdout",
     "output_type": "stream",
     "text": [
      "[I 2023-10-12 10:07:22,913] Trial 12 finished with value: 0.9131718728498693 and parameters: {'n_estimators': 2, 'max_depth': 49, 'max_features': 19, 'min_samples_leaf': 22, 'min_samples_split': 13}. Best is trial 1 with value: 0.9606021527667323.\n"
     ]
    },
    {
     "name": "stderr",
     "output_type": "stream",
     "text": [
      "Best trial: 1. Best value: 0.960602:  14%|██████▏                                     | 14/100 [10:54<57:57, 40.44s/it]"
     ]
    },
    {
     "name": "stdout",
     "output_type": "stream",
     "text": [
      "[I 2023-10-12 10:07:27,325] Trial 13 finished with value: 0.9506252959920222 and parameters: {'n_estimators': 18, 'max_depth': 42, 'max_features': 6, 'min_samples_leaf': 45, 'min_samples_split': 16}. Best is trial 1 with value: 0.9606021527667323.\n"
     ]
    },
    {
     "name": "stderr",
     "output_type": "stream",
     "text": [
      "Best trial: 1. Best value: 0.960602:  15%|██████▎                                   | 15/100 [12:26<1:19:02, 55.79s/it]"
     ]
    },
    {
     "name": "stdout",
     "output_type": "stream",
     "text": [
      "[I 2023-10-12 10:08:58,683] Trial 14 finished with value: 0.9452152856088457 and parameters: {'n_estimators': 87, 'max_depth': 49, 'max_features': 27, 'min_samples_leaf': 15, 'min_samples_split': 16}. Best is trial 1 with value: 0.9606021527667323.\n"
     ]
    },
    {
     "name": "stderr",
     "output_type": "stream",
     "text": [
      "Best trial: 1. Best value: 0.960602:  16%|██████▋                                   | 16/100 [13:07<1:12:13, 51.59s/it]"
     ]
    },
    {
     "name": "stdout",
     "output_type": "stream",
     "text": [
      "[I 2023-10-12 10:09:40,529] Trial 15 finished with value: 0.9596720631783244 and parameters: {'n_estimators': 104, 'max_depth': 38, 'max_features': 10, 'min_samples_leaf': 10, 'min_samples_split': 10}. Best is trial 1 with value: 0.9606021527667323.\n"
     ]
    },
    {
     "name": "stderr",
     "output_type": "stream",
     "text": [
      "Best trial: 1. Best value: 0.960602:  17%|███████▏                                  | 17/100 [13:52<1:08:28, 49.50s/it]"
     ]
    },
    {
     "name": "stdout",
     "output_type": "stream",
     "text": [
      "[I 2023-10-12 10:10:25,171] Trial 16 finished with value: 0.9593339397632781 and parameters: {'n_estimators': 117, 'max_depth': 38, 'max_features': 10, 'min_samples_leaf': 15, 'min_samples_split': 10}. Best is trial 1 with value: 0.9606021527667323.\n"
     ]
    },
    {
     "name": "stderr",
     "output_type": "stream",
     "text": [
      "Best trial: 17. Best value: 0.961194:  18%|███████▋                                   | 18/100 [14:18<57:49, 42.31s/it]"
     ]
    },
    {
     "name": "stdout",
     "output_type": "stream",
     "text": [
      "[I 2023-10-12 10:10:50,755] Trial 17 finished with value: 0.9611937972581981 and parameters: {'n_estimators': 111, 'max_depth': 38, 'max_features': 6, 'min_samples_leaf': 11, 'min_samples_split': 10}. Best is trial 17 with value: 0.9611937972581981.\n"
     ]
    },
    {
     "name": "stderr",
     "output_type": "stream",
     "text": [
      "Best trial: 17. Best value: 0.961194:  19%|████████▏                                  | 19/100 [14:43<50:18, 37.26s/it]"
     ]
    },
    {
     "name": "stdout",
     "output_type": "stream",
     "text": [
      "[I 2023-10-12 10:11:16,240] Trial 18 finished with value: 0.960940204696913 and parameters: {'n_estimators': 146, 'max_depth': 43, 'max_features': 5, 'min_samples_leaf': 22, 'min_samples_split': 2}. Best is trial 17 with value: 0.9611937972581981.\n"
     ]
    },
    {
     "name": "stderr",
     "output_type": "stream",
     "text": [
      "Best trial: 17. Best value: 0.961194:  20%|████████▌                                  | 20/100 [15:46<59:49, 44.86s/it]"
     ]
    },
    {
     "name": "stdout",
     "output_type": "stream",
     "text": [
      "[I 2023-10-12 10:12:18,827] Trial 19 finished with value: 0.9558676386225582 and parameters: {'n_estimators': 140, 'max_depth': 46, 'max_features': 12, 'min_samples_leaf': 21, 'min_samples_split': 3}. Best is trial 17 with value: 0.9611937972581981.\n"
     ]
    },
    {
     "name": "stderr",
     "output_type": "stream",
     "text": [
      "Best trial: 17. Best value: 0.961194:  21%|█████████                                  | 21/100 [16:12<51:33, 39.16s/it]"
     ]
    },
    {
     "name": "stdout",
     "output_type": "stream",
     "text": [
      "[I 2023-10-12 10:12:44,676] Trial 20 finished with value: 0.9602638506395215 and parameters: {'n_estimators': 149, 'max_depth': 37, 'max_features': 5, 'min_samples_leaf': 23, 'min_samples_split': 6}. Best is trial 17 with value: 0.9611937972581981.\n"
     ]
    },
    {
     "name": "stderr",
     "output_type": "stream",
     "text": [
      "Best trial: 17. Best value: 0.961194:  22%|█████████▍                                 | 22/100 [16:45<48:39, 37.43s/it]"
     ]
    },
    {
     "name": "stdout",
     "output_type": "stream",
     "text": [
      "[I 2023-10-12 10:13:18,077] Trial 21 finished with value: 0.9608556381007185 and parameters: {'n_estimators': 125, 'max_depth': 42, 'max_features': 7, 'min_samples_leaf': 14, 'min_samples_split': 2}. Best is trial 17 with value: 0.9611937972581981.\n"
     ]
    },
    {
     "name": "stderr",
     "output_type": "stream",
     "text": [
      "Best trial: 17. Best value: 0.961194:  23%|█████████▉                                 | 23/100 [17:07<42:03, 32.78s/it]"
     ]
    },
    {
     "name": "stdout",
     "output_type": "stream",
     "text": [
      "[I 2023-10-12 10:13:40,007] Trial 22 finished with value: 0.9583192478362426 and parameters: {'n_estimators': 126, 'max_depth': 44, 'max_features': 5, 'min_samples_leaf': 38, 'min_samples_split': 3}. Best is trial 17 with value: 0.9611937972581981.\n"
     ]
    },
    {
     "name": "stderr",
     "output_type": "stream",
     "text": [
      "Best trial: 23. Best value: 0.961278:  24%|██████████▎                                | 24/100 [17:48<44:41, 35.29s/it]"
     ]
    },
    {
     "name": "stdout",
     "output_type": "stream",
     "text": [
      "[I 2023-10-12 10:14:21,142] Trial 23 finished with value: 0.9612783995968254 and parameters: {'n_estimators': 150, 'max_depth': 43, 'max_features': 7, 'min_samples_leaf': 11, 'min_samples_split': 2}. Best is trial 23 with value: 0.9612783995968254.\n"
     ]
    },
    {
     "name": "stderr",
     "output_type": "stream",
     "text": [
      "Best trial: 23. Best value: 0.961278:  25%|██████████▊                                | 25/100 [18:48<53:15, 42.60s/it]"
     ]
    },
    {
     "name": "stdout",
     "output_type": "stream",
     "text": [
      "[I 2023-10-12 10:15:20,803] Trial 24 finished with value: 0.9601794627554913 and parameters: {'n_estimators': 148, 'max_depth': 45, 'max_features': 10, 'min_samples_leaf': 9, 'min_samples_split': 2}. Best is trial 23 with value: 0.9612783995968254.\n"
     ]
    },
    {
     "name": "stderr",
     "output_type": "stream",
     "text": [
      "Best trial: 25. Best value: 0.965167:  26%|███████████▏                               | 26/100 [19:26<50:52, 41.25s/it]"
     ]
    },
    {
     "name": "stdout",
     "output_type": "stream",
     "text": [
      "[I 2023-10-12 10:15:58,890] Trial 25 finished with value: 0.965167426491219 and parameters: {'n_estimators': 104, 'max_depth': 43, 'max_features': 8, 'min_samples_leaf': 1, 'min_samples_split': 5}. Best is trial 25 with value: 0.965167426491219.\n"
     ]
    },
    {
     "name": "stderr",
     "output_type": "stream",
     "text": [
      "Best trial: 25. Best value: 0.965167:  27%|███████████▌                               | 27/100 [20:07<50:15, 41.31s/it]"
     ]
    },
    {
     "name": "stdout",
     "output_type": "stream",
     "text": [
      "[I 2023-10-12 10:16:40,339] Trial 26 finished with value: 0.9604330910592092 and parameters: {'n_estimators': 105, 'max_depth': 47, 'max_features': 9, 'min_samples_leaf': 10, 'min_samples_split': 8}. Best is trial 25 with value: 0.965167426491219.\n"
     ]
    },
    {
     "name": "stderr",
     "output_type": "stream",
     "text": [
      "Best trial: 25. Best value: 0.965167:  28%|████████████                               | 28/100 [20:31<43:12, 36.00s/it]"
     ]
    },
    {
     "name": "stdout",
     "output_type": "stream",
     "text": [
      "[I 2023-10-12 10:17:03,960] Trial 27 finished with value: 0.9637301160378083 and parameters: {'n_estimators': 64, 'max_depth': 38, 'max_features': 8, 'min_samples_leaf': 1, 'min_samples_split': 11}. Best is trial 25 with value: 0.965167426491219.\n"
     ]
    },
    {
     "name": "stderr",
     "output_type": "stream",
     "text": [
      "Best trial: 25. Best value: 0.965167:  29%|████████████▍                              | 29/100 [21:02<40:55, 34.58s/it]"
     ]
    },
    {
     "name": "stdout",
     "output_type": "stream",
     "text": [
      "[I 2023-10-12 10:17:35,218] Trial 28 finished with value: 0.9620396419323074 and parameters: {'n_estimators': 56, 'max_depth': 41, 'max_features': 13, 'min_samples_leaf': 4, 'min_samples_split': 5}. Best is trial 25 with value: 0.965167426491219.\n"
     ]
    },
    {
     "name": "stderr",
     "output_type": "stream",
     "text": [
      "Best trial: 25. Best value: 0.965167:  30%|████████████▉                              | 30/100 [21:36<39:57, 34.25s/it]"
     ]
    },
    {
     "name": "stdout",
     "output_type": "stream",
     "text": [
      "[I 2023-10-12 10:18:08,700] Trial 29 finished with value: 0.9613630734203186 and parameters: {'n_estimators': 62, 'max_depth': 39, 'max_features': 12, 'min_samples_leaf': 2, 'min_samples_split': 19}. Best is trial 25 with value: 0.965167426491219.\n"
     ]
    },
    {
     "name": "stderr",
     "output_type": "stream",
     "text": [
      "Best trial: 25. Best value: 0.965167:  31%|█████████████▎                             | 31/100 [22:06<37:58, 33.02s/it]"
     ]
    },
    {
     "name": "stdout",
     "output_type": "stream",
     "text": [
      "[I 2023-10-12 10:18:38,862] Trial 30 finished with value: 0.9617858349164253 and parameters: {'n_estimators': 55, 'max_depth': 36, 'max_features': 12, 'min_samples_leaf': 1, 'min_samples_split': 13}. Best is trial 25 with value: 0.965167426491219.\n"
     ]
    },
    {
     "name": "stderr",
     "output_type": "stream",
     "text": [
      "Best trial: 25. Best value: 0.965167:  32%|█████████████▊                             | 32/100 [22:44<39:13, 34.61s/it]"
     ]
    },
    {
     "name": "stdout",
     "output_type": "stream",
     "text": [
      "[I 2023-10-12 10:19:17,187] Trial 31 finished with value: 0.9597567727442502 and parameters: {'n_estimators': 51, 'max_depth': 36, 'max_features': 17, 'min_samples_leaf': 2, 'min_samples_split': 12}. Best is trial 25 with value: 0.965167426491219.\n"
     ]
    },
    {
     "name": "stderr",
     "output_type": "stream",
     "text": [
      "Best trial: 25. Best value: 0.965167:  33%|██████████████▏                            | 33/100 [23:07<34:39, 31.03s/it]"
     ]
    },
    {
     "name": "stdout",
     "output_type": "stream",
     "text": [
      "[I 2023-10-12 10:19:39,860] Trial 32 finished with value: 0.9624620102616526 and parameters: {'n_estimators': 60, 'max_depth': 32, 'max_features': 8, 'min_samples_leaf': 1, 'min_samples_split': 13}. Best is trial 25 with value: 0.965167426491219.\n"
     ]
    },
    {
     "name": "stderr",
     "output_type": "stream",
     "text": [
      "Best trial: 25. Best value: 0.965167:  34%|██████████████▌                            | 34/100 [23:16<26:56, 24.50s/it]"
     ]
    },
    {
     "name": "stdout",
     "output_type": "stream",
     "text": [
      "[I 2023-10-12 10:19:49,121] Trial 33 finished with value: 0.9605175146856719 and parameters: {'n_estimators': 26, 'max_depth': 33, 'max_features': 8, 'min_samples_leaf': 7, 'min_samples_split': 11}. Best is trial 25 with value: 0.965167426491219.\n"
     ]
    },
    {
     "name": "stderr",
     "output_type": "stream",
     "text": [
      "Best trial: 25. Best value: 0.965167:  35%|███████████████                            | 35/100 [23:40<26:20, 24.32s/it]"
     ]
    },
    {
     "name": "stdout",
     "output_type": "stream",
     "text": [
      "[I 2023-10-12 10:20:13,010] Trial 34 finished with value: 0.9628001694191319 and parameters: {'n_estimators': 66, 'max_depth': 33, 'max_features': 8, 'min_samples_leaf': 4, 'min_samples_split': 7}. Best is trial 25 with value: 0.965167426491219.\n"
     ]
    },
    {
     "name": "stderr",
     "output_type": "stream",
     "text": [
      "Best trial: 25. Best value: 0.965167:  36%|███████████████▍                           | 36/100 [24:05<26:02, 24.42s/it]"
     ]
    },
    {
     "name": "stdout",
     "output_type": "stream",
     "text": [
      "[I 2023-10-12 10:20:37,679] Trial 35 finished with value: 0.9622928770692635 and parameters: {'n_estimators': 66, 'max_depth': 32, 'max_features': 8, 'min_samples_leaf': 5, 'min_samples_split': 9}. Best is trial 25 with value: 0.965167426491219.\n"
     ]
    },
    {
     "name": "stderr",
     "output_type": "stream",
     "text": [
      "Best trial: 25. Best value: 0.965167:  37%|███████████████▉                           | 37/100 [25:33<45:47, 43.61s/it]"
     ]
    },
    {
     "name": "stdout",
     "output_type": "stream",
     "text": [
      "[I 2023-10-12 10:22:06,061] Trial 36 finished with value: 0.9600103295631023 and parameters: {'n_estimators': 82, 'max_depth': 32, 'max_features': 23, 'min_samples_leaf': 1, 'min_samples_split': 8}. Best is trial 25 with value: 0.965167426491219.\n"
     ]
    },
    {
     "name": "stderr",
     "output_type": "stream",
     "text": [
      "Best trial: 25. Best value: 0.965167:  38%|████████████████▎                          | 38/100 [26:11<43:12, 41.81s/it]"
     ]
    },
    {
     "name": "stdout",
     "output_type": "stream",
     "text": [
      "[I 2023-10-12 10:22:43,680] Trial 37 finished with value: 0.961870330027754 and parameters: {'n_estimators': 90, 'max_depth': 31, 'max_features': 9, 'min_samples_leaf': 5, 'min_samples_split': 13}. Best is trial 25 with value: 0.965167426491219.\n"
     ]
    },
    {
     "name": "stderr",
     "output_type": "stream",
     "text": [
      "Best trial: 25. Best value: 0.965167:  39%|████████████████▊                          | 39/100 [26:28<35:04, 34.51s/it]"
     ]
    },
    {
     "name": "stdout",
     "output_type": "stream",
     "text": [
      "[I 2023-10-12 10:23:01,130] Trial 38 finished with value: 0.9616165230118717 and parameters: {'n_estimators': 42, 'max_depth': 32, 'max_features': 9, 'min_samples_leaf': 6, 'min_samples_split': 6}. Best is trial 25 with value: 0.965167426491219.\n"
     ]
    },
    {
     "name": "stderr",
     "output_type": "stream",
     "text": [
      "Best trial: 25. Best value: 0.965167:  40%|█████████████████▏                         | 40/100 [27:19<39:25, 39.43s/it]"
     ]
    },
    {
     "name": "stdout",
     "output_type": "stream",
     "text": [
      "[I 2023-10-12 10:23:52,056] Trial 39 finished with value: 0.9319412966282374 and parameters: {'n_estimators': 74, 'max_depth': 34, 'max_features': 19, 'min_samples_leaf': 51, 'min_samples_split': 18}. Best is trial 25 with value: 0.965167426491219.\n"
     ]
    },
    {
     "name": "stderr",
     "output_type": "stream",
     "text": [
      "Best trial: 25. Best value: 0.965167:  41%|█████████████████▋                         | 41/100 [27:35<31:56, 32.49s/it]"
     ]
    },
    {
     "name": "stdout",
     "output_type": "stream",
     "text": [
      "[I 2023-10-12 10:24:08,356] Trial 40 finished with value: 0.9592492659397849 and parameters: {'n_estimators': 33, 'max_depth': 33, 'max_features': 11, 'min_samples_leaf': 8, 'min_samples_split': 8}. Best is trial 25 with value: 0.965167426491219.\n"
     ]
    },
    {
     "name": "stderr",
     "output_type": "stream",
     "text": [
      "Best trial: 25. Best value: 0.965167:  42%|██████████████████                         | 42/100 [27:56<28:01, 29.00s/it]"
     ]
    },
    {
     "name": "stdout",
     "output_type": "stream",
     "text": [
      "[I 2023-10-12 10:24:29,206] Trial 41 finished with value: 0.9620392845079786 and parameters: {'n_estimators': 67, 'max_depth': 30, 'max_features': 7, 'min_samples_leaf': 4, 'min_samples_split': 9}. Best is trial 25 with value: 0.965167426491219.\n"
     ]
    },
    {
     "name": "stderr",
     "output_type": "stream",
     "text": [
      "Best trial: 25. Best value: 0.965167:  43%|██████████████████▍                        | 43/100 [28:27<28:03, 29.53s/it]"
     ]
    },
    {
     "name": "stdout",
     "output_type": "stream",
     "text": [
      "[I 2023-10-12 10:24:59,977] Trial 42 finished with value: 0.9634765234765235 and parameters: {'n_estimators': 79, 'max_depth': 34, 'max_features': 8, 'min_samples_leaf': 1, 'min_samples_split': 12}. Best is trial 25 with value: 0.965167426491219.\n"
     ]
    },
    {
     "name": "stderr",
     "output_type": "stream",
     "text": [
      "Best trial: 25. Best value: 0.965167:  44%|██████████████████▉                        | 44/100 [28:56<27:19, 29.28s/it]"
     ]
    },
    {
     "name": "stdout",
     "output_type": "stream",
     "text": [
      "[I 2023-10-12 10:25:28,691] Trial 43 finished with value: 0.9634764519916578 and parameters: {'n_estimators': 74, 'max_depth': 34, 'max_features': 8, 'min_samples_leaf': 1, 'min_samples_split': 12}. Best is trial 25 with value: 0.965167426491219.\n"
     ]
    },
    {
     "name": "stderr",
     "output_type": "stream",
     "text": [
      "Best trial: 25. Best value: 0.965167:  45%|███████████████████▎                       | 45/100 [29:46<32:46, 35.76s/it]"
     ]
    },
    {
     "name": "stdout",
     "output_type": "stream",
     "text": [
      "[I 2023-10-12 10:26:19,556] Trial 44 finished with value: 0.9611094451166007 and parameters: {'n_estimators': 78, 'max_depth': 34, 'max_features': 14, 'min_samples_leaf': 4, 'min_samples_split': 11}. Best is trial 25 with value: 0.965167426491219.\n"
     ]
    },
    {
     "name": "stderr",
     "output_type": "stream",
     "text": [
      "Best trial: 25. Best value: 0.965167:  46%|███████████████████▊                       | 46/100 [30:33<35:01, 38.92s/it]"
     ]
    },
    {
     "name": "stdout",
     "output_type": "stream",
     "text": [
      "[I 2023-10-12 10:27:05,845] Trial 45 finished with value: 0.9626310719691757 and parameters: {'n_estimators': 89, 'max_depth': 36, 'max_features': 11, 'min_samples_leaf': 3, 'min_samples_split': 12}. Best is trial 25 with value: 0.965167426491219.\n"
     ]
    },
    {
     "name": "stderr",
     "output_type": "stream",
     "text": [
      "Best trial: 25. Best value: 0.965167:  47%|████████████████████▏                      | 47/100 [31:15<35:10, 39.83s/it]"
     ]
    },
    {
     "name": "stdout",
     "output_type": "stream",
     "text": [
      "[I 2023-10-12 10:27:47,797] Trial 46 finished with value: 0.9612784710816911 and parameters: {'n_estimators': 97, 'max_depth': 34, 'max_features': 9, 'min_samples_leaf': 7, 'min_samples_split': 4}. Best is trial 25 with value: 0.965167426491219.\n"
     ]
    },
    {
     "name": "stderr",
     "output_type": "stream",
     "text": [
      "Best trial: 25. Best value: 0.965167:  48%|████████████████████▋                      | 48/100 [31:33<28:50, 33.28s/it]"
     ]
    },
    {
     "name": "stdout",
     "output_type": "stream",
     "text": [
      "[I 2023-10-12 10:28:05,809] Trial 47 finished with value: 0.9601793197857598 and parameters: {'n_estimators': 72, 'max_depth': 35, 'max_features': 6, 'min_samples_leaf': 18, 'min_samples_split': 11}. Best is trial 25 with value: 0.965167426491219.\n"
     ]
    },
    {
     "name": "stderr",
     "output_type": "stream",
     "text": [
      "Best trial: 25. Best value: 0.965167:  49%|█████████████████████                      | 49/100 [32:22<32:28, 38.21s/it]"
     ]
    },
    {
     "name": "stdout",
     "output_type": "stream",
     "text": [
      "[I 2023-10-12 10:28:55,508] Trial 48 finished with value: 0.9572204182222072 and parameters: {'n_estimators': 51, 'max_depth': 37, 'max_features': 21, 'min_samples_leaf': 6, 'min_samples_split': 7}. Best is trial 25 with value: 0.965167426491219.\n"
     ]
    },
    {
     "name": "stderr",
     "output_type": "stream",
     "text": [
      "Best trial: 25. Best value: 0.965167:  50%|█████████████████████▌                     | 50/100 [32:46<28:11, 33.83s/it]"
     ]
    },
    {
     "name": "stdout",
     "output_type": "stream",
     "text": [
      "[I 2023-10-12 10:29:19,111] Trial 49 finished with value: 0.9634765234765235 and parameters: {'n_estimators': 83, 'max_depth': 39, 'max_features': 6, 'min_samples_leaf': 1, 'min_samples_split': 14}. Best is trial 25 with value: 0.965167426491219.\n"
     ]
    },
    {
     "name": "stderr",
     "output_type": "stream",
     "text": [
      "Best trial: 25. Best value: 0.965167:  51%|█████████████████████▉                     | 51/100 [33:31<30:15, 37.04s/it]"
     ]
    },
    {
     "name": "stdout",
     "output_type": "stream",
     "text": [
      "[I 2023-10-12 10:30:03,659] Trial 50 finished with value: 0.958235002921944 and parameters: {'n_estimators': 96, 'max_depth': 39, 'max_features': 11, 'min_samples_leaf': 13, 'min_samples_split': 15}. Best is trial 25 with value: 0.965167426491219.\n"
     ]
    },
    {
     "name": "stderr",
     "output_type": "stream",
     "text": [
      "Best trial: 25. Best value: 0.965167:  52%|██████████████████████▎                    | 52/100 [33:51<25:43, 32.17s/it]"
     ]
    },
    {
     "name": "stdout",
     "output_type": "stream",
     "text": [
      "[I 2023-10-12 10:30:24,449] Trial 51 finished with value: 0.9633074975114331 and parameters: {'n_estimators': 78, 'max_depth': 40, 'max_features': 6, 'min_samples_leaf': 1, 'min_samples_split': 14}. Best is trial 25 with value: 0.965167426491219.\n"
     ]
    },
    {
     "name": "stderr",
     "output_type": "stream",
     "text": [
      "Best trial: 25. Best value: 0.965167:  53%|██████████████████████▊                    | 53/100 [34:13<22:50, 29.15s/it]"
     ]
    },
    {
     "name": "stdout",
     "output_type": "stream",
     "text": [
      "[I 2023-10-12 10:30:46,575] Trial 52 finished with value: 0.9633074260265675 and parameters: {'n_estimators': 84, 'max_depth': 41, 'max_features': 6, 'min_samples_leaf': 1, 'min_samples_split': 14}. Best is trial 25 with value: 0.965167426491219.\n"
     ]
    },
    {
     "name": "stderr",
     "output_type": "stream",
     "text": [
      "Best trial: 25. Best value: 0.965167:  54%|███████████████████████▏                   | 54/100 [34:38<21:14, 27.71s/it]"
     ]
    },
    {
     "name": "stdout",
     "output_type": "stream",
     "text": [
      "[I 2023-10-12 10:31:10,923] Trial 53 finished with value: 0.962123886846606 and parameters: {'n_estimators': 79, 'max_depth': 40, 'max_features': 7, 'min_samples_leaf': 3, 'min_samples_split': 18}. Best is trial 25 with value: 0.965167426491219.\n"
     ]
    },
    {
     "name": "stderr",
     "output_type": "stream",
     "text": [
      "Best trial: 25. Best value: 0.965167:  55%|███████████████████████▋                   | 55/100 [34:57<18:50, 25.11s/it]"
     ]
    },
    {
     "name": "stdout",
     "output_type": "stream",
     "text": [
      "[I 2023-10-12 10:31:29,960] Trial 54 finished with value: 0.9613630019354528 and parameters: {'n_estimators': 91, 'max_depth': 39, 'max_features': 5, 'min_samples_leaf': 12, 'min_samples_split': 17}. Best is trial 25 with value: 0.965167426491219.\n"
     ]
    },
    {
     "name": "stderr",
     "output_type": "stream",
     "text": [
      "Best trial: 25. Best value: 0.965167:  56%|████████████████████████                   | 56/100 [35:31<20:22, 27.79s/it]"
     ]
    },
    {
     "name": "stdout",
     "output_type": "stream",
     "text": [
      "[I 2023-10-12 10:32:03,974] Trial 55 finished with value: 0.9635611615575836 and parameters: {'n_estimators': 104, 'max_depth': 37, 'max_features': 7, 'min_samples_leaf': 1, 'min_samples_split': 12}. Best is trial 25 with value: 0.965167426491219.\n"
     ]
    },
    {
     "name": "stderr",
     "output_type": "stream",
     "text": [
      "Best trial: 25. Best value: 0.965167:  57%|████████████████████████▌                  | 57/100 [36:07<21:47, 30.41s/it]"
     ]
    },
    {
     "name": "stdout",
     "output_type": "stream",
     "text": [
      "[I 2023-10-12 10:32:40,501] Trial 56 finished with value: 0.9622084177003677 and parameters: {'n_estimators': 117, 'max_depth': 38, 'max_features': 7, 'min_samples_leaf': 6, 'min_samples_split': 16}. Best is trial 25 with value: 0.965167426491219.\n"
     ]
    },
    {
     "name": "stderr",
     "output_type": "stream",
     "text": [
      "Best trial: 25. Best value: 0.965167:  58%|████████████████████████▉                  | 58/100 [36:54<24:46, 35.39s/it]"
     ]
    },
    {
     "name": "stdout",
     "output_type": "stream",
     "text": [
      "[I 2023-10-12 10:33:27,537] Trial 57 finished with value: 0.9618702585428883 and parameters: {'n_estimators': 109, 'max_depth': 36, 'max_features': 10, 'min_samples_leaf': 3, 'min_samples_split': 14}. Best is trial 25 with value: 0.965167426491219.\n"
     ]
    },
    {
     "name": "stderr",
     "output_type": "stream",
     "text": [
      "Best trial: 25. Best value: 0.965167:  59%|█████████████████████████▎                 | 59/100 [38:36<37:48, 55.32s/it]"
     ]
    },
    {
     "name": "stdout",
     "output_type": "stream",
     "text": [
      "[I 2023-10-12 10:35:09,374] Trial 58 finished with value: 0.9485125607844751 and parameters: {'n_estimators': 85, 'max_depth': 41, 'max_features': 30, 'min_samples_leaf': 8, 'min_samples_split': 12}. Best is trial 25 with value: 0.965167426491219.\n"
     ]
    },
    {
     "name": "stderr",
     "output_type": "stream",
     "text": [
      "Best trial: 25. Best value: 0.965167:  60%|█████████████████████████▊                 | 60/100 [39:04<31:27, 47.19s/it]"
     ]
    },
    {
     "name": "stdout",
     "output_type": "stream",
     "text": [
      "[I 2023-10-12 10:35:37,575] Trial 59 finished with value: 0.9567129829026072 and parameters: {'n_estimators': 95, 'max_depth': 35, 'max_features': 8, 'min_samples_leaf': 29, 'min_samples_split': 20}. Best is trial 25 with value: 0.965167426491219.\n"
     ]
    },
    {
     "name": "stderr",
     "output_type": "stream",
     "text": [
      "Best trial: 25. Best value: 0.965167:  61%|██████████████████████████▏                | 61/100 [39:24<25:18, 38.93s/it]"
     ]
    },
    {
     "name": "stdout",
     "output_type": "stream",
     "text": [
      "[I 2023-10-12 10:35:57,246] Trial 60 finished with value: 0.9611093736317349 and parameters: {'n_estimators': 103, 'max_depth': 37, 'max_features': 5, 'min_samples_leaf': 18, 'min_samples_split': 14}. Best is trial 25 with value: 0.965167426491219.\n"
     ]
    },
    {
     "name": "stderr",
     "output_type": "stream",
     "text": [
      "Best trial: 25. Best value: 0.965167:  62%|██████████████████████████▋                | 62/100 [39:44<21:00, 33.17s/it]"
     ]
    },
    {
     "name": "stdout",
     "output_type": "stream",
     "text": [
      "[I 2023-10-12 10:36:16,978] Trial 61 finished with value: 0.9627156385653702 and parameters: {'n_estimators': 70, 'max_depth': 40, 'max_features': 6, 'min_samples_leaf': 3, 'min_samples_split': 14}. Best is trial 25 with value: 0.965167426491219.\n"
     ]
    },
    {
     "name": "stderr",
     "output_type": "stream",
     "text": [
      "Best trial: 25. Best value: 0.965167:  63%|███████████████████████████                | 63/100 [40:00<17:18, 28.06s/it]"
     ]
    },
    {
     "name": "stdout",
     "output_type": "stream",
     "text": [
      "[I 2023-10-12 10:36:33,116] Trial 62 finished with value: 0.9568819373828319 and parameters: {'n_estimators': 75, 'max_depth': 42, 'max_features': 6, 'min_samples_leaf': 38, 'min_samples_split': 12}. Best is trial 25 with value: 0.965167426491219.\n"
     ]
    },
    {
     "name": "stderr",
     "output_type": "stream",
     "text": [
      "Best trial: 25. Best value: 0.965167:  64%|███████████████████████████▌               | 64/100 [40:34<17:49, 29.70s/it]"
     ]
    },
    {
     "name": "stdout",
     "output_type": "stream",
     "text": [
      "[I 2023-10-12 10:37:06,646] Trial 63 finished with value: 0.9630539406925811 and parameters: {'n_estimators': 101, 'max_depth': 40, 'max_features': 7, 'min_samples_leaf': 1, 'min_samples_split': 11}. Best is trial 25 with value: 0.965167426491219.\n"
     ]
    },
    {
     "name": "stderr",
     "output_type": "stream",
     "text": [
      "Best trial: 25. Best value: 0.965167:  65%|███████████████████████████▉               | 65/100 [41:01<16:53, 28.97s/it]"
     ]
    },
    {
     "name": "stdout",
     "output_type": "stream",
     "text": [
      "[I 2023-10-12 10:37:33,915] Trial 64 finished with value: 0.961954753654217 and parameters: {'n_estimators': 60, 'max_depth': 39, 'max_features': 9, 'min_samples_leaf': 5, 'min_samples_split': 10}. Best is trial 25 with value: 0.965167426491219.\n"
     ]
    },
    {
     "name": "stderr",
     "output_type": "stream",
     "text": [
      "Best trial: 25. Best value: 0.965167:  66%|████████████████████████████▍              | 66/100 [41:28<16:04, 28.38s/it]"
     ]
    },
    {
     "name": "stdout",
     "output_type": "stream",
     "text": [
      "[I 2023-10-12 10:38:00,909] Trial 65 finished with value: 0.9608557095855843 and parameters: {'n_estimators': 81, 'max_depth': 38, 'max_features': 8, 'min_samples_leaf': 9, 'min_samples_split': 22}. Best is trial 25 with value: 0.965167426491219.\n"
     ]
    },
    {
     "name": "stderr",
     "output_type": "stream",
     "text": [
      "Best trial: 25. Best value: 0.965167:  67%|████████████████████████████▊              | 67/100 [42:15<18:40, 33.95s/it]"
     ]
    },
    {
     "name": "stdout",
     "output_type": "stream",
     "text": [
      "[I 2023-10-12 10:38:47,856] Trial 66 finished with value: 0.956459211629158 and parameters: {'n_estimators': 109, 'max_depth': 43, 'max_features': 10, 'min_samples_leaf': 25, 'min_samples_split': 15}. Best is trial 25 with value: 0.965167426491219.\n"
     ]
    },
    {
     "name": "stderr",
     "output_type": "stream",
     "text": [
      "Best trial: 25. Best value: 0.965167:  68%|█████████████████████████████▏             | 68/100 [42:36<16:04, 30.13s/it]"
     ]
    },
    {
     "name": "stdout",
     "output_type": "stream",
     "text": [
      "[I 2023-10-12 10:39:09,068] Trial 67 finished with value: 0.9628000621918332 and parameters: {'n_estimators': 77, 'max_depth': 50, 'max_features': 6, 'min_samples_leaf': 2, 'min_samples_split': 13}. Best is trial 25 with value: 0.965167426491219.\n"
     ]
    },
    {
     "name": "stderr",
     "output_type": "stream",
     "text": [
      "Best trial: 25. Best value: 0.965167:  69%|█████████████████████████████▋             | 69/100 [43:03<15:06, 29.24s/it]"
     ]
    },
    {
     "name": "stdout",
     "output_type": "stream",
     "text": [
      "[I 2023-10-12 10:39:36,254] Trial 68 finished with value: 0.9635611973000167 and parameters: {'n_estimators': 120, 'max_depth': 37, 'max_features': 5, 'min_samples_leaf': 1, 'min_samples_split': 16}. Best is trial 25 with value: 0.965167426491219.\n"
     ]
    },
    {
     "name": "stderr",
     "output_type": "stream",
     "text": [
      "Best trial: 25. Best value: 0.965167:  70%|██████████████████████████████             | 70/100 [43:31<14:24, 28.82s/it]"
     ]
    },
    {
     "name": "stdout",
     "output_type": "stream",
     "text": [
      "[I 2023-10-12 10:40:04,060] Trial 69 finished with value: 0.9619548608815156 and parameters: {'n_estimators': 133, 'max_depth': 37, 'max_features': 5, 'min_samples_leaf': 8, 'min_samples_split': 17}. Best is trial 25 with value: 0.965167426491219.\n"
     ]
    },
    {
     "name": "stderr",
     "output_type": "stream",
     "text": [
      "Best trial: 25. Best value: 0.965167:  71%|██████████████████████████████▌            | 71/100 [44:11<15:32, 32.15s/it]"
     ]
    },
    {
     "name": "stdout",
     "output_type": "stream",
     "text": [
      "[I 2023-10-12 10:40:43,987] Trial 70 finished with value: 0.9632229666576715 and parameters: {'n_estimators': 122, 'max_depth': 35, 'max_features': 7, 'min_samples_leaf': 5, 'min_samples_split': 12}. Best is trial 25 with value: 0.965167426491219.\n"
     ]
    },
    {
     "name": "stderr",
     "output_type": "stream",
     "text": [
      "Best trial: 25. Best value: 0.965167:  72%|██████████████████████████████▉            | 72/100 [45:02<17:43, 37.97s/it]"
     ]
    },
    {
     "name": "stdout",
     "output_type": "stream",
     "text": [
      "[I 2023-10-12 10:41:35,532] Trial 71 finished with value: 0.9618702942853211 and parameters: {'n_estimators': 119, 'max_depth': 39, 'max_features': 9, 'min_samples_leaf': 1, 'min_samples_split': 16}. Best is trial 25 with value: 0.965167426491219.\n"
     ]
    },
    {
     "name": "stderr",
     "output_type": "stream",
     "text": [
      "Best trial: 25. Best value: 0.965167:  73%|███████████████████████████████▍           | 73/100 [45:18<14:04, 31.26s/it]"
     ]
    },
    {
     "name": "stdout",
     "output_type": "stream",
     "text": [
      "[I 2023-10-12 10:41:51,161] Trial 72 finished with value: 0.9631383643190441 and parameters: {'n_estimators': 69, 'max_depth': 38, 'max_features': 5, 'min_samples_leaf': 3, 'min_samples_split': 14}. Best is trial 25 with value: 0.965167426491219.\n"
     ]
    },
    {
     "name": "stderr",
     "output_type": "stream",
     "text": [
      "Best trial: 25. Best value: 0.965167:  74%|███████████████████████████████▊           | 74/100 [46:10<16:15, 37.53s/it]"
     ]
    },
    {
     "name": "stdout",
     "output_type": "stream",
     "text": [
      "[I 2023-10-12 10:42:43,309] Trial 73 finished with value: 0.9624619387767867 and parameters: {'n_estimators': 130, 'max_depth': 37, 'max_features': 8, 'min_samples_leaf': 2, 'min_samples_split': 17}. Best is trial 25 with value: 0.965167426491219.\n"
     ]
    },
    {
     "name": "stderr",
     "output_type": "stream",
     "text": [
      "Best trial: 25. Best value: 0.965167:  75%|████████████████████████████████▎          | 75/100 [46:53<16:16, 39.04s/it]"
     ]
    },
    {
     "name": "stdout",
     "output_type": "stream",
     "text": [
      "[I 2023-10-12 10:43:25,871] Trial 74 finished with value: 0.963391992622762 and parameters: {'n_estimators': 140, 'max_depth': 36, 'max_features': 6, 'min_samples_leaf': 1, 'min_samples_split': 13}. Best is trial 25 with value: 0.965167426491219.\n"
     ]
    },
    {
     "name": "stderr",
     "output_type": "stream",
     "text": [
      "Best trial: 25. Best value: 0.965167:  76%|████████████████████████████████▋          | 76/100 [47:38<16:24, 41.03s/it]"
     ]
    },
    {
     "name": "stdout",
     "output_type": "stream",
     "text": [
      "[I 2023-10-12 10:44:11,519] Trial 75 finished with value: 0.9624619387767867 and parameters: {'n_estimators': 141, 'max_depth': 36, 'max_features': 7, 'min_samples_leaf': 5, 'min_samples_split': 13}. Best is trial 25 with value: 0.965167426491219.\n"
     ]
    },
    {
     "name": "stderr",
     "output_type": "stream",
     "text": [
      "Best trial: 25. Best value: 0.965167:  77%|█████████████████████████████████          | 77/100 [48:29<16:48, 43.84s/it]"
     ]
    },
    {
     "name": "stdout",
     "output_type": "stream",
     "text": [
      "[I 2023-10-12 10:45:01,941] Trial 76 finished with value: 0.9631384358039098 and parameters: {'n_estimators': 130, 'max_depth': 36, 'max_features': 8, 'min_samples_leaf': 3, 'min_samples_split': 11}. Best is trial 25 with value: 0.965167426491219.\n"
     ]
    },
    {
     "name": "stderr",
     "output_type": "stream",
     "text": [
      "Best trial: 25. Best value: 0.965167:  78%|█████████████████████████████████▌         | 78/100 [48:52<13:46, 37.55s/it]"
     ]
    },
    {
     "name": "stdout",
     "output_type": "stream",
     "text": [
      "[I 2023-10-12 10:45:24,817] Trial 77 finished with value: 0.9622083462155018 and parameters: {'n_estimators': 93, 'max_depth': 37, 'max_features': 5, 'min_samples_leaf': 6, 'min_samples_split': 15}. Best is trial 25 with value: 0.965167426491219.\n"
     ]
    },
    {
     "name": "stderr",
     "output_type": "stream",
     "text": [
      "Best trial: 25. Best value: 0.965167:  79%|█████████████████████████████████▉         | 79/100 [49:31<13:18, 38.04s/it]"
     ]
    },
    {
     "name": "stdout",
     "output_type": "stream",
     "text": [
      "[I 2023-10-12 10:46:03,993] Trial 78 finished with value: 0.963561125815151 and parameters: {'n_estimators': 143, 'max_depth': 34, 'max_features': 6, 'min_samples_leaf': 2, 'min_samples_split': 9}. Best is trial 25 with value: 0.965167426491219.\n"
     ]
    },
    {
     "name": "stderr",
     "output_type": "stream",
     "text": [
      "Best trial: 25. Best value: 0.965167:  80%|██████████████████████████████████▍        | 80/100 [50:13<13:05, 39.29s/it]"
     ]
    },
    {
     "name": "stdout",
     "output_type": "stream",
     "text": [
      "[I 2023-10-12 10:46:46,213] Trial 79 finished with value: 0.9626310719691757 and parameters: {'n_estimators': 102, 'max_depth': 33, 'max_features': 9, 'min_samples_leaf': 4, 'min_samples_split': 10}. Best is trial 25 with value: 0.965167426491219.\n"
     ]
    },
    {
     "name": "stderr",
     "output_type": "stream",
     "text": [
      "Best trial: 25. Best value: 0.965167:  81%|██████████████████████████████████▊        | 81/100 [50:57<12:50, 40.57s/it]"
     ]
    },
    {
     "name": "stdout",
     "output_type": "stream",
     "text": [
      "[I 2023-10-12 10:47:29,776] Trial 80 finished with value: 0.9545147160531776 and parameters: {'n_estimators': 112, 'max_depth': 34, 'max_features': 10, 'min_samples_leaf': 34, 'min_samples_split': 9}. Best is trial 25 with value: 0.965167426491219.\n"
     ]
    },
    {
     "name": "stderr",
     "output_type": "stream",
     "text": [
      "Best trial: 25. Best value: 0.965167:  82%|███████████████████████████████████▎       | 82/100 [51:35<11:59, 40.00s/it]"
     ]
    },
    {
     "name": "stdout",
     "output_type": "stream",
     "text": [
      "[I 2023-10-12 10:48:08,429] Trial 81 finished with value: 0.9631381856068797 and parameters: {'n_estimators': 138, 'max_depth': 35, 'max_features': 6, 'min_samples_leaf': 2, 'min_samples_split': 12}. Best is trial 25 with value: 0.965167426491219.\n"
     ]
    },
    {
     "name": "stderr",
     "output_type": "stream",
     "text": [
      "Best trial: 25. Best value: 0.965167:  83%|███████████████████████████████████▋       | 83/100 [52:23<11:59, 42.31s/it]"
     ]
    },
    {
     "name": "stdout",
     "output_type": "stream",
     "text": [
      "[I 2023-10-12 10:48:56,127] Trial 82 finished with value: 0.963730223265107 and parameters: {'n_estimators': 143, 'max_depth': 47, 'max_features': 7, 'min_samples_leaf': 1, 'min_samples_split': 10}. Best is trial 25 with value: 0.965167426491219.\n"
     ]
    },
    {
     "name": "stderr",
     "output_type": "stream",
     "text": [
      "Best trial: 25. Best value: 0.965167:  84%|████████████████████████████████████       | 84/100 [55:15<21:40, 81.25s/it]"
     ]
    },
    {
     "name": "stdout",
     "output_type": "stream",
     "text": [
      "[I 2023-10-12 10:51:48,246] Trial 83 finished with value: 0.957474296722955 and parameters: {'n_estimators': 146, 'max_depth': 48, 'max_features': 25, 'min_samples_leaf': 4, 'min_samples_split': 10}. Best is trial 25 with value: 0.965167426491219.\n"
     ]
    },
    {
     "name": "stderr",
     "output_type": "stream",
     "text": [
      "Best trial: 25. Best value: 0.965167:  85%|████████████████████████████████████▌      | 85/100 [56:03<17:48, 71.21s/it]"
     ]
    },
    {
     "name": "stdout",
     "output_type": "stream",
     "text": [
      "[I 2023-10-12 10:52:36,010] Trial 84 finished with value: 0.9633920998500605 and parameters: {'n_estimators': 143, 'max_depth': 31, 'max_features': 8, 'min_samples_leaf': 3, 'min_samples_split': 9}. Best is trial 25 with value: 0.965167426491219.\n"
     ]
    },
    {
     "name": "stderr",
     "output_type": "stream",
     "text": [
      "Best trial: 25. Best value: 0.965167:  86%|████████████████████████████████████▉      | 86/100 [56:44<14:29, 62.12s/it]"
     ]
    },
    {
     "name": "stdout",
     "output_type": "stream",
     "text": [
      "[I 2023-10-12 10:53:16,922] Trial 85 finished with value: 0.9619548608815156 and parameters: {'n_estimators': 133, 'max_depth': 34, 'max_features': 7, 'min_samples_leaf': 7, 'min_samples_split': 4}. Best is trial 25 with value: 0.965167426491219.\n"
     ]
    },
    {
     "name": "stderr",
     "output_type": "stream",
     "text": [
      "Best trial: 25. Best value: 0.965167:  87%|█████████████████████████████████████▍     | 87/100 [58:08<14:51, 68.58s/it]"
     ]
    },
    {
     "name": "stdout",
     "output_type": "stream",
     "text": [
      "[I 2023-10-12 10:54:40,583] Trial 86 finished with value: 0.9617012325777978 and parameters: {'n_estimators': 126, 'max_depth': 46, 'max_features': 15, 'min_samples_leaf': 2, 'min_samples_split': 11}. Best is trial 25 with value: 0.965167426491219.\n"
     ]
    },
    {
     "name": "stderr",
     "output_type": "stream",
     "text": [
      "Best trial: 25. Best value: 0.965167:  88%|█████████████████████████████████████▊     | 88/100 [58:26<10:42, 53.57s/it]"
     ]
    },
    {
     "name": "stdout",
     "output_type": "stream",
     "text": [
      "[I 2023-10-12 10:54:59,138] Trial 87 finished with value: 0.9632228951728058 and parameters: {'n_estimators': 62, 'max_depth': 38, 'max_features': 7, 'min_samples_leaf': 5, 'min_samples_split': 5}. Best is trial 25 with value: 0.965167426491219.\n"
     ]
    },
    {
     "name": "stderr",
     "output_type": "stream",
     "text": [
      "Best trial: 25. Best value: 0.965167:  89%|██████████████████████████████████████▎    | 89/100 [58:54<08:25, 45.94s/it]"
     ]
    },
    {
     "name": "stdout",
     "output_type": "stream",
     "text": [
      "[I 2023-10-12 10:55:27,256] Trial 88 finished with value: 0.9633076404811647 and parameters: {'n_estimators': 52, 'max_depth': 42, 'max_features': 10, 'min_samples_leaf': 1, 'min_samples_split': 6}. Best is trial 25 with value: 0.965167426491219.\n"
     ]
    },
    {
     "name": "stderr",
     "output_type": "stream",
     "text": [
      "Best trial: 25. Best value: 0.965167:  90%|██████████████████████████████████████▋    | 90/100 [59:18<06:33, 39.36s/it]"
     ]
    },
    {
     "name": "stdout",
     "output_type": "stream",
     "text": [
      "[I 2023-10-12 10:55:51,276] Trial 89 finished with value: 0.9616165944967376 and parameters: {'n_estimators': 115, 'max_depth': 48, 'max_features': 5, 'min_samples_leaf': 10, 'min_samples_split': 11}. Best is trial 25 with value: 0.965167426491219.\n"
     ]
    },
    {
     "name": "stderr",
     "output_type": "stream",
     "text": [
      "Best trial: 25. Best value: 0.965167:  91%|███████████████████████████████████████▏   | 91/100 [59:42<05:11, 34.58s/it]"
     ]
    },
    {
     "name": "stdout",
     "output_type": "stream",
     "text": [
      "[I 2023-10-12 10:56:14,700] Trial 90 finished with value: 0.9622929842965622 and parameters: {'n_estimators': 86, 'max_depth': 33, 'max_features': 6, 'min_samples_leaf': 6, 'min_samples_split': 8}. Best is trial 25 with value: 0.965167426491219.\n"
     ]
    },
    {
     "name": "stderr",
     "output_type": "stream",
     "text": [
      "Best trial: 25. Best value: 0.965167:  92%|█████████████████████████████████████▋   | 92/100 [1:00:39<05:30, 41.34s/it]"
     ]
    },
    {
     "name": "stdout",
     "output_type": "stream",
     "text": [
      "[I 2023-10-12 10:57:11,809] Trial 91 finished with value: 0.9630538334652826 and parameters: {'n_estimators': 145, 'max_depth': 30, 'max_features': 8, 'min_samples_leaf': 3, 'min_samples_split': 10}. Best is trial 25 with value: 0.965167426491219.\n"
     ]
    },
    {
     "name": "stderr",
     "output_type": "stream",
     "text": [
      "Best trial: 25. Best value: 0.965167:  93%|██████████████████████████████████████▏  | 93/100 [1:01:39<05:28, 46.95s/it]"
     ]
    },
    {
     "name": "stdout",
     "output_type": "stream",
     "text": [
      "[I 2023-10-12 10:58:11,842] Trial 92 finished with value: 0.9627156385653702 and parameters: {'n_estimators': 136, 'max_depth': 31, 'max_features': 9, 'min_samples_leaf': 2, 'min_samples_split': 12}. Best is trial 25 with value: 0.965167426491219.\n"
     ]
    },
    {
     "name": "stderr",
     "output_type": "stream",
     "text": [
      "Best trial: 25. Best value: 0.965167:  94%|██████████████████████████████████████▌  | 94/100 [1:02:46<05:17, 52.95s/it]"
     ]
    },
    {
     "name": "stdout",
     "output_type": "stream",
     "text": [
      "[I 2023-10-12 10:59:18,801] Trial 93 finished with value: 0.9628002766464305 and parameters: {'n_estimators': 124, 'max_depth': 31, 'max_features': 11, 'min_samples_leaf': 3, 'min_samples_split': 9}. Best is trial 25 with value: 0.965167426491219.\n"
     ]
    },
    {
     "name": "stderr",
     "output_type": "stream",
     "text": [
      "Best trial: 25. Best value: 0.965167:  95%|██████████████████████████████████████▉  | 95/100 [1:03:13<03:46, 45.37s/it]"
     ]
    },
    {
     "name": "stdout",
     "output_type": "stream",
     "text": [
      "[I 2023-10-12 10:59:46,472] Trial 94 finished with value: 0.9630538692077153 and parameters: {'n_estimators': 88, 'max_depth': 47, 'max_features': 7, 'min_samples_leaf': 4, 'min_samples_split': 10}. Best is trial 25 with value: 0.965167426491219.\n"
     ]
    },
    {
     "name": "stderr",
     "output_type": "stream",
     "text": [
      "Best trial: 25. Best value: 0.965167:  96%|███████████████████████████████████████▎ | 96/100 [1:04:04<03:07, 46.90s/it]"
     ]
    },
    {
     "name": "stdout",
     "output_type": "stream",
     "text": [
      "[I 2023-10-12 11:00:36,948] Trial 95 finished with value: 0.9633074617690003 and parameters: {'n_estimators': 143, 'max_depth': 45, 'max_features': 8, 'min_samples_leaf': 1, 'min_samples_split': 12}. Best is trial 25 with value: 0.965167426491219.\n"
     ]
    },
    {
     "name": "stderr",
     "output_type": "stream",
     "text": [
      "Best trial: 25. Best value: 0.965167:  97%|███████████████████████████████████████▊ | 97/100 [1:04:40<02:11, 43.78s/it]"
     ]
    },
    {
     "name": "stdout",
     "output_type": "stream",
     "text": [
      "[I 2023-10-12 11:01:13,467] Trial 96 finished with value: 0.9638148970886 and parameters: {'n_estimators': 106, 'max_depth': 32, 'max_features': 8, 'min_samples_leaf': 2, 'min_samples_split': 8}. Best is trial 25 with value: 0.965167426491219.\n"
     ]
    },
    {
     "name": "stderr",
     "output_type": "stream",
     "text": [
      "Best trial: 25. Best value: 0.965167:  98%|████████████████████████████████████████▏| 98/100 [1:05:22<01:26, 43.19s/it]"
     ]
    },
    {
     "name": "stdout",
     "output_type": "stream",
     "text": [
      "[I 2023-10-12 11:01:55,262] Trial 97 finished with value: 0.9648293745610381 and parameters: {'n_estimators': 99, 'max_depth': 45, 'max_features': 9, 'min_samples_leaf': 1, 'min_samples_split': 7}. Best is trial 25 with value: 0.965167426491219.\n"
     ]
    },
    {
     "name": "stderr",
     "output_type": "stream",
     "text": [
      "Best trial: 25. Best value: 0.965167:  99%|████████████████████████████████████████▌| 99/100 [1:06:10<00:44, 44.55s/it]"
     ]
    },
    {
     "name": "stdout",
     "output_type": "stream",
     "text": [
      "[I 2023-10-12 11:02:42,990] Trial 98 finished with value: 0.9633920641076277 and parameters: {'n_estimators': 111, 'max_depth': 45, 'max_features': 9, 'min_samples_leaf': 2, 'min_samples_split': 8}. Best is trial 25 with value: 0.965167426491219.\n"
     ]
    },
    {
     "name": "stderr",
     "output_type": "stream",
     "text": [
      "Best trial: 25. Best value: 0.965167: 100%|████████████████████████████████████████| 100/100 [1:06:36<00:00, 39.97s/it]"
     ]
    },
    {
     "name": "stdout",
     "output_type": "stream",
     "text": [
      "[I 2023-10-12 11:03:09,089] Trial 99 finished with value: 0.9619548608815156 and parameters: {'n_estimators': 99, 'max_depth': 47, 'max_features': 6, 'min_samples_leaf': 7, 'min_samples_split': 6}. Best is trial 25 with value: 0.965167426491219.\n",
      "\n",
      " \n",
      " best params:  {'n_estimators': 104, 'max_depth': 43, 'max_features': 8, 'min_samples_leaf': 1, 'min_samples_split': 5} \n",
      " \n",
      " best score:  [0.965167426491219] \n",
      "\n",
      "\n",
      " \n",
      " best params:  {'n_estimators': 104, 'max_depth': 43, 'max_features': 8, 'min_samples_leaf': 1, 'min_samples_split': 5} \n",
      " \n",
      " best score:  [0.965167426491219] \n",
      "\n",
      "Optimization completed in 66.61450456380844 minutes.\n"
     ]
    },
    {
     "name": "stderr",
     "output_type": "stream",
     "text": [
      "\n"
     ]
    }
   ],
   "source": [
    "#（1）构建目标函数及定义参数空间\n",
    "def optuna_objective(trial):\n",
    "    \n",
    "    #定义参数空间\n",
    "    n_estimators = trial.suggest_int(\"n_estimators\",1,150,1) #整数型，(参数名称，下界，上界，步长)\n",
    "    max_depth = trial.suggest_int(\"max_depth\",30,50,1)\n",
    "    max_features = trial.suggest_int(\"max_features\",5,30,1)\n",
    "    min_samples_leaf = trial.suggest_int(\"min_samples_leaf\",1,51,1)\n",
    "    min_samples_split = trial.suggest_int(\"min_samples_split\",2,22,1)\n",
    "\n",
    "    #定义评估器\n",
    "    #需要优化的参数由上述参数空间决定\n",
    "    #不需要优化的参数则直接填写具体值\n",
    "    rfc = RFC(n_estimators = n_estimators\n",
    "              ,max_depth = max_depth\n",
    "              ,max_features = max_features\n",
    "              ,min_samples_leaf = min_samples_leaf\n",
    "              ,min_samples_split = min_samples_split\n",
    "              ,random_state=0\n",
    "              ,verbose=False\n",
    "              ,n_jobs=-1\n",
    "             )\n",
    "\n",
    "    #交叉验证过程，输出准确率(accuracy)\n",
    "    cv = KFold(n_splits=5,shuffle=True,random_state=0)\n",
    "    score = cross_val_score(rfc,X_dr,y\n",
    "                            ,scoring='accuracy'\n",
    "                            ,cv=cv #交叉验证模式\n",
    "                            ,verbose=False #是否打印进程\n",
    "                            ,n_jobs=-1 #线程数\n",
    "                            ,error_score='raise' #如果在某个折叠中出现错误，会引发一个异常\n",
    "                           )\n",
    "    #最终输出平均准确率\n",
    "    return np.mean(score)\n",
    "\n",
    "#（2）定义优化目标函数的具体流程\n",
    "def optimizer_optuna(n_trials, algo):\n",
    "\n",
    "    # 检查是否已经存在study，存在则删除，不存在则略过    \n",
    "    try:\n",
    "        storage = \"sqlite:///random_BO\"  # Specify the storage URL here.\n",
    "        study_name = \"random_BO\"\n",
    "       \n",
    "        # 获取 study 的 ID\n",
    "        storage = optuna.storages.get_storage(storage)\n",
    "        study_id = storage.get_study_id_from_name(study_name)\n",
    "       \n",
    "        # 删除已存在的 study\n",
    "        storage.delete_study(study_id)\n",
    "        print(f\"Deleted existing study: {study_name}\")\n",
    "    except KeyError as e:\n",
    "        print(f\"Study '{study_name}' does not exist.\")\n",
    "    \n",
    "    #定义使用TPE或者GP\n",
    "    if algo == \"TPE\":\n",
    "        algo = optuna.samplers.TPESampler(n_startup_trials = 15, n_ei_candidates = 12)\n",
    "    elif algo == \"GP\":\n",
    "        from optuna.integration import SkoptSampler\n",
    "        import skopt\n",
    "        algo = SkoptSampler(skopt_kwargs={'base_estimator':'GP', #选择高斯过程\n",
    "                                          'n_initial_points':30, #初始观测点10个\n",
    "                                          'acq_func':'EI'} #选择的采集函数为EI，期望增量\n",
    "                           )\n",
    "\n",
    "    #实际优化过程，首先实例化优化器\n",
    "    study = optuna.create_study(sampler = algo #要使用的具体算法\n",
    "                                ,direction=\"maximize\" #优化的方向，可以填写minimize或maximize\n",
    "                                ,storage=\"sqlite:///random_BO\" # Specify the storage URL here.\n",
    "                                ,study_name=\"random_BO\"\n",
    "                               )\n",
    "    #开始优化，n_trials为允许的最大迭代次数\n",
    "    #由于参数空间已经在目标函数中定义好，因此不需要输入参数空间\n",
    "    study.optimize(optuna_objective #目标函数\n",
    "                   ,n_trials=n_trials #最大迭代次数（包括最初的观测值的）\n",
    "                   ,show_progress_bar=True #要不要展示进度条呀？\n",
    "                  )\n",
    "\n",
    "    #可直接从优化好的对象study中调用优化的结果\n",
    "    #打印最佳参数与最佳损失值\n",
    "    print(\"\\n\",\"\\n\",\"best params: \", study.best_trial.params,\n",
    "          \"\\n\",\"\\n\",\"best score: \", study.best_trial.values,\n",
    "          \"\\n\")\n",
    "\n",
    "    return study.best_trial.params, study.best_trial.values\n",
    "\n",
    "#（3）执行优化操作\n",
    "def optimized_optuna_search_and_report(n_trials, algo):\n",
    "    start_time = time.time()\n",
    "\n",
    "    # 进行贝叶斯优化\n",
    "    best_params, best_score = optimizer_optuna(n_trials, algo)\n",
    "\n",
    "    # 打印最佳参数和分数\n",
    "    print(\"\\n\",\"\\n\",\"best params: \", best_params,\n",
    "          \"\\n\",\"\\n\",\"best score: \", best_score,\n",
    "          \"\\n\")\n",
    "\n",
    "    end_time = time.time()\n",
    "    time_bayes = (end_time - start_time) / 60  # 转换为分钟\n",
    "    print(f\"Optimization completed in {time_bayes} minutes.\")\n",
    "\n",
    "    return best_params, best_score, time_bayes\n",
    "\n",
    "# 执行优化\n",
    "best_params, best_score, time_bayes = optimized_optuna_search_and_report(100, \"TPE\")"
   ]
  },
  {
   "cell_type": "markdown",
   "id": "02cbe3f4-1307-4095-be77-42a41873e783",
   "metadata": {},
   "source": [
    "# 5. 导出数据"
   ]
  },
  {
   "cell_type": "code",
   "execution_count": 27,
   "id": "13ec7e31-7f04-46fa-9ba4-fa928331975c",
   "metadata": {
    "scrolled": true
   },
   "outputs": [],
   "source": [
    "df = pd.read_csv('D:/1_科研进展/小论文/小论文图片/优化目标函数变化/random.csv',encoding='utf-8')"
   ]
  },
  {
   "cell_type": "code",
   "execution_count": 28,
   "id": "242aa8d0-1d8c-4ad8-b3ac-c39b611bad35",
   "metadata": {},
   "outputs": [
    {
     "data": {
      "text/html": [
       "<div>\n",
       "<style scoped>\n",
       "    .dataframe tbody tr th:only-of-type {\n",
       "        vertical-align: middle;\n",
       "    }\n",
       "\n",
       "    .dataframe tbody tr th {\n",
       "        vertical-align: top;\n",
       "    }\n",
       "\n",
       "    .dataframe thead th {\n",
       "        text-align: right;\n",
       "    }\n",
       "</style>\n",
       "<table border=\"1\" class=\"dataframe\">\n",
       "  <thead>\n",
       "    <tr style=\"text-align: right;\">\n",
       "      <th></th>\n",
       "      <th>0</th>\n",
       "      <th>0.955191142</th>\n",
       "      <th>0.957220418</th>\n",
       "    </tr>\n",
       "  </thead>\n",
       "  <tbody>\n",
       "    <tr>\n",
       "      <th>0</th>\n",
       "      <td>NaN</td>\n",
       "      <td>NaN</td>\n",
       "      <td>NaN</td>\n",
       "    </tr>\n",
       "    <tr>\n",
       "      <th>1</th>\n",
       "      <td>NaN</td>\n",
       "      <td>NaN</td>\n",
       "      <td>NaN</td>\n",
       "    </tr>\n",
       "    <tr>\n",
       "      <th>2</th>\n",
       "      <td>1.0</td>\n",
       "      <td>0.960602</td>\n",
       "      <td>0.922387</td>\n",
       "    </tr>\n",
       "    <tr>\n",
       "      <th>3</th>\n",
       "      <td>NaN</td>\n",
       "      <td>NaN</td>\n",
       "      <td>NaN</td>\n",
       "    </tr>\n",
       "    <tr>\n",
       "      <th>4</th>\n",
       "      <td>NaN</td>\n",
       "      <td>NaN</td>\n",
       "      <td>NaN</td>\n",
       "    </tr>\n",
       "  </tbody>\n",
       "</table>\n",
       "</div>"
      ],
      "text/plain": [
       "     0  0.955191142  0.957220418\n",
       "0  NaN          NaN          NaN\n",
       "1  NaN          NaN          NaN\n",
       "2  1.0     0.960602     0.922387\n",
       "3  NaN          NaN          NaN\n",
       "4  NaN          NaN          NaN"
      ]
     },
     "execution_count": 28,
     "metadata": {},
     "output_type": "execute_result"
    }
   ],
   "source": [
    "df.head()"
   ]
  },
  {
   "cell_type": "code",
   "execution_count": 29,
   "id": "c695191d-5ab6-402c-b3f8-1cf46250934f",
   "metadata": {},
   "outputs": [
    {
     "data": {
      "text/html": [
       "<div>\n",
       "<style scoped>\n",
       "    .dataframe tbody tr th:only-of-type {\n",
       "        vertical-align: middle;\n",
       "    }\n",
       "\n",
       "    .dataframe tbody tr th {\n",
       "        vertical-align: top;\n",
       "    }\n",
       "\n",
       "    .dataframe thead th {\n",
       "        text-align: right;\n",
       "    }\n",
       "</style>\n",
       "<table border=\"1\" class=\"dataframe\">\n",
       "  <thead>\n",
       "    <tr style=\"text-align: right;\">\n",
       "      <th></th>\n",
       "      <th>0</th>\n",
       "      <th>0.955191142</th>\n",
       "    </tr>\n",
       "  </thead>\n",
       "  <tbody>\n",
       "    <tr>\n",
       "      <th>0</th>\n",
       "      <td>NaN</td>\n",
       "      <td>NaN</td>\n",
       "    </tr>\n",
       "    <tr>\n",
       "      <th>1</th>\n",
       "      <td>NaN</td>\n",
       "      <td>NaN</td>\n",
       "    </tr>\n",
       "    <tr>\n",
       "      <th>2</th>\n",
       "      <td>1.0</td>\n",
       "      <td>0.960602</td>\n",
       "    </tr>\n",
       "    <tr>\n",
       "      <th>3</th>\n",
       "      <td>NaN</td>\n",
       "      <td>NaN</td>\n",
       "    </tr>\n",
       "    <tr>\n",
       "      <th>4</th>\n",
       "      <td>NaN</td>\n",
       "      <td>NaN</td>\n",
       "    </tr>\n",
       "    <tr>\n",
       "      <th>...</th>\n",
       "      <td>...</td>\n",
       "      <td>...</td>\n",
       "    </tr>\n",
       "    <tr>\n",
       "      <th>292</th>\n",
       "      <td>NaN</td>\n",
       "      <td>NaN</td>\n",
       "    </tr>\n",
       "    <tr>\n",
       "      <th>293</th>\n",
       "      <td>98.0</td>\n",
       "      <td>0.963392</td>\n",
       "    </tr>\n",
       "    <tr>\n",
       "      <th>294</th>\n",
       "      <td>NaN</td>\n",
       "      <td>NaN</td>\n",
       "    </tr>\n",
       "    <tr>\n",
       "      <th>295</th>\n",
       "      <td>NaN</td>\n",
       "      <td>NaN</td>\n",
       "    </tr>\n",
       "    <tr>\n",
       "      <th>296</th>\n",
       "      <td>99.0</td>\n",
       "      <td>0.961955</td>\n",
       "    </tr>\n",
       "  </tbody>\n",
       "</table>\n",
       "<p>297 rows × 2 columns</p>\n",
       "</div>"
      ],
      "text/plain": [
       "        0  0.955191142\n",
       "0     NaN          NaN\n",
       "1     NaN          NaN\n",
       "2     1.0     0.960602\n",
       "3     NaN          NaN\n",
       "4     NaN          NaN\n",
       "..    ...          ...\n",
       "292   NaN          NaN\n",
       "293  98.0     0.963392\n",
       "294   NaN          NaN\n",
       "295   NaN          NaN\n",
       "296  99.0     0.961955\n",
       "\n",
       "[297 rows x 2 columns]"
      ]
     },
     "execution_count": 29,
     "metadata": {},
     "output_type": "execute_result"
    }
   ],
   "source": [
    "x = df.iloc[:,:-1]\n",
    "x"
   ]
  },
  {
   "cell_type": "code",
   "execution_count": null,
   "id": "2e309747-6d18-4188-ace1-bd6ca2b1bfa6",
   "metadata": {},
   "outputs": [],
   "source": []
  }
 ],
 "metadata": {
  "kernelspec": {
   "display_name": "DL",
   "language": "python",
   "name": "dl"
  },
  "language_info": {
   "codemirror_mode": {
    "name": "ipython",
    "version": 3
   },
   "file_extension": ".py",
   "mimetype": "text/x-python",
   "name": "python",
   "nbconvert_exporter": "python",
   "pygments_lexer": "ipython3",
   "version": "3.9.17"
  }
 },
 "nbformat": 4,
 "nbformat_minor": 5
}
