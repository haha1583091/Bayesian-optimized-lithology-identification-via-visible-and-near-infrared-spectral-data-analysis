{
 "cells": [
  {
   "cell_type": "markdown",
   "id": "fc66be28",
   "metadata": {},
   "source": [
    "# 1. 导入模块和库"
   ]
  },
  {
   "cell_type": "code",
   "execution_count": null,
   "id": "be5dca00",
   "metadata": {},
   "outputs": [],
   "source": [
    "import time\n",
    "import optuna\n",
    "import numpy as np\n",
    "import pandas as pd\n",
    "import matplotlib.pyplot as plt\n",
    "\n",
    "from scipy.signal import savgol_filter\n",
    "from sklearn.preprocessing import MinMaxScaler\n",
    "from sklearn.preprocessing import LabelEncoder\n",
    "from sklearn.decomposition import PCA\n",
    "from sklearn.model_selection import train_test_split\n",
    "from sklearn.ensemble import RandomForestClassifier as RFC\n",
    "from sklearn.model_selection import cross_val_score\n",
    "from sklearn.model_selection import KFold\n",
    "from sklearn.metrics import accuracy_score, cohen_kappa_score, confusion_matrix, classification_report"
   ]
  },
  {
   "cell_type": "markdown",
   "id": "f65b73cf",
   "metadata": {},
   "source": [
    "# 2. 导入数据+预处理+PCA"
   ]
  },
  {
   "cell_type": "code",
   "execution_count": null,
   "id": "d28364c8",
   "metadata": {
    "scrolled": true
   },
   "outputs": [],
   "source": [
    "data = pd.read_csv(r\"F:\\Code_Data\\2_Rocks_Spectrum_Reflectance_essay_30_origin_modify_2.csv\",encoding='utf-8') #encoding='GBK',防止中文乱码\n",
    "X = data.iloc[:,1:-1]\n",
    "y = data.iloc[:,-1]\n",
    "X.shape, y.shape\n",
    "\n",
    "X_SG = savgol_filter(X, 5, 2)\n",
    "X_SG_mms = MinMaxScaler().fit_transform(X_SG)\n",
    "Label = LabelEncoder().fit_transform(y)\n",
    "\n",
    "data.iloc[:,1:-1] = X_SG_mms\n",
    "data.iloc[:, -1] = Label\n",
    "X = data.iloc[:,1:-1]\n",
    "y = data.iloc[:,-1]"
   ]
  },
  {
   "cell_type": "code",
   "execution_count": null,
   "id": "9d71d4d9",
   "metadata": {},
   "outputs": [],
   "source": [
    "# 贝叶斯优化最佳参数\n",
    "rfc_2 = RFC(n_estimators=129\n",
    "            ,max_depth=33\n",
    "            ,max_features=9\n",
    "            ,min_samples_leaf=1\n",
    "            ,min_samples_split=5\n",
    "            ,random_state=0\n",
    "           )\n",
    "rfc_2 = rfc_2.fit(X_train, Y_train)\n",
    "pred_2 = rfc_2.predict(X_test)\n",
    "\n",
    "# 贝叶斯优化评价指标\n",
    "accuracy_score_2_train = rfc_2.score(X_train, Y_train)\n",
    "accuracy_score_2_test = rfc_2.score(X_test, Y_test)\n",
    "kappa_score_2 = cohen_kappa_score(Y_test, pred_2)\n",
    "cm_2 = confusion_matrix(Y_test, pred_2)\n",
    "report = classification_report(Y_test, pred_2, output_dict=True)"
   ]
  },
  {
   "cell_type": "code",
   "execution_count": null,
   "id": "9cec9fe8-4c1d-4173-9d7f-3dd6a0fa8c47",
   "metadata": {},
   "outputs": [],
   "source": [
    "accuracy_score_2_train, accuracy_score_2_test"
   ]
  },
  {
   "cell_type": "markdown",
   "id": "b0a38d03-fcdd-4924-810f-d55ba35fff73",
   "metadata": {},
   "source": [
    "# 3. 不同主成分占比下的准确率"
   ]
  },
  {
   "cell_type": "code",
   "execution_count": null,
   "id": "a0c4d112-d7d7-4113-91b1-221aa9a97088",
   "metadata": {},
   "outputs": [],
   "source": [
    "pcp_values = [1] + [int(p) for p in np.arange(0.05, 1.05, 0.05)*X.shape[1]]\n",
    "Train_Accuracy = []\n",
    "Test_Accuracy = []\n",
    "results = []\n",
    "\n",
    "for pcp in pcp_values:\n",
    "    pca = PCA(n_components=pcp)\n",
    "    X_dr = pca.fit_transform(X)\n",
    "\n",
    "    X_train, X_test, Y_train, Y_test = train_test_split(X_dr, y, test_size=0.3, random_state=0)\n",
    "    \n",
    "    rfc_2 = RFC(n_estimators=129\n",
    "            ,max_depth=33\n",
    "            ,max_features=9\n",
    "            ,min_samples_leaf=1\n",
    "            ,min_samples_split=5\n",
    "            ,random_state=0\n",
    "           )\n",
    "    rfc_2 = rfc_2.fit(X_train, Y_train)\n",
    "    \n",
    "    accuracy_score_train = rfc_2.score(X_train, Y_train)\n",
    "    accuracy_score_test = rfc_2.score(X_test, Y_test)\n",
    "\n",
    "    Train_Accuracy.append(accuracy_score_train)\n",
    "    Test_Accuracy.append(accuracy_score_test)\n",
    "    \n",
    "    print(f'PCP={pcp}: Train Accuracy = {accuracy_score_train}, Test Accuracy = {accuracy_score_test}')\n",
    "    results.append({'PCP': pcp, 'Train Accuracy': accuracy_score_train, 'Test Accuracy': accuracy_score_test})\n",
    "    \n",
    "results_df = pd.DataFrame(results)\n",
    "results_df"
   ]
  },
  {
   "cell_type": "code",
   "execution_count": null,
   "id": "6b8a590f-95ea-4bda-b9b5-364c66848924",
   "metadata": {},
   "outputs": [],
   "source": []
  }
 ],
 "metadata": {
  "kernelspec": {
   "display_name": "DL",
   "language": "python",
   "name": "dl"
  },
  "language_info": {
   "codemirror_mode": {
    "name": "ipython",
    "version": 3
   },
   "file_extension": ".py",
   "mimetype": "text/x-python",
   "name": "python",
   "nbconvert_exporter": "python",
   "pygments_lexer": "ipython3",
   "version": "3.9.17"
  }
 },
 "nbformat": 4,
 "nbformat_minor": 5
}
