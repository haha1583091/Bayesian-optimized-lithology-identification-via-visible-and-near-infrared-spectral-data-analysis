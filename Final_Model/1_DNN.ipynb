{
 "cells": [
  {
   "cell_type": "markdown",
   "id": "100c2732",
   "metadata": {
    "jp-MarkdownHeadingCollapsed": true,
    "tags": []
   },
   "source": [
    "# 1. 导入库"
   ]
  },
  {
   "cell_type": "code",
   "execution_count": 1,
   "id": "2e39b92f",
   "metadata": {},
   "outputs": [
    {
     "name": "stderr",
     "output_type": "stream",
     "text": [
      "E:\\Anaconda\\envs\\DL\\lib\\site-packages\\tqdm\\auto.py:21: TqdmWarning: IProgress not found. Please update jupyter and ipywidgets. See https://ipywidgets.readthedocs.io/en/stable/user_install.html\n",
      "  from .autonotebook import tqdm as notebook_tqdm\n"
     ]
    }
   ],
   "source": [
    "import time\n",
    "import optuna\n",
    "import numpy as np\n",
    "import pandas as pd\n",
    "import matplotlib.pyplot as plt\n",
    "%matplotlib inline\n",
    "from matplotlib_inline import backend_inline\n",
    "backend_inline.set_matplotlib_formats('svg') # 展示高清图，在 Jupyter Notebook 中设置 matplotlib 图形的输出格式为 SVG 格式\n",
    "\n",
    "import torch\n",
    "import torch.nn as nn\n",
    "from scipy.signal import savgol_filter\n",
    "from sklearn.preprocessing import MinMaxScaler\n",
    "from sklearn.preprocessing import LabelEncoder\n",
    "from sklearn.decomposition import PCA\n",
    "from sklearn.model_selection import train_test_split as TTS\n",
    "from torch.utils.data import DataLoader\n",
    "from torch.utils.data import TensorDataset\n",
    "from torch.utils.data import random_split\n",
    "from sklearn.model_selection import KFold\n",
    "from sklearn.metrics import accuracy_score, cohen_kappa_score, confusion_matrix\n",
    "\n",
    "import random\n",
    "seed = 0\n",
    "random.seed(seed)\n",
    "np.random.seed(seed)\n",
    "torch.manual_seed(seed)\n",
    "torch.backends.cudnn.deterministic = True\n",
    "torch.backends.cudnn.benchmark = False"
   ]
  },
  {
   "cell_type": "markdown",
   "id": "56787a90",
   "metadata": {
    "jp-MarkdownHeadingCollapsed": true,
    "tags": []
   },
   "source": [
    "# 2. 读取数据+预处理+PCA降维+划分数据集"
   ]
  },
  {
   "cell_type": "code",
   "execution_count": 2,
   "id": "53897b57-8250-402c-9fd9-d83b0a17085e",
   "metadata": {},
   "outputs": [
    {
     "data": {
      "text/plain": [
       "(8279, 3549)"
      ]
     },
     "execution_count": 2,
     "metadata": {},
     "output_type": "execute_result"
    }
   ],
   "source": [
    "# 导入数据\n",
    "device = torch.device(\"cuda\" if torch.cuda.is_available() else \"cpu\")\n",
    "\n",
    "data = pd.read_csv(r\"F:\\Code_Data\\2_Rocks_Spectrum_Reflectance_essay_30_origin.csv\",encoding='utf-8') #encoding='GBK',防止中文乱码\n",
    "\n",
    "X = data.iloc[:,1:-1]\n",
    "y = data.iloc[:,-1]\n",
    "X_SG = savgol_filter(X, 5, 2)\n",
    "X_SG_mms = MinMaxScaler().fit_transform(X_SG)\n",
    "Label = LabelEncoder().fit_transform(y)\n",
    "data.iloc[:,1:-1] = X_SG_mms\n",
    "data.iloc[:, -1] = Label\n",
    "X = data.iloc[:,1:-1]\n",
    "y = data.iloc[:,-1]\n",
    "\n",
    "X_dr = PCA(29).fit_transform(X)\n",
    "\n",
    "# 转换为 torch 中的张量格式\n",
    "X_tensor = torch.tensor(X_dr, dtype=torch.float32)\n",
    "y_tensor = torch.tensor(y, dtype=torch.long)\n",
    "\n",
    "# 将数据移动到GPU\n",
    "X_tensor = X_tensor.to(device)\n",
    "y_tensor = y_tensor.to(device)\n",
    "\n",
    "Xtrain, Xtest, Ytrain, Ytest = TTS(X_dr,y,test_size=0.3,random_state=0)\n",
    "\n",
    "# 转换为 torch 中的张量格式\n",
    "X_train_tensor = torch.tensor(Xtrain, dtype=torch.float32)\n",
    "X_test_tensor = torch.tensor(Xtest, dtype=torch.float32)\n",
    "y_train_tensor = torch.tensor(Ytrain, dtype=torch.long)\n",
    "y_test_array = Ytest.values\n",
    "y_test_tensor = torch.tensor(y_test_array, dtype=torch.long)\n",
    "\n",
    "# 将数据移动到GPU\n",
    "X_train_tensor = X_train_tensor.to(device)\n",
    "X_test_tensor = X_test_tensor.to(device)\n",
    "y_train_tensor = y_train_tensor.to(device)\n",
    "y_test_tensor = y_test_tensor.to(device)\n",
    "\n",
    "# 创建训练集和测试集的 TensorDataset\n",
    "train_dataset = TensorDataset(X_train_tensor, y_train_tensor)\n",
    "test_dataset = TensorDataset(X_test_tensor, y_test_tensor)\n",
    "\n",
    "# 创建 DataLoader 对象\n",
    "# train_dataloader = DataLoader(train_dataset, batch_size=128, shuffle=True)\n",
    "# test_dataloader = DataLoader(test_dataset, batch_size=64, shuffle=False)\n",
    "train_dataloader = DataLoader(train_dataset, batch_size=64, shuffle=True)\n",
    "test_dataloader = DataLoader(test_dataset, batch_size=64, shuffle=False)\n",
    "\n",
    "train_size = len(train_dataset)\n",
    "test_size = len(test_dataset)\n",
    "\n",
    "train_size, test_size"
   ]
  },
  {
   "cell_type": "markdown",
   "id": "74616af5-b167-4a25-b340-265dbee02221",
   "metadata": {
    "jp-MarkdownHeadingCollapsed": true,
    "tags": []
   },
   "source": [
    "# 3. 搭建神经网络"
   ]
  },
  {
   "cell_type": "code",
   "execution_count": 3,
   "id": "ecbe64f2",
   "metadata": {},
   "outputs": [],
   "source": [
    "# 搭建网络\n",
    "class DNN(nn.Module):\n",
    "    def __init__(self, input_size, num_classes, hidden_layer_sizes, dropout_prob):\n",
    "        ''' 搭建神经网络各层 '''\n",
    "        super(DNN, self).__init__()\n",
    "\n",
    "        self.hidden_layer_sizes = hidden_layer_sizes  # 调整隐藏层尺寸\n",
    "        self.dropout_prob = dropout_prob  # 调整 dropout 概率\n",
    "\n",
    "        layers = []\n",
    "        prev_layer_size = input_size\n",
    "\n",
    "        for layer_size in self.hidden_layer_sizes:\n",
    "            layers.append(nn.Linear(prev_layer_size, layer_size))\n",
    "            layers.append(nn.ReLU())\n",
    "            layers.append(nn.Dropout(self.dropout_prob))\n",
    "            prev_layer_size = layer_size\n",
    "\n",
    "        layers.append(nn.Linear(prev_layer_size, num_classes))\n",
    "\n",
    "        self.net = nn.Sequential(*layers)\n",
    "        \n",
    "    def forward(self, x):\n",
    "        ''' 前向传播 '''\n",
    "        y = self.net(x) # x 即输入数据\n",
    "        return y # y 即输出数据"
   ]
  },
  {
   "cell_type": "code",
   "execution_count": 4,
   "id": "83965607",
   "metadata": {},
   "outputs": [],
   "source": [
    "# 已知超参数\n",
    "num_classes = 33\n",
    "input_size = X_tensor.shape[1]"
   ]
  },
  {
   "cell_type": "markdown",
   "id": "01d54b92-39d0-44fe-a023-506eec124f12",
   "metadata": {},
   "source": [
    "# 4. Optuna——遗传算法，调参"
   ]
  },
  {
   "cell_type": "code",
   "execution_count": 5,
   "id": "38a956b9",
   "metadata": {},
   "outputs": [],
   "source": [
    "def optuna_objective(trial):\n",
    "    \n",
    "    # 定义超参数空间\n",
    "    # 层数固定\n",
    "    hidden_layer_sizes = [trial.suggest_int(f\"hidden_layer_size_{i}\", 16, 256) for i in range(5)]\n",
    "    # 层数3-5层\n",
    "    # hidden_layer_sizes = [trial.suggest_int(f\"hidden_layer_size_{i}\", 16, 256) for i in range(trial.suggest_int(\"num_hidden_layers\", 3, 5))]\n",
    "    learning_rate = trial.suggest_float(\"learning_rate\", 1e-5, 1e-1, log=True)\n",
    "    dropout_prob = trial.suggest_float(\"dropout_prob\", 0.1, 0.5, step=0.01)\n",
    "    \n",
    "    # 根据超参数定义 DNN 模型\n",
    "    model = DNN(input_size, num_classes, hidden_layer_sizes, dropout_prob)\n",
    "    model.to(device)\n",
    "    \n",
    "    # 定义优化器和损失函数\n",
    "    optimizer_name = trial.suggest_categorical(\"optimizer\", [\"Adam\", \"SGD\", \"RMSprop\"])\n",
    "    if optimizer_name == \"Adam\":\n",
    "        optimizer = torch.optim.Adam(model.parameters(), lr=learning_rate)\n",
    "    elif optimizer_name == \"SGD\":\n",
    "        optimizer = torch.optim.SGD(model.parameters(), lr=learning_rate)\n",
    "    elif optimizer_name == \"RMSprop\":\n",
    "        optimizer = torch.optim.RMSprop(model.parameters(), lr=learning_rate)\n",
    "    #optimizer = torch.optim.Adam(model.parameters(), lr=learning_rate)\n",
    "    loss_fn = nn.CrossEntropyLoss()\n",
    "    EPOCHS = 200\n",
    "    \n",
    "    # 训练模型\n",
    "    model.train()\n",
    "    for epoch in range(EPOCHS):\n",
    "        for (x, y) in train_dataloader: # 获取小批次的 x 与 y\n",
    "            x, y = x.to(device), y.to(device)  # 将数据移动到GPU\n",
    "            output = model(x) # 一次前向传播（小批量）\n",
    "            loss = loss_fn(output, y) # 计算损失函数\n",
    "            optimizer.zero_grad() # 清理上一轮滞留的梯度\n",
    "            loss.backward() # 一次反向传播\n",
    "            optimizer.step() # 优化内部参数\n",
    "    \n",
    "    # 验证模型\n",
    "    correct = 0\n",
    "    total = 0\n",
    "    all_preds = []\n",
    "    all_labels = []\n",
    "    model.eval()\n",
    "    with torch.no_grad():\n",
    "        for (x, y) in test_dataloader: # 获取小批次的 x 与 y\n",
    "            x, y = x.to(device), y.to(device)  # 将数据移动到GPU\n",
    "            Pred = model(x) # 一次前向传播（小批量）\n",
    "            _, Pred_classes = torch.max(Pred, dim=1)  # 找到最大概率对应的类别索引\n",
    "            correct += torch.sum(Pred_classes == y)  # 计算正确的个数\n",
    "            all_preds.extend(Pred_classes.cpu().numpy())  # 将预测转换为NumPy数组并存储\n",
    "            all_labels.extend(y.cpu().numpy())  # 将真实标签转换为NumPy数组并存储\n",
    "            total += y.size(0)\n",
    "    accuracy = correct/total\n",
    "    \n",
    "    # 报告准确率给 Optuna\n",
    "    trial.report(accuracy, epoch)\n",
    "    \n",
    "    return accuracy"
   ]
  },
  {
   "cell_type": "markdown",
   "id": "529c6f42",
   "metadata": {},
   "source": [
    "#### （2）定义优化目标函数的具体流程"
   ]
  },
  {
   "cell_type": "code",
   "execution_count": 6,
   "id": "7ccf7bc3",
   "metadata": {},
   "outputs": [],
   "source": [
    "# 定义超参数优化器函数\n",
    "def optimizer_optuna(n_trials, algo):\n",
    "\n",
    "    #定义使用随机网格搜索\n",
    "    sampler = optuna.samplers.NSGAIISampler(population_size=50  # int，种群大小，即每代中包含的个体数量。默认 50\n",
    "                                           ,mutation_prob=1.0 # float，变异概率，指定了在交叉之后每个个体发生变异的概率。默认 1.0。\n",
    "                                           ,crossover_prob=1.0  # float，交叉概率，指定了在每次交叉操作中，一个个体与另一个个体产生子代的概率。默认 1.0\n",
    "                                           #,crossover_operator  # str，交叉操作符的类型。可选 \"sbx\"（模拟二进制交叉）和 \"ux\"（单点均匀交叉）。默认\"sbx\"\n",
    "                                           #,mutation_operator  # str，变异操作符的类型。可选 \"polynomial\"（多项式变异）和 \"random\"（随机变异）。默认\"polynomial\"\n",
    "                                           #,eta= # float，多项式变异操作的参数，用于控制变异的强度。较高的值表示更强的变异。默认20.0。\n",
    "                                           #,crossover_eta= # float，模拟二进制交叉操作的参数，用于控制交叉的强度。较低的值表示更强的交叉。默认20.0。\n",
    "                                           #,max_generations=  # int，最大的迭代代数。默认值为 None，表示没有最大代数限制。\n",
    "                                           )\n",
    "\n",
    "    #实际优化过程，首先实例化优化器\n",
    "    study = optuna.create_study(sampler = sampler #要使用的具体算法\n",
    "                                ,direction=\"maximize\" #优化的方向，可以填写minimize或maximize\n",
    "                               )\n",
    "    #开始优化，n_trials为允许的最大迭代次数\n",
    "    #由于参数空间已经在目标函数中定义好，因此不需要输入参数空间\n",
    "    study.optimize(optuna_objective #目标函数\n",
    "                   ,n_trials=n_trials #最大迭代次数（包括最初的观测值的）\n",
    "                   ,show_progress_bar=True #要不要展示进度条呀？\n",
    "                  )\n",
    "\n",
    "    #可直接从优化好的对象study中调用优化的结果\n",
    "    #打印最佳参数与最佳损失值\n",
    "    print(\"\\n\",\"\\n\",\"best params: \", study.best_trial.params,\n",
    "          \"\\n\",\"\\n\",\"best score: \", study.best_trial.values,\n",
    "          \"\\n\")\n",
    "\n",
    "    return study.best_trial.params, study.best_trial.values"
   ]
  },
  {
   "cell_type": "markdown",
   "id": "19ae1fcb",
   "metadata": {},
   "source": [
    "#### （3）执行优化操作"
   ]
  },
  {
   "cell_type": "code",
   "execution_count": 7,
   "id": "d46e125e",
   "metadata": {},
   "outputs": [
    {
     "name": "stderr",
     "output_type": "stream",
     "text": [
      "[I 2023-09-19 15:29:29,101] A new study created in memory with name: no-name-caafc711-c37b-4223-b9d9-5c59058c01b4\n",
      "Best trial: 0. Best value: 0.00169062:   3%|█▍                                          | 1/30 [01:27<42:03, 87.01s/it]"
     ]
    },
    {
     "name": "stdout",
     "output_type": "stream",
     "text": [
      "[I 2023-09-19 15:30:56,111] Trial 0 finished with value: 0.0016906170640140772 and parameters: {'hidden_layer_size_0': 239, 'hidden_layer_size_1': 200, 'hidden_layer_size_2': 131, 'hidden_layer_size_3': 175, 'hidden_layer_size_4': 189, 'learning_rate': 2.2910812857939442e-05, 'dropout_prob': 0.37, 'optimizer': 'SGD'}. Best is trial 0 with value: 0.0016906170640140772.\n"
     ]
    },
    {
     "name": "stderr",
     "output_type": "stream",
     "text": [
      "Best trial: 1. Best value: 0.032967:   7%|███                                           | 2/30 [03:10<45:03, 96.54s/it]"
     ]
    },
    {
     "name": "stdout",
     "output_type": "stream",
     "text": [
      "[I 2023-09-19 15:32:39,323] Trial 1 finished with value: 0.032967034727334976 and parameters: {'hidden_layer_size_0': 148, 'hidden_layer_size_1': 157, 'hidden_layer_size_2': 79, 'hidden_layer_size_3': 19, 'hidden_layer_size_4': 155, 'learning_rate': 0.014627599710472453, 'dropout_prob': 0.47, 'optimizer': 'RMSprop'}. Best is trial 1 with value: 0.032967034727334976.\n"
     ]
    },
    {
     "name": "stderr",
     "output_type": "stream",
     "text": [
      "Best trial: 2. Best value: 0.996055:  10%|████▌                                        | 3/30 [05:13<49:00, 108.89s/it]"
     ]
    },
    {
     "name": "stdout",
     "output_type": "stream",
     "text": [
      "[I 2023-09-19 15:34:42,914] Trial 2 finished with value: 0.9960552453994751 and parameters: {'hidden_layer_size_0': 96, 'hidden_layer_size_1': 31, 'hidden_layer_size_2': 45, 'hidden_layer_size_3': 143, 'hidden_layer_size_4': 40, 'learning_rate': 0.0029952640085889994, 'dropout_prob': 0.30000000000000004, 'optimizer': 'Adam'}. Best is trial 2 with value: 0.9960552453994751.\n"
     ]
    },
    {
     "name": "stderr",
     "output_type": "stream",
     "text": [
      "Best trial: 2. Best value: 0.996055:  13%|██████                                       | 4/30 [07:10<48:32, 112.00s/it]"
     ]
    },
    {
     "name": "stdout",
     "output_type": "stream",
     "text": [
      "[I 2023-09-19 15:36:39,685] Trial 3 finished with value: 0.9165962338447571 and parameters: {'hidden_layer_size_0': 216, 'hidden_layer_size_1': 51, 'hidden_layer_size_2': 202, 'hidden_layer_size_3': 165, 'hidden_layer_size_4': 91, 'learning_rate': 2.1286158447704697e-05, 'dropout_prob': 0.15000000000000002, 'optimizer': 'Adam'}. Best is trial 2 with value: 0.9960552453994751.\n"
     ]
    },
    {
     "name": "stderr",
     "output_type": "stream",
     "text": [
      "Best trial: 4. Best value: 0.998309:  17%|███████▌                                     | 5/30 [08:46<44:18, 106.36s/it]"
     ]
    },
    {
     "name": "stdout",
     "output_type": "stream",
     "text": [
      "[I 2023-09-19 15:38:16,031] Trial 4 finished with value: 0.9983094334602356 and parameters: {'hidden_layer_size_0': 103, 'hidden_layer_size_1': 150, 'hidden_layer_size_2': 256, 'hidden_layer_size_3': 87, 'hidden_layer_size_4': 58, 'learning_rate': 0.0006222394589974497, 'dropout_prob': 0.37, 'optimizer': 'RMSprop'}. Best is trial 4 with value: 0.9983094334602356.\n"
     ]
    },
    {
     "name": "stderr",
     "output_type": "stream",
     "text": [
      "Best trial: 4. Best value: 0.998309:  20%|█████████                                    | 6/30 [10:43<43:57, 109.90s/it]"
     ]
    },
    {
     "name": "stdout",
     "output_type": "stream",
     "text": [
      "[I 2023-09-19 15:40:12,796] Trial 5 finished with value: 0.9380107522010803 and parameters: {'hidden_layer_size_0': 176, 'hidden_layer_size_1': 24, 'hidden_layer_size_2': 226, 'hidden_layer_size_3': 171, 'hidden_layer_size_4': 77, 'learning_rate': 6.132533845805993e-05, 'dropout_prob': 0.32, 'optimizer': 'Adam'}. Best is trial 4 with value: 0.9983094334602356.\n"
     ]
    },
    {
     "name": "stderr",
     "output_type": "stream",
     "text": [
      "Best trial: 4. Best value: 0.998309:  23%|██████████▌                                  | 7/30 [12:46<43:43, 114.06s/it]"
     ]
    },
    {
     "name": "stdout",
     "output_type": "stream",
     "text": [
      "[I 2023-09-19 15:42:15,432] Trial 6 finished with value: 0.11101718991994858 and parameters: {'hidden_layer_size_0': 199, 'hidden_layer_size_1': 244, 'hidden_layer_size_2': 77, 'hidden_layer_size_3': 104, 'hidden_layer_size_4': 42, 'learning_rate': 0.011209955951975874, 'dropout_prob': 0.44000000000000006, 'optimizer': 'Adam'}. Best is trial 4 with value: 0.9983094334602356.\n"
     ]
    },
    {
     "name": "stderr",
     "output_type": "stream",
     "text": [
      "Best trial: 4. Best value: 0.998309:  27%|████████████                                 | 8/30 [14:07<38:00, 103.66s/it]"
     ]
    },
    {
     "name": "stdout",
     "output_type": "stream",
     "text": [
      "[I 2023-09-19 15:43:36,829] Trial 7 finished with value: 0.122569739818573 and parameters: {'hidden_layer_size_0': 156, 'hidden_layer_size_1': 25, 'hidden_layer_size_2': 243, 'hidden_layer_size_3': 53, 'hidden_layer_size_4': 165, 'learning_rate': 0.0006608334528852616, 'dropout_prob': 0.49, 'optimizer': 'SGD'}. Best is trial 4 with value: 0.9983094334602356.\n"
     ]
    },
    {
     "name": "stderr",
     "output_type": "stream",
     "text": [
      "Best trial: 4. Best value: 0.998309:  30%|█████████████▊                                | 9/30 [15:24<33:19, 95.23s/it]"
     ]
    },
    {
     "name": "stdout",
     "output_type": "stream",
     "text": [
      "[I 2023-09-19 15:44:53,509] Trial 8 finished with value: 0.6089039444923401 and parameters: {'hidden_layer_size_0': 157, 'hidden_layer_size_1': 197, 'hidden_layer_size_2': 140, 'hidden_layer_size_3': 75, 'hidden_layer_size_4': 34, 'learning_rate': 0.004368285625521215, 'dropout_prob': 0.26, 'optimizer': 'SGD'}. Best is trial 4 with value: 0.9983094334602356.\n"
     ]
    },
    {
     "name": "stderr",
     "output_type": "stream",
     "text": [
      "Best trial: 4. Best value: 0.998309:  33%|███████████████                              | 10/30 [16:54<31:14, 93.72s/it]"
     ]
    },
    {
     "name": "stdout",
     "output_type": "stream",
     "text": [
      "[I 2023-09-19 15:46:23,849] Trial 9 finished with value: 0.9952099323272705 and parameters: {'hidden_layer_size_0': 195, 'hidden_layer_size_1': 212, 'hidden_layer_size_2': 136, 'hidden_layer_size_3': 208, 'hidden_layer_size_4': 233, 'learning_rate': 0.00426303452553015, 'dropout_prob': 0.16, 'optimizer': 'RMSprop'}. Best is trial 4 with value: 0.9983094334602356.\n"
     ]
    },
    {
     "name": "stderr",
     "output_type": "stream",
     "text": [
      "Best trial: 4. Best value: 0.998309:  37%|████████████████▏                           | 11/30 [18:49<31:41, 100.06s/it]"
     ]
    },
    {
     "name": "stdout",
     "output_type": "stream",
     "text": [
      "[I 2023-09-19 15:48:18,282] Trial 10 finished with value: 0.02902226150035858 and parameters: {'hidden_layer_size_0': 144, 'hidden_layer_size_1': 181, 'hidden_layer_size_2': 178, 'hidden_layer_size_3': 166, 'hidden_layer_size_4': 45, 'learning_rate': 0.06873411028001192, 'dropout_prob': 0.25, 'optimizer': 'Adam'}. Best is trial 4 with value: 0.9983094334602356.\n"
     ]
    },
    {
     "name": "stderr",
     "output_type": "stream",
     "text": [
      "Best trial: 4. Best value: 0.998309:  40%|██████████████████                           | 12/30 [20:22<29:22, 97.93s/it]"
     ]
    },
    {
     "name": "stdout",
     "output_type": "stream",
     "text": [
      "[I 2023-09-19 15:49:51,343] Trial 11 finished with value: 0.9856297969818115 and parameters: {'hidden_layer_size_0': 234, 'hidden_layer_size_1': 195, 'hidden_layer_size_2': 126, 'hidden_layer_size_3': 39, 'hidden_layer_size_4': 212, 'learning_rate': 6.0208805506817975e-05, 'dropout_prob': 0.19, 'optimizer': 'RMSprop'}. Best is trial 4 with value: 0.9983094334602356.\n"
     ]
    },
    {
     "name": "stderr",
     "output_type": "stream",
     "text": [
      "Best trial: 4. Best value: 0.998309:  43%|███████████████████                         | 13/30 [22:22<29:39, 104.67s/it]"
     ]
    },
    {
     "name": "stdout",
     "output_type": "stream",
     "text": [
      "[I 2023-09-19 15:51:51,514] Trial 12 finished with value: 0.03324880450963974 and parameters: {'hidden_layer_size_0': 201, 'hidden_layer_size_1': 106, 'hidden_layer_size_2': 241, 'hidden_layer_size_3': 73, 'hidden_layer_size_4': 215, 'learning_rate': 0.027929459400523864, 'dropout_prob': 0.49, 'optimizer': 'Adam'}. Best is trial 4 with value: 0.9983094334602356.\n"
     ]
    },
    {
     "name": "stderr",
     "output_type": "stream",
     "text": [
      "Best trial: 4. Best value: 0.998309:  47%|████████████████████▌                       | 14/30 [24:23<29:12, 109.56s/it]"
     ]
    },
    {
     "name": "stdout",
     "output_type": "stream",
     "text": [
      "[I 2023-09-19 15:53:52,379] Trial 13 finished with value: 0.9957734942436218 and parameters: {'hidden_layer_size_0': 183, 'hidden_layer_size_1': 166, 'hidden_layer_size_2': 155, 'hidden_layer_size_3': 254, 'hidden_layer_size_4': 27, 'learning_rate': 0.00015216243896452725, 'dropout_prob': 0.33, 'optimizer': 'Adam'}. Best is trial 4 with value: 0.9983094334602356.\n"
     ]
    },
    {
     "name": "stderr",
     "output_type": "stream",
     "text": [
      "Best trial: 4. Best value: 0.998309:  50%|██████████████████████                      | 15/30 [26:24<28:17, 113.15s/it]"
     ]
    },
    {
     "name": "stdout",
     "output_type": "stream",
     "text": [
      "[I 2023-09-19 15:55:53,851] Trial 14 finished with value: 0.6635672450065613 and parameters: {'hidden_layer_size_0': 30, 'hidden_layer_size_1': 77, 'hidden_layer_size_2': 74, 'hidden_layer_size_3': 256, 'hidden_layer_size_4': 32, 'learning_rate': 1.2681550931439695e-05, 'dropout_prob': 0.14, 'optimizer': 'Adam'}. Best is trial 4 with value: 0.9983094334602356.\n"
     ]
    },
    {
     "name": "stderr",
     "output_type": "stream",
     "text": [
      "Best trial: 4. Best value: 0.998309:  53%|███████████████████████▍                    | 16/30 [28:27<27:06, 116.15s/it]"
     ]
    },
    {
     "name": "stdout",
     "output_type": "stream",
     "text": [
      "[I 2023-09-19 15:57:56,983] Trial 15 finished with value: 0.997182309627533 and parameters: {'hidden_layer_size_0': 240, 'hidden_layer_size_1': 252, 'hidden_layer_size_2': 81, 'hidden_layer_size_3': 223, 'hidden_layer_size_4': 199, 'learning_rate': 0.0032202120493518855, 'dropout_prob': 0.45999999999999996, 'optimizer': 'Adam'}. Best is trial 4 with value: 0.9983094334602356.\n"
     ]
    },
    {
     "name": "stderr",
     "output_type": "stream",
     "text": [
      "Best trial: 4. Best value: 0.998309:  57%|████████████████████████▉                   | 17/30 [30:23<25:08, 116.05s/it]"
     ]
    },
    {
     "name": "stdout",
     "output_type": "stream",
     "text": [
      "[I 2023-09-19 15:59:52,794] Trial 16 finished with value: 0.9690054059028625 and parameters: {'hidden_layer_size_0': 190, 'hidden_layer_size_1': 57, 'hidden_layer_size_2': 39, 'hidden_layer_size_3': 116, 'hidden_layer_size_4': 16, 'learning_rate': 9.096569630772809e-05, 'dropout_prob': 0.2, 'optimizer': 'Adam'}. Best is trial 4 with value: 0.9983094334602356.\n"
     ]
    },
    {
     "name": "stderr",
     "output_type": "stream",
     "text": [
      "Best trial: 4. Best value: 0.998309:  60%|██████████████████████████▍                 | 18/30 [31:36<20:37, 103.14s/it]"
     ]
    },
    {
     "name": "stdout",
     "output_type": "stream",
     "text": [
      "[I 2023-09-19 16:01:05,869] Trial 17 finished with value: 0.030712878331542015 and parameters: {'hidden_layer_size_0': 126, 'hidden_layer_size_1': 69, 'hidden_layer_size_2': 84, 'hidden_layer_size_3': 64, 'hidden_layer_size_4': 171, 'learning_rate': 7.55145339911141e-05, 'dropout_prob': 0.17, 'optimizer': 'SGD'}. Best is trial 4 with value: 0.9983094334602356.\n"
     ]
    },
    {
     "name": "stderr",
     "output_type": "stream",
     "text": [
      "Best trial: 4. Best value: 0.998309:  63%|████████████████████████████▌                | 19/30 [32:50<17:18, 94.40s/it]"
     ]
    },
    {
     "name": "stdout",
     "output_type": "stream",
     "text": [
      "[I 2023-09-19 16:02:19,910] Trial 18 finished with value: 0.06367991119623184 and parameters: {'hidden_layer_size_0': 77, 'hidden_layer_size_1': 126, 'hidden_layer_size_2': 102, 'hidden_layer_size_3': 206, 'hidden_layer_size_4': 192, 'learning_rate': 0.00011925320588825706, 'dropout_prob': 0.22, 'optimizer': 'SGD'}. Best is trial 4 with value: 0.9983094334602356.\n"
     ]
    },
    {
     "name": "stderr",
     "output_type": "stream",
     "text": [
      "Best trial: 4. Best value: 0.998309:  67%|█████████████████████████████▎              | 20/30 [34:45<16:44, 100.40s/it]"
     ]
    },
    {
     "name": "stdout",
     "output_type": "stream",
     "text": [
      "[I 2023-09-19 16:04:14,307] Trial 19 finished with value: 0.07072415202856064 and parameters: {'hidden_layer_size_0': 109, 'hidden_layer_size_1': 188, 'hidden_layer_size_2': 55, 'hidden_layer_size_3': 23, 'hidden_layer_size_4': 108, 'learning_rate': 0.024142046729383256, 'dropout_prob': 0.16, 'optimizer': 'Adam'}. Best is trial 4 with value: 0.9983094334602356.\n"
     ]
    },
    {
     "name": "stderr",
     "output_type": "stream",
     "text": [
      "Best trial: 4. Best value: 0.998309:  70%|███████████████████████████████▍             | 21/30 [36:20<14:49, 98.82s/it]"
     ]
    },
    {
     "name": "stdout",
     "output_type": "stream",
     "text": [
      "[I 2023-09-19 16:05:49,425] Trial 20 finished with value: 0.8591152429580688 and parameters: {'hidden_layer_size_0': 77, 'hidden_layer_size_1': 45, 'hidden_layer_size_2': 47, 'hidden_layer_size_3': 197, 'hidden_layer_size_4': 156, 'learning_rate': 2.6116598451379112e-05, 'dropout_prob': 0.26, 'optimizer': 'RMSprop'}. Best is trial 4 with value: 0.9983094334602356.\n"
     ]
    },
    {
     "name": "stderr",
     "output_type": "stream",
     "text": [
      "Best trial: 4. Best value: 0.998309:  73%|█████████████████████████████████            | 22/30 [37:36<12:16, 92.03s/it]"
     ]
    },
    {
     "name": "stdout",
     "output_type": "stream",
     "text": [
      "[I 2023-09-19 16:07:05,634] Trial 21 finished with value: 0.330797404050827 and parameters: {'hidden_layer_size_0': 191, 'hidden_layer_size_1': 171, 'hidden_layer_size_2': 40, 'hidden_layer_size_3': 18, 'hidden_layer_size_4': 252, 'learning_rate': 0.0012192117973493192, 'dropout_prob': 0.13, 'optimizer': 'SGD'}. Best is trial 4 with value: 0.9983094334602356.\n"
     ]
    },
    {
     "name": "stderr",
     "output_type": "stream",
     "text": [
      "Best trial: 4. Best value: 0.998309:  77%|██████████████████████████████████▌          | 23/30 [39:18<11:04, 94.97s/it]"
     ]
    },
    {
     "name": "stdout",
     "output_type": "stream",
     "text": [
      "[I 2023-09-19 16:08:47,455] Trial 22 finished with value: 0.9788672924041748 and parameters: {'hidden_layer_size_0': 231, 'hidden_layer_size_1': 26, 'hidden_layer_size_2': 16, 'hidden_layer_size_3': 135, 'hidden_layer_size_4': 129, 'learning_rate': 0.002393277502946791, 'dropout_prob': 0.37, 'optimizer': 'RMSprop'}. Best is trial 4 with value: 0.9983094334602356.\n"
     ]
    },
    {
     "name": "stderr",
     "output_type": "stream",
     "text": [
      "Best trial: 4. Best value: 0.998309:  80%|███████████████████████████████████▏        | 24/30 [41:19<10:16, 102.80s/it]"
     ]
    },
    {
     "name": "stdout",
     "output_type": "stream",
     "text": [
      "[I 2023-09-19 16:10:48,515] Trial 23 finished with value: 0.9983094334602356 and parameters: {'hidden_layer_size_0': 155, 'hidden_layer_size_1': 109, 'hidden_layer_size_2': 221, 'hidden_layer_size_3': 168, 'hidden_layer_size_4': 69, 'learning_rate': 0.0011394069416805694, 'dropout_prob': 0.14, 'optimizer': 'Adam'}. Best is trial 4 with value: 0.9983094334602356.\n"
     ]
    },
    {
     "name": "stderr",
     "output_type": "stream",
     "text": [
      "Best trial: 4. Best value: 0.998309:  83%|█████████████████████████████████████▌       | 25/30 [42:37<07:57, 95.49s/it]"
     ]
    },
    {
     "name": "stdout",
     "output_type": "stream",
     "text": [
      "[I 2023-09-19 16:12:06,973] Trial 24 finished with value: 0.03944773226976395 and parameters: {'hidden_layer_size_0': 139, 'hidden_layer_size_1': 100, 'hidden_layer_size_2': 26, 'hidden_layer_size_3': 175, 'hidden_layer_size_4': 249, 'learning_rate': 6.472988820484771e-05, 'dropout_prob': 0.14, 'optimizer': 'SGD'}. Best is trial 4 with value: 0.9983094334602356.\n"
     ]
    },
    {
     "name": "stderr",
     "output_type": "stream",
     "text": [
      "Best trial: 4. Best value: 0.998309:  87%|██████████████████████████████████████▏     | 26/30 [44:38<06:51, 102.96s/it]"
     ]
    },
    {
     "name": "stdout",
     "output_type": "stream",
     "text": [
      "[I 2023-09-19 16:14:07,364] Trial 25 finished with value: 0.9236404895782471 and parameters: {'hidden_layer_size_0': 59, 'hidden_layer_size_1': 39, 'hidden_layer_size_2': 147, 'hidden_layer_size_3': 59, 'hidden_layer_size_4': 105, 'learning_rate': 3.322882921015794e-05, 'dropout_prob': 0.12000000000000001, 'optimizer': 'Adam'}. Best is trial 4 with value: 0.9983094334602356.\n"
     ]
    },
    {
     "name": "stderr",
     "output_type": "stream",
     "text": [
      "Best trial: 4. Best value: 0.998309:  90%|███████████████████████████████████████▌    | 27/30 [46:44<05:29, 109.85s/it]"
     ]
    },
    {
     "name": "stdout",
     "output_type": "stream",
     "text": [
      "[I 2023-09-19 16:16:13,269] Trial 26 finished with value: 0.9980276226997375 and parameters: {'hidden_layer_size_0': 186, 'hidden_layer_size_1': 204, 'hidden_layer_size_2': 131, 'hidden_layer_size_3': 83, 'hidden_layer_size_4': 170, 'learning_rate': 0.003712513057622099, 'dropout_prob': 0.35, 'optimizer': 'Adam'}. Best is trial 4 with value: 0.9983094334602356.\n"
     ]
    },
    {
     "name": "stderr",
     "output_type": "stream",
     "text": [
      "Best trial: 4. Best value: 0.998309:  93%|█████████████████████████████████████████   | 28/30 [48:03<03:21, 100.64s/it]"
     ]
    },
    {
     "name": "stdout",
     "output_type": "stream",
     "text": [
      "[I 2023-09-19 16:17:32,431] Trial 27 finished with value: 0.632290780544281 and parameters: {'hidden_layer_size_0': 148, 'hidden_layer_size_1': 68, 'hidden_layer_size_2': 135, 'hidden_layer_size_3': 161, 'hidden_layer_size_4': 199, 'learning_rate': 0.004628180006970533, 'dropout_prob': 0.42000000000000004, 'optimizer': 'SGD'}. Best is trial 4 with value: 0.9983094334602356.\n"
     ]
    },
    {
     "name": "stderr",
     "output_type": "stream",
     "text": [
      "Best trial: 4. Best value: 0.998309:  97%|██████████████████████████████████████████▌ | 29/30 [49:45<01:41, 101.09s/it]"
     ]
    },
    {
     "name": "stdout",
     "output_type": "stream",
     "text": [
      "[I 2023-09-19 16:19:14,562] Trial 28 finished with value: 0.9675965309143066 and parameters: {'hidden_layer_size_0': 38, 'hidden_layer_size_1': 153, 'hidden_layer_size_2': 80, 'hidden_layer_size_3': 131, 'hidden_layer_size_4': 97, 'learning_rate': 0.00036093285981260366, 'dropout_prob': 0.37, 'optimizer': 'RMSprop'}. Best is trial 4 with value: 0.9983094334602356.\n"
     ]
    },
    {
     "name": "stderr",
     "output_type": "stream",
     "text": [
      "Best trial: 4. Best value: 0.998309: 100%|████████████████████████████████████████████| 30/30 [51:01<00:00, 102.04s/it]"
     ]
    },
    {
     "name": "stdout",
     "output_type": "stream",
     "text": [
      "[I 2023-09-19 16:20:30,302] Trial 29 finished with value: 0.01718793995678425 and parameters: {'hidden_layer_size_0': 47, 'hidden_layer_size_1': 175, 'hidden_layer_size_2': 73, 'hidden_layer_size_3': 102, 'hidden_layer_size_4': 42, 'learning_rate': 2.672484039891763e-05, 'dropout_prob': 0.49, 'optimizer': 'SGD'}. Best is trial 4 with value: 0.9983094334602356.\n",
      "\n",
      " \n",
      " best params:  {'hidden_layer_size_0': 103, 'hidden_layer_size_1': 150, 'hidden_layer_size_2': 256, 'hidden_layer_size_3': 87, 'hidden_layer_size_4': 58, 'learning_rate': 0.0006222394589974497, 'dropout_prob': 0.37, 'optimizer': 'RMSprop'} \n",
      " \n",
      " best score:  [0.9983094334602356] \n",
      "\n",
      "\n",
      " \n",
      " best params:  {'hidden_layer_size_0': 103, 'hidden_layer_size_1': 150, 'hidden_layer_size_2': 256, 'hidden_layer_size_3': 87, 'hidden_layer_size_4': 58, 'learning_rate': 0.0006222394589974497, 'dropout_prob': 0.37, 'optimizer': 'RMSprop'} \n",
      " \n",
      " best score:  [0.9983094334602356] \n",
      "\n",
      "Optimization completed in 51.020912798245746 minutes.\n"
     ]
    },
    {
     "name": "stderr",
     "output_type": "stream",
     "text": [
      "\n"
     ]
    }
   ],
   "source": [
    "def optimized_optuna_search_and_report(n_trials, algo):\n",
    "    start_time = time.time()\n",
    "\n",
    "    # 进行随机网格搜索优化\n",
    "    best_params, best_score = optimizer_optuna(n_trials, algo)\n",
    "\n",
    "    # 打印最佳参数和分数\n",
    "    print(\"\\n\",\"\\n\",\"best params: \", best_params,\n",
    "          \"\\n\",\"\\n\",\"best score: \", best_score,\n",
    "          \"\\n\")\n",
    "\n",
    "    end_time = time.time()\n",
    "    time_ga= (end_time - start_time) / 60  # 转换为分钟\n",
    "    print(f\"Optimization completed in {time_ga} minutes.\")\n",
    "    \n",
    "    return best_params, best_score, time_ga\n",
    "\n",
    "# 执行优化\n",
    "best_params, best_score, time_ga = optimized_optuna_search_and_report(30, optuna.samplers.NSGAIISampler())"
   ]
  },
  {
   "cell_type": "markdown",
   "id": "2bca6717",
   "metadata": {},
   "source": [
    "# 5. Optuna——贝叶斯优化，调参"
   ]
  },
  {
   "cell_type": "code",
   "execution_count": 5,
   "id": "7d20ce92",
   "metadata": {},
   "outputs": [],
   "source": [
    "def optuna_objective(trial):\n",
    "    \n",
    "    # 定义超参数空间\n",
    "    # 层数固定\n",
    "    hidden_layer_sizes = [trial.suggest_int(f\"hidden_layer_size_{i}\", 16, 256) for i in range(5)]\n",
    "    # 层数3-5层\n",
    "    # hidden_layer_sizes = [trial.suggest_int(f\"hidden_layer_size_{i}\", 16, 256) for i in range(trial.suggest_int(\"num_hidden_layers\", 3, 5))]\n",
    "    learning_rate = trial.suggest_float(\"learning_rate\", 1e-5, 1e-1, log=True)\n",
    "    dropout_prob = trial.suggest_float(\"dropout_prob\", 0.1, 0.5, step=0.01)\n",
    "    \n",
    "    # 根据超参数定义 DNN 模型\n",
    "    model = DNN(input_size, num_classes, hidden_layer_sizes, dropout_prob)\n",
    "    model.to(device)\n",
    "    \n",
    "    # 定义优化器和损失函数\n",
    "    optimizer_name = trial.suggest_categorical(\"optimizer\", [\"Adam\", \"SGD\", \"RMSprop\"])\n",
    "    if optimizer_name == \"Adam\":\n",
    "        optimizer = torch.optim.Adam(model.parameters(), lr=learning_rate)\n",
    "    elif optimizer_name == \"SGD\":\n",
    "        optimizer = torch.optim.SGD(model.parameters(), lr=learning_rate)\n",
    "    elif optimizer_name == \"RMSprop\":\n",
    "        optimizer = torch.optim.RMSprop(model.parameters(), lr=learning_rate)\n",
    "    #optimizer = torch.optim.Adam(model.parameters(), lr=learning_rate)\n",
    "    loss_fn = nn.CrossEntropyLoss()\n",
    "    EPOCHS = 200\n",
    "    \n",
    "    # 训练模型\n",
    "    model.train()\n",
    "    for epoch in range(EPOCHS):\n",
    "        for (x, y) in train_dataloader: # 获取小批次的 x 与 y\n",
    "            x, y = x.to(device), y.to(device)  # 将数据移动到GPU\n",
    "            output = model(x) # 一次前向传播（小批量）\n",
    "            loss = loss_fn(output, y) # 计算损失函数\n",
    "            optimizer.zero_grad() # 清理上一轮滞留的梯度\n",
    "            loss.backward() # 一次反向传播\n",
    "            optimizer.step() # 优化内部参数\n",
    "    \n",
    "    # 验证模型\n",
    "    correct = 0\n",
    "    total = 0\n",
    "    all_preds = []\n",
    "    all_labels = []\n",
    "    model.eval()\n",
    "    with torch.no_grad():\n",
    "        for (x, y) in test_dataloader: # 获取小批次的 x 与 y\n",
    "            x, y = x.to(device), y.to(device)  # 将数据移动到GPU\n",
    "            Pred = model(x) # 一次前向传播（小批量）\n",
    "            _, Pred_classes = torch.max(Pred, dim=1)  # 找到最大概率对应的类别索引\n",
    "            correct += torch.sum(Pred_classes == y)  # 计算正确的个数\n",
    "            all_preds.extend(Pred_classes.cpu().numpy())  # 将预测转换为NumPy数组并存储\n",
    "            all_labels.extend(y.cpu().numpy())  # 将真实标签转换为NumPy数组并存储\n",
    "            total += y.size(0)\n",
    "    accuracy = correct/total\n",
    "    \n",
    "    # 报告准确率给 Optuna\n",
    "    trial.report(accuracy, epoch)\n",
    "    \n",
    "    return accuracy"
   ]
  },
  {
   "cell_type": "markdown",
   "id": "8562c6db",
   "metadata": {},
   "source": [
    "#### （2）定义优化目标函数的具体流程"
   ]
  },
  {
   "cell_type": "code",
   "execution_count": 6,
   "id": "eb35d6ec",
   "metadata": {},
   "outputs": [],
   "source": [
    "# 定义超参数优化器函数\n",
    "def optimizer_optuna(n_trials, algo):\n",
    "\n",
    "    #定义使用TPE或者GP\n",
    "    if algo == \"TPE\":\n",
    "        algo = optuna.samplers.TPESampler(n_startup_trials = 15, n_ei_candidates = 12)\n",
    "    elif algo == \"GP\":\n",
    "        from optuna.integration import SkoptSampler\n",
    "        import skopt\n",
    "        algo = SkoptSampler(skopt_kwargs={'base_estimator':'GP', #选择高斯过程\n",
    "                                          'n_initial_points':30, #初始观测点10个\n",
    "                                          'acq_func':'EI'} #选择的采集函数为EI，期望增量\n",
    "                           )\n",
    "\n",
    "    #实际优化过程，首先实例化优化器\n",
    "    study = optuna.create_study(sampler = algo #要使用的具体算法\n",
    "                                ,direction=\"maximize\" #优化的方向，可以填写minimize或maximize\n",
    "                               )\n",
    "    #开始优化，n_trials为允许的最大迭代次数\n",
    "    #由于参数空间已经在目标函数中定义好，因此不需要输入参数空间\n",
    "    study.optimize(optuna_objective #目标函数\n",
    "                   ,n_trials=n_trials #最大迭代次数（包括最初的观测值的）\n",
    "                   ,show_progress_bar=True #展示进度条\n",
    "                  )\n",
    "\n",
    "    #可直接从优化好的对象study中调用优化的结果\n",
    "    #打印最佳参数与最佳损失值\n",
    "    print(\"\\n\",\"\\n\",\"best params: \", study.best_trial.params,\n",
    "          \"\\n\",\"\\n\",\"best score: \", study.best_trial.values,\n",
    "          \"\\n\")\n",
    "\n",
    "    return study.best_trial.params, study.best_trial.values"
   ]
  },
  {
   "cell_type": "markdown",
   "id": "6029d7a7",
   "metadata": {},
   "source": [
    "#### （3）执行优化操作"
   ]
  },
  {
   "cell_type": "code",
   "execution_count": 7,
   "id": "b1071c1e-ccf6-4368-b480-e79ccede01aa",
   "metadata": {},
   "outputs": [
    {
     "name": "stderr",
     "output_type": "stream",
     "text": [
      "[I 2023-09-19 16:37:46,810] A new study created in memory with name: no-name-7cfd1424-8bbf-4d7b-a7c7-71f45c9e4096\n",
      "Best trial: 0. Best value: 0.0298676:   3%|█▍                                        | 1/30 [02:09<1:02:34, 129.48s/it]"
     ]
    },
    {
     "name": "stdout",
     "output_type": "stream",
     "text": [
      "[I 2023-09-19 16:39:56,276] Trial 0 finished with value: 0.029867568984627724 and parameters: {'hidden_layer_size_0': 144, 'hidden_layer_size_1': 167, 'hidden_layer_size_2': 185, 'hidden_layer_size_3': 218, 'hidden_layer_size_4': 213, 'learning_rate': 0.04302461020254908, 'dropout_prob': 0.39, 'optimizer': 'Adam'}. Best is trial 0 with value: 0.029867568984627724.\n"
     ]
    },
    {
     "name": "stderr",
     "output_type": "stream",
     "text": [
      "Best trial: 1. Best value: 0.943646:   7%|███                                          | 2/30 [03:47<51:43, 110.85s/it]"
     ]
    },
    {
     "name": "stdout",
     "output_type": "stream",
     "text": [
      "[I 2023-09-19 16:41:34,099] Trial 1 finished with value: 0.9436461329460144 and parameters: {'hidden_layer_size_0': 146, 'hidden_layer_size_1': 28, 'hidden_layer_size_2': 142, 'hidden_layer_size_3': 204, 'hidden_layer_size_4': 21, 'learning_rate': 7.388947326122909e-05, 'dropout_prob': 0.27, 'optimizer': 'RMSprop'}. Best is trial 1 with value: 0.9436461329460144.\n"
     ]
    },
    {
     "name": "stderr",
     "output_type": "stream",
     "text": [
      "Best trial: 1. Best value: 0.943646:  10%|████▌                                         | 3/30 [05:03<42:50, 95.21s/it]"
     ]
    },
    {
     "name": "stdout",
     "output_type": "stream",
     "text": [
      "[I 2023-09-19 16:42:50,707] Trial 2 finished with value: 0.8469991683959961 and parameters: {'hidden_layer_size_0': 57, 'hidden_layer_size_1': 58, 'hidden_layer_size_2': 170, 'hidden_layer_size_3': 204, 'hidden_layer_size_4': 79, 'learning_rate': 0.009371282144052015, 'dropout_prob': 0.29000000000000004, 'optimizer': 'SGD'}. Best is trial 1 with value: 0.9436461329460144.\n"
     ]
    },
    {
     "name": "stderr",
     "output_type": "stream",
     "text": [
      "Best trial: 1. Best value: 0.943646:  13%|██████▏                                       | 4/30 [06:22<38:26, 88.71s/it]"
     ]
    },
    {
     "name": "stdout",
     "output_type": "stream",
     "text": [
      "[I 2023-09-19 16:44:09,434] Trial 3 finished with value: 0.10256410390138626 and parameters: {'hidden_layer_size_0': 115, 'hidden_layer_size_1': 100, 'hidden_layer_size_2': 190, 'hidden_layer_size_3': 58, 'hidden_layer_size_4': 200, 'learning_rate': 0.0007278354382028636, 'dropout_prob': 0.42000000000000004, 'optimizer': 'SGD'}. Best is trial 1 with value: 0.9436461329460144.\n"
     ]
    },
    {
     "name": "stderr",
     "output_type": "stream",
     "text": [
      "Best trial: 4. Best value: 0.983657:  17%|███████▋                                      | 5/30 [07:56<37:41, 90.48s/it]"
     ]
    },
    {
     "name": "stdout",
     "output_type": "stream",
     "text": [
      "[I 2023-09-19 16:45:43,050] Trial 4 finished with value: 0.9836574196815491 and parameters: {'hidden_layer_size_0': 214, 'hidden_layer_size_1': 37, 'hidden_layer_size_2': 31, 'hidden_layer_size_3': 114, 'hidden_layer_size_4': 211, 'learning_rate': 0.004393697718754479, 'dropout_prob': 0.32, 'optimizer': 'RMSprop'}. Best is trial 4 with value: 0.9836574196815491.\n"
     ]
    },
    {
     "name": "stderr",
     "output_type": "stream",
     "text": [
      "Best trial: 4. Best value: 0.983657:  20%|█████████▏                                    | 6/30 [09:30<36:45, 91.89s/it]"
     ]
    },
    {
     "name": "stdout",
     "output_type": "stream",
     "text": [
      "[I 2023-09-19 16:47:17,678] Trial 5 finished with value: 0.03240349516272545 and parameters: {'hidden_layer_size_0': 230, 'hidden_layer_size_1': 54, 'hidden_layer_size_2': 100, 'hidden_layer_size_3': 146, 'hidden_layer_size_4': 93, 'learning_rate': 0.04720828361851663, 'dropout_prob': 0.45999999999999996, 'optimizer': 'RMSprop'}. Best is trial 4 with value: 0.9836574196815491.\n"
     ]
    },
    {
     "name": "stderr",
     "output_type": "stream",
     "text": [
      "Best trial: 4. Best value: 0.983657:  23%|██████████▋                                   | 7/30 [10:47<33:16, 86.81s/it]"
     ]
    },
    {
     "name": "stdout",
     "output_type": "stream",
     "text": [
      "[I 2023-09-19 16:48:34,031] Trial 6 finished with value: 0.029867568984627724 and parameters: {'hidden_layer_size_0': 126, 'hidden_layer_size_1': 120, 'hidden_layer_size_2': 67, 'hidden_layer_size_3': 91, 'hidden_layer_size_4': 210, 'learning_rate': 4.617540601727536e-05, 'dropout_prob': 0.27, 'optimizer': 'SGD'}. Best is trial 4 with value: 0.9836574196815491.\n"
     ]
    },
    {
     "name": "stderr",
     "output_type": "stream",
     "text": [
      "Best trial: 4. Best value: 0.983657:  27%|████████████▎                                 | 8/30 [12:05<30:50, 84.13s/it]"
     ]
    },
    {
     "name": "stdout",
     "output_type": "stream",
     "text": [
      "[I 2023-09-19 16:49:52,441] Trial 7 finished with value: 0.04029304161667824 and parameters: {'hidden_layer_size_0': 132, 'hidden_layer_size_1': 23, 'hidden_layer_size_2': 19, 'hidden_layer_size_3': 116, 'hidden_layer_size_4': 121, 'learning_rate': 5.994521217518676e-05, 'dropout_prob': 0.49, 'optimizer': 'SGD'}. Best is trial 4 with value: 0.9836574196815491.\n"
     ]
    },
    {
     "name": "stderr",
     "output_type": "stream",
     "text": [
      "Best trial: 4. Best value: 0.983657:  30%|█████████████▊                                | 9/30 [13:23<28:47, 82.24s/it]"
     ]
    },
    {
     "name": "stdout",
     "output_type": "stream",
     "text": [
      "[I 2023-09-19 16:51:10,513] Trial 8 finished with value: 0.06649760901927948 and parameters: {'hidden_layer_size_0': 203, 'hidden_layer_size_1': 27, 'hidden_layer_size_2': 197, 'hidden_layer_size_3': 123, 'hidden_layer_size_4': 132, 'learning_rate': 0.0003518610663302422, 'dropout_prob': 0.19, 'optimizer': 'SGD'}. Best is trial 4 with value: 0.9836574196815491.\n"
     ]
    },
    {
     "name": "stderr",
     "output_type": "stream",
     "text": [
      "Best trial: 9. Best value: 0.992956:  33%|███████████████                              | 10/30 [15:01<29:01, 87.06s/it]"
     ]
    },
    {
     "name": "stdout",
     "output_type": "stream",
     "text": [
      "[I 2023-09-19 16:52:48,367] Trial 9 finished with value: 0.9929558038711548 and parameters: {'hidden_layer_size_0': 238, 'hidden_layer_size_1': 145, 'hidden_layer_size_2': 26, 'hidden_layer_size_3': 138, 'hidden_layer_size_4': 24, 'learning_rate': 0.0002043773873410849, 'dropout_prob': 0.26, 'optimizer': 'RMSprop'}. Best is trial 9 with value: 0.9929558038711548.\n"
     ]
    },
    {
     "name": "stderr",
     "output_type": "stream",
     "text": [
      "Best trial: 9. Best value: 0.992956:  37%|████████████████▌                            | 11/30 [16:14<26:12, 82.77s/it]"
     ]
    },
    {
     "name": "stdout",
     "output_type": "stream",
     "text": [
      "[I 2023-09-19 16:54:01,425] Trial 10 finished with value: 0.0780501589179039 and parameters: {'hidden_layer_size_0': 60, 'hidden_layer_size_1': 163, 'hidden_layer_size_2': 50, 'hidden_layer_size_3': 253, 'hidden_layer_size_4': 40, 'learning_rate': 0.0004850409528302701, 'dropout_prob': 0.2, 'optimizer': 'SGD'}. Best is trial 9 with value: 0.9929558038711548.\n"
     ]
    },
    {
     "name": "stderr",
     "output_type": "stream",
     "text": [
      "Best trial: 9. Best value: 0.992956:  40%|██████████████████                           | 12/30 [18:08<27:42, 92.35s/it]"
     ]
    },
    {
     "name": "stdout",
     "output_type": "stream",
     "text": [
      "[I 2023-09-19 16:55:55,675] Trial 11 finished with value: 0.8726401925086975 and parameters: {'hidden_layer_size_0': 100, 'hidden_layer_size_1': 120, 'hidden_layer_size_2': 140, 'hidden_layer_size_3': 41, 'hidden_layer_size_4': 226, 'learning_rate': 0.012154099086906484, 'dropout_prob': 0.12000000000000001, 'optimizer': 'Adam'}. Best is trial 9 with value: 0.9929558038711548.\n"
     ]
    },
    {
     "name": "stderr",
     "output_type": "stream",
     "text": [
      "Best trial: 12. Best value: 0.998028:  43%|███████████████████                         | 13/30 [19:45<26:34, 93.77s/it]"
     ]
    },
    {
     "name": "stdout",
     "output_type": "stream",
     "text": [
      "[I 2023-09-19 16:57:32,722] Trial 12 finished with value: 0.9980276226997375 and parameters: {'hidden_layer_size_0': 180, 'hidden_layer_size_1': 210, 'hidden_layer_size_2': 79, 'hidden_layer_size_3': 243, 'hidden_layer_size_4': 238, 'learning_rate': 0.0006144283142159422, 'dropout_prob': 0.11, 'optimizer': 'RMSprop'}. Best is trial 12 with value: 0.9980276226997375.\n"
     ]
    },
    {
     "name": "stderr",
     "output_type": "stream",
     "text": [
      "Best trial: 12. Best value: 0.998028:  47%|████████████████████                       | 14/30 [21:49<27:26, 102.92s/it]"
     ]
    },
    {
     "name": "stdout",
     "output_type": "stream",
     "text": [
      "[I 2023-09-19 16:59:36,781] Trial 13 finished with value: 0.997182309627533 and parameters: {'hidden_layer_size_0': 136, 'hidden_layer_size_1': 51, 'hidden_layer_size_2': 186, 'hidden_layer_size_3': 87, 'hidden_layer_size_4': 77, 'learning_rate': 0.005452754484799453, 'dropout_prob': 0.23, 'optimizer': 'Adam'}. Best is trial 12 with value: 0.9980276226997375.\n"
     ]
    },
    {
     "name": "stderr",
     "output_type": "stream",
     "text": [
      "Best trial: 12. Best value: 0.998028:  50%|██████████████████████                      | 15/30 [23:21<24:53, 99.57s/it]"
     ]
    },
    {
     "name": "stdout",
     "output_type": "stream",
     "text": [
      "[I 2023-09-19 17:01:08,595] Trial 14 finished with value: 0.9960552453994751 and parameters: {'hidden_layer_size_0': 174, 'hidden_layer_size_1': 70, 'hidden_layer_size_2': 42, 'hidden_layer_size_3': 75, 'hidden_layer_size_4': 72, 'learning_rate': 0.004403671277717458, 'dropout_prob': 0.33999999999999997, 'optimizer': 'RMSprop'}. Best is trial 12 with value: 0.9980276226997375.\n"
     ]
    },
    {
     "name": "stderr",
     "output_type": "stream",
     "text": [
      "Best trial: 15. Best value: 0.998309:  53%|██████████████████████▉                    | 16/30 [25:15<24:15, 103.96s/it]"
     ]
    },
    {
     "name": "stdout",
     "output_type": "stream",
     "text": [
      "[I 2023-09-19 17:03:02,756] Trial 15 finished with value: 0.9983094334602356 and parameters: {'hidden_layer_size_0': 176, 'hidden_layer_size_1': 167, 'hidden_layer_size_2': 228, 'hidden_layer_size_3': 176, 'hidden_layer_size_4': 255, 'learning_rate': 0.00451903085090307, 'dropout_prob': 0.15000000000000002, 'optimizer': 'Adam'}. Best is trial 15 with value: 0.9983094334602356.\n"
     ]
    },
    {
     "name": "stderr",
     "output_type": "stream",
     "text": [
      "Best trial: 15. Best value: 0.998309:  57%|████████████████████████▎                  | 17/30 [27:12<23:20, 107.71s/it]"
     ]
    },
    {
     "name": "stdout",
     "output_type": "stream",
     "text": [
      "[I 2023-09-19 17:04:59,175] Trial 16 finished with value: 0.9963369965553284 and parameters: {'hidden_layer_size_0': 187, 'hidden_layer_size_1': 220, 'hidden_layer_size_2': 241, 'hidden_layer_size_3': 254, 'hidden_layer_size_4': 246, 'learning_rate': 0.0008379162125841795, 'dropout_prob': 0.11, 'optimizer': 'Adam'}. Best is trial 15 with value: 0.9983094334602356.\n"
     ]
    },
    {
     "name": "stderr",
     "output_type": "stream",
     "text": [
      "Best trial: 17. Best value: 0.999155:  60%|█████████████████████████▊                 | 18/30 [29:17<22:36, 113.00s/it]"
     ]
    },
    {
     "name": "stdout",
     "output_type": "stream",
     "text": [
      "[I 2023-09-19 17:07:04,506] Trial 17 finished with value: 0.9991547465324402 and parameters: {'hidden_layer_size_0': 170, 'hidden_layer_size_1': 241, 'hidden_layer_size_2': 97, 'hidden_layer_size_3': 177, 'hidden_layer_size_4': 164, 'learning_rate': 0.0028690154931344, 'dropout_prob': 0.16, 'optimizer': 'Adam'}. Best is trial 17 with value: 0.9991547465324402.\n"
     ]
    },
    {
     "name": "stderr",
     "output_type": "stream",
     "text": [
      "Best trial: 17. Best value: 0.999155:  63%|███████████████████████████▏               | 19/30 [31:21<21:18, 116.23s/it]"
     ]
    },
    {
     "name": "stdout",
     "output_type": "stream",
     "text": [
      "[I 2023-09-19 17:09:08,261] Trial 18 finished with value: 0.9988729357719421 and parameters: {'hidden_layer_size_0': 88, 'hidden_layer_size_1': 248, 'hidden_layer_size_2': 116, 'hidden_layer_size_3': 169, 'hidden_layer_size_4': 143, 'learning_rate': 0.003832262365260386, 'dropout_prob': 0.17, 'optimizer': 'Adam'}. Best is trial 17 with value: 0.9991547465324402.\n"
     ]
    },
    {
     "name": "stderr",
     "output_type": "stream",
     "text": [
      "Best trial: 17. Best value: 0.999155:  67%|████████████████████████████▋              | 20/30 [33:20<19:30, 117.06s/it]"
     ]
    },
    {
     "name": "stdout",
     "output_type": "stream",
     "text": [
      "[I 2023-09-19 17:11:07,244] Trial 19 finished with value: 0.9985911846160889 and parameters: {'hidden_layer_size_0': 85, 'hidden_layer_size_1': 246, 'hidden_layer_size_2': 98, 'hidden_layer_size_3': 178, 'hidden_layer_size_4': 176, 'learning_rate': 0.0016032920614276849, 'dropout_prob': 0.18, 'optimizer': 'Adam'}. Best is trial 17 with value: 0.9991547465324402.\n"
     ]
    },
    {
     "name": "stderr",
     "output_type": "stream",
     "text": [
      "Best trial: 17. Best value: 0.999155:  70%|██████████████████████████████             | 21/30 [35:18<17:35, 117.32s/it]"
     ]
    },
    {
     "name": "stdout",
     "output_type": "stream",
     "text": [
      "[I 2023-09-19 17:13:05,170] Trial 20 finished with value: 0.9980276226997375 and parameters: {'hidden_layer_size_0': 84, 'hidden_layer_size_1': 256, 'hidden_layer_size_2': 109, 'hidden_layer_size_3': 166, 'hidden_layer_size_4': 163, 'learning_rate': 0.0019279444236608456, 'dropout_prob': 0.16, 'optimizer': 'Adam'}. Best is trial 17 with value: 0.9991547465324402.\n"
     ]
    },
    {
     "name": "stderr",
     "output_type": "stream",
     "text": [
      "Best trial: 17. Best value: 0.999155:  73%|███████████████████████████████▌           | 22/30 [37:19<15:46, 118.32s/it]"
     ]
    },
    {
     "name": "stdout",
     "output_type": "stream",
     "text": [
      "[I 2023-09-19 17:15:05,813] Trial 21 finished with value: 0.834319531917572 and parameters: {'hidden_layer_size_0': 77, 'hidden_layer_size_1': 253, 'hidden_layer_size_2': 119, 'hidden_layer_size_3': 160, 'hidden_layer_size_4': 182, 'learning_rate': 1.0689529528251997e-05, 'dropout_prob': 0.21000000000000002, 'optimizer': 'Adam'}. Best is trial 17 with value: 0.9991547465324402.\n"
     ]
    },
    {
     "name": "stderr",
     "output_type": "stream",
     "text": [
      "Best trial: 17. Best value: 0.999155:  77%|████████████████████████████████▉          | 23/30 [39:16<13:46, 118.14s/it]"
     ]
    },
    {
     "name": "stdout",
     "output_type": "stream",
     "text": [
      "[I 2023-09-19 17:17:03,549] Trial 22 finished with value: 0.9983094334602356 and parameters: {'hidden_layer_size_0': 100, 'hidden_layer_size_1': 223, 'hidden_layer_size_2': 77, 'hidden_layer_size_3': 213, 'hidden_layer_size_4': 166, 'learning_rate': 0.001990307726610325, 'dropout_prob': 0.15000000000000002, 'optimizer': 'Adam'}. Best is trial 17 with value: 0.9991547465324402.\n"
     ]
    },
    {
     "name": "stderr",
     "output_type": "stream",
     "text": [
      "Best trial: 17. Best value: 0.999155:  80%|██████████████████████████████████▍        | 24/30 [41:15<11:50, 118.45s/it]"
     ]
    },
    {
     "name": "stdout",
     "output_type": "stream",
     "text": [
      "[I 2023-09-19 17:19:02,723] Trial 23 finished with value: 0.997464120388031 and parameters: {'hidden_layer_size_0': 53, 'hidden_layer_size_1': 192, 'hidden_layer_size_2': 99, 'hidden_layer_size_3': 187, 'hidden_layer_size_4': 149, 'learning_rate': 0.0022425004058273796, 'dropout_prob': 0.18, 'optimizer': 'Adam'}. Best is trial 17 with value: 0.9991547465324402.\n"
     ]
    },
    {
     "name": "stderr",
     "output_type": "stream",
     "text": [
      "Best trial: 17. Best value: 0.999155:  83%|███████████████████████████████████▊       | 25/30 [43:16<09:55, 119.08s/it]"
     ]
    },
    {
     "name": "stdout",
     "output_type": "stream",
     "text": [
      "[I 2023-09-19 17:21:03,268] Trial 24 finished with value: 0.21752606332302094 and parameters: {'hidden_layer_size_0': 31, 'hidden_layer_size_1': 229, 'hidden_layer_size_2': 126, 'hidden_layer_size_3': 189, 'hidden_layer_size_4': 112, 'learning_rate': 0.016001965324464778, 'dropout_prob': 0.14, 'optimizer': 'Adam'}. Best is trial 17 with value: 0.9991547465324402.\n"
     ]
    },
    {
     "name": "stderr",
     "output_type": "stream",
     "text": [
      "Best trial: 17. Best value: 0.999155:  87%|█████████████████████████████████████▎     | 26/30 [45:22<08:04, 121.23s/it]"
     ]
    },
    {
     "name": "stdout",
     "output_type": "stream",
     "text": [
      "[I 2023-09-19 17:23:09,520] Trial 25 finished with value: 0.9969005584716797 and parameters: {'hidden_layer_size_0': 30, 'hidden_layer_size_1': 249, 'hidden_layer_size_2': 155, 'hidden_layer_size_3': 155, 'hidden_layer_size_4': 180, 'learning_rate': 0.0013120987625731366, 'dropout_prob': 0.23, 'optimizer': 'Adam'}. Best is trial 17 with value: 0.9991547465324402.\n"
     ]
    },
    {
     "name": "stderr",
     "output_type": "stream",
     "text": [
      "Best trial: 17. Best value: 0.999155:  90%|██████████████████████████████████████▋    | 27/30 [47:21<06:01, 120.38s/it]"
     ]
    },
    {
     "name": "stdout",
     "output_type": "stream",
     "text": [
      "[I 2023-09-19 17:25:07,901] Trial 26 finished with value: 0.9985911846160889 and parameters: {'hidden_layer_size_0': 155, 'hidden_layer_size_1': 208, 'hidden_layer_size_2': 82, 'hidden_layer_size_3': 181, 'hidden_layer_size_4': 190, 'learning_rate': 0.0016206186564519701, 'dropout_prob': 0.24000000000000002, 'optimizer': 'Adam'}. Best is trial 17 with value: 0.9991547465324402.\n"
     ]
    },
    {
     "name": "stderr",
     "output_type": "stream",
     "text": [
      "Best trial: 17. Best value: 0.999155:  93%|████████████████████████████████████████▏  | 28/30 [49:20<04:00, 120.14s/it]"
     ]
    },
    {
     "name": "stdout",
     "output_type": "stream",
     "text": [
      "[I 2023-09-19 17:27:07,496] Trial 27 finished with value: 0.029867568984627724 and parameters: {'hidden_layer_size_0': 99, 'hidden_layer_size_1': 189, 'hidden_layer_size_2': 64, 'hidden_layer_size_3': 230, 'hidden_layer_size_4': 150, 'learning_rate': 0.024773146987312127, 'dropout_prob': 0.36, 'optimizer': 'Adam'}. Best is trial 17 with value: 0.9991547465324402.\n"
     ]
    },
    {
     "name": "stderr",
     "output_type": "stream",
     "text": [
      "Best trial: 17. Best value: 0.999155:  97%|█████████████████████████████████████████▌ | 29/30 [51:17<01:59, 119.05s/it]"
     ]
    },
    {
     "name": "stdout",
     "output_type": "stream",
     "text": [
      "[I 2023-09-19 17:29:03,996] Trial 28 finished with value: 0.9647788405418396 and parameters: {'hidden_layer_size_0': 70, 'hidden_layer_size_1': 238, 'hidden_layer_size_2': 93, 'hidden_layer_size_3': 131, 'hidden_layer_size_4': 107, 'learning_rate': 0.008632407763692092, 'dropout_prob': 0.17, 'optimizer': 'Adam'}. Best is trial 17 with value: 0.9991547465324402.\n"
     ]
    },
    {
     "name": "stderr",
     "output_type": "stream",
     "text": [
      "Best trial: 17. Best value: 0.999155: 100%|███████████████████████████████████████████| 30/30 [53:13<00:00, 106.45s/it]"
     ]
    },
    {
     "name": "stdout",
     "output_type": "stream",
     "text": [
      "[I 2023-09-19 17:31:00,349] Trial 29 finished with value: 0.09298393875360489 and parameters: {'hidden_layer_size_0': 42, 'hidden_layer_size_1': 191, 'hidden_layer_size_2': 115, 'hidden_layer_size_3': 171, 'hidden_layer_size_4': 142, 'learning_rate': 0.022406738624057308, 'dropout_prob': 0.1, 'optimizer': 'Adam'}. Best is trial 17 with value: 0.9991547465324402.\n",
      "\n",
      " \n",
      " best params:  {'hidden_layer_size_0': 170, 'hidden_layer_size_1': 241, 'hidden_layer_size_2': 97, 'hidden_layer_size_3': 177, 'hidden_layer_size_4': 164, 'learning_rate': 0.0028690154931344, 'dropout_prob': 0.16, 'optimizer': 'Adam'} \n",
      " \n",
      " best score:  [0.9991547465324402] \n",
      "\n",
      "\n",
      " \n",
      " best params:  {'hidden_layer_size_0': 170, 'hidden_layer_size_1': 241, 'hidden_layer_size_2': 97, 'hidden_layer_size_3': 177, 'hidden_layer_size_4': 164, 'learning_rate': 0.0028690154931344, 'dropout_prob': 0.16, 'optimizer': 'Adam'} \n",
      " \n",
      " best score:  [0.9991547465324402] \n",
      "\n",
      "Optimization completed in 53.22664060592651 minutes.\n"
     ]
    },
    {
     "name": "stderr",
     "output_type": "stream",
     "text": [
      "\n"
     ]
    }
   ],
   "source": [
    "import time\n",
    "\n",
    "def optimized_optuna_search_and_report(n_trials, algo):\n",
    "    start_time = time.time()\n",
    "    \n",
    "    # 进行贝叶斯优化\n",
    "    best_params, best_score = optimizer_optuna(n_trials, algo)\n",
    "\n",
    "    print(\"\\n\", \"\\n\", \"best params: \", best_params,\n",
    "          \"\\n\", \"\\n\", \"best score: \", best_score,\n",
    "          \"\\n\")\n",
    "\n",
    "    end_time = time.time()\n",
    "    time_bayes = (end_time - start_time) / 60  # 转换为分钟\n",
    "    print(f\"Optimization completed in {time_bayes} minutes.\")\n",
    "\n",
    "    return best_params, best_score, time_bayes\n",
    "\n",
    "# 执行优化\n",
    "best_params, best_score, time_bayes = optimized_optuna_search_and_report(30, \"TPE\")"
   ]
  },
  {
   "cell_type": "code",
   "execution_count": null,
   "id": "06528536-5c2c-43a2-900f-984d364a2b64",
   "metadata": {},
   "outputs": [],
   "source": []
  },
  {
   "cell_type": "code",
   "execution_count": null,
   "id": "d9d36bf6-9c32-4a45-bb99-23f1a8227748",
   "metadata": {},
   "outputs": [],
   "source": []
  }
 ],
 "metadata": {
  "kernelspec": {
   "display_name": "Python 3 (ipykernel)",
   "language": "python",
   "name": "python3"
  },
  "language_info": {
   "codemirror_mode": {
    "name": "ipython",
    "version": 3
   },
   "file_extension": ".py",
   "mimetype": "text/x-python",
   "name": "python",
   "nbconvert_exporter": "python",
   "pygments_lexer": "ipython3",
   "version": "3.9.18"
  }
 },
 "nbformat": 4,
 "nbformat_minor": 5
}
