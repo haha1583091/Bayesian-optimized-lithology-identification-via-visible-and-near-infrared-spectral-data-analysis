{
 "cells": [
  {
   "cell_type": "code",
   "execution_count": 9,
   "id": "bf2ba6b9-f14c-489c-820a-bd324e529052",
   "metadata": {},
   "outputs": [],
   "source": [
    "import pandas as pd\n",
    "import os\n",
    "\n",
    "# 指定txt文件所在的文件夹\n",
    "folder_path = r'F:\\Code_Data\\05_德达6斜_非成像数据\\汇总txt'  # 例如 'C:/Users/YourName/Documents/txt_files'\n",
    "# 指定输出CSV文件的路径\n",
    "output_csv_path = 'F:/Code_Data/05_德达6斜_非成像数据/combined_data.csv'\n",
    "\n",
    "# 创建一个空的DataFrame作为起始点\n",
    "combined_data = pd.DataFrame()\n",
    "\n",
    "# 遍历文件夹中的每个txt文件\n",
    "for filename in os.listdir(folder_path):\n",
    "    if filename.endswith('.txt'):\n",
    "        file_path = os.path.join(folder_path, filename)\n",
    "        # 读取txt文件的第二列\n",
    "        data = pd.read_csv(file_path, header=0, usecols=[1], sep='\\t')  # 假设数据以制表符分隔\n",
    "        # 将当前文件的数据添加到combined_data中，同时忽略索引\n",
    "        combined_data = pd.concat([combined_data, data.reset_index(drop=True)], axis=1)\n",
    "\n",
    "# 保存到CSV文件\n",
    "combined_data.to_csv(output_csv_path, index=False)\n"
   ]
  },
  {
   "cell_type": "code",
   "execution_count": null,
   "id": "d22b2462-882e-41cd-bac4-96e4d286ad28",
   "metadata": {},
   "outputs": [],
   "source": []
  }
 ],
 "metadata": {
  "kernelspec": {
   "display_name": "Python 3 (ipykernel)",
   "language": "python",
   "name": "python3"
  },
  "language_info": {
   "codemirror_mode": {
    "name": "ipython",
    "version": 3
   },
   "file_extension": ".py",
   "mimetype": "text/x-python",
   "name": "python",
   "nbconvert_exporter": "python",
   "pygments_lexer": "ipython3",
   "version": "3.9.18"
  }
 },
 "nbformat": 4,
 "nbformat_minor": 5
}
