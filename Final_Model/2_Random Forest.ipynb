{
 "cells": [
  {
   "cell_type": "markdown",
   "id": "7ea55261-6e2d-4942-a0d3-03bf0ce02991",
   "metadata": {},
   "source": [
    "# 1. 导入模块和库"
   ]
  },
  {
   "cell_type": "code",
   "execution_count": 1,
   "id": "be5dca00",
   "metadata": {},
   "outputs": [
    {
     "name": "stderr",
     "output_type": "stream",
     "text": [
      "E:\\Anaconda\\envs\\DL\\lib\\site-packages\\tqdm\\auto.py:21: TqdmWarning: IProgress not found. Please update jupyter and ipywidgets. See https://ipywidgets.readthedocs.io/en/stable/user_install.html\n",
      "  from .autonotebook import tqdm as notebook_tqdm\n"
     ]
    }
   ],
   "source": [
    "import time\n",
    "import optuna\n",
    "import numpy as np\n",
    "import pandas as pd\n",
    "import matplotlib.pyplot as plt\n",
    "\n",
    "from scipy.signal import savgol_filter\n",
    "from sklearn.preprocessing import MinMaxScaler\n",
    "from sklearn.preprocessing import LabelEncoder\n",
    "from sklearn.decomposition import PCA\n",
    "from sklearn.model_selection import train_test_split\n",
    "from sklearn.ensemble import RandomForestClassifier as RFC\n",
    "from sklearn.model_selection import cross_val_score\n",
    "from sklearn.model_selection import KFold\n",
    "from sklearn.metrics import accuracy_score, cohen_kappa_score, confusion_matrix, classification_report"
   ]
  },
  {
   "cell_type": "markdown",
   "id": "f65b73cf",
   "metadata": {},
   "source": [
    "# 2. 导入数据+PCA"
   ]
  },
  {
   "cell_type": "code",
   "execution_count": 2,
   "id": "40952d90-cf7b-4ff7-9d4c-c6aa15d4265c",
   "metadata": {},
   "outputs": [],
   "source": [
    "data = pd.read_csv(r\"F:\\Code_Data\\2_Rocks_Spectrum_Reflectance_essay_30_origin_modify_2.csv\",encoding='utf-8') #encoding='GBK',防止中文乱码\n",
    "X = data.iloc[:,1:-1]\n",
    "y = data.iloc[:,-1]\n",
    "X_SG = savgol_filter(X, 5, 2)\n",
    "X_SG_mms = MinMaxScaler().fit_transform(X_SG)\n",
    "Label = LabelEncoder().fit_transform(y)\n",
    "data.iloc[:,1:-1] = X_SG_mms\n",
    "data.iloc[:, -1] = Label\n",
    "X = data.iloc[:,1:-1]\n",
    "y = data.iloc[:,-1]\n",
    "X.shape, y.shape\n",
    "\n",
    "X_dr = PCA(29).fit_transform(X)"
   ]
  },
  {
   "cell_type": "markdown",
   "id": "c8068a6b-d287-4fc3-9c6a-03927dd47798",
   "metadata": {},
   "source": [
    "# 3. 遗传算法"
   ]
  },
  {
   "cell_type": "code",
   "execution_count": 3,
   "id": "23e4cd65-b5cf-40ed-8014-a5321d5f1d88",
   "metadata": {},
   "outputs": [],
   "source": [
    "def optuna_objective(trial):\n",
    "\n",
    "    #定义参数空间\n",
    "    n_estimators = trial.suggest_int(\"n_estimators\",50,150,1) #整数型，(参数名称，下界，上界，步长)\n",
    "    max_depth = trial.suggest_int(\"max_depth\",30,50,1)\n",
    "    max_features = trial.suggest_int(\"max_features\",5,30,1)\n",
    "    min_samples_leaf = trial.suggest_int(\"min_samples_leaf\",1,51,1)\n",
    "    min_samples_split = trial.suggest_int(\"min_samples_split\",2,22,1)\n",
    "\n",
    "    #定义评估器\n",
    "    #需要优化的参数由上述参数空间决定\n",
    "    #不需要优化的参数则直接填写具体值\n",
    "    rfc = RFC(n_estimators = n_estimators\n",
    "              ,max_depth = max_depth\n",
    "              ,max_features = max_features\n",
    "              ,min_samples_leaf = min_samples_leaf\n",
    "              ,min_samples_split = min_samples_split\n",
    "              ,random_state=0\n",
    "              ,verbose=False\n",
    "              ,n_jobs=-1\n",
    "             )\n",
    "\n",
    "    #交叉验证过程，输出准确率(accuracy)\n",
    "    cv = KFold(n_splits=5,shuffle=True,random_state=0)\n",
    "    score = cross_val_score(rfc,X_dr,y\n",
    "                            ,scoring='accuracy'\n",
    "                            ,cv=cv #交叉验证模式\n",
    "                            ,verbose=False #是否打印进程\n",
    "                            ,n_jobs=-1 #线程数\n",
    "                            ,error_score='raise' #如果在某个折叠中出现错误，会引发一个异常\n",
    "                           )\n",
    "    #最终输出平均准确率\n",
    "    return np.mean(score)"
   ]
  },
  {
   "cell_type": "code",
   "execution_count": 4,
   "id": "323ca71e-d003-4caa-939f-426b9025c95e",
   "metadata": {},
   "outputs": [],
   "source": [
    "def optimizer_optuna(n_trials, algo):\n",
    "\n",
    "    #定义使用随机网格搜索\n",
    "    sampler = optuna.samplers.NSGAIISampler(population_size=50  # int，种群大小，即每代中包含的个体数量。默认 50\n",
    "                                           ,mutation_prob=1.0 # float，变异概率，指定了在交叉之后每个个体发生变异的概率。默认 1.0。\n",
    "                                           ,crossover_prob=1.0  # float，交叉概率，指定了在每次交叉操作中，一个个体与另一个个体产生子代的概率。默认 1.0\n",
    "                                           #,crossover_operator  # str，交叉操作符的类型。可选 \"sbx\"（模拟二进制交叉）和 \"ux\"（单点均匀交叉）。默认\"sbx\"\n",
    "                                           #,mutation_operator  # str，变异操作符的类型。可选 \"polynomial\"（多项式变异）和 \"random\"（随机变异）。默认\"polynomial\"\n",
    "                                           #,eta= # float，多项式变异操作的参数，用于控制变异的强度。较高的值表示更强的变异。默认20.0。\n",
    "                                           #,crossover_eta= # float，模拟二进制交叉操作的参数，用于控制交叉的强度。较低的值表示更强的交叉。默认20.0。\n",
    "                                           #,max_generations=  # int，最大的迭代代数。默认值为 None，表示没有最大代数限制。\n",
    "                                           )\n",
    "\n",
    "    #实际优化过程，首先实例化优化器\n",
    "    study = optuna.create_study(sampler = sampler #要使用的具体算法\n",
    "                                ,direction=\"maximize\" #优化的方向，可以填写minimize或maximize\n",
    "                                #,storage=\"sqlite:///db.sqlite3\" # Specify the storage URL here.\n",
    "                                #,study_name=\"quadratic-simple\"\n",
    "                               )\n",
    "    #开始优化，n_trials为允许的最大迭代次数\n",
    "    #由于参数空间已经在目标函数中定义好，因此不需要输入参数空间\n",
    "    study.optimize(optuna_objective #目标函数\n",
    "                   ,n_trials=n_trials #最大迭代次数（包括最初的观测值的）\n",
    "                   ,show_progress_bar=True #要不要展示进度条呀？\n",
    "                  )\n",
    "\n",
    "    #可直接从优化好的对象study中调用优化的结果\n",
    "    #打印最佳参数与最佳损失值\n",
    "    print(\"\\n\",\"\\n\",\"best params: \", study.best_trial.params,\n",
    "          \"\\n\",\"\\n\",\"best score: \", study.best_trial.values,\n",
    "          \"\\n\")\n",
    "\n",
    "    return study.best_trial.params, study.best_trial.values"
   ]
  },
  {
   "cell_type": "code",
   "execution_count": 5,
   "id": "bb8cbb38-9abc-4f21-9242-dcf3257e315b",
   "metadata": {},
   "outputs": [
    {
     "name": "stderr",
     "output_type": "stream",
     "text": [
      "[I 2023-09-20 09:15:19,752] A new study created in memory with name: no-name-ea8a0c3c-11d6-4f6f-bc27-e989a19898cc\n",
      "Best trial: 0. Best value: 0.866335:   3%|█▌                                            | 1/30 [00:58<28:25, 58.79s/it]"
     ]
    },
    {
     "name": "stdout",
     "output_type": "stream",
     "text": [
      "[I 2023-09-20 09:16:18,567] Trial 0 finished with value: 0.8663347743490857 and parameters: {'n_estimators': 113, 'max_depth': 43, 'max_features': 12, 'min_samples_leaf': 21, 'min_samples_split': 7}. Best is trial 0 with value: 0.8663347743490857.\n"
     ]
    },
    {
     "name": "stderr",
     "output_type": "stream",
     "text": [
      "Best trial: 0. Best value: 0.866335:   7%|███                                           | 2/30 [02:17<32:53, 70.48s/it]"
     ]
    },
    {
     "name": "stdout",
     "output_type": "stream",
     "text": [
      "[I 2023-09-20 09:17:37,229] Trial 1 finished with value: 0.8161150120005217 and parameters: {'n_estimators': 104, 'max_depth': 30, 'max_features': 24, 'min_samples_leaf': 45, 'min_samples_split': 21}. Best is trial 0 with value: 0.8663347743490857.\n"
     ]
    },
    {
     "name": "stderr",
     "output_type": "stream",
     "text": [
      "Best trial: 2. Best value: 0.912327:  10%|████▌                                         | 3/30 [03:59<38:08, 84.74s/it]"
     ]
    },
    {
     "name": "stdout",
     "output_type": "stream",
     "text": [
      "[I 2023-09-20 09:19:18,947] Trial 2 finished with value: 0.9123267430244175 and parameters: {'n_estimators': 111, 'max_depth': 33, 'max_features': 20, 'min_samples_leaf': 2, 'min_samples_split': 22}. Best is trial 2 with value: 0.9123267430244175.\n"
     ]
    },
    {
     "name": "stderr",
     "output_type": "stream",
     "text": [
      "Best trial: 2. Best value: 0.912327:  13%|██████▏                                       | 4/30 [05:13<34:56, 80.63s/it]"
     ]
    },
    {
     "name": "stdout",
     "output_type": "stream",
     "text": [
      "[I 2023-09-20 09:20:33,262] Trial 3 finished with value: 0.908268511452769 and parameters: {'n_estimators': 107, 'max_depth': 32, 'max_features': 15, 'min_samples_leaf': 4, 'min_samples_split': 21}. Best is trial 2 with value: 0.9123267430244175.\n"
     ]
    },
    {
     "name": "stderr",
     "output_type": "stream",
     "text": [
      "Best trial: 2. Best value: 0.912327:  17%|███████▋                                      | 5/30 [06:45<35:21, 84.85s/it]"
     ]
    },
    {
     "name": "stdout",
     "output_type": "stream",
     "text": [
      "[I 2023-09-20 09:22:05,600] Trial 4 finished with value: 0.8720837659656981 and parameters: {'n_estimators': 103, 'max_depth': 49, 'max_features': 23, 'min_samples_leaf': 19, 'min_samples_split': 15}. Best is trial 2 with value: 0.9123267430244175.\n"
     ]
    },
    {
     "name": "stderr",
     "output_type": "stream",
     "text": [
      "Best trial: 2. Best value: 0.912327:  20%|█████████▏                                    | 6/30 [07:42<30:07, 75.31s/it]"
     ]
    },
    {
     "name": "stdout",
     "output_type": "stream",
     "text": [
      "[I 2023-09-20 09:23:02,401] Trial 5 finished with value: 0.9108894683134396 and parameters: {'n_estimators': 95, 'max_depth': 39, 'max_features': 13, 'min_samples_leaf': 6, 'min_samples_split': 2}. Best is trial 2 with value: 0.9123267430244175.\n"
     ]
    },
    {
     "name": "stderr",
     "output_type": "stream",
     "text": [
      "Best trial: 2. Best value: 0.912327:  23%|██████████▋                                   | 7/30 [09:36<33:40, 87.84s/it]"
     ]
    },
    {
     "name": "stdout",
     "output_type": "stream",
     "text": [
      "[I 2023-09-20 09:24:56,018] Trial 6 finished with value: 0.9062396279927587 and parameters: {'n_estimators': 144, 'max_depth': 41, 'max_features': 19, 'min_samples_leaf': 8, 'min_samples_split': 15}. Best is trial 2 with value: 0.9123267430244175.\n"
     ]
    },
    {
     "name": "stderr",
     "output_type": "stream",
     "text": [
      "Best trial: 2. Best value: 0.912327:  27%|████████████▎                                 | 8/30 [10:14<26:23, 71.99s/it]"
     ]
    },
    {
     "name": "stdout",
     "output_type": "stream",
     "text": [
      "[I 2023-09-20 09:25:34,075] Trial 7 finished with value: 0.8821448319122739 and parameters: {'n_estimators': 150, 'max_depth': 36, 'max_features': 6, 'min_samples_leaf': 14, 'min_samples_split': 11}. Best is trial 2 with value: 0.9123267430244175.\n"
     ]
    },
    {
     "name": "stderr",
     "output_type": "stream",
     "text": [
      "Best trial: 2. Best value: 0.912327:  30%|█████████████▊                                | 9/30 [11:15<24:03, 68.75s/it]"
     ]
    },
    {
     "name": "stdout",
     "output_type": "stream",
     "text": [
      "[I 2023-09-20 09:26:35,716] Trial 8 finished with value: 0.8842581032563144 and parameters: {'n_estimators': 67, 'max_depth': 36, 'max_features': 21, 'min_samples_leaf': 15, 'min_samples_split': 21}. Best is trial 2 with value: 0.9123267430244175.\n"
     ]
    },
    {
     "name": "stderr",
     "output_type": "stream",
     "text": [
      "Best trial: 2. Best value: 0.912327:  33%|███████████████                              | 10/30 [11:34<17:44, 53.21s/it]"
     ]
    },
    {
     "name": "stdout",
     "output_type": "stream",
     "text": [
      "[I 2023-09-20 09:26:54,135] Trial 9 finished with value: 0.8273595813846262 and parameters: {'n_estimators': 53, 'max_depth': 32, 'max_features': 9, 'min_samples_leaf': 38, 'min_samples_split': 11}. Best is trial 2 with value: 0.9123267430244175.\n"
     ]
    },
    {
     "name": "stderr",
     "output_type": "stream",
     "text": [
      "Best trial: 2. Best value: 0.912327:  37%|████████████████▌                            | 11/30 [13:50<24:56, 78.75s/it]"
     ]
    },
    {
     "name": "stdout",
     "output_type": "stream",
     "text": [
      "[I 2023-09-20 09:29:10,774] Trial 10 finished with value: 0.8455371104744988 and parameters: {'n_estimators': 150, 'max_depth': 40, 'max_features': 24, 'min_samples_leaf': 30, 'min_samples_split': 14}. Best is trial 2 with value: 0.9123267430244175.\n"
     ]
    },
    {
     "name": "stderr",
     "output_type": "stream",
     "text": [
      "Best trial: 2. Best value: 0.912327:  40%|██████████████████                           | 12/30 [15:53<27:36, 92.00s/it]"
     ]
    },
    {
     "name": "stdout",
     "output_type": "stream",
     "text": [
      "[I 2023-09-20 09:31:13,089] Trial 11 finished with value: 0.8240627351181912 and parameters: {'n_estimators': 150, 'max_depth': 39, 'max_features': 22, 'min_samples_leaf': 41, 'min_samples_split': 22}. Best is trial 2 with value: 0.9123267430244175.\n"
     ]
    },
    {
     "name": "stderr",
     "output_type": "stream",
     "text": [
      "Best trial: 2. Best value: 0.912327:  43%|███████████████████▌                         | 13/30 [16:58<23:47, 84.00s/it]"
     ]
    },
    {
     "name": "stdout",
     "output_type": "stream",
     "text": [
      "[I 2023-09-20 09:32:18,670] Trial 12 finished with value: 0.9095371176229852 and parameters: {'n_estimators': 108, 'max_depth': 33, 'max_features': 10, 'min_samples_leaf': 6, 'min_samples_split': 11}. Best is trial 2 with value: 0.9123267430244175.\n"
     ]
    },
    {
     "name": "stderr",
     "output_type": "stream",
     "text": [
      "Best trial: 2. Best value: 0.912327:  47%|█████████████████████                        | 14/30 [18:02<20:47, 77.97s/it]"
     ]
    },
    {
     "name": "stdout",
     "output_type": "stream",
     "text": [
      "[I 2023-09-20 09:33:22,716] Trial 13 finished with value: 0.8119726427418733 and parameters: {'n_estimators': 86, 'max_depth': 38, 'max_features': 20, 'min_samples_leaf': 47, 'min_samples_split': 21}. Best is trial 2 with value: 0.9123267430244175.\n"
     ]
    },
    {
     "name": "stderr",
     "output_type": "stream",
     "text": [
      "Best trial: 2. Best value: 0.912327:  50%|██████████████████████▌                      | 15/30 [19:19<19:21, 77.45s/it]"
     ]
    },
    {
     "name": "stdout",
     "output_type": "stream",
     "text": [
      "[I 2023-09-20 09:34:38,974] Trial 14 finished with value: 0.8785933922964334 and parameters: {'n_estimators': 55, 'max_depth': 39, 'max_features': 30, 'min_samples_leaf': 17, 'min_samples_split': 18}. Best is trial 2 with value: 0.9123267430244175.\n"
     ]
    },
    {
     "name": "stderr",
     "output_type": "stream",
     "text": [
      "Best trial: 2. Best value: 0.912327:  53%|████████████████████████                     | 16/30 [20:15<16:35, 71.14s/it]"
     ]
    },
    {
     "name": "stdout",
     "output_type": "stream",
     "text": [
      "[I 2023-09-20 09:35:35,458] Trial 15 finished with value: 0.8775795224453542 and parameters: {'n_estimators': 112, 'max_depth': 34, 'max_features': 11, 'min_samples_leaf': 17, 'min_samples_split': 3}. Best is trial 2 with value: 0.9123267430244175.\n"
     ]
    },
    {
     "name": "stderr",
     "output_type": "stream",
     "text": [
      "Best trial: 2. Best value: 0.912327:  57%|█████████████████████████▌                   | 17/30 [23:00<21:30, 99.29s/it]"
     ]
    },
    {
     "name": "stdout",
     "output_type": "stream",
     "text": [
      "[I 2023-09-20 09:38:20,215] Trial 16 finished with value: 0.8193283282013157 and parameters: {'n_estimators': 145, 'max_depth': 37, 'max_features': 30, 'min_samples_leaf': 44, 'min_samples_split': 15}. Best is trial 2 with value: 0.9123267430244175.\n"
     ]
    },
    {
     "name": "stderr",
     "output_type": "stream",
     "text": [
      "Best trial: 2. Best value: 0.912327:  60%|███████████████████████████                  | 18/30 [24:07<17:56, 89.68s/it]"
     ]
    },
    {
     "name": "stdout",
     "output_type": "stream",
     "text": [
      "[I 2023-09-20 09:39:27,510] Trial 17 finished with value: 0.8682794843796632 and parameters: {'n_estimators': 97, 'max_depth': 30, 'max_features': 16, 'min_samples_leaf': 20, 'min_samples_split': 20}. Best is trial 2 with value: 0.9123267430244175.\n"
     ]
    },
    {
     "name": "stderr",
     "output_type": "stream",
     "text": [
      "Best trial: 2. Best value: 0.912327:  63%|████████████████████████████▌                | 19/30 [25:18<15:24, 84.03s/it]"
     ]
    },
    {
     "name": "stdout",
     "output_type": "stream",
     "text": [
      "[I 2023-09-20 09:40:38,370] Trial 18 finished with value: 0.8158615624089685 and parameters: {'n_estimators': 118, 'max_depth': 49, 'max_features': 15, 'min_samples_leaf': 47, 'min_samples_split': 21}. Best is trial 2 with value: 0.9123267430244175.\n"
     ]
    },
    {
     "name": "stderr",
     "output_type": "stream",
     "text": [
      "Best trial: 2. Best value: 0.912327:  67%|██████████████████████████████               | 20/30 [25:44<11:05, 66.54s/it]"
     ]
    },
    {
     "name": "stdout",
     "output_type": "stream",
     "text": [
      "[I 2023-09-20 09:41:04,170] Trial 19 finished with value: 0.839534311842004 and parameters: {'n_estimators': 89, 'max_depth': 44, 'max_features': 7, 'min_samples_leaf': 33, 'min_samples_split': 9}. Best is trial 2 with value: 0.9123267430244175.\n"
     ]
    },
    {
     "name": "stderr",
     "output_type": "stream",
     "text": [
      "Best trial: 2. Best value: 0.912327:  70%|███████████████████████████████▍             | 21/30 [28:13<13:41, 91.24s/it]"
     ]
    },
    {
     "name": "stdout",
     "output_type": "stream",
     "text": [
      "[I 2023-09-20 09:43:33,001] Trial 20 finished with value: 0.884511481363002 and parameters: {'n_estimators': 135, 'max_depth': 42, 'max_features': 30, 'min_samples_leaf': 15, 'min_samples_split': 20}. Best is trial 2 with value: 0.9123267430244175.\n"
     ]
    },
    {
     "name": "stderr",
     "output_type": "stream",
     "text": [
      "Best trial: 2. Best value: 0.912327:  73%|█████████████████████████████████            | 22/30 [29:09<10:46, 80.80s/it]"
     ]
    },
    {
     "name": "stdout",
     "output_type": "stream",
     "text": [
      "[I 2023-09-20 09:44:29,436] Trial 21 finished with value: 0.8158615266665356 and parameters: {'n_estimators': 91, 'max_depth': 34, 'max_features': 20, 'min_samples_leaf': 45, 'min_samples_split': 19}. Best is trial 2 with value: 0.9123267430244175.\n"
     ]
    },
    {
     "name": "stderr",
     "output_type": "stream",
     "text": [
      "Best trial: 2. Best value: 0.912327:  77%|██████████████████████████████████▌          | 23/30 [29:48<07:56, 68.08s/it]"
     ]
    },
    {
     "name": "stdout",
     "output_type": "stream",
     "text": [
      "[I 2023-09-20 09:45:07,859] Trial 22 finished with value: 0.808421846489825 and parameters: {'n_estimators': 86, 'max_depth': 45, 'max_features': 15, 'min_samples_leaf': 50, 'min_samples_split': 18}. Best is trial 2 with value: 0.9123267430244175.\n"
     ]
    },
    {
     "name": "stderr",
     "output_type": "stream",
     "text": [
      "Best trial: 2. Best value: 0.912327:  80%|████████████████████████████████████         | 24/30 [30:23<05:50, 58.41s/it]"
     ]
    },
    {
     "name": "stdout",
     "output_type": "stream",
     "text": [
      "[I 2023-09-20 09:45:43,720] Trial 23 finished with value: 0.8140012760048538 and parameters: {'n_estimators': 129, 'max_depth': 33, 'max_features': 9, 'min_samples_leaf': 46, 'min_samples_split': 3}. Best is trial 2 with value: 0.9123267430244175.\n"
     ]
    },
    {
     "name": "stderr",
     "output_type": "stream",
     "text": [
      "Best trial: 2. Best value: 0.912327:  83%|█████████████████████████████████████▌       | 25/30 [31:04<04:25, 53.04s/it]"
     ]
    },
    {
     "name": "stdout",
     "output_type": "stream",
     "text": [
      "[I 2023-09-20 09:46:24,215] Trial 24 finished with value: 0.8640519051610285 and parameters: {'n_estimators': 54, 'max_depth': 41, 'max_features': 22, 'min_samples_leaf': 21, 'min_samples_split': 4}. Best is trial 2 with value: 0.9123267430244175.\n"
     ]
    },
    {
     "name": "stderr",
     "output_type": "stream",
     "text": [
      "Best trial: 2. Best value: 0.912327:  87%|███████████████████████████████████████      | 26/30 [31:36<03:07, 46.79s/it]"
     ]
    },
    {
     "name": "stdout",
     "output_type": "stream",
     "text": [
      "[I 2023-09-20 09:46:56,420] Trial 25 finished with value: 0.8640521196156259 and parameters: {'n_estimators': 129, 'max_depth': 37, 'max_features': 7, 'min_samples_leaf': 21, 'min_samples_split': 21}. Best is trial 2 with value: 0.9123267430244175.\n"
     ]
    },
    {
     "name": "stderr",
     "output_type": "stream",
     "text": [
      "Best trial: 2. Best value: 0.912327:  90%|████████████████████████████████████████▌    | 27/30 [32:42<02:37, 52.63s/it]"
     ]
    },
    {
     "name": "stdout",
     "output_type": "stream",
     "text": [
      "[I 2023-09-20 09:48:02,669] Trial 26 finished with value: 0.8743669568356509 and parameters: {'n_estimators': 78, 'max_depth': 44, 'max_features': 24, 'min_samples_leaf': 18, 'min_samples_split': 7}. Best is trial 2 with value: 0.9123267430244175.\n"
     ]
    },
    {
     "name": "stderr",
     "output_type": "stream",
     "text": [
      "Best trial: 2. Best value: 0.912327:  93%|██████████████████████████████████████████   | 28/30 [33:03<01:25, 42.97s/it]"
     ]
    },
    {
     "name": "stdout",
     "output_type": "stream",
     "text": [
      "[I 2023-09-20 09:48:23,115] Trial 27 finished with value: 0.8446914445125537 and parameters: {'n_estimators': 117, 'max_depth': 39, 'max_features': 5, 'min_samples_leaf': 28, 'min_samples_split': 11}. Best is trial 2 with value: 0.9123267430244175.\n"
     ]
    },
    {
     "name": "stderr",
     "output_type": "stream",
     "text": [
      "Best trial: 2. Best value: 0.912327:  97%|███████████████████████████████████████████▌ | 29/30 [34:05<00:48, 48.84s/it]"
     ]
    },
    {
     "name": "stdout",
     "output_type": "stream",
     "text": [
      "[I 2023-09-20 09:49:25,658] Trial 28 finished with value: 0.810788853364882 and parameters: {'n_estimators': 106, 'max_depth': 40, 'max_features': 20, 'min_samples_leaf': 48, 'min_samples_split': 4}. Best is trial 2 with value: 0.9123267430244175.\n"
     ]
    },
    {
     "name": "stderr",
     "output_type": "stream",
     "text": [
      "Best trial: 2. Best value: 0.912327: 100%|█████████████████████████████████████████████| 30/30 [34:39<00:00, 69.30s/it]"
     ]
    },
    {
     "name": "stdout",
     "output_type": "stream",
     "text": [
      "[I 2023-09-20 09:49:58,849] Trial 29 finished with value: 0.8317559006288882 and parameters: {'n_estimators': 82, 'max_depth': 45, 'max_features': 13, 'min_samples_leaf': 38, 'min_samples_split': 16}. Best is trial 2 with value: 0.9123267430244175.\n",
      "\n",
      " \n",
      " best params:  {'n_estimators': 111, 'max_depth': 33, 'max_features': 20, 'min_samples_leaf': 2, 'min_samples_split': 22} \n",
      " \n",
      " best score:  [0.9123267430244175] \n",
      "\n",
      "\n",
      " \n",
      " best params:  {'n_estimators': 111, 'max_depth': 33, 'max_features': 20, 'min_samples_leaf': 2, 'min_samples_split': 22} \n",
      " \n",
      " best score:  [0.9123267430244175] \n",
      "\n",
      "Optimization completed in 34.651785385608676 minutes.\n"
     ]
    },
    {
     "name": "stderr",
     "output_type": "stream",
     "text": [
      "\n"
     ]
    }
   ],
   "source": [
    "def optimized_optuna_search_and_report(n_trials, algo):\n",
    "    start_time = time.time()\n",
    "\n",
    "    # 进行搜索优化\n",
    "    best_params, best_score = optimizer_optuna(n_trials, algo)\n",
    "\n",
    "    # 打印最佳参数和分数\n",
    "    print(\"\\n\",\"\\n\",\"best params: \", best_params,\n",
    "          \"\\n\",\"\\n\",\"best score: \", best_score,\n",
    "          \"\\n\")\n",
    "\n",
    "    end_time = time.time()\n",
    "    time_random = (end_time - start_time) / 60  # 转换为分钟\n",
    "    print(f\"Optimization completed in {time_random} minutes.\")\n",
    "\n",
    "    return best_params, best_score, time_random\n",
    "\n",
    "# 执行优化\n",
    "best_params, best_score, time_random = optimized_optuna_search_and_report(30,optuna.samplers.NSGAIISampler())"
   ]
  },
  {
   "cell_type": "markdown",
   "id": "70e119ef-7b9e-476a-b265-7b05683a8850",
   "metadata": {},
   "source": [
    "# 4. 贝叶斯优化"
   ]
  },
  {
   "cell_type": "code",
   "execution_count": 20,
   "id": "8bb84348",
   "metadata": {},
   "outputs": [],
   "source": [
    "def optuna_objective(trial):\n",
    "\n",
    "    #定义参数空间\n",
    "    n_estimators = trial.suggest_int(\"n_estimators\",50,150,1) #整数型，(参数名称，下界，上界，步长)\n",
    "    max_depth = trial.suggest_int(\"max_depth\",25,50,1)\n",
    "    max_features = trial.suggest_int(\"max_features\",5,30,1)\n",
    "    min_samples_leaf = trial.suggest_int(\"min_samples_leaf\",1,51,1)\n",
    "    min_samples_split = trial.suggest_int(\"min_samples_split\",2,22,1)\n",
    "\n",
    "    #定义评估器\n",
    "    #需要优化的参数由上述参数空间决定\n",
    "    #不需要优化的参数则直接填写具体值\n",
    "    rfc = RFC(n_estimators = n_estimators\n",
    "              ,max_depth = max_depth\n",
    "              ,max_features = max_features\n",
    "              ,min_samples_leaf = min_samples_leaf\n",
    "              ,min_samples_split = min_samples_split\n",
    "              ,random_state=0\n",
    "              ,verbose=False\n",
    "              ,n_jobs=-1\n",
    "             )\n",
    "\n",
    "    #交叉验证过程，输出准确率(accuracy)\n",
    "    cv = KFold(n_splits=5,shuffle=True,random_state=0)\n",
    "    score = cross_val_score(rfc,X_dr,y\n",
    "                            ,scoring='accuracy'\n",
    "                            ,cv=cv #交叉验证模式\n",
    "                            ,verbose=False #是否打印进程\n",
    "                            ,n_jobs=-1 #线程数\n",
    "                            ,error_score='raise' #如果在某个折叠中出现错误，会引发一个异常\n",
    "                           )\n",
    "    #最终输出平均准确率\n",
    "    return np.mean(score)"
   ]
  },
  {
   "cell_type": "code",
   "execution_count": 21,
   "id": "b93cfd62",
   "metadata": {},
   "outputs": [],
   "source": [
    "def optimizer_optuna(n_trials, algo):\n",
    "\n",
    "    #定义使用TPE或者GP\n",
    "    if algo == \"TPE\":\n",
    "        algo = optuna.samplers.TPESampler(n_startup_trials = 15, n_ei_candidates = 12)\n",
    "    elif algo == \"GP\":\n",
    "        from optuna.integration import SkoptSampler\n",
    "        import skopt\n",
    "        algo = SkoptSampler(skopt_kwargs={'base_estimator':'GP', #选择高斯过程\n",
    "                                          'n_initial_points':30, #初始观测点10个\n",
    "                                          'acq_func':'EI'} #选择的采集函数为EI，期望增量\n",
    "                           )\n",
    "\n",
    "    #实际优化过程，首先实例化优化器\n",
    "    study = optuna.create_study(sampler = algo #要使用的具体算法\n",
    "                                ,direction=\"maximize\" #优化的方向，可以填写minimize或maximize\n",
    "                               )\n",
    "    #开始优化，n_trials为允许的最大迭代次数\n",
    "    #由于参数空间已经在目标函数中定义好，因此不需要输入参数空间\n",
    "    study.optimize(optuna_objective #目标函数\n",
    "                   ,n_trials=n_trials #最大迭代次数（包括最初的观测值的）\n",
    "                   ,show_progress_bar=True #要不要展示进度条呀？\n",
    "                  )\n",
    "\n",
    "    #可直接从优化好的对象study中调用优化的结果\n",
    "    #打印最佳参数与最佳损失值\n",
    "    print(\"\\n\",\"\\n\",\"best params: \", study.best_trial.params,\n",
    "          \"\\n\",\"\\n\",\"best score: \", study.best_trial.values,\n",
    "          \"\\n\")\n",
    "\n",
    "    return study.best_trial.params, study.best_trial.values"
   ]
  },
  {
   "cell_type": "code",
   "execution_count": 22,
   "id": "bce02ec1",
   "metadata": {},
   "outputs": [
    {
     "name": "stderr",
     "output_type": "stream",
     "text": [
      "[I 2023-08-30 10:01:18,374] A new study created in memory with name: no-name-c3763327-ac2a-4515-9eea-debb9deded2e\n",
      "Best trial: 0. Best value: 0.956714:   3%|█▍                                         | 1/30 [02:52<1:23:18, 172.35s/it]"
     ]
    },
    {
     "name": "stdout",
     "output_type": "stream",
     "text": [
      "[I 2023-08-30 10:04:10,723] Trial 0 finished with value: 0.9567135547815333 and parameters: {'n_estimators': 111, 'max_depth': 44, 'max_features': 30, 'min_samples_leaf': 2, 'min_samples_split': 9}. Best is trial 0 with value: 0.9567135547815333.\n"
     ]
    },
    {
     "name": "stderr",
     "output_type": "stream",
     "text": [
      "Best trial: 1. Best value: 0.96094:   7%|███▏                                           | 2/30 [03:23<41:45, 89.47s/it]"
     ]
    },
    {
     "name": "stdout",
     "output_type": "stream",
     "text": [
      "[I 2023-08-30 10:04:42,179] Trial 1 finished with value: 0.960940240439346 and parameters: {'n_estimators': 144, 'max_depth': 38, 'max_features': 6, 'min_samples_leaf': 16, 'min_samples_split': 20}. Best is trial 1 with value: 0.960940240439346.\n"
     ]
    },
    {
     "name": "stderr",
     "output_type": "stream",
     "text": [
      "Best trial: 1. Best value: 0.96094:  10%|████▋                                          | 3/30 [03:44<26:03, 57.91s/it]"
     ]
    },
    {
     "name": "stdout",
     "output_type": "stream",
     "text": [
      "[I 2023-08-30 10:05:02,529] Trial 2 finished with value: 0.9593337610511135 and parameters: {'n_estimators': 50, 'max_depth': 28, 'max_features': 10, 'min_samples_leaf': 11, 'min_samples_split': 19}. Best is trial 1 with value: 0.960940240439346.\n"
     ]
    },
    {
     "name": "stderr",
     "output_type": "stream",
     "text": [
      "Best trial: 1. Best value: 0.96094:  13%|██████▎                                        | 4/30 [04:49<26:24, 60.96s/it]"
     ]
    },
    {
     "name": "stdout",
     "output_type": "stream",
     "text": [
      "[I 2023-08-30 10:06:08,166] Trial 3 finished with value: 0.9404809859192685 and parameters: {'n_estimators': 98, 'max_depth': 44, 'max_features': 19, 'min_samples_leaf': 35, 'min_samples_split': 13}. Best is trial 1 with value: 0.960940240439346.\n"
     ]
    },
    {
     "name": "stderr",
     "output_type": "stream",
     "text": [
      "Best trial: 1. Best value: 0.96094:  17%|███████▊                                       | 5/30 [06:13<28:45, 69.00s/it]"
     ]
    },
    {
     "name": "stdout",
     "output_type": "stream",
     "text": [
      "[I 2023-08-30 10:07:31,433] Trial 4 finished with value: 0.9471594952453628 and parameters: {'n_estimators': 150, 'max_depth': 29, 'max_features': 16, 'min_samples_leaf': 35, 'min_samples_split': 13}. Best is trial 1 with value: 0.960940240439346.\n"
     ]
    },
    {
     "name": "stderr",
     "output_type": "stream",
     "text": [
      "Best trial: 1. Best value: 0.96094:  20%|█████████▍                                     | 6/30 [07:31<28:50, 72.09s/it]"
     ]
    },
    {
     "name": "stdout",
     "output_type": "stream",
     "text": [
      "[I 2023-08-30 10:08:49,519] Trial 5 finished with value: 0.9310121363430846 and parameters: {'n_estimators': 86, 'max_depth': 26, 'max_features': 25, 'min_samples_leaf': 35, 'min_samples_split': 21}. Best is trial 1 with value: 0.960940240439346.\n"
     ]
    },
    {
     "name": "stderr",
     "output_type": "stream",
     "text": [
      "Best trial: 1. Best value: 0.96094:  23%|██████████▉                                    | 7/30 [08:27<25:42, 67.07s/it]"
     ]
    },
    {
     "name": "stdout",
     "output_type": "stream",
     "text": [
      "[I 2023-08-30 10:09:46,265] Trial 6 finished with value: 0.9502876729710362 and parameters: {'n_estimators': 143, 'max_depth': 46, 'max_features': 11, 'min_samples_leaf': 42, 'min_samples_split': 8}. Best is trial 1 with value: 0.960940240439346.\n"
     ]
    },
    {
     "name": "stderr",
     "output_type": "stream",
     "text": [
      "Best trial: 7. Best value: 0.961194:  27%|████████████▎                                 | 8/30 [08:56<20:03, 54.72s/it]"
     ]
    },
    {
     "name": "stdout",
     "output_type": "stream",
     "text": [
      "[I 2023-08-30 10:10:14,542] Trial 7 finished with value: 0.9611938330006307 and parameters: {'n_estimators': 115, 'max_depth': 49, 'max_features': 6, 'min_samples_leaf': 11, 'min_samples_split': 20}. Best is trial 7 with value: 0.9611938330006307.\n"
     ]
    },
    {
     "name": "stderr",
     "output_type": "stream",
     "text": [
      "Best trial: 8. Best value: 0.962378:  30%|█████████████▊                                | 9/30 [09:51<19:12, 54.86s/it]"
     ]
    },
    {
     "name": "stdout",
     "output_type": "stream",
     "text": [
      "[I 2023-08-30 10:11:09,711] Trial 8 finished with value: 0.9623775508927567 and parameters: {'n_estimators': 129, 'max_depth': 39, 'max_features': 9, 'min_samples_leaf': 1, 'min_samples_split': 13}. Best is trial 8 with value: 0.9623775508927567.\n"
     ]
    },
    {
     "name": "stderr",
     "output_type": "stream",
     "text": [
      "Best trial: 8. Best value: 0.962378:  33%|███████████████                              | 10/30 [10:14<15:01, 45.06s/it]"
     ]
    },
    {
     "name": "stdout",
     "output_type": "stream",
     "text": [
      "[I 2023-08-30 10:11:32,831] Trial 9 finished with value: 0.9589957448633657 and parameters: {'n_estimators': 127, 'max_depth': 26, 'max_features': 5, 'min_samples_leaf': 27, 'min_samples_split': 18}. Best is trial 8 with value: 0.9623775508927567.\n"
     ]
    },
    {
     "name": "stderr",
     "output_type": "stream",
     "text": [
      "Best trial: 8. Best value: 0.962378:  37%|████████████████▌                            | 11/30 [10:39<12:21, 39.02s/it]"
     ]
    },
    {
     "name": "stdout",
     "output_type": "stream",
     "text": [
      "[I 2023-08-30 10:11:58,147] Trial 10 finished with value: 0.9452996377504428 and parameters: {'n_estimators': 55, 'max_depth': 32, 'max_features': 13, 'min_samples_leaf': 49, 'min_samples_split': 8}. Best is trial 8 with value: 0.9623775508927567.\n"
     ]
    },
    {
     "name": "stderr",
     "output_type": "stream",
     "text": [
      "Best trial: 8. Best value: 0.962378:  40%|██████████████████                           | 12/30 [11:12<11:05, 36.98s/it]"
     ]
    },
    {
     "name": "stdout",
     "output_type": "stream",
     "text": [
      "[I 2023-08-30 10:12:30,462] Trial 11 finished with value: 0.9610248427779734 and parameters: {'n_estimators': 116, 'max_depth': 30, 'max_features': 7, 'min_samples_leaf': 11, 'min_samples_split': 8}. Best is trial 8 with value: 0.9623775508927567.\n"
     ]
    },
    {
     "name": "stderr",
     "output_type": "stream",
     "text": [
      "Best trial: 8. Best value: 0.962378:  43%|███████████████████▌                         | 13/30 [13:14<17:50, 62.96s/it]"
     ]
    },
    {
     "name": "stdout",
     "output_type": "stream",
     "text": [
      "[I 2023-08-30 10:14:33,219] Trial 12 finished with value: 0.9296593210010027 and parameters: {'n_estimators': 122, 'max_depth': 28, 'max_features': 28, 'min_samples_leaf': 29, 'min_samples_split': 15}. Best is trial 8 with value: 0.9623775508927567.\n"
     ]
    },
    {
     "name": "stderr",
     "output_type": "stream",
     "text": [
      "Best trial: 8. Best value: 0.962378:  47%|█████████████████████                        | 14/30 [14:32<17:56, 67.29s/it]"
     ]
    },
    {
     "name": "stdout",
     "output_type": "stream",
     "text": [
      "[I 2023-08-30 10:15:50,506] Trial 13 finished with value: 0.9616166659816034 and parameters: {'n_estimators': 106, 'max_depth': 40, 'max_features': 17, 'min_samples_leaf': 3, 'min_samples_split': 3}. Best is trial 8 with value: 0.9623775508927567.\n"
     ]
    },
    {
     "name": "stderr",
     "output_type": "stream",
     "text": [
      "Best trial: 8. Best value: 0.962378:  50%|██████████████████████▌                      | 15/30 [16:03<18:36, 74.40s/it]"
     ]
    },
    {
     "name": "stdout",
     "output_type": "stream",
     "text": [
      "[I 2023-08-30 10:17:21,393] Trial 14 finished with value: 0.9584040288870342 and parameters: {'n_estimators': 110, 'max_depth': 38, 'max_features': 19, 'min_samples_leaf': 3, 'min_samples_split': 17}. Best is trial 8 with value: 0.9623775508927567.\n"
     ]
    },
    {
     "name": "stderr",
     "output_type": "stream",
     "text": [
      "Best trial: 8. Best value: 0.962378:  53%|████████████████████████                     | 16/30 [17:18<17:25, 74.70s/it]"
     ]
    },
    {
     "name": "stdout",
     "output_type": "stream",
     "text": [
      "[I 2023-08-30 10:18:36,783] Trial 15 finished with value: 0.9463990392434042 and parameters: {'n_estimators': 87, 'max_depth': 35, 'max_features': 23, 'min_samples_leaf': 18, 'min_samples_split': 3}. Best is trial 8 with value: 0.9623775508927567.\n"
     ]
    },
    {
     "name": "stderr",
     "output_type": "stream",
     "text": [
      "Best trial: 16. Best value: 0.963223:  57%|████████████████████████▉                   | 17/30 [18:47<17:08, 79.10s/it]"
     ]
    },
    {
     "name": "stdout",
     "output_type": "stream",
     "text": [
      "[I 2023-08-30 10:20:06,107] Trial 16 finished with value: 0.9632232883395673 and parameters: {'n_estimators': 130, 'max_depth': 41, 'max_features': 16, 'min_samples_leaf': 3, 'min_samples_split': 2}. Best is trial 16 with value: 0.9632232883395673.\n"
     ]
    },
    {
     "name": "stderr",
     "output_type": "stream",
     "text": [
      "Best trial: 16. Best value: 0.963223:  60%|██████████████████████████▍                 | 18/30 [20:01<15:29, 77.48s/it]"
     ]
    },
    {
     "name": "stdout",
     "output_type": "stream",
     "text": [
      "[I 2023-08-30 10:21:19,810] Trial 17 finished with value: 0.9545150734775063 and parameters: {'n_estimators': 133, 'max_depth': 41, 'max_features': 14, 'min_samples_leaf': 20, 'min_samples_split': 11}. Best is trial 16 with value: 0.9632232883395673.\n"
     ]
    },
    {
     "name": "stderr",
     "output_type": "stream",
     "text": [
      "Best trial: 16. Best value: 0.963223:  63%|███████████████████████████▊                | 19/30 [20:54<12:51, 70.14s/it]"
     ]
    },
    {
     "name": "stdout",
     "output_type": "stream",
     "text": [
      "[I 2023-08-30 10:22:12,869] Trial 18 finished with value: 0.9617856919466938 and parameters: {'n_estimators': 136, 'max_depth': 35, 'max_features': 9, 'min_samples_leaf': 7, 'min_samples_split': 5}. Best is trial 16 with value: 0.9632232883395673.\n"
     ]
    },
    {
     "name": "stderr",
     "output_type": "stream",
     "text": [
      "Best trial: 16. Best value: 0.963223:  67%|█████████████████████████████▎              | 20/30 [22:01<11:30, 69.10s/it]"
     ]
    },
    {
     "name": "stdout",
     "output_type": "stream",
     "text": [
      "[I 2023-08-30 10:23:19,532] Trial 19 finished with value: 0.9443696196469006 and parameters: {'n_estimators': 71, 'max_depth': 42, 'max_features': 22, 'min_samples_leaf': 22, 'min_samples_split': 5}. Best is trial 16 with value: 0.9632232883395673.\n"
     ]
    },
    {
     "name": "stderr",
     "output_type": "stream",
     "text": [
      "Best trial: 16. Best value: 0.963223:  70%|██████████████████████████████▊             | 21/30 [23:07<10:15, 68.41s/it]"
     ]
    },
    {
     "name": "stdout",
     "output_type": "stream",
     "text": [
      "[I 2023-08-30 10:24:26,323] Trial 20 finished with value: 0.9599257629669079 and parameters: {'n_estimators': 124, 'max_depth': 49, 'max_features': 13, 'min_samples_leaf': 7, 'min_samples_split': 11}. Best is trial 16 with value: 0.9632232883395673.\n"
     ]
    },
    {
     "name": "stderr",
     "output_type": "stream",
     "text": [
      "Best trial: 16. Best value: 0.963223:  73%|████████████████████████████████▎           | 22/30 [24:03<08:37, 64.69s/it]"
     ]
    },
    {
     "name": "stdout",
     "output_type": "stream",
     "text": [
      "[I 2023-08-30 10:25:22,339] Trial 21 finished with value: 0.9608556738431513 and parameters: {'n_estimators': 136, 'max_depth': 35, 'max_features': 10, 'min_samples_leaf': 7, 'min_samples_split': 5}. Best is trial 16 with value: 0.9632232883395673.\n"
     ]
    },
    {
     "name": "stderr",
     "output_type": "stream",
     "text": [
      "Best trial: 16. Best value: 0.963223:  77%|█████████████████████████████████▋          | 23/30 [24:46<06:46, 58.03s/it]"
     ]
    },
    {
     "name": "stdout",
     "output_type": "stream",
     "text": [
      "[I 2023-08-30 10:26:04,829] Trial 22 finished with value: 0.9613629304505869 and parameters: {'n_estimators': 135, 'max_depth': 35, 'max_features': 8, 'min_samples_leaf': 8, 'min_samples_split': 2}. Best is trial 16 with value: 0.9632232883395673.\n"
     ]
    },
    {
     "name": "stderr",
     "output_type": "stream",
     "text": [
      "Best trial: 23. Best value: 0.965421:  80%|███████████████████████████████████▏        | 24/30 [25:37<05:35, 55.91s/it]"
     ]
    },
    {
     "name": "stdout",
     "output_type": "stream",
     "text": [
      "[I 2023-08-30 10:26:55,802] Trial 23 finished with value: 0.9654213049919669 and parameters: {'n_estimators': 129, 'max_depth': 33, 'max_features': 9, 'min_samples_leaf': 1, 'min_samples_split': 5}. Best is trial 23 with value: 0.9654213049919669.\n"
     ]
    },
    {
     "name": "stderr",
     "output_type": "stream",
     "text": [
      "Best trial: 23. Best value: 0.965421:  83%|████████████████████████████████████▋       | 25/30 [26:48<05:02, 60.55s/it]"
     ]
    },
    {
     "name": "stdout",
     "output_type": "stream",
     "text": [
      "[I 2023-08-30 10:28:07,179] Trial 24 finished with value: 0.9611093378893021 and parameters: {'n_estimators': 100, 'max_depth': 32, 'max_features': 15, 'min_samples_leaf': 2, 'min_samples_split': 15}. Best is trial 23 with value: 0.9654213049919669.\n"
     ]
    },
    {
     "name": "stderr",
     "output_type": "stream",
     "text": [
      "Best trial: 23. Best value: 0.965421:  87%|██████████████████████████████████████▏     | 26/30 [27:48<04:01, 60.33s/it]"
     ]
    },
    {
     "name": "stdout",
     "output_type": "stream",
     "text": [
      "[I 2023-08-30 10:29:07,004] Trial 25 finished with value: 0.9584040646294673 and parameters: {'n_estimators': 127, 'max_depth': 39, 'max_features': 12, 'min_samples_leaf': 15, 'min_samples_split': 6}. Best is trial 23 with value: 0.9654213049919669.\n"
     ]
    },
    {
     "name": "stderr",
     "output_type": "stream",
     "text": [
      "Best trial: 23. Best value: 0.965421:  90%|███████████████████████████████████████▌    | 27/30 [29:48<03:54, 78.23s/it]"
     ]
    },
    {
     "name": "stdout",
     "output_type": "stream",
     "text": [
      "[I 2023-08-30 10:31:06,985] Trial 26 finished with value: 0.9617860136285896 and parameters: {'n_estimators': 121, 'max_depth': 43, 'max_features': 20, 'min_samples_leaf': 2, 'min_samples_split': 2}. Best is trial 23 with value: 0.9654213049919669.\n"
     ]
    },
    {
     "name": "stderr",
     "output_type": "stream",
     "text": [
      "Best trial: 23. Best value: 0.965421:  93%|█████████████████████████████████████████   | 28/30 [30:44<02:23, 71.50s/it]"
     ]
    },
    {
     "name": "stdout",
     "output_type": "stream",
     "text": [
      "[I 2023-08-30 10:32:02,799] Trial 27 finished with value: 0.963561090072718 and parameters: {'n_estimators': 145, 'max_depth': 33, 'max_features': 8, 'min_samples_leaf': 1, 'min_samples_split': 10}. Best is trial 23 with value: 0.9654213049919669.\n"
     ]
    },
    {
     "name": "stderr",
     "output_type": "stream",
     "text": [
      "Best trial: 23. Best value: 0.965421:  97%|██████████████████████████████████████████▌ | 29/30 [32:00<01:12, 72.90s/it]"
     ]
    },
    {
     "name": "stdout",
     "output_type": "stream",
     "text": [
      "[I 2023-08-30 10:33:18,959] Trial 28 finished with value: 0.9590804544292917 and parameters: {'n_estimators': 150, 'max_depth': 32, 'max_features': 12, 'min_samples_leaf': 12, 'min_samples_split': 6}. Best is trial 23 with value: 0.9654213049919669.\n"
     ]
    },
    {
     "name": "stderr",
     "output_type": "stream",
     "text": [
      "Best trial: 23. Best value: 0.965421: 100%|████████████████████████████████████████████| 30/30 [32:48<00:00, 65.63s/it]"
     ]
    },
    {
     "name": "stdout",
     "output_type": "stream",
     "text": [
      "[I 2023-08-30 10:34:07,139] Trial 29 finished with value: 0.962630964741877 and parameters: {'n_estimators': 139, 'max_depth': 36, 'max_features': 8, 'min_samples_leaf': 5, 'min_samples_split': 9}. Best is trial 23 with value: 0.9654213049919669.\n",
      "\n",
      " \n",
      " best params:  {'n_estimators': 129, 'max_depth': 33, 'max_features': 9, 'min_samples_leaf': 1, 'min_samples_split': 5} \n",
      " \n",
      " best score:  [0.9654213049919669] \n",
      "\n",
      "\n",
      " \n",
      " best params:  {'n_estimators': 129, 'max_depth': 33, 'max_features': 9, 'min_samples_leaf': 1, 'min_samples_split': 5} \n",
      " \n",
      " best score:  [0.9654213049919669] \n",
      "\n",
      "Optimization completed in 32.812969688574476 minutes.\n"
     ]
    },
    {
     "name": "stderr",
     "output_type": "stream",
     "text": [
      "\n"
     ]
    }
   ],
   "source": [
    "def optimized_optuna_search_and_report(n_trials, algo):\n",
    "    start_time = time.time()\n",
    "\n",
    "    # 进行贝叶斯优化\n",
    "    best_params, best_score = optimizer_optuna(n_trials, algo)\n",
    "\n",
    "    # 打印最佳参数和分数\n",
    "    print(\"\\n\",\"\\n\",\"best params: \", best_params,\n",
    "          \"\\n\",\"\\n\",\"best score: \", best_score,\n",
    "          \"\\n\")\n",
    "\n",
    "    end_time = time.time()\n",
    "    time_bayes = (end_time - start_time) / 60  # 转换为分钟\n",
    "    print(f\"Optimization completed in {time_bayes} minutes.\")\n",
    "\n",
    "    return best_params, best_score, time_bayes\n",
    "\n",
    "# 执行优化\n",
    "best_params, best_score, time_bayes = optimized_optuna_search_and_report(30, \"TPE\")"
   ]
  },
  {
   "cell_type": "markdown",
   "id": "e136a8ac-4d31-4eaf-8c9e-e9da29bb6d94",
   "metadata": {},
   "source": [
    "# 5. 最佳参数效果"
   ]
  },
  {
   "cell_type": "code",
   "execution_count": 3,
   "id": "a240b88d",
   "metadata": {},
   "outputs": [],
   "source": [
    "X_train, X_test, Y_train, Y_test = train_test_split(X_dr, y, test_size=0.3, random_state=0)"
   ]
  },
  {
   "cell_type": "code",
   "execution_count": 13,
   "id": "11907747-327d-4f81-8664-1b00fb95f94a",
   "metadata": {},
   "outputs": [],
   "source": [
    "# 默认参数\n",
    "rfc_3 = RFC(n_estimators=1000,random_state=0)\n",
    "rfc_3 = rfc_3.fit(X_train, Y_train)\n",
    "pred_3 = rfc_3.predict(X_test)\n",
    "\n",
    "# 遗传算法搜索评价指标\n",
    "accuracy_score_3_train = rfc_3.score(X_train, Y_train)\n",
    "accuracy_score_3_test = rfc_3.score(X_test, Y_test)\n",
    "cm_3 = confusion_matrix(Y_test, pred_3)"
   ]
  },
  {
   "cell_type": "code",
   "execution_count": 14,
   "id": "f550d664-68c9-4089-8db4-110ec9b3fec1",
   "metadata": {},
   "outputs": [
    {
     "data": {
      "text/plain": [
       "(1.0, 0.9664694280078896)"
      ]
     },
     "execution_count": 14,
     "metadata": {},
     "output_type": "execute_result"
    }
   ],
   "source": [
    "accuracy_score_3_train, accuracy_score_3_test"
   ]
  },
  {
   "cell_type": "code",
   "execution_count": null,
   "id": "48dc27e8-9108-41fd-a6ca-573184b8dca8",
   "metadata": {},
   "outputs": [],
   "source": [
    "# 遗传算法搜索最佳参数\n",
    "rfc_1 = RFC(n_estimators=97\n",
    "            ,max_depth=47\n",
    "            ,max_features=12\n",
    "            ,min_samples_leaf=9\n",
    "            ,min_samples_split=19\n",
    "            ,random_state=0\n",
    "           )\n",
    "rfc_1 = rfc_1.fit(X_train, Y_train)\n",
    "pred_1 = rfc_1.predict(X_test)\n",
    "\n",
    "# 遗传算法搜索评价指标\n",
    "accuracy_score_1_train = rfc_1.score(X_train, Y_train)\n",
    "accuracy_score_1_test = rfc_1.score(X_test, Y_test)\n",
    "kappa_score_1 = cohen_kappa_score(Y_test, pred_1)\n",
    "cm_1 = confusion_matrix(Y_test, pred_1)"
   ]
  },
  {
   "cell_type": "code",
   "execution_count": 21,
   "id": "1e1236b3-de27-4811-90ee-fb7193bd143b",
   "metadata": {},
   "outputs": [
    {
     "data": {
      "text/plain": [
       "(0.9661794902766034, 0.9602704987320372)"
      ]
     },
     "execution_count": 21,
     "metadata": {},
     "output_type": "execute_result"
    }
   ],
   "source": [
    "accuracy_score_1_train, accuracy_score_1_test"
   ]
  },
  {
   "cell_type": "code",
   "execution_count": 10,
   "id": "9d71d4d9",
   "metadata": {},
   "outputs": [],
   "source": [
    "# 贝叶斯优化最佳参数\n",
    "rfc_2 = RFC(n_estimators=129\n",
    "            ,max_depth=33\n",
    "            ,max_features=9\n",
    "            ,min_samples_leaf=1\n",
    "            ,min_samples_split=5\n",
    "            ,random_state=0\n",
    "           )\n",
    "rfc_2 = rfc_2.fit(X_train, Y_train)\n",
    "pred_2 = rfc_2.predict(X_test)\n",
    "\n",
    "# 贝叶斯优化评价指标\n",
    "accuracy_score_2_train = rfc_2.score(X_train, Y_train)\n",
    "accuracy_score_2_test = rfc_2.score(X_test, Y_test)\n",
    "kappa_score_2 = cohen_kappa_score(Y_test, pred_2)\n",
    "cm_2 = confusion_matrix(Y_test, pred_2)\n",
    "report = classification_report(Y_test, pred_2, output_dict=True)"
   ]
  },
  {
   "cell_type": "code",
   "execution_count": 11,
   "id": "9cec9fe8-4c1d-4173-9d7f-3dd6a0fa8c47",
   "metadata": {
    "scrolled": true
   },
   "outputs": [
    {
     "data": {
      "text/plain": [
       "(0.9955308612151226, 0.9642152719075796)"
      ]
     },
     "execution_count": 11,
     "metadata": {},
     "output_type": "execute_result"
    }
   ],
   "source": [
    "accuracy_score_2_train, accuracy_score_2_test"
   ]
  },
  {
   "cell_type": "code",
   "execution_count": 12,
   "id": "5642e1f8-4ad6-453a-9ea8-6f17ab1ea3a4",
   "metadata": {},
   "outputs": [
    {
     "name": "stdout",
     "output_type": "stream",
     "text": [
      "macro Precision: 0.9616981229160063\n",
      "macro Recall: 0.9619139535985805\n",
      "macro F1 Score: 0.9615055485452823\n"
     ]
    }
   ],
   "source": [
    "report = classification_report(Y_test, pred_2,output_dict=True)\n",
    "# 获取加权平均的精确率、召回率、F1系数\n",
    "weighted_precision = report['macro avg']['precision']\n",
    "weighted_recall = report['macro avg']['recall']\n",
    "weighted_f1 = report['macro avg']['f1-score']\n",
    "\n",
    "print(f\"macro Precision: {weighted_precision}\")\n",
    "print(f\"macro Recall: {weighted_recall}\")\n",
    "print(f\"macro F1 Score: {weighted_f1}\")"
   ]
  },
  {
   "cell_type": "code",
   "execution_count": 13,
   "id": "656f2f0b-66ac-44db-95c2-aae02020f727",
   "metadata": {},
   "outputs": [
    {
     "data": {
      "text/html": [
       "<div>\n",
       "<style scoped>\n",
       "    .dataframe tbody tr th:only-of-type {\n",
       "        vertical-align: middle;\n",
       "    }\n",
       "\n",
       "    .dataframe tbody tr th {\n",
       "        vertical-align: top;\n",
       "    }\n",
       "\n",
       "    .dataframe thead th {\n",
       "        text-align: right;\n",
       "    }\n",
       "</style>\n",
       "<table border=\"1\" class=\"dataframe\">\n",
       "  <thead>\n",
       "    <tr style=\"text-align: right;\">\n",
       "      <th></th>\n",
       "      <th>Class</th>\n",
       "      <th>Accuracy</th>\n",
       "    </tr>\n",
       "  </thead>\n",
       "  <tbody>\n",
       "    <tr>\n",
       "      <th>0</th>\n",
       "      <td>0</td>\n",
       "      <td>0.991667</td>\n",
       "    </tr>\n",
       "    <tr>\n",
       "      <th>1</th>\n",
       "      <td>1</td>\n",
       "      <td>1.000000</td>\n",
       "    </tr>\n",
       "    <tr>\n",
       "      <th>2</th>\n",
       "      <td>2</td>\n",
       "      <td>0.990654</td>\n",
       "    </tr>\n",
       "    <tr>\n",
       "      <th>3</th>\n",
       "      <td>3</td>\n",
       "      <td>1.000000</td>\n",
       "    </tr>\n",
       "    <tr>\n",
       "      <th>4</th>\n",
       "      <td>4</td>\n",
       "      <td>0.991525</td>\n",
       "    </tr>\n",
       "    <tr>\n",
       "      <th>5</th>\n",
       "      <td>5</td>\n",
       "      <td>0.991525</td>\n",
       "    </tr>\n",
       "    <tr>\n",
       "      <th>6</th>\n",
       "      <td>6</td>\n",
       "      <td>0.975410</td>\n",
       "    </tr>\n",
       "    <tr>\n",
       "      <th>7</th>\n",
       "      <td>7</td>\n",
       "      <td>0.872881</td>\n",
       "    </tr>\n",
       "    <tr>\n",
       "      <th>8</th>\n",
       "      <td>8</td>\n",
       "      <td>0.873786</td>\n",
       "    </tr>\n",
       "    <tr>\n",
       "      <th>9</th>\n",
       "      <td>9</td>\n",
       "      <td>0.956522</td>\n",
       "    </tr>\n",
       "    <tr>\n",
       "      <th>10</th>\n",
       "      <td>10</td>\n",
       "      <td>1.000000</td>\n",
       "    </tr>\n",
       "    <tr>\n",
       "      <th>11</th>\n",
       "      <td>11</td>\n",
       "      <td>0.952381</td>\n",
       "    </tr>\n",
       "    <tr>\n",
       "      <th>12</th>\n",
       "      <td>12</td>\n",
       "      <td>0.979167</td>\n",
       "    </tr>\n",
       "    <tr>\n",
       "      <th>13</th>\n",
       "      <td>13</td>\n",
       "      <td>0.964602</td>\n",
       "    </tr>\n",
       "    <tr>\n",
       "      <th>14</th>\n",
       "      <td>14</td>\n",
       "      <td>0.941667</td>\n",
       "    </tr>\n",
       "    <tr>\n",
       "      <th>15</th>\n",
       "      <td>15</td>\n",
       "      <td>0.943396</td>\n",
       "    </tr>\n",
       "    <tr>\n",
       "      <th>16</th>\n",
       "      <td>16</td>\n",
       "      <td>0.885246</td>\n",
       "    </tr>\n",
       "    <tr>\n",
       "      <th>17</th>\n",
       "      <td>17</td>\n",
       "      <td>0.923077</td>\n",
       "    </tr>\n",
       "    <tr>\n",
       "      <th>18</th>\n",
       "      <td>18</td>\n",
       "      <td>0.988889</td>\n",
       "    </tr>\n",
       "    <tr>\n",
       "      <th>19</th>\n",
       "      <td>19</td>\n",
       "      <td>1.000000</td>\n",
       "    </tr>\n",
       "    <tr>\n",
       "      <th>20</th>\n",
       "      <td>20</td>\n",
       "      <td>1.000000</td>\n",
       "    </tr>\n",
       "    <tr>\n",
       "      <th>21</th>\n",
       "      <td>21</td>\n",
       "      <td>1.000000</td>\n",
       "    </tr>\n",
       "    <tr>\n",
       "      <th>22</th>\n",
       "      <td>22</td>\n",
       "      <td>1.000000</td>\n",
       "    </tr>\n",
       "    <tr>\n",
       "      <th>23</th>\n",
       "      <td>23</td>\n",
       "      <td>1.000000</td>\n",
       "    </tr>\n",
       "    <tr>\n",
       "      <th>24</th>\n",
       "      <td>24</td>\n",
       "      <td>0.911111</td>\n",
       "    </tr>\n",
       "    <tr>\n",
       "      <th>25</th>\n",
       "      <td>25</td>\n",
       "      <td>0.950413</td>\n",
       "    </tr>\n",
       "    <tr>\n",
       "      <th>26</th>\n",
       "      <td>26</td>\n",
       "      <td>1.000000</td>\n",
       "    </tr>\n",
       "    <tr>\n",
       "      <th>27</th>\n",
       "      <td>27</td>\n",
       "      <td>1.000000</td>\n",
       "    </tr>\n",
       "    <tr>\n",
       "      <th>28</th>\n",
       "      <td>28</td>\n",
       "      <td>0.884615</td>\n",
       "    </tr>\n",
       "    <tr>\n",
       "      <th>29</th>\n",
       "      <td>29</td>\n",
       "      <td>0.915663</td>\n",
       "    </tr>\n",
       "    <tr>\n",
       "      <th>30</th>\n",
       "      <td>30</td>\n",
       "      <td>0.913978</td>\n",
       "    </tr>\n",
       "    <tr>\n",
       "      <th>31</th>\n",
       "      <td>31</td>\n",
       "      <td>0.956044</td>\n",
       "    </tr>\n",
       "    <tr>\n",
       "      <th>32</th>\n",
       "      <td>32</td>\n",
       "      <td>0.981818</td>\n",
       "    </tr>\n",
       "    <tr>\n",
       "      <th>33</th>\n",
       "      <td>macro avg</td>\n",
       "      <td>0.961698</td>\n",
       "    </tr>\n",
       "    <tr>\n",
       "      <th>34</th>\n",
       "      <td>weighted avg</td>\n",
       "      <td>0.964912</td>\n",
       "    </tr>\n",
       "  </tbody>\n",
       "</table>\n",
       "</div>"
      ],
      "text/plain": [
       "           Class  Accuracy\n",
       "0              0  0.991667\n",
       "1              1  1.000000\n",
       "2              2  0.990654\n",
       "3              3  1.000000\n",
       "4              4  0.991525\n",
       "5              5  0.991525\n",
       "6              6  0.975410\n",
       "7              7  0.872881\n",
       "8              8  0.873786\n",
       "9              9  0.956522\n",
       "10            10  1.000000\n",
       "11            11  0.952381\n",
       "12            12  0.979167\n",
       "13            13  0.964602\n",
       "14            14  0.941667\n",
       "15            15  0.943396\n",
       "16            16  0.885246\n",
       "17            17  0.923077\n",
       "18            18  0.988889\n",
       "19            19  1.000000\n",
       "20            20  1.000000\n",
       "21            21  1.000000\n",
       "22            22  1.000000\n",
       "23            23  1.000000\n",
       "24            24  0.911111\n",
       "25            25  0.950413\n",
       "26            26  1.000000\n",
       "27            27  1.000000\n",
       "28            28  0.884615\n",
       "29            29  0.915663\n",
       "30            30  0.913978\n",
       "31            31  0.956044\n",
       "32            32  0.981818\n",
       "33     macro avg  0.961698\n",
       "34  weighted avg  0.964912"
      ]
     },
     "execution_count": 13,
     "metadata": {},
     "output_type": "execute_result"
    }
   ],
   "source": [
    "class_accuracy = {label: metrics['precision'] for label, metrics in report.items() if label != 'accuracy'}\n",
    "df = pd.DataFrame(list(class_accuracy.items()), columns=['Class', 'Accuracy'])\n",
    "df"
   ]
  },
  {
   "cell_type": "code",
   "execution_count": 14,
   "id": "4d1d0e3e-a444-4594-85c6-5262370f52f3",
   "metadata": {},
   "outputs": [],
   "source": [
    "cm_2_ = confusion_matrix(Y_test, pred_2, normalize='pred') # 计算列归一化的混淆矩阵\n",
    "cm_2_normalized = (np.round(cm_2_ * 100)).astype(int)"
   ]
  },
  {
   "cell_type": "code",
   "execution_count": 15,
   "id": "5009c955-e7f7-4fa7-abe3-b604b18cdc26",
   "metadata": {},
   "outputs": [],
   "source": [
    "# 保存混淆矩阵\n",
    "output_folder = 'D:/1_科研进展/小论文/小论文图片/混淆矩阵'\n",
    "\n",
    "csv_filename_2 = 'final_RF.csv'\n",
    "np.savetxt(f'{output_folder}/{csv_filename_2}', cm_2, delimiter=',', fmt='%d')\n",
    "\n",
    "csv_filename_3 = 'final_RF_Normalized.csv'\n",
    "np.savetxt(f'{output_folder}/{csv_filename_3}', cm_2_normalized, delimiter=',', fmt='%d')"
   ]
  },
  {
   "cell_type": "code",
   "execution_count": null,
   "id": "819fc89b-3f1b-4c1e-9faf-b0936b4a11ff",
   "metadata": {},
   "outputs": [],
   "source": []
  }
 ],
 "metadata": {
  "kernelspec": {
   "display_name": "DL",
   "language": "python",
   "name": "dl"
  },
  "language_info": {
   "codemirror_mode": {
    "name": "ipython",
    "version": 3
   },
   "file_extension": ".py",
   "mimetype": "text/x-python",
   "name": "python",
   "nbconvert_exporter": "python",
   "pygments_lexer": "ipython3",
   "version": "3.9.17"
  }
 },
 "nbformat": 4,
 "nbformat_minor": 5
}
